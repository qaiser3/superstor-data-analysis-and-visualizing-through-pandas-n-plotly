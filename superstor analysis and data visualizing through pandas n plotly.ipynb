{
 "cells": [
  {
   "cell_type": "code",
   "execution_count": 1,
   "id": "1340d629-63ad-4158-b9eb-335b99dcb7e8",
   "metadata": {},
   "outputs": [],
   "source": [
    "import numpy as np\n",
    "import pandas as pd\n",
    "import matplotlib.pyplot as plt\n",
    "import plotly.express as px\n",
    "import plotly.graph_objects as go\n",
    "import plotly.io as pio\n",
    "import plotly.colors as colors\n",
    "pio.templates.defaults=\"plotly_white\"\n"
   ]
  },
  {
   "cell_type": "code",
   "execution_count": 7,
   "id": "fe007757-d47e-4432-bf97-1f9de1410173",
   "metadata": {},
   "outputs": [
    {
     "data": {
      "text/html": [
       "<div>\n",
       "<style scoped>\n",
       "    .dataframe tbody tr th:only-of-type {\n",
       "        vertical-align: middle;\n",
       "    }\n",
       "\n",
       "    .dataframe tbody tr th {\n",
       "        vertical-align: top;\n",
       "    }\n",
       "\n",
       "    .dataframe thead th {\n",
       "        text-align: right;\n",
       "    }\n",
       "</style>\n",
       "<table border=\"1\" class=\"dataframe\">\n",
       "  <thead>\n",
       "    <tr style=\"text-align: right;\">\n",
       "      <th></th>\n",
       "      <th>Row ID</th>\n",
       "      <th>Order ID</th>\n",
       "      <th>Order Date</th>\n",
       "      <th>Ship Date</th>\n",
       "      <th>Ship Mode</th>\n",
       "      <th>Customer ID</th>\n",
       "      <th>Customer Name</th>\n",
       "      <th>Segment</th>\n",
       "      <th>Country</th>\n",
       "      <th>City</th>\n",
       "      <th>...</th>\n",
       "      <th>Postal Code</th>\n",
       "      <th>Region</th>\n",
       "      <th>Product ID</th>\n",
       "      <th>Category</th>\n",
       "      <th>Sub-Category</th>\n",
       "      <th>Product Name</th>\n",
       "      <th>Sales</th>\n",
       "      <th>Quantity</th>\n",
       "      <th>Discount</th>\n",
       "      <th>Profit</th>\n",
       "    </tr>\n",
       "  </thead>\n",
       "  <tbody>\n",
       "    <tr>\n",
       "      <th>0</th>\n",
       "      <td>1</td>\n",
       "      <td>CA-2016-152156</td>\n",
       "      <td>08/11/16</td>\n",
       "      <td>11/11/16</td>\n",
       "      <td>Second Class</td>\n",
       "      <td>CG-12520</td>\n",
       "      <td>Claire Gute</td>\n",
       "      <td>Consumer</td>\n",
       "      <td>United States</td>\n",
       "      <td>Henderson</td>\n",
       "      <td>...</td>\n",
       "      <td>42420</td>\n",
       "      <td>South</td>\n",
       "      <td>FUR-BO-10001798</td>\n",
       "      <td>Furniture</td>\n",
       "      <td>Bookcases</td>\n",
       "      <td>Bush Somerset Collection Bookcase</td>\n",
       "      <td>261.9600</td>\n",
       "      <td>2</td>\n",
       "      <td>0.00</td>\n",
       "      <td>41.9136</td>\n",
       "    </tr>\n",
       "    <tr>\n",
       "      <th>1</th>\n",
       "      <td>2</td>\n",
       "      <td>CA-2016-152156</td>\n",
       "      <td>08/11/16</td>\n",
       "      <td>11/11/16</td>\n",
       "      <td>Second Class</td>\n",
       "      <td>CG-12520</td>\n",
       "      <td>Claire Gute</td>\n",
       "      <td>Consumer</td>\n",
       "      <td>United States</td>\n",
       "      <td>Henderson</td>\n",
       "      <td>...</td>\n",
       "      <td>42420</td>\n",
       "      <td>South</td>\n",
       "      <td>FUR-CH-10000454</td>\n",
       "      <td>Furniture</td>\n",
       "      <td>Chairs</td>\n",
       "      <td>Hon Deluxe Fabric Upholstered Stacking Chairs,...</td>\n",
       "      <td>731.9400</td>\n",
       "      <td>3</td>\n",
       "      <td>0.00</td>\n",
       "      <td>219.5820</td>\n",
       "    </tr>\n",
       "    <tr>\n",
       "      <th>2</th>\n",
       "      <td>3</td>\n",
       "      <td>CA-2016-138688</td>\n",
       "      <td>12/06/16</td>\n",
       "      <td>16/06/16</td>\n",
       "      <td>Second Class</td>\n",
       "      <td>DV-13045</td>\n",
       "      <td>Darrin Van Huff</td>\n",
       "      <td>Corporate</td>\n",
       "      <td>United States</td>\n",
       "      <td>Los Angeles</td>\n",
       "      <td>...</td>\n",
       "      <td>90036</td>\n",
       "      <td>West</td>\n",
       "      <td>OFF-LA-10000240</td>\n",
       "      <td>Office Supplies</td>\n",
       "      <td>Labels</td>\n",
       "      <td>Self-Adhesive Address Labels for Typewriters b...</td>\n",
       "      <td>14.6200</td>\n",
       "      <td>2</td>\n",
       "      <td>0.00</td>\n",
       "      <td>6.8714</td>\n",
       "    </tr>\n",
       "    <tr>\n",
       "      <th>3</th>\n",
       "      <td>4</td>\n",
       "      <td>US-2015-108966</td>\n",
       "      <td>11/10/15</td>\n",
       "      <td>18/10/15</td>\n",
       "      <td>Standard Class</td>\n",
       "      <td>SO-20335</td>\n",
       "      <td>Sean O'Donnell</td>\n",
       "      <td>Consumer</td>\n",
       "      <td>United States</td>\n",
       "      <td>Fort Lauderdale</td>\n",
       "      <td>...</td>\n",
       "      <td>33311</td>\n",
       "      <td>South</td>\n",
       "      <td>FUR-TA-10000577</td>\n",
       "      <td>Furniture</td>\n",
       "      <td>Tables</td>\n",
       "      <td>Bretford CR4500 Series Slim Rectangular Table</td>\n",
       "      <td>957.5775</td>\n",
       "      <td>5</td>\n",
       "      <td>0.45</td>\n",
       "      <td>-383.0310</td>\n",
       "    </tr>\n",
       "    <tr>\n",
       "      <th>4</th>\n",
       "      <td>5</td>\n",
       "      <td>US-2015-108966</td>\n",
       "      <td>11/10/15</td>\n",
       "      <td>18/10/15</td>\n",
       "      <td>Standard Class</td>\n",
       "      <td>SO-20335</td>\n",
       "      <td>Sean O'Donnell</td>\n",
       "      <td>Consumer</td>\n",
       "      <td>United States</td>\n",
       "      <td>Fort Lauderdale</td>\n",
       "      <td>...</td>\n",
       "      <td>33311</td>\n",
       "      <td>South</td>\n",
       "      <td>OFF-ST-10000760</td>\n",
       "      <td>Office Supplies</td>\n",
       "      <td>Storage</td>\n",
       "      <td>Eldon Fold 'N Roll Cart System</td>\n",
       "      <td>22.3680</td>\n",
       "      <td>2</td>\n",
       "      <td>0.20</td>\n",
       "      <td>2.5164</td>\n",
       "    </tr>\n",
       "    <tr>\n",
       "      <th>...</th>\n",
       "      <td>...</td>\n",
       "      <td>...</td>\n",
       "      <td>...</td>\n",
       "      <td>...</td>\n",
       "      <td>...</td>\n",
       "      <td>...</td>\n",
       "      <td>...</td>\n",
       "      <td>...</td>\n",
       "      <td>...</td>\n",
       "      <td>...</td>\n",
       "      <td>...</td>\n",
       "      <td>...</td>\n",
       "      <td>...</td>\n",
       "      <td>...</td>\n",
       "      <td>...</td>\n",
       "      <td>...</td>\n",
       "      <td>...</td>\n",
       "      <td>...</td>\n",
       "      <td>...</td>\n",
       "      <td>...</td>\n",
       "      <td>...</td>\n",
       "    </tr>\n",
       "    <tr>\n",
       "      <th>9989</th>\n",
       "      <td>9990</td>\n",
       "      <td>CA-2014-110422</td>\n",
       "      <td>21/01/14</td>\n",
       "      <td>23/01/14</td>\n",
       "      <td>Second Class</td>\n",
       "      <td>TB-21400</td>\n",
       "      <td>Tom Boeckenhauer</td>\n",
       "      <td>Consumer</td>\n",
       "      <td>United States</td>\n",
       "      <td>Miami</td>\n",
       "      <td>...</td>\n",
       "      <td>33180</td>\n",
       "      <td>South</td>\n",
       "      <td>FUR-FU-10001889</td>\n",
       "      <td>Furniture</td>\n",
       "      <td>Furnishings</td>\n",
       "      <td>Ultra Door Pull Handle</td>\n",
       "      <td>25.2480</td>\n",
       "      <td>3</td>\n",
       "      <td>0.20</td>\n",
       "      <td>4.1028</td>\n",
       "    </tr>\n",
       "    <tr>\n",
       "      <th>9990</th>\n",
       "      <td>9991</td>\n",
       "      <td>CA-2017-121258</td>\n",
       "      <td>26/02/17</td>\n",
       "      <td>03/03/17</td>\n",
       "      <td>Standard Class</td>\n",
       "      <td>DB-13060</td>\n",
       "      <td>Dave Brooks</td>\n",
       "      <td>Consumer</td>\n",
       "      <td>United States</td>\n",
       "      <td>Costa Mesa</td>\n",
       "      <td>...</td>\n",
       "      <td>92627</td>\n",
       "      <td>West</td>\n",
       "      <td>FUR-FU-10000747</td>\n",
       "      <td>Furniture</td>\n",
       "      <td>Furnishings</td>\n",
       "      <td>Tenex B1-RE Series Chair Mats for Low Pile Car...</td>\n",
       "      <td>91.9600</td>\n",
       "      <td>2</td>\n",
       "      <td>0.00</td>\n",
       "      <td>15.6332</td>\n",
       "    </tr>\n",
       "    <tr>\n",
       "      <th>9991</th>\n",
       "      <td>9992</td>\n",
       "      <td>CA-2017-121258</td>\n",
       "      <td>26/02/17</td>\n",
       "      <td>03/03/17</td>\n",
       "      <td>Standard Class</td>\n",
       "      <td>DB-13060</td>\n",
       "      <td>Dave Brooks</td>\n",
       "      <td>Consumer</td>\n",
       "      <td>United States</td>\n",
       "      <td>Costa Mesa</td>\n",
       "      <td>...</td>\n",
       "      <td>92627</td>\n",
       "      <td>West</td>\n",
       "      <td>TEC-PH-10003645</td>\n",
       "      <td>Technology</td>\n",
       "      <td>Phones</td>\n",
       "      <td>Aastra 57i VoIP phone</td>\n",
       "      <td>258.5760</td>\n",
       "      <td>2</td>\n",
       "      <td>0.20</td>\n",
       "      <td>19.3932</td>\n",
       "    </tr>\n",
       "    <tr>\n",
       "      <th>9992</th>\n",
       "      <td>9993</td>\n",
       "      <td>CA-2017-121258</td>\n",
       "      <td>26/02/17</td>\n",
       "      <td>03/03/17</td>\n",
       "      <td>Standard Class</td>\n",
       "      <td>DB-13060</td>\n",
       "      <td>Dave Brooks</td>\n",
       "      <td>Consumer</td>\n",
       "      <td>United States</td>\n",
       "      <td>Costa Mesa</td>\n",
       "      <td>...</td>\n",
       "      <td>92627</td>\n",
       "      <td>West</td>\n",
       "      <td>OFF-PA-10004041</td>\n",
       "      <td>Office Supplies</td>\n",
       "      <td>Paper</td>\n",
       "      <td>It's Hot Message Books with Stickers, 2 3/4\" x 5\"</td>\n",
       "      <td>29.6000</td>\n",
       "      <td>4</td>\n",
       "      <td>0.00</td>\n",
       "      <td>13.3200</td>\n",
       "    </tr>\n",
       "    <tr>\n",
       "      <th>9993</th>\n",
       "      <td>9994</td>\n",
       "      <td>CA-2017-119914</td>\n",
       "      <td>04/05/17</td>\n",
       "      <td>09/05/17</td>\n",
       "      <td>Second Class</td>\n",
       "      <td>CC-12220</td>\n",
       "      <td>Chris Cortes</td>\n",
       "      <td>Consumer</td>\n",
       "      <td>United States</td>\n",
       "      <td>Westminster</td>\n",
       "      <td>...</td>\n",
       "      <td>92683</td>\n",
       "      <td>West</td>\n",
       "      <td>OFF-AP-10002684</td>\n",
       "      <td>Office Supplies</td>\n",
       "      <td>Appliances</td>\n",
       "      <td>Acco 7-Outlet Masterpiece Power Center, Wihtou...</td>\n",
       "      <td>243.1600</td>\n",
       "      <td>2</td>\n",
       "      <td>0.00</td>\n",
       "      <td>72.9480</td>\n",
       "    </tr>\n",
       "  </tbody>\n",
       "</table>\n",
       "<p>9994 rows × 21 columns</p>\n",
       "</div>"
      ],
      "text/plain": [
       "      Row ID        Order ID Order Date Ship Date       Ship Mode Customer ID  \\\n",
       "0          1  CA-2016-152156   08/11/16  11/11/16    Second Class    CG-12520   \n",
       "1          2  CA-2016-152156   08/11/16  11/11/16    Second Class    CG-12520   \n",
       "2          3  CA-2016-138688   12/06/16  16/06/16    Second Class    DV-13045   \n",
       "3          4  US-2015-108966   11/10/15  18/10/15  Standard Class    SO-20335   \n",
       "4          5  US-2015-108966   11/10/15  18/10/15  Standard Class    SO-20335   \n",
       "...      ...             ...        ...       ...             ...         ...   \n",
       "9989    9990  CA-2014-110422   21/01/14  23/01/14    Second Class    TB-21400   \n",
       "9990    9991  CA-2017-121258   26/02/17  03/03/17  Standard Class    DB-13060   \n",
       "9991    9992  CA-2017-121258   26/02/17  03/03/17  Standard Class    DB-13060   \n",
       "9992    9993  CA-2017-121258   26/02/17  03/03/17  Standard Class    DB-13060   \n",
       "9993    9994  CA-2017-119914   04/05/17  09/05/17    Second Class    CC-12220   \n",
       "\n",
       "         Customer Name    Segment        Country             City  ...  \\\n",
       "0          Claire Gute   Consumer  United States        Henderson  ...   \n",
       "1          Claire Gute   Consumer  United States        Henderson  ...   \n",
       "2      Darrin Van Huff  Corporate  United States      Los Angeles  ...   \n",
       "3       Sean O'Donnell   Consumer  United States  Fort Lauderdale  ...   \n",
       "4       Sean O'Donnell   Consumer  United States  Fort Lauderdale  ...   \n",
       "...                ...        ...            ...              ...  ...   \n",
       "9989  Tom Boeckenhauer   Consumer  United States            Miami  ...   \n",
       "9990       Dave Brooks   Consumer  United States       Costa Mesa  ...   \n",
       "9991       Dave Brooks   Consumer  United States       Costa Mesa  ...   \n",
       "9992       Dave Brooks   Consumer  United States       Costa Mesa  ...   \n",
       "9993      Chris Cortes   Consumer  United States      Westminster  ...   \n",
       "\n",
       "     Postal Code  Region       Product ID         Category Sub-Category  \\\n",
       "0          42420   South  FUR-BO-10001798        Furniture    Bookcases   \n",
       "1          42420   South  FUR-CH-10000454        Furniture       Chairs   \n",
       "2          90036    West  OFF-LA-10000240  Office Supplies       Labels   \n",
       "3          33311   South  FUR-TA-10000577        Furniture       Tables   \n",
       "4          33311   South  OFF-ST-10000760  Office Supplies      Storage   \n",
       "...          ...     ...              ...              ...          ...   \n",
       "9989       33180   South  FUR-FU-10001889        Furniture  Furnishings   \n",
       "9990       92627    West  FUR-FU-10000747        Furniture  Furnishings   \n",
       "9991       92627    West  TEC-PH-10003645       Technology       Phones   \n",
       "9992       92627    West  OFF-PA-10004041  Office Supplies        Paper   \n",
       "9993       92683    West  OFF-AP-10002684  Office Supplies   Appliances   \n",
       "\n",
       "                                           Product Name     Sales  Quantity  \\\n",
       "0                     Bush Somerset Collection Bookcase  261.9600         2   \n",
       "1     Hon Deluxe Fabric Upholstered Stacking Chairs,...  731.9400         3   \n",
       "2     Self-Adhesive Address Labels for Typewriters b...   14.6200         2   \n",
       "3         Bretford CR4500 Series Slim Rectangular Table  957.5775         5   \n",
       "4                        Eldon Fold 'N Roll Cart System   22.3680         2   \n",
       "...                                                 ...       ...       ...   \n",
       "9989                             Ultra Door Pull Handle   25.2480         3   \n",
       "9990  Tenex B1-RE Series Chair Mats for Low Pile Car...   91.9600         2   \n",
       "9991                              Aastra 57i VoIP phone  258.5760         2   \n",
       "9992  It's Hot Message Books with Stickers, 2 3/4\" x 5\"   29.6000         4   \n",
       "9993  Acco 7-Outlet Masterpiece Power Center, Wihtou...  243.1600         2   \n",
       "\n",
       "      Discount    Profit  \n",
       "0         0.00   41.9136  \n",
       "1         0.00  219.5820  \n",
       "2         0.00    6.8714  \n",
       "3         0.45 -383.0310  \n",
       "4         0.20    2.5164  \n",
       "...        ...       ...  \n",
       "9989      0.20    4.1028  \n",
       "9990      0.00   15.6332  \n",
       "9991      0.20   19.3932  \n",
       "9992      0.00   13.3200  \n",
       "9993      0.00   72.9480  \n",
       "\n",
       "[9994 rows x 21 columns]"
      ]
     },
     "execution_count": 7,
     "metadata": {},
     "output_type": "execute_result"
    }
   ],
   "source": [
    "data=pd.read_csv(\"https://gist.githubusercontent.com/SharmaAshwini/8bd642f6c46792a9c40c8ccad60391e9/raw/4fd45d58a0a81c69814d270d7658f5e2a2d81154/Sample_Superstore.csv\", encoding=\"latin-1\")\n",
    "data"
   ]
  },
  {
   "cell_type": "code",
   "execution_count": 8,
   "id": "1b29ee7d-6043-470d-b0d7-f61dc11a2756",
   "metadata": {},
   "outputs": [
    {
     "data": {
      "text/html": [
       "<div>\n",
       "<style scoped>\n",
       "    .dataframe tbody tr th:only-of-type {\n",
       "        vertical-align: middle;\n",
       "    }\n",
       "\n",
       "    .dataframe tbody tr th {\n",
       "        vertical-align: top;\n",
       "    }\n",
       "\n",
       "    .dataframe thead th {\n",
       "        text-align: right;\n",
       "    }\n",
       "</style>\n",
       "<table border=\"1\" class=\"dataframe\">\n",
       "  <thead>\n",
       "    <tr style=\"text-align: right;\">\n",
       "      <th></th>\n",
       "      <th>Row ID</th>\n",
       "      <th>Postal Code</th>\n",
       "      <th>Sales</th>\n",
       "      <th>Quantity</th>\n",
       "      <th>Discount</th>\n",
       "      <th>Profit</th>\n",
       "    </tr>\n",
       "  </thead>\n",
       "  <tbody>\n",
       "    <tr>\n",
       "      <th>count</th>\n",
       "      <td>9994.000000</td>\n",
       "      <td>9994.000000</td>\n",
       "      <td>9994.000000</td>\n",
       "      <td>9994.000000</td>\n",
       "      <td>9994.000000</td>\n",
       "      <td>9994.000000</td>\n",
       "    </tr>\n",
       "    <tr>\n",
       "      <th>mean</th>\n",
       "      <td>4997.500000</td>\n",
       "      <td>55190.379428</td>\n",
       "      <td>229.858001</td>\n",
       "      <td>3.789574</td>\n",
       "      <td>0.156203</td>\n",
       "      <td>28.656896</td>\n",
       "    </tr>\n",
       "    <tr>\n",
       "      <th>std</th>\n",
       "      <td>2885.163629</td>\n",
       "      <td>32063.693350</td>\n",
       "      <td>623.245101</td>\n",
       "      <td>2.225110</td>\n",
       "      <td>0.206452</td>\n",
       "      <td>234.260108</td>\n",
       "    </tr>\n",
       "    <tr>\n",
       "      <th>min</th>\n",
       "      <td>1.000000</td>\n",
       "      <td>1040.000000</td>\n",
       "      <td>0.444000</td>\n",
       "      <td>1.000000</td>\n",
       "      <td>0.000000</td>\n",
       "      <td>-6599.978000</td>\n",
       "    </tr>\n",
       "    <tr>\n",
       "      <th>25%</th>\n",
       "      <td>2499.250000</td>\n",
       "      <td>23223.000000</td>\n",
       "      <td>17.280000</td>\n",
       "      <td>2.000000</td>\n",
       "      <td>0.000000</td>\n",
       "      <td>1.728750</td>\n",
       "    </tr>\n",
       "    <tr>\n",
       "      <th>50%</th>\n",
       "      <td>4997.500000</td>\n",
       "      <td>56430.500000</td>\n",
       "      <td>54.490000</td>\n",
       "      <td>3.000000</td>\n",
       "      <td>0.200000</td>\n",
       "      <td>8.666500</td>\n",
       "    </tr>\n",
       "    <tr>\n",
       "      <th>75%</th>\n",
       "      <td>7495.750000</td>\n",
       "      <td>90008.000000</td>\n",
       "      <td>209.940000</td>\n",
       "      <td>5.000000</td>\n",
       "      <td>0.200000</td>\n",
       "      <td>29.364000</td>\n",
       "    </tr>\n",
       "    <tr>\n",
       "      <th>max</th>\n",
       "      <td>9994.000000</td>\n",
       "      <td>99301.000000</td>\n",
       "      <td>22638.480000</td>\n",
       "      <td>14.000000</td>\n",
       "      <td>0.800000</td>\n",
       "      <td>8399.976000</td>\n",
       "    </tr>\n",
       "  </tbody>\n",
       "</table>\n",
       "</div>"
      ],
      "text/plain": [
       "            Row ID   Postal Code         Sales     Quantity     Discount  \\\n",
       "count  9994.000000   9994.000000   9994.000000  9994.000000  9994.000000   \n",
       "mean   4997.500000  55190.379428    229.858001     3.789574     0.156203   \n",
       "std    2885.163629  32063.693350    623.245101     2.225110     0.206452   \n",
       "min       1.000000   1040.000000      0.444000     1.000000     0.000000   \n",
       "25%    2499.250000  23223.000000     17.280000     2.000000     0.000000   \n",
       "50%    4997.500000  56430.500000     54.490000     3.000000     0.200000   \n",
       "75%    7495.750000  90008.000000    209.940000     5.000000     0.200000   \n",
       "max    9994.000000  99301.000000  22638.480000    14.000000     0.800000   \n",
       "\n",
       "            Profit  \n",
       "count  9994.000000  \n",
       "mean     28.656896  \n",
       "std     234.260108  \n",
       "min   -6599.978000  \n",
       "25%       1.728750  \n",
       "50%       8.666500  \n",
       "75%      29.364000  \n",
       "max    8399.976000  "
      ]
     },
     "execution_count": 8,
     "metadata": {},
     "output_type": "execute_result"
    }
   ],
   "source": [
    "data.describe()"
   ]
  },
  {
   "cell_type": "code",
   "execution_count": 10,
   "id": "0c37fc33-175e-4444-be7f-c7378d548374",
   "metadata": {},
   "outputs": [
    {
     "data": {
      "text/html": [
       "<div>\n",
       "<style scoped>\n",
       "    .dataframe tbody tr th:only-of-type {\n",
       "        vertical-align: middle;\n",
       "    }\n",
       "\n",
       "    .dataframe tbody tr th {\n",
       "        vertical-align: top;\n",
       "    }\n",
       "\n",
       "    .dataframe thead th {\n",
       "        text-align: right;\n",
       "    }\n",
       "</style>\n",
       "<table border=\"1\" class=\"dataframe\">\n",
       "  <thead>\n",
       "    <tr style=\"text-align: right;\">\n",
       "      <th></th>\n",
       "      <th>Row ID</th>\n",
       "      <th>Order ID</th>\n",
       "      <th>Order Date</th>\n",
       "      <th>Ship Date</th>\n",
       "      <th>Ship Mode</th>\n",
       "      <th>Customer ID</th>\n",
       "      <th>Customer Name</th>\n",
       "      <th>Segment</th>\n",
       "      <th>Country</th>\n",
       "      <th>City</th>\n",
       "      <th>...</th>\n",
       "      <th>Postal Code</th>\n",
       "      <th>Region</th>\n",
       "      <th>Product ID</th>\n",
       "      <th>Category</th>\n",
       "      <th>Sub-Category</th>\n",
       "      <th>Product Name</th>\n",
       "      <th>Sales</th>\n",
       "      <th>Quantity</th>\n",
       "      <th>Discount</th>\n",
       "      <th>Profit</th>\n",
       "    </tr>\n",
       "  </thead>\n",
       "  <tbody>\n",
       "    <tr>\n",
       "      <th>0</th>\n",
       "      <td>1</td>\n",
       "      <td>CA-2016-152156</td>\n",
       "      <td>08/11/16</td>\n",
       "      <td>11/11/16</td>\n",
       "      <td>Second Class</td>\n",
       "      <td>CG-12520</td>\n",
       "      <td>Claire Gute</td>\n",
       "      <td>Consumer</td>\n",
       "      <td>United States</td>\n",
       "      <td>Henderson</td>\n",
       "      <td>...</td>\n",
       "      <td>42420</td>\n",
       "      <td>South</td>\n",
       "      <td>FUR-BO-10001798</td>\n",
       "      <td>Furniture</td>\n",
       "      <td>Bookcases</td>\n",
       "      <td>Bush Somerset Collection Bookcase</td>\n",
       "      <td>261.9600</td>\n",
       "      <td>2</td>\n",
       "      <td>0.00</td>\n",
       "      <td>41.9136</td>\n",
       "    </tr>\n",
       "    <tr>\n",
       "      <th>1</th>\n",
       "      <td>2</td>\n",
       "      <td>CA-2016-152156</td>\n",
       "      <td>08/11/16</td>\n",
       "      <td>11/11/16</td>\n",
       "      <td>Second Class</td>\n",
       "      <td>CG-12520</td>\n",
       "      <td>Claire Gute</td>\n",
       "      <td>Consumer</td>\n",
       "      <td>United States</td>\n",
       "      <td>Henderson</td>\n",
       "      <td>...</td>\n",
       "      <td>42420</td>\n",
       "      <td>South</td>\n",
       "      <td>FUR-CH-10000454</td>\n",
       "      <td>Furniture</td>\n",
       "      <td>Chairs</td>\n",
       "      <td>Hon Deluxe Fabric Upholstered Stacking Chairs,...</td>\n",
       "      <td>731.9400</td>\n",
       "      <td>3</td>\n",
       "      <td>0.00</td>\n",
       "      <td>219.5820</td>\n",
       "    </tr>\n",
       "    <tr>\n",
       "      <th>2</th>\n",
       "      <td>3</td>\n",
       "      <td>CA-2016-138688</td>\n",
       "      <td>12/06/16</td>\n",
       "      <td>16/06/16</td>\n",
       "      <td>Second Class</td>\n",
       "      <td>DV-13045</td>\n",
       "      <td>Darrin Van Huff</td>\n",
       "      <td>Corporate</td>\n",
       "      <td>United States</td>\n",
       "      <td>Los Angeles</td>\n",
       "      <td>...</td>\n",
       "      <td>90036</td>\n",
       "      <td>West</td>\n",
       "      <td>OFF-LA-10000240</td>\n",
       "      <td>Office Supplies</td>\n",
       "      <td>Labels</td>\n",
       "      <td>Self-Adhesive Address Labels for Typewriters b...</td>\n",
       "      <td>14.6200</td>\n",
       "      <td>2</td>\n",
       "      <td>0.00</td>\n",
       "      <td>6.8714</td>\n",
       "    </tr>\n",
       "    <tr>\n",
       "      <th>3</th>\n",
       "      <td>4</td>\n",
       "      <td>US-2015-108966</td>\n",
       "      <td>11/10/15</td>\n",
       "      <td>18/10/15</td>\n",
       "      <td>Standard Class</td>\n",
       "      <td>SO-20335</td>\n",
       "      <td>Sean O'Donnell</td>\n",
       "      <td>Consumer</td>\n",
       "      <td>United States</td>\n",
       "      <td>Fort Lauderdale</td>\n",
       "      <td>...</td>\n",
       "      <td>33311</td>\n",
       "      <td>South</td>\n",
       "      <td>FUR-TA-10000577</td>\n",
       "      <td>Furniture</td>\n",
       "      <td>Tables</td>\n",
       "      <td>Bretford CR4500 Series Slim Rectangular Table</td>\n",
       "      <td>957.5775</td>\n",
       "      <td>5</td>\n",
       "      <td>0.45</td>\n",
       "      <td>-383.0310</td>\n",
       "    </tr>\n",
       "    <tr>\n",
       "      <th>4</th>\n",
       "      <td>5</td>\n",
       "      <td>US-2015-108966</td>\n",
       "      <td>11/10/15</td>\n",
       "      <td>18/10/15</td>\n",
       "      <td>Standard Class</td>\n",
       "      <td>SO-20335</td>\n",
       "      <td>Sean O'Donnell</td>\n",
       "      <td>Consumer</td>\n",
       "      <td>United States</td>\n",
       "      <td>Fort Lauderdale</td>\n",
       "      <td>...</td>\n",
       "      <td>33311</td>\n",
       "      <td>South</td>\n",
       "      <td>OFF-ST-10000760</td>\n",
       "      <td>Office Supplies</td>\n",
       "      <td>Storage</td>\n",
       "      <td>Eldon Fold 'N Roll Cart System</td>\n",
       "      <td>22.3680</td>\n",
       "      <td>2</td>\n",
       "      <td>0.20</td>\n",
       "      <td>2.5164</td>\n",
       "    </tr>\n",
       "  </tbody>\n",
       "</table>\n",
       "<p>5 rows × 21 columns</p>\n",
       "</div>"
      ],
      "text/plain": [
       "   Row ID        Order ID Order Date Ship Date       Ship Mode Customer ID  \\\n",
       "0       1  CA-2016-152156   08/11/16  11/11/16    Second Class    CG-12520   \n",
       "1       2  CA-2016-152156   08/11/16  11/11/16    Second Class    CG-12520   \n",
       "2       3  CA-2016-138688   12/06/16  16/06/16    Second Class    DV-13045   \n",
       "3       4  US-2015-108966   11/10/15  18/10/15  Standard Class    SO-20335   \n",
       "4       5  US-2015-108966   11/10/15  18/10/15  Standard Class    SO-20335   \n",
       "\n",
       "     Customer Name    Segment        Country             City  ...  \\\n",
       "0      Claire Gute   Consumer  United States        Henderson  ...   \n",
       "1      Claire Gute   Consumer  United States        Henderson  ...   \n",
       "2  Darrin Van Huff  Corporate  United States      Los Angeles  ...   \n",
       "3   Sean O'Donnell   Consumer  United States  Fort Lauderdale  ...   \n",
       "4   Sean O'Donnell   Consumer  United States  Fort Lauderdale  ...   \n",
       "\n",
       "  Postal Code  Region       Product ID         Category Sub-Category  \\\n",
       "0       42420   South  FUR-BO-10001798        Furniture    Bookcases   \n",
       "1       42420   South  FUR-CH-10000454        Furniture       Chairs   \n",
       "2       90036    West  OFF-LA-10000240  Office Supplies       Labels   \n",
       "3       33311   South  FUR-TA-10000577        Furniture       Tables   \n",
       "4       33311   South  OFF-ST-10000760  Office Supplies      Storage   \n",
       "\n",
       "                                        Product Name     Sales  Quantity  \\\n",
       "0                  Bush Somerset Collection Bookcase  261.9600         2   \n",
       "1  Hon Deluxe Fabric Upholstered Stacking Chairs,...  731.9400         3   \n",
       "2  Self-Adhesive Address Labels for Typewriters b...   14.6200         2   \n",
       "3      Bretford CR4500 Series Slim Rectangular Table  957.5775         5   \n",
       "4                     Eldon Fold 'N Roll Cart System   22.3680         2   \n",
       "\n",
       "   Discount    Profit  \n",
       "0      0.00   41.9136  \n",
       "1      0.00  219.5820  \n",
       "2      0.00    6.8714  \n",
       "3      0.45 -383.0310  \n",
       "4      0.20    2.5164  \n",
       "\n",
       "[5 rows x 21 columns]"
      ]
     },
     "execution_count": 10,
     "metadata": {},
     "output_type": "execute_result"
    }
   ],
   "source": [
    "data.head()"
   ]
  },
  {
   "cell_type": "code",
   "execution_count": 9,
   "id": "7ef011c0-d458-4844-a7d4-6f6e5464ae2b",
   "metadata": {},
   "outputs": [
    {
     "data": {
      "text/plain": [
       "Index(['Row ID', 'Order ID', 'Order Date', 'Ship Date', 'Ship Mode',\n",
       "       'Customer ID', 'Customer Name', 'Segment', 'Country', 'City', 'State',\n",
       "       'Postal Code', 'Region', 'Product ID', 'Category', 'Sub-Category',\n",
       "       'Product Name', 'Sales', 'Quantity', 'Discount', 'Profit'],\n",
       "      dtype='object')"
      ]
     },
     "execution_count": 9,
     "metadata": {},
     "output_type": "execute_result"
    }
   ],
   "source": [
    "data.columns"
   ]
  },
  {
   "cell_type": "code",
   "execution_count": 13,
   "id": "65298e38-cbcb-4c43-966c-928960568fbd",
   "metadata": {},
   "outputs": [],
   "source": [
    "data['Order Date']=pd.to_datetime(data['Order Date'])\n",
    "data['Ship Date']=pd.to_datetime(data['Ship Date'])"
   ]
  },
  {
   "cell_type": "code",
   "execution_count": 15,
   "id": "d4cf1cb8-54b7-42ab-9ca5-8497c75ca3a0",
   "metadata": {},
   "outputs": [
    {
     "data": {
      "text/html": [
       "<div>\n",
       "<style scoped>\n",
       "    .dataframe tbody tr th:only-of-type {\n",
       "        vertical-align: middle;\n",
       "    }\n",
       "\n",
       "    .dataframe tbody tr th {\n",
       "        vertical-align: top;\n",
       "    }\n",
       "\n",
       "    .dataframe thead th {\n",
       "        text-align: right;\n",
       "    }\n",
       "</style>\n",
       "<table border=\"1\" class=\"dataframe\">\n",
       "  <thead>\n",
       "    <tr style=\"text-align: right;\">\n",
       "      <th></th>\n",
       "      <th>Row ID</th>\n",
       "      <th>Order ID</th>\n",
       "      <th>Order Date</th>\n",
       "      <th>Ship Date</th>\n",
       "      <th>Ship Mode</th>\n",
       "      <th>Customer ID</th>\n",
       "      <th>Customer Name</th>\n",
       "      <th>Segment</th>\n",
       "      <th>Country</th>\n",
       "      <th>City</th>\n",
       "      <th>...</th>\n",
       "      <th>Category</th>\n",
       "      <th>Sub-Category</th>\n",
       "      <th>Product Name</th>\n",
       "      <th>Sales</th>\n",
       "      <th>Quantity</th>\n",
       "      <th>Discount</th>\n",
       "      <th>Profit</th>\n",
       "      <th>Order Month</th>\n",
       "      <th>Order Year</th>\n",
       "      <th>Order Day</th>\n",
       "    </tr>\n",
       "  </thead>\n",
       "  <tbody>\n",
       "    <tr>\n",
       "      <th>0</th>\n",
       "      <td>1</td>\n",
       "      <td>CA-2016-152156</td>\n",
       "      <td>2016-08-11</td>\n",
       "      <td>2016-11-11</td>\n",
       "      <td>Second Class</td>\n",
       "      <td>CG-12520</td>\n",
       "      <td>Claire Gute</td>\n",
       "      <td>Consumer</td>\n",
       "      <td>United States</td>\n",
       "      <td>Henderson</td>\n",
       "      <td>...</td>\n",
       "      <td>Furniture</td>\n",
       "      <td>Bookcases</td>\n",
       "      <td>Bush Somerset Collection Bookcase</td>\n",
       "      <td>261.9600</td>\n",
       "      <td>2</td>\n",
       "      <td>0.00</td>\n",
       "      <td>41.9136</td>\n",
       "      <td>8</td>\n",
       "      <td>2016</td>\n",
       "      <td>3</td>\n",
       "    </tr>\n",
       "    <tr>\n",
       "      <th>1</th>\n",
       "      <td>2</td>\n",
       "      <td>CA-2016-152156</td>\n",
       "      <td>2016-08-11</td>\n",
       "      <td>2016-11-11</td>\n",
       "      <td>Second Class</td>\n",
       "      <td>CG-12520</td>\n",
       "      <td>Claire Gute</td>\n",
       "      <td>Consumer</td>\n",
       "      <td>United States</td>\n",
       "      <td>Henderson</td>\n",
       "      <td>...</td>\n",
       "      <td>Furniture</td>\n",
       "      <td>Chairs</td>\n",
       "      <td>Hon Deluxe Fabric Upholstered Stacking Chairs,...</td>\n",
       "      <td>731.9400</td>\n",
       "      <td>3</td>\n",
       "      <td>0.00</td>\n",
       "      <td>219.5820</td>\n",
       "      <td>8</td>\n",
       "      <td>2016</td>\n",
       "      <td>3</td>\n",
       "    </tr>\n",
       "    <tr>\n",
       "      <th>2</th>\n",
       "      <td>3</td>\n",
       "      <td>CA-2016-138688</td>\n",
       "      <td>2016-12-06</td>\n",
       "      <td>2016-06-16</td>\n",
       "      <td>Second Class</td>\n",
       "      <td>DV-13045</td>\n",
       "      <td>Darrin Van Huff</td>\n",
       "      <td>Corporate</td>\n",
       "      <td>United States</td>\n",
       "      <td>Los Angeles</td>\n",
       "      <td>...</td>\n",
       "      <td>Office Supplies</td>\n",
       "      <td>Labels</td>\n",
       "      <td>Self-Adhesive Address Labels for Typewriters b...</td>\n",
       "      <td>14.6200</td>\n",
       "      <td>2</td>\n",
       "      <td>0.00</td>\n",
       "      <td>6.8714</td>\n",
       "      <td>12</td>\n",
       "      <td>2016</td>\n",
       "      <td>1</td>\n",
       "    </tr>\n",
       "    <tr>\n",
       "      <th>3</th>\n",
       "      <td>4</td>\n",
       "      <td>US-2015-108966</td>\n",
       "      <td>2015-11-10</td>\n",
       "      <td>2015-10-18</td>\n",
       "      <td>Standard Class</td>\n",
       "      <td>SO-20335</td>\n",
       "      <td>Sean O'Donnell</td>\n",
       "      <td>Consumer</td>\n",
       "      <td>United States</td>\n",
       "      <td>Fort Lauderdale</td>\n",
       "      <td>...</td>\n",
       "      <td>Furniture</td>\n",
       "      <td>Tables</td>\n",
       "      <td>Bretford CR4500 Series Slim Rectangular Table</td>\n",
       "      <td>957.5775</td>\n",
       "      <td>5</td>\n",
       "      <td>0.45</td>\n",
       "      <td>-383.0310</td>\n",
       "      <td>11</td>\n",
       "      <td>2015</td>\n",
       "      <td>1</td>\n",
       "    </tr>\n",
       "    <tr>\n",
       "      <th>4</th>\n",
       "      <td>5</td>\n",
       "      <td>US-2015-108966</td>\n",
       "      <td>2015-11-10</td>\n",
       "      <td>2015-10-18</td>\n",
       "      <td>Standard Class</td>\n",
       "      <td>SO-20335</td>\n",
       "      <td>Sean O'Donnell</td>\n",
       "      <td>Consumer</td>\n",
       "      <td>United States</td>\n",
       "      <td>Fort Lauderdale</td>\n",
       "      <td>...</td>\n",
       "      <td>Office Supplies</td>\n",
       "      <td>Storage</td>\n",
       "      <td>Eldon Fold 'N Roll Cart System</td>\n",
       "      <td>22.3680</td>\n",
       "      <td>2</td>\n",
       "      <td>0.20</td>\n",
       "      <td>2.5164</td>\n",
       "      <td>11</td>\n",
       "      <td>2015</td>\n",
       "      <td>1</td>\n",
       "    </tr>\n",
       "  </tbody>\n",
       "</table>\n",
       "<p>5 rows × 24 columns</p>\n",
       "</div>"
      ],
      "text/plain": [
       "   Row ID        Order ID Order Date  Ship Date       Ship Mode Customer ID  \\\n",
       "0       1  CA-2016-152156 2016-08-11 2016-11-11    Second Class    CG-12520   \n",
       "1       2  CA-2016-152156 2016-08-11 2016-11-11    Second Class    CG-12520   \n",
       "2       3  CA-2016-138688 2016-12-06 2016-06-16    Second Class    DV-13045   \n",
       "3       4  US-2015-108966 2015-11-10 2015-10-18  Standard Class    SO-20335   \n",
       "4       5  US-2015-108966 2015-11-10 2015-10-18  Standard Class    SO-20335   \n",
       "\n",
       "     Customer Name    Segment        Country             City  ...  \\\n",
       "0      Claire Gute   Consumer  United States        Henderson  ...   \n",
       "1      Claire Gute   Consumer  United States        Henderson  ...   \n",
       "2  Darrin Van Huff  Corporate  United States      Los Angeles  ...   \n",
       "3   Sean O'Donnell   Consumer  United States  Fort Lauderdale  ...   \n",
       "4   Sean O'Donnell   Consumer  United States  Fort Lauderdale  ...   \n",
       "\n",
       "          Category  Sub-Category  \\\n",
       "0        Furniture     Bookcases   \n",
       "1        Furniture        Chairs   \n",
       "2  Office Supplies        Labels   \n",
       "3        Furniture        Tables   \n",
       "4  Office Supplies       Storage   \n",
       "\n",
       "                                        Product Name     Sales Quantity  \\\n",
       "0                  Bush Somerset Collection Bookcase  261.9600        2   \n",
       "1  Hon Deluxe Fabric Upholstered Stacking Chairs,...  731.9400        3   \n",
       "2  Self-Adhesive Address Labels for Typewriters b...   14.6200        2   \n",
       "3      Bretford CR4500 Series Slim Rectangular Table  957.5775        5   \n",
       "4                     Eldon Fold 'N Roll Cart System   22.3680        2   \n",
       "\n",
       "  Discount    Profit  Order Month  Order Year  Order Day  \n",
       "0     0.00   41.9136            8        2016          3  \n",
       "1     0.00  219.5820            8        2016          3  \n",
       "2     0.00    6.8714           12        2016          1  \n",
       "3     0.45 -383.0310           11        2015          1  \n",
       "4     0.20    2.5164           11        2015          1  \n",
       "\n",
       "[5 rows x 24 columns]"
      ]
     },
     "execution_count": 15,
     "metadata": {},
     "output_type": "execute_result"
    }
   ],
   "source": [
    "data['Order Month']=data['Order Date'].dt.month\n",
    "data['Order Year']=data['Order Date'].dt.year\n",
    "data['Order Day']=data['Order Date'].dt.dayofweek\n",
    "data.head()"
   ]
  },
  {
   "cell_type": "code",
   "execution_count": 98,
   "id": "fea7b5b4-2e94-40b0-b131-9d01f7f5bf2c",
   "metadata": {},
   "outputs": [
    {
     "data": {
      "application/vnd.plotly.v1+json": {
       "config": {
        "plotlyServerURL": "https://plot.ly"
       },
       "data": [
        {
         "hovertemplate": "Order Month=%{x}<br>Sales=%{y}<extra></extra>",
         "legendgroup": "",
         "line": {
          "color": "#636efa",
          "dash": "solid"
         },
         "marker": {
          "symbol": "circle"
         },
         "mode": "lines",
         "name": "",
         "orientation": "v",
         "showlegend": false,
         "type": "scatter",
         "x": [
          1,
          2,
          3,
          4,
          5,
          6,
          7,
          8,
          9,
          10,
          11,
          12
         ],
         "xaxis": "x",
         "y": [
          161083.5874,
          132721.3594,
          220064.646,
          147031.2641,
          166420.3167,
          144883.4973,
          161227.1045,
          209964.3679,
          248989.3031,
          184356.3342,
          271693.7525,
          248765.3272
         ],
         "yaxis": "y"
        }
       ],
       "layout": {
        "autosize": true,
        "legend": {
         "tracegroupgap": 0
        },
        "template": {
         "data": {
          "bar": [
           {
            "error_x": {
             "color": "#2a3f5f"
            },
            "error_y": {
             "color": "#2a3f5f"
            },
            "marker": {
             "line": {
              "color": "#E5ECF6",
              "width": 0.5
             },
             "pattern": {
              "fillmode": "overlay",
              "size": 10,
              "solidity": 0.2
             }
            },
            "type": "bar"
           }
          ],
          "barpolar": [
           {
            "marker": {
             "line": {
              "color": "#E5ECF6",
              "width": 0.5
             },
             "pattern": {
              "fillmode": "overlay",
              "size": 10,
              "solidity": 0.2
             }
            },
            "type": "barpolar"
           }
          ],
          "carpet": [
           {
            "aaxis": {
             "endlinecolor": "#2a3f5f",
             "gridcolor": "white",
             "linecolor": "white",
             "minorgridcolor": "white",
             "startlinecolor": "#2a3f5f"
            },
            "baxis": {
             "endlinecolor": "#2a3f5f",
             "gridcolor": "white",
             "linecolor": "white",
             "minorgridcolor": "white",
             "startlinecolor": "#2a3f5f"
            },
            "type": "carpet"
           }
          ],
          "choropleth": [
           {
            "colorbar": {
             "outlinewidth": 0,
             "ticks": ""
            },
            "type": "choropleth"
           }
          ],
          "contour": [
           {
            "colorbar": {
             "outlinewidth": 0,
             "ticks": ""
            },
            "colorscale": [
             [
              0,
              "#0d0887"
             ],
             [
              0.1111111111111111,
              "#46039f"
             ],
             [
              0.2222222222222222,
              "#7201a8"
             ],
             [
              0.3333333333333333,
              "#9c179e"
             ],
             [
              0.4444444444444444,
              "#bd3786"
             ],
             [
              0.5555555555555556,
              "#d8576b"
             ],
             [
              0.6666666666666666,
              "#ed7953"
             ],
             [
              0.7777777777777778,
              "#fb9f3a"
             ],
             [
              0.8888888888888888,
              "#fdca26"
             ],
             [
              1,
              "#f0f921"
             ]
            ],
            "type": "contour"
           }
          ],
          "contourcarpet": [
           {
            "colorbar": {
             "outlinewidth": 0,
             "ticks": ""
            },
            "type": "contourcarpet"
           }
          ],
          "heatmap": [
           {
            "colorbar": {
             "outlinewidth": 0,
             "ticks": ""
            },
            "colorscale": [
             [
              0,
              "#0d0887"
             ],
             [
              0.1111111111111111,
              "#46039f"
             ],
             [
              0.2222222222222222,
              "#7201a8"
             ],
             [
              0.3333333333333333,
              "#9c179e"
             ],
             [
              0.4444444444444444,
              "#bd3786"
             ],
             [
              0.5555555555555556,
              "#d8576b"
             ],
             [
              0.6666666666666666,
              "#ed7953"
             ],
             [
              0.7777777777777778,
              "#fb9f3a"
             ],
             [
              0.8888888888888888,
              "#fdca26"
             ],
             [
              1,
              "#f0f921"
             ]
            ],
            "type": "heatmap"
           }
          ],
          "heatmapgl": [
           {
            "colorbar": {
             "outlinewidth": 0,
             "ticks": ""
            },
            "colorscale": [
             [
              0,
              "#0d0887"
             ],
             [
              0.1111111111111111,
              "#46039f"
             ],
             [
              0.2222222222222222,
              "#7201a8"
             ],
             [
              0.3333333333333333,
              "#9c179e"
             ],
             [
              0.4444444444444444,
              "#bd3786"
             ],
             [
              0.5555555555555556,
              "#d8576b"
             ],
             [
              0.6666666666666666,
              "#ed7953"
             ],
             [
              0.7777777777777778,
              "#fb9f3a"
             ],
             [
              0.8888888888888888,
              "#fdca26"
             ],
             [
              1,
              "#f0f921"
             ]
            ],
            "type": "heatmapgl"
           }
          ],
          "histogram": [
           {
            "marker": {
             "pattern": {
              "fillmode": "overlay",
              "size": 10,
              "solidity": 0.2
             }
            },
            "type": "histogram"
           }
          ],
          "histogram2d": [
           {
            "colorbar": {
             "outlinewidth": 0,
             "ticks": ""
            },
            "colorscale": [
             [
              0,
              "#0d0887"
             ],
             [
              0.1111111111111111,
              "#46039f"
             ],
             [
              0.2222222222222222,
              "#7201a8"
             ],
             [
              0.3333333333333333,
              "#9c179e"
             ],
             [
              0.4444444444444444,
              "#bd3786"
             ],
             [
              0.5555555555555556,
              "#d8576b"
             ],
             [
              0.6666666666666666,
              "#ed7953"
             ],
             [
              0.7777777777777778,
              "#fb9f3a"
             ],
             [
              0.8888888888888888,
              "#fdca26"
             ],
             [
              1,
              "#f0f921"
             ]
            ],
            "type": "histogram2d"
           }
          ],
          "histogram2dcontour": [
           {
            "colorbar": {
             "outlinewidth": 0,
             "ticks": ""
            },
            "colorscale": [
             [
              0,
              "#0d0887"
             ],
             [
              0.1111111111111111,
              "#46039f"
             ],
             [
              0.2222222222222222,
              "#7201a8"
             ],
             [
              0.3333333333333333,
              "#9c179e"
             ],
             [
              0.4444444444444444,
              "#bd3786"
             ],
             [
              0.5555555555555556,
              "#d8576b"
             ],
             [
              0.6666666666666666,
              "#ed7953"
             ],
             [
              0.7777777777777778,
              "#fb9f3a"
             ],
             [
              0.8888888888888888,
              "#fdca26"
             ],
             [
              1,
              "#f0f921"
             ]
            ],
            "type": "histogram2dcontour"
           }
          ],
          "mesh3d": [
           {
            "colorbar": {
             "outlinewidth": 0,
             "ticks": ""
            },
            "type": "mesh3d"
           }
          ],
          "parcoords": [
           {
            "line": {
             "colorbar": {
              "outlinewidth": 0,
              "ticks": ""
             }
            },
            "type": "parcoords"
           }
          ],
          "pie": [
           {
            "automargin": true,
            "type": "pie"
           }
          ],
          "scatter": [
           {
            "fillpattern": {
             "fillmode": "overlay",
             "size": 10,
             "solidity": 0.2
            },
            "type": "scatter"
           }
          ],
          "scatter3d": [
           {
            "line": {
             "colorbar": {
              "outlinewidth": 0,
              "ticks": ""
             }
            },
            "marker": {
             "colorbar": {
              "outlinewidth": 0,
              "ticks": ""
             }
            },
            "type": "scatter3d"
           }
          ],
          "scattercarpet": [
           {
            "marker": {
             "colorbar": {
              "outlinewidth": 0,
              "ticks": ""
             }
            },
            "type": "scattercarpet"
           }
          ],
          "scattergeo": [
           {
            "marker": {
             "colorbar": {
              "outlinewidth": 0,
              "ticks": ""
             }
            },
            "type": "scattergeo"
           }
          ],
          "scattergl": [
           {
            "marker": {
             "colorbar": {
              "outlinewidth": 0,
              "ticks": ""
             }
            },
            "type": "scattergl"
           }
          ],
          "scattermapbox": [
           {
            "marker": {
             "colorbar": {
              "outlinewidth": 0,
              "ticks": ""
             }
            },
            "type": "scattermapbox"
           }
          ],
          "scatterpolar": [
           {
            "marker": {
             "colorbar": {
              "outlinewidth": 0,
              "ticks": ""
             }
            },
            "type": "scatterpolar"
           }
          ],
          "scatterpolargl": [
           {
            "marker": {
             "colorbar": {
              "outlinewidth": 0,
              "ticks": ""
             }
            },
            "type": "scatterpolargl"
           }
          ],
          "scatterternary": [
           {
            "marker": {
             "colorbar": {
              "outlinewidth": 0,
              "ticks": ""
             }
            },
            "type": "scatterternary"
           }
          ],
          "surface": [
           {
            "colorbar": {
             "outlinewidth": 0,
             "ticks": ""
            },
            "colorscale": [
             [
              0,
              "#0d0887"
             ],
             [
              0.1111111111111111,
              "#46039f"
             ],
             [
              0.2222222222222222,
              "#7201a8"
             ],
             [
              0.3333333333333333,
              "#9c179e"
             ],
             [
              0.4444444444444444,
              "#bd3786"
             ],
             [
              0.5555555555555556,
              "#d8576b"
             ],
             [
              0.6666666666666666,
              "#ed7953"
             ],
             [
              0.7777777777777778,
              "#fb9f3a"
             ],
             [
              0.8888888888888888,
              "#fdca26"
             ],
             [
              1,
              "#f0f921"
             ]
            ],
            "type": "surface"
           }
          ],
          "table": [
           {
            "cells": {
             "fill": {
              "color": "#EBF0F8"
             },
             "line": {
              "color": "white"
             }
            },
            "header": {
             "fill": {
              "color": "#C8D4E3"
             },
             "line": {
              "color": "white"
             }
            },
            "type": "table"
           }
          ]
         },
         "layout": {
          "annotationdefaults": {
           "arrowcolor": "#2a3f5f",
           "arrowhead": 0,
           "arrowwidth": 1
          },
          "autotypenumbers": "strict",
          "coloraxis": {
           "colorbar": {
            "outlinewidth": 0,
            "ticks": ""
           }
          },
          "colorscale": {
           "diverging": [
            [
             0,
             "#8e0152"
            ],
            [
             0.1,
             "#c51b7d"
            ],
            [
             0.2,
             "#de77ae"
            ],
            [
             0.3,
             "#f1b6da"
            ],
            [
             0.4,
             "#fde0ef"
            ],
            [
             0.5,
             "#f7f7f7"
            ],
            [
             0.6,
             "#e6f5d0"
            ],
            [
             0.7,
             "#b8e186"
            ],
            [
             0.8,
             "#7fbc41"
            ],
            [
             0.9,
             "#4d9221"
            ],
            [
             1,
             "#276419"
            ]
           ],
           "sequential": [
            [
             0,
             "#0d0887"
            ],
            [
             0.1111111111111111,
             "#46039f"
            ],
            [
             0.2222222222222222,
             "#7201a8"
            ],
            [
             0.3333333333333333,
             "#9c179e"
            ],
            [
             0.4444444444444444,
             "#bd3786"
            ],
            [
             0.5555555555555556,
             "#d8576b"
            ],
            [
             0.6666666666666666,
             "#ed7953"
            ],
            [
             0.7777777777777778,
             "#fb9f3a"
            ],
            [
             0.8888888888888888,
             "#fdca26"
            ],
            [
             1,
             "#f0f921"
            ]
           ],
           "sequentialminus": [
            [
             0,
             "#0d0887"
            ],
            [
             0.1111111111111111,
             "#46039f"
            ],
            [
             0.2222222222222222,
             "#7201a8"
            ],
            [
             0.3333333333333333,
             "#9c179e"
            ],
            [
             0.4444444444444444,
             "#bd3786"
            ],
            [
             0.5555555555555556,
             "#d8576b"
            ],
            [
             0.6666666666666666,
             "#ed7953"
            ],
            [
             0.7777777777777778,
             "#fb9f3a"
            ],
            [
             0.8888888888888888,
             "#fdca26"
            ],
            [
             1,
             "#f0f921"
            ]
           ]
          },
          "colorway": [
           "#636efa",
           "#EF553B",
           "#00cc96",
           "#ab63fa",
           "#FFA15A",
           "#19d3f3",
           "#FF6692",
           "#B6E880",
           "#FF97FF",
           "#FECB52"
          ],
          "font": {
           "color": "#2a3f5f"
          },
          "geo": {
           "bgcolor": "white",
           "lakecolor": "white",
           "landcolor": "#E5ECF6",
           "showlakes": true,
           "showland": true,
           "subunitcolor": "white"
          },
          "hoverlabel": {
           "align": "left"
          },
          "hovermode": "closest",
          "mapbox": {
           "style": "light"
          },
          "paper_bgcolor": "white",
          "plot_bgcolor": "#E5ECF6",
          "polar": {
           "angularaxis": {
            "gridcolor": "white",
            "linecolor": "white",
            "ticks": ""
           },
           "bgcolor": "#E5ECF6",
           "radialaxis": {
            "gridcolor": "white",
            "linecolor": "white",
            "ticks": ""
           }
          },
          "scene": {
           "xaxis": {
            "backgroundcolor": "#E5ECF6",
            "gridcolor": "white",
            "gridwidth": 2,
            "linecolor": "white",
            "showbackground": true,
            "ticks": "",
            "zerolinecolor": "white"
           },
           "yaxis": {
            "backgroundcolor": "#E5ECF6",
            "gridcolor": "white",
            "gridwidth": 2,
            "linecolor": "white",
            "showbackground": true,
            "ticks": "",
            "zerolinecolor": "white"
           },
           "zaxis": {
            "backgroundcolor": "#E5ECF6",
            "gridcolor": "white",
            "gridwidth": 2,
            "linecolor": "white",
            "showbackground": true,
            "ticks": "",
            "zerolinecolor": "white"
           }
          },
          "shapedefaults": {
           "line": {
            "color": "#2a3f5f"
           }
          },
          "ternary": {
           "aaxis": {
            "gridcolor": "white",
            "linecolor": "white",
            "ticks": ""
           },
           "baxis": {
            "gridcolor": "white",
            "linecolor": "white",
            "ticks": ""
           },
           "bgcolor": "#E5ECF6",
           "caxis": {
            "gridcolor": "white",
            "linecolor": "white",
            "ticks": ""
           }
          },
          "title": {
           "x": 0.05
          },
          "xaxis": {
           "automargin": true,
           "gridcolor": "white",
           "linecolor": "white",
           "ticks": "",
           "title": {
            "standoff": 15
           },
           "zerolinecolor": "white",
           "zerolinewidth": 2
          },
          "yaxis": {
           "automargin": true,
           "gridcolor": "white",
           "linecolor": "white",
           "ticks": "",
           "title": {
            "standoff": 15
           },
           "zerolinecolor": "white",
           "zerolinewidth": 2
          }
         }
        },
        "title": {
         "text": "monthly sales analysis"
        },
        "xaxis": {
         "anchor": "y",
         "autorange": true,
         "domain": [
          0,
          1
         ],
         "range": [
          1,
          12
         ],
         "title": {
          "text": "Order Month"
         },
         "type": "linear"
        },
        "yaxis": {
         "anchor": "x",
         "autorange": true,
         "domain": [
          0,
          1
         ],
         "range": [
          125000.67089444443,
          279414.44100555556
         ],
         "title": {
          "text": "Sales"
         },
         "type": "linear"
        }
       }
      },
      "image/png": "[encoded data removed]",
      "text/html": [
       "<div>                            <div id=\"eb979f37-5695-4c91-8466-75a212964931\" class=\"plotly-graph-div\" style=\"height:525px; width:100%;\"></div>            <script type=\"text/javascript\">                require([\"plotly\"], function(Plotly) {                    window.PLOTLYENV=window.PLOTLYENV || {};                                    if (document.getElementById(\"eb979f37-5695-4c91-8466-75a212964931\")) {                    Plotly.newPlot(                        \"eb979f37-5695-4c91-8466-75a212964931\",                        [{\"hovertemplate\":\"Order Month=%{x}\\u003cbr\\u003eSales=%{y}\\u003cextra\\u003e\\u003c\\u002fextra\\u003e\",\"legendgroup\":\"\",\"line\":{\"color\":\"#636efa\",\"dash\":\"solid\"},\"marker\":{\"symbol\":\"circle\"},\"mode\":\"lines\",\"name\":\"\",\"orientation\":\"v\",\"showlegend\":false,\"x\":[1,2,3,4,5,6,7,8,9,10,11,12],\"xaxis\":\"x\",\"y\":[161083.5874,132721.3594,220064.646,147031.2641,166420.3167,144883.4973,161227.1045,209964.3679,248989.3031,184356.3342,271693.7525,248765.3272],\"yaxis\":\"y\",\"type\":\"scatter\"}],                        {\"template\":{\"data\":{\"histogram2dcontour\":[{\"type\":\"histogram2dcontour\",\"colorbar\":{\"outlinewidth\":0,\"ticks\":\"\"},\"colorscale\":[[0.0,\"#0d0887\"],[0.1111111111111111,\"#46039f\"],[0.2222222222222222,\"#7201a8\"],[0.3333333333333333,\"#9c179e\"],[0.4444444444444444,\"#bd3786\"],[0.5555555555555556,\"#d8576b\"],[0.6666666666666666,\"#ed7953\"],[0.7777777777777778,\"#fb9f3a\"],[0.8888888888888888,\"#fdca26\"],[1.0,\"#f0f921\"]]}],\"choropleth\":[{\"type\":\"choropleth\",\"colorbar\":{\"outlinewidth\":0,\"ticks\":\"\"}}],\"histogram2d\":[{\"type\":\"histogram2d\",\"colorbar\":{\"outlinewidth\":0,\"ticks\":\"\"},\"colorscale\":[[0.0,\"#0d0887\"],[0.1111111111111111,\"#46039f\"],[0.2222222222222222,\"#7201a8\"],[0.3333333333333333,\"#9c179e\"],[0.4444444444444444,\"#bd3786\"],[0.5555555555555556,\"#d8576b\"],[0.6666666666666666,\"#ed7953\"],[0.7777777777777778,\"#fb9f3a\"],[0.8888888888888888,\"#fdca26\"],[1.0,\"#f0f921\"]]}],\"heatmap\":[{\"type\":\"heatmap\",\"colorbar\":{\"outlinewidth\":0,\"ticks\":\"\"},\"colorscale\":[[0.0,\"#0d0887\"],[0.1111111111111111,\"#46039f\"],[0.2222222222222222,\"#7201a8\"],[0.3333333333333333,\"#9c179e\"],[0.4444444444444444,\"#bd3786\"],[0.5555555555555556,\"#d8576b\"],[0.6666666666666666,\"#ed7953\"],[0.7777777777777778,\"#fb9f3a\"],[0.8888888888888888,\"#fdca26\"],[1.0,\"#f0f921\"]]}],\"heatmapgl\":[{\"type\":\"heatmapgl\",\"colorbar\":{\"outlinewidth\":0,\"ticks\":\"\"},\"colorscale\":[[0.0,\"#0d0887\"],[0.1111111111111111,\"#46039f\"],[0.2222222222222222,\"#7201a8\"],[0.3333333333333333,\"#9c179e\"],[0.4444444444444444,\"#bd3786\"],[0.5555555555555556,\"#d8576b\"],[0.6666666666666666,\"#ed7953\"],[0.7777777777777778,\"#fb9f3a\"],[0.8888888888888888,\"#fdca26\"],[1.0,\"#f0f921\"]]}],\"contourcarpet\":[{\"type\":\"contourcarpet\",\"colorbar\":{\"outlinewidth\":0,\"ticks\":\"\"}}],\"contour\":[{\"type\":\"contour\",\"colorbar\":{\"outlinewidth\":0,\"ticks\":\"\"},\"colorscale\":[[0.0,\"#0d0887\"],[0.1111111111111111,\"#46039f\"],[0.2222222222222222,\"#7201a8\"],[0.3333333333333333,\"#9c179e\"],[0.4444444444444444,\"#bd3786\"],[0.5555555555555556,\"#d8576b\"],[0.6666666666666666,\"#ed7953\"],[0.7777777777777778,\"#fb9f3a\"],[0.8888888888888888,\"#fdca26\"],[1.0,\"#f0f921\"]]}],\"surface\":[{\"type\":\"surface\",\"colorbar\":{\"outlinewidth\":0,\"ticks\":\"\"},\"colorscale\":[[0.0,\"#0d0887\"],[0.1111111111111111,\"#46039f\"],[0.2222222222222222,\"#7201a8\"],[0.3333333333333333,\"#9c179e\"],[0.4444444444444444,\"#bd3786\"],[0.5555555555555556,\"#d8576b\"],[0.6666666666666666,\"#ed7953\"],[0.7777777777777778,\"#fb9f3a\"],[0.8888888888888888,\"#fdca26\"],[1.0,\"#f0f921\"]]}],\"mesh3d\":[{\"type\":\"mesh3d\",\"colorbar\":{\"outlinewidth\":0,\"ticks\":\"\"}}],\"scatter\":[{\"fillpattern\":{\"fillmode\":\"overlay\",\"size\":10,\"solidity\":0.2},\"type\":\"scatter\"}],\"parcoords\":[{\"type\":\"parcoords\",\"line\":{\"colorbar\":{\"outlinewidth\":0,\"ticks\":\"\"}}}],\"scatterpolargl\":[{\"type\":\"scatterpolargl\",\"marker\":{\"colorbar\":{\"outlinewidth\":0,\"ticks\":\"\"}}}],\"bar\":[{\"error_x\":{\"color\":\"#2a3f5f\"},\"error_y\":{\"color\":\"#2a3f5f\"},\"marker\":{\"line\":{\"color\":\"#E5ECF6\",\"width\":0.5},\"pattern\":{\"fillmode\":\"overlay\",\"size\":10,\"solidity\":0.2}},\"type\":\"bar\"}],\"scattergeo\":[{\"type\":\"scattergeo\",\"marker\":{\"colorbar\":{\"outlinewidth\":0,\"ticks\":\"\"}}}],\"scatterpolar\":[{\"type\":\"scatterpolar\",\"marker\":{\"colorbar\":{\"outlinewidth\":0,\"ticks\":\"\"}}}],\"histogram\":[{\"marker\":{\"pattern\":{\"fillmode\":\"overlay\",\"size\":10,\"solidity\":0.2}},\"type\":\"histogram\"}],\"scattergl\":[{\"type\":\"scattergl\",\"marker\":{\"colorbar\":{\"outlinewidth\":0,\"ticks\":\"\"}}}],\"scatter3d\":[{\"type\":\"scatter3d\",\"line\":{\"colorbar\":{\"outlinewidth\":0,\"ticks\":\"\"}},\"marker\":{\"colorbar\":{\"outlinewidth\":0,\"ticks\":\"\"}}}],\"scattermapbox\":[{\"type\":\"scattermapbox\",\"marker\":{\"colorbar\":{\"outlinewidth\":0,\"ticks\":\"\"}}}],\"scatterternary\":[{\"type\":\"scatterternary\",\"marker\":{\"colorbar\":{\"outlinewidth\":0,\"ticks\":\"\"}}}],\"scattercarpet\":[{\"type\":\"scattercarpet\",\"marker\":{\"colorbar\":{\"outlinewidth\":0,\"ticks\":\"\"}}}],\"carpet\":[{\"aaxis\":{\"endlinecolor\":\"#2a3f5f\",\"gridcolor\":\"white\",\"linecolor\":\"white\",\"minorgridcolor\":\"white\",\"startlinecolor\":\"#2a3f5f\"},\"baxis\":{\"endlinecolor\":\"#2a3f5f\",\"gridcolor\":\"white\",\"linecolor\":\"white\",\"minorgridcolor\":\"white\",\"startlinecolor\":\"#2a3f5f\"},\"type\":\"carpet\"}],\"table\":[{\"cells\":{\"fill\":{\"color\":\"#EBF0F8\"},\"line\":{\"color\":\"white\"}},\"header\":{\"fill\":{\"color\":\"#C8D4E3\"},\"line\":{\"color\":\"white\"}},\"type\":\"table\"}],\"barpolar\":[{\"marker\":{\"line\":{\"color\":\"#E5ECF6\",\"width\":0.5},\"pattern\":{\"fillmode\":\"overlay\",\"size\":10,\"solidity\":0.2}},\"type\":\"barpolar\"}],\"pie\":[{\"automargin\":true,\"type\":\"pie\"}]},\"layout\":{\"autotypenumbers\":\"strict\",\"colorway\":[\"#636efa\",\"#EF553B\",\"#00cc96\",\"#ab63fa\",\"#FFA15A\",\"#19d3f3\",\"#FF6692\",\"#B6E880\",\"#FF97FF\",\"#FECB52\"],\"font\":{\"color\":\"#2a3f5f\"},\"hovermode\":\"closest\",\"hoverlabel\":{\"align\":\"left\"},\"paper_bgcolor\":\"white\",\"plot_bgcolor\":\"#E5ECF6\",\"polar\":{\"bgcolor\":\"#E5ECF6\",\"angularaxis\":{\"gridcolor\":\"white\",\"linecolor\":\"white\",\"ticks\":\"\"},\"radialaxis\":{\"gridcolor\":\"white\",\"linecolor\":\"white\",\"ticks\":\"\"}},\"ternary\":{\"bgcolor\":\"#E5ECF6\",\"aaxis\":{\"gridcolor\":\"white\",\"linecolor\":\"white\",\"ticks\":\"\"},\"baxis\":{\"gridcolor\":\"white\",\"linecolor\":\"white\",\"ticks\":\"\"},\"caxis\":{\"gridcolor\":\"white\",\"linecolor\":\"white\",\"ticks\":\"\"}},\"coloraxis\":{\"colorbar\":{\"outlinewidth\":0,\"ticks\":\"\"}},\"colorscale\":{\"sequential\":[[0.0,\"#0d0887\"],[0.1111111111111111,\"#46039f\"],[0.2222222222222222,\"#7201a8\"],[0.3333333333333333,\"#9c179e\"],[0.4444444444444444,\"#bd3786\"],[0.5555555555555556,\"#d8576b\"],[0.6666666666666666,\"#ed7953\"],[0.7777777777777778,\"#fb9f3a\"],[0.8888888888888888,\"#fdca26\"],[1.0,\"#f0f921\"]],\"sequentialminus\":[[0.0,\"#0d0887\"],[0.1111111111111111,\"#46039f\"],[0.2222222222222222,\"#7201a8\"],[0.3333333333333333,\"#9c179e\"],[0.4444444444444444,\"#bd3786\"],[0.5555555555555556,\"#d8576b\"],[0.6666666666666666,\"#ed7953\"],[0.7777777777777778,\"#fb9f3a\"],[0.8888888888888888,\"#fdca26\"],[1.0,\"#f0f921\"]],\"diverging\":[[0,\"#8e0152\"],[0.1,\"#c51b7d\"],[0.2,\"#de77ae\"],[0.3,\"#f1b6da\"],[0.4,\"#fde0ef\"],[0.5,\"#f7f7f7\"],[0.6,\"#e6f5d0\"],[0.7,\"#b8e186\"],[0.8,\"#7fbc41\"],[0.9,\"#4d9221\"],[1,\"#276419\"]]},\"xaxis\":{\"gridcolor\":\"white\",\"linecolor\":\"white\",\"ticks\":\"\",\"title\":{\"standoff\":15},\"zerolinecolor\":\"white\",\"automargin\":true,\"zerolinewidth\":2},\"yaxis\":{\"gridcolor\":\"white\",\"linecolor\":\"white\",\"ticks\":\"\",\"title\":{\"standoff\":15},\"zerolinecolor\":\"white\",\"automargin\":true,\"zerolinewidth\":2},\"scene\":{\"xaxis\":{\"backgroundcolor\":\"#E5ECF6\",\"gridcolor\":\"white\",\"linecolor\":\"white\",\"showbackground\":true,\"ticks\":\"\",\"zerolinecolor\":\"white\",\"gridwidth\":2},\"yaxis\":{\"backgroundcolor\":\"#E5ECF6\",\"gridcolor\":\"white\",\"linecolor\":\"white\",\"showbackground\":true,\"ticks\":\"\",\"zerolinecolor\":\"white\",\"gridwidth\":2},\"zaxis\":{\"backgroundcolor\":\"#E5ECF6\",\"gridcolor\":\"white\",\"linecolor\":\"white\",\"showbackground\":true,\"ticks\":\"\",\"zerolinecolor\":\"white\",\"gridwidth\":2}},\"shapedefaults\":{\"line\":{\"color\":\"#2a3f5f\"}},\"annotationdefaults\":{\"arrowcolor\":\"#2a3f5f\",\"arrowhead\":0,\"arrowwidth\":1},\"geo\":{\"bgcolor\":\"white\",\"landcolor\":\"#E5ECF6\",\"subunitcolor\":\"white\",\"showland\":true,\"showlakes\":true,\"lakecolor\":\"white\"},\"title\":{\"x\":0.05},\"mapbox\":{\"style\":\"light\"}}},\"xaxis\":{\"anchor\":\"y\",\"domain\":[0.0,1.0],\"title\":{\"text\":\"Order Month\"}},\"yaxis\":{\"anchor\":\"x\",\"domain\":[0.0,1.0],\"title\":{\"text\":\"Sales\"}},\"legend\":{\"tracegroupgap\":0},\"title\":{\"text\":\"monthly sales analysis\"}},                        {\"responsive\": true}                    ).then(function(){\n",
       "                            \n",
       "var gd = document.getElementById('eb979f37-5695-4c91-8466-75a212964931');\n",
       "var x = new MutationObserver(function (mutations, observer) {{\n",
       "        var display = window.getComputedStyle(gd).display;\n",
       "        if (!display || display === 'none') {{\n",
       "            console.log([gd, 'removed!']);\n",
       "            Plotly.purge(gd);\n",
       "            observer.disconnect();\n",
       "        }}\n",
       "}});\n",
       "\n",
       "// Listen for the removal of the full notebook cells\n",
       "var notebookContainer = gd.closest('#notebook-container');\n",
       "if (notebookContainer) {{\n",
       "    x.observe(notebookContainer, {childList: true});\n",
       "}}\n",
       "\n",
       "// Listen for the clearing of the current output cell\n",
       "var outputEl = gd.closest('.output');\n",
       "if (outputEl) {{\n",
       "    x.observe(outputEl, {childList: true});\n",
       "}}\n",
       "\n",
       "                        })                };                });            </script>        </div>"
      ]
     },
     "metadata": {},
     "output_type": "display_data"
    }
   ],
   "source": [
    "sales_by_month=data.groupby('Order Month')['Sales'].sum().reset_index()\n",
    "fig=px.line(sales_by_month, x='Order Month', y='Sales', title=\"monthly sales analysis\", )\n",
    "fig.show()"
   ]
  },
  {
   "cell_type": "code",
   "execution_count": 27,
   "id": "5c40f967-ec0e-4466-b434-a5f3994b9b76",
   "metadata": {},
   "outputs": [
    {
     "data": {
      "text/html": [
       "<div>\n",
       "<style scoped>\n",
       "    .dataframe tbody tr th:only-of-type {\n",
       "        vertical-align: middle;\n",
       "    }\n",
       "\n",
       "    .dataframe tbody tr th {\n",
       "        vertical-align: top;\n",
       "    }\n",
       "\n",
       "    .dataframe thead th {\n",
       "        text-align: right;\n",
       "    }\n",
       "</style>\n",
       "<table border=\"1\" class=\"dataframe\">\n",
       "  <thead>\n",
       "    <tr style=\"text-align: right;\">\n",
       "      <th></th>\n",
       "      <th>Row ID</th>\n",
       "      <th>Order ID</th>\n",
       "      <th>Order Date</th>\n",
       "      <th>Ship Date</th>\n",
       "      <th>Ship Mode</th>\n",
       "      <th>Customer ID</th>\n",
       "      <th>Customer Name</th>\n",
       "      <th>Segment</th>\n",
       "      <th>Country</th>\n",
       "      <th>City</th>\n",
       "      <th>...</th>\n",
       "      <th>Category</th>\n",
       "      <th>Sub-Category</th>\n",
       "      <th>Product Name</th>\n",
       "      <th>Sales</th>\n",
       "      <th>Quantity</th>\n",
       "      <th>Discount</th>\n",
       "      <th>Profit</th>\n",
       "      <th>Order Month</th>\n",
       "      <th>Order Year</th>\n",
       "      <th>Order Day</th>\n",
       "    </tr>\n",
       "  </thead>\n",
       "  <tbody>\n",
       "    <tr>\n",
       "      <th>0</th>\n",
       "      <td>1</td>\n",
       "      <td>CA-2016-152156</td>\n",
       "      <td>2016-08-11</td>\n",
       "      <td>2016-11-11</td>\n",
       "      <td>Second Class</td>\n",
       "      <td>CG-12520</td>\n",
       "      <td>Claire Gute</td>\n",
       "      <td>Consumer</td>\n",
       "      <td>United States</td>\n",
       "      <td>Henderson</td>\n",
       "      <td>...</td>\n",
       "      <td>Furniture</td>\n",
       "      <td>Bookcases</td>\n",
       "      <td>Bush Somerset Collection Bookcase</td>\n",
       "      <td>261.9600</td>\n",
       "      <td>2</td>\n",
       "      <td>0.00</td>\n",
       "      <td>41.9136</td>\n",
       "      <td>8</td>\n",
       "      <td>2016</td>\n",
       "      <td>3</td>\n",
       "    </tr>\n",
       "    <tr>\n",
       "      <th>1</th>\n",
       "      <td>2</td>\n",
       "      <td>CA-2016-152156</td>\n",
       "      <td>2016-08-11</td>\n",
       "      <td>2016-11-11</td>\n",
       "      <td>Second Class</td>\n",
       "      <td>CG-12520</td>\n",
       "      <td>Claire Gute</td>\n",
       "      <td>Consumer</td>\n",
       "      <td>United States</td>\n",
       "      <td>Henderson</td>\n",
       "      <td>...</td>\n",
       "      <td>Furniture</td>\n",
       "      <td>Chairs</td>\n",
       "      <td>Hon Deluxe Fabric Upholstered Stacking Chairs,...</td>\n",
       "      <td>731.9400</td>\n",
       "      <td>3</td>\n",
       "      <td>0.00</td>\n",
       "      <td>219.5820</td>\n",
       "      <td>8</td>\n",
       "      <td>2016</td>\n",
       "      <td>3</td>\n",
       "    </tr>\n",
       "    <tr>\n",
       "      <th>2</th>\n",
       "      <td>3</td>\n",
       "      <td>CA-2016-138688</td>\n",
       "      <td>2016-12-06</td>\n",
       "      <td>2016-06-16</td>\n",
       "      <td>Second Class</td>\n",
       "      <td>DV-13045</td>\n",
       "      <td>Darrin Van Huff</td>\n",
       "      <td>Corporate</td>\n",
       "      <td>United States</td>\n",
       "      <td>Los Angeles</td>\n",
       "      <td>...</td>\n",
       "      <td>Office Supplies</td>\n",
       "      <td>Labels</td>\n",
       "      <td>Self-Adhesive Address Labels for Typewriters b...</td>\n",
       "      <td>14.6200</td>\n",
       "      <td>2</td>\n",
       "      <td>0.00</td>\n",
       "      <td>6.8714</td>\n",
       "      <td>12</td>\n",
       "      <td>2016</td>\n",
       "      <td>1</td>\n",
       "    </tr>\n",
       "    <tr>\n",
       "      <th>3</th>\n",
       "      <td>4</td>\n",
       "      <td>US-2015-108966</td>\n",
       "      <td>2015-11-10</td>\n",
       "      <td>2015-10-18</td>\n",
       "      <td>Standard Class</td>\n",
       "      <td>SO-20335</td>\n",
       "      <td>Sean O'Donnell</td>\n",
       "      <td>Consumer</td>\n",
       "      <td>United States</td>\n",
       "      <td>Fort Lauderdale</td>\n",
       "      <td>...</td>\n",
       "      <td>Furniture</td>\n",
       "      <td>Tables</td>\n",
       "      <td>Bretford CR4500 Series Slim Rectangular Table</td>\n",
       "      <td>957.5775</td>\n",
       "      <td>5</td>\n",
       "      <td>0.45</td>\n",
       "      <td>-383.0310</td>\n",
       "      <td>11</td>\n",
       "      <td>2015</td>\n",
       "      <td>1</td>\n",
       "    </tr>\n",
       "    <tr>\n",
       "      <th>4</th>\n",
       "      <td>5</td>\n",
       "      <td>US-2015-108966</td>\n",
       "      <td>2015-11-10</td>\n",
       "      <td>2015-10-18</td>\n",
       "      <td>Standard Class</td>\n",
       "      <td>SO-20335</td>\n",
       "      <td>Sean O'Donnell</td>\n",
       "      <td>Consumer</td>\n",
       "      <td>United States</td>\n",
       "      <td>Fort Lauderdale</td>\n",
       "      <td>...</td>\n",
       "      <td>Office Supplies</td>\n",
       "      <td>Storage</td>\n",
       "      <td>Eldon Fold 'N Roll Cart System</td>\n",
       "      <td>22.3680</td>\n",
       "      <td>2</td>\n",
       "      <td>0.20</td>\n",
       "      <td>2.5164</td>\n",
       "      <td>11</td>\n",
       "      <td>2015</td>\n",
       "      <td>1</td>\n",
       "    </tr>\n",
       "  </tbody>\n",
       "</table>\n",
       "<p>5 rows × 24 columns</p>\n",
       "</div>"
      ],
      "text/plain": [
       "   Row ID        Order ID Order Date  Ship Date       Ship Mode Customer ID  \\\n",
       "0       1  CA-2016-152156 2016-08-11 2016-11-11    Second Class    CG-12520   \n",
       "1       2  CA-2016-152156 2016-08-11 2016-11-11    Second Class    CG-12520   \n",
       "2       3  CA-2016-138688 2016-12-06 2016-06-16    Second Class    DV-13045   \n",
       "3       4  US-2015-108966 2015-11-10 2015-10-18  Standard Class    SO-20335   \n",
       "4       5  US-2015-108966 2015-11-10 2015-10-18  Standard Class    SO-20335   \n",
       "\n",
       "     Customer Name    Segment        Country             City  ...  \\\n",
       "0      Claire Gute   Consumer  United States        Henderson  ...   \n",
       "1      Claire Gute   Consumer  United States        Henderson  ...   \n",
       "2  Darrin Van Huff  Corporate  United States      Los Angeles  ...   \n",
       "3   Sean O'Donnell   Consumer  United States  Fort Lauderdale  ...   \n",
       "4   Sean O'Donnell   Consumer  United States  Fort Lauderdale  ...   \n",
       "\n",
       "          Category  Sub-Category  \\\n",
       "0        Furniture     Bookcases   \n",
       "1        Furniture        Chairs   \n",
       "2  Office Supplies        Labels   \n",
       "3        Furniture        Tables   \n",
       "4  Office Supplies       Storage   \n",
       "\n",
       "                                        Product Name     Sales Quantity  \\\n",
       "0                  Bush Somerset Collection Bookcase  261.9600        2   \n",
       "1  Hon Deluxe Fabric Upholstered Stacking Chairs,...  731.9400        3   \n",
       "2  Self-Adhesive Address Labels for Typewriters b...   14.6200        2   \n",
       "3      Bretford CR4500 Series Slim Rectangular Table  957.5775        5   \n",
       "4                     Eldon Fold 'N Roll Cart System   22.3680        2   \n",
       "\n",
       "  Discount    Profit  Order Month  Order Year  Order Day  \n",
       "0     0.00   41.9136            8        2016          3  \n",
       "1     0.00  219.5820            8        2016          3  \n",
       "2     0.00    6.8714           12        2016          1  \n",
       "3     0.45 -383.0310           11        2015          1  \n",
       "4     0.20    2.5164           11        2015          1  \n",
       "\n",
       "[5 rows x 24 columns]"
      ]
     },
     "execution_count": 27,
     "metadata": {},
     "output_type": "execute_result"
    }
   ],
   "source": [
    "data.head()"
   ]
  },
  {
   "cell_type": "code",
   "execution_count": 43,
   "id": "bcdd0310-00a8-4224-803e-049c93140c8e",
   "metadata": {},
   "outputs": [
    {
     "data": {
      "application/vnd.plotly.v1+json": {
       "config": {
        "plotlyServerURL": "https://plot.ly"
       },
       "data": [
        {
         "domain": {
          "x": [
           0,
           1
          ],
          "y": [
           0,
           1
          ]
         },
         "hole": 0.5,
         "hovertemplate": "Category=%{label}<br>Sales=%{value}<extra></extra>",
         "labels": [
          "Furniture",
          "Office Supplies",
          "Technology"
         ],
         "legendgroup": "",
         "name": "",
         "showlegend": true,
         "textinfo": "percent+label",
         "textposition": "inside",
         "type": "pie",
         "values": [
          741999.7953,
          719047.032,
          836154.033
         ]
        }
       ],
       "layout": {
        "autosize": true,
        "legend": {
         "tracegroupgap": 0
        },
        "margin": {
         "t": 60
        },
        "piecolorway": [
         "rgb(102, 197, 204)",
         "rgb(246, 207, 113)",
         "rgb(248, 156, 116)",
         "rgb(220, 176, 242)",
         "rgb(135, 197, 95)",
         "rgb(158, 185, 243)",
         "rgb(254, 136, 177)",
         "rgb(201, 219, 116)",
         "rgb(139, 224, 164)",
         "rgb(180, 151, 231)",
         "rgb(179, 179, 179)"
        ],
        "template": {
         "data": {
          "bar": [
           {
            "error_x": {
             "color": "#2a3f5f"
            },
            "error_y": {
             "color": "#2a3f5f"
            },
            "marker": {
             "line": {
              "color": "#E5ECF6",
              "width": 0.5
             },
             "pattern": {
              "fillmode": "overlay",
              "size": 10,
              "solidity": 0.2
             }
            },
            "type": "bar"
           }
          ],
          "barpolar": [
           {
            "marker": {
             "line": {
              "color": "#E5ECF6",
              "width": 0.5
             },
             "pattern": {
              "fillmode": "overlay",
              "size": 10,
              "solidity": 0.2
             }
            },
            "type": "barpolar"
           }
          ],
          "carpet": [
           {
            "aaxis": {
             "endlinecolor": "#2a3f5f",
             "gridcolor": "white",
             "linecolor": "white",
             "minorgridcolor": "white",
             "startlinecolor": "#2a3f5f"
            },
            "baxis": {
             "endlinecolor": "#2a3f5f",
             "gridcolor": "white",
             "linecolor": "white",
             "minorgridcolor": "white",
             "startlinecolor": "#2a3f5f"
            },
            "type": "carpet"
           }
          ],
          "choropleth": [
           {
            "colorbar": {
             "outlinewidth": 0,
             "ticks": ""
            },
            "type": "choropleth"
           }
          ],
          "contour": [
           {
            "colorbar": {
             "outlinewidth": 0,
             "ticks": ""
            },
            "colorscale": [
             [
              0,
              "#0d0887"
             ],
             [
              0.1111111111111111,
              "#46039f"
             ],
             [
              0.2222222222222222,
              "#7201a8"
             ],
             [
              0.3333333333333333,
              "#9c179e"
             ],
             [
              0.4444444444444444,
              "#bd3786"
             ],
             [
              0.5555555555555556,
              "#d8576b"
             ],
             [
              0.6666666666666666,
              "#ed7953"
             ],
             [
              0.7777777777777778,
              "#fb9f3a"
             ],
             [
              0.8888888888888888,
              "#fdca26"
             ],
             [
              1,
              "#f0f921"
             ]
            ],
            "type": "contour"
           }
          ],
          "contourcarpet": [
           {
            "colorbar": {
             "outlinewidth": 0,
             "ticks": ""
            },
            "type": "contourcarpet"
           }
          ],
          "heatmap": [
           {
            "colorbar": {
             "outlinewidth": 0,
             "ticks": ""
            },
            "colorscale": [
             [
              0,
              "#0d0887"
             ],
             [
              0.1111111111111111,
              "#46039f"
             ],
             [
              0.2222222222222222,
              "#7201a8"
             ],
             [
              0.3333333333333333,
              "#9c179e"
             ],
             [
              0.4444444444444444,
              "#bd3786"
             ],
             [
              0.5555555555555556,
              "#d8576b"
             ],
             [
              0.6666666666666666,
              "#ed7953"
             ],
             [
              0.7777777777777778,
              "#fb9f3a"
             ],
             [
              0.8888888888888888,
              "#fdca26"
             ],
             [
              1,
              "#f0f921"
             ]
            ],
            "type": "heatmap"
           }
          ],
          "heatmapgl": [
           {
            "colorbar": {
             "outlinewidth": 0,
             "ticks": ""
            },
            "colorscale": [
             [
              0,
              "#0d0887"
             ],
             [
              0.1111111111111111,
              "#46039f"
             ],
             [
              0.2222222222222222,
              "#7201a8"
             ],
             [
              0.3333333333333333,
              "#9c179e"
             ],
             [
              0.4444444444444444,
              "#bd3786"
             ],
             [
              0.5555555555555556,
              "#d8576b"
             ],
             [
              0.6666666666666666,
              "#ed7953"
             ],
             [
              0.7777777777777778,
              "#fb9f3a"
             ],
             [
              0.8888888888888888,
              "#fdca26"
             ],
             [
              1,
              "#f0f921"
             ]
            ],
            "type": "heatmapgl"
           }
          ],
          "histogram": [
           {
            "marker": {
             "pattern": {
              "fillmode": "overlay",
              "size": 10,
              "solidity": 0.2
             }
            },
            "type": "histogram"
           }
          ],
          "histogram2d": [
           {
            "colorbar": {
             "outlinewidth": 0,
             "ticks": ""
            },
            "colorscale": [
             [
              0,
              "#0d0887"
             ],
             [
              0.1111111111111111,
              "#46039f"
             ],
             [
              0.2222222222222222,
              "#7201a8"
             ],
             [
              0.3333333333333333,
              "#9c179e"
             ],
             [
              0.4444444444444444,
              "#bd3786"
             ],
             [
              0.5555555555555556,
              "#d8576b"
             ],
             [
              0.6666666666666666,
              "#ed7953"
             ],
             [
              0.7777777777777778,
              "#fb9f3a"
             ],
             [
              0.8888888888888888,
              "#fdca26"
             ],
             [
              1,
              "#f0f921"
             ]
            ],
            "type": "histogram2d"
           }
          ],
          "histogram2dcontour": [
           {
            "colorbar": {
             "outlinewidth": 0,
             "ticks": ""
            },
            "colorscale": [
             [
              0,
              "#0d0887"
             ],
             [
              0.1111111111111111,
              "#46039f"
             ],
             [
              0.2222222222222222,
              "#7201a8"
             ],
             [
              0.3333333333333333,
              "#9c179e"
             ],
             [
              0.4444444444444444,
              "#bd3786"
             ],
             [
              0.5555555555555556,
              "#d8576b"
             ],
             [
              0.6666666666666666,
              "#ed7953"
             ],
             [
              0.7777777777777778,
              "#fb9f3a"
             ],
             [
              0.8888888888888888,
              "#fdca26"
             ],
             [
              1,
              "#f0f921"
             ]
            ],
            "type": "histogram2dcontour"
           }
          ],
          "mesh3d": [
           {
            "colorbar": {
             "outlinewidth": 0,
             "ticks": ""
            },
            "type": "mesh3d"
           }
          ],
          "parcoords": [
           {
            "line": {
             "colorbar": {
              "outlinewidth": 0,
              "ticks": ""
             }
            },
            "type": "parcoords"
           }
          ],
          "pie": [
           {
            "automargin": true,
            "type": "pie"
           }
          ],
          "scatter": [
           {
            "fillpattern": {
             "fillmode": "overlay",
             "size": 10,
             "solidity": 0.2
            },
            "type": "scatter"
           }
          ],
          "scatter3d": [
           {
            "line": {
             "colorbar": {
              "outlinewidth": 0,
              "ticks": ""
             }
            },
            "marker": {
             "colorbar": {
              "outlinewidth": 0,
              "ticks": ""
             }
            },
            "type": "scatter3d"
           }
          ],
          "scattercarpet": [
           {
            "marker": {
             "colorbar": {
              "outlinewidth": 0,
              "ticks": ""
             }
            },
            "type": "scattercarpet"
           }
          ],
          "scattergeo": [
           {
            "marker": {
             "colorbar": {
              "outlinewidth": 0,
              "ticks": ""
             }
            },
            "type": "scattergeo"
           }
          ],
          "scattergl": [
           {
            "marker": {
             "colorbar": {
              "outlinewidth": 0,
              "ticks": ""
             }
            },
            "type": "scattergl"
           }
          ],
          "scattermapbox": [
           {
            "marker": {
             "colorbar": {
              "outlinewidth": 0,
              "ticks": ""
             }
            },
            "type": "scattermapbox"
           }
          ],
          "scatterpolar": [
           {
            "marker": {
             "colorbar": {
              "outlinewidth": 0,
              "ticks": ""
             }
            },
            "type": "scatterpolar"
           }
          ],
          "scatterpolargl": [
           {
            "marker": {
             "colorbar": {
              "outlinewidth": 0,
              "ticks": ""
             }
            },
            "type": "scatterpolargl"
           }
          ],
          "scatterternary": [
           {
            "marker": {
             "colorbar": {
              "outlinewidth": 0,
              "ticks": ""
             }
            },
            "type": "scatterternary"
           }
          ],
          "surface": [
           {
            "colorbar": {
             "outlinewidth": 0,
             "ticks": ""
            },
            "colorscale": [
             [
              0,
              "#0d0887"
             ],
             [
              0.1111111111111111,
              "#46039f"
             ],
             [
              0.2222222222222222,
              "#7201a8"
             ],
             [
              0.3333333333333333,
              "#9c179e"
             ],
             [
              0.4444444444444444,
              "#bd3786"
             ],
             [
              0.5555555555555556,
              "#d8576b"
             ],
             [
              0.6666666666666666,
              "#ed7953"
             ],
             [
              0.7777777777777778,
              "#fb9f3a"
             ],
             [
              0.8888888888888888,
              "#fdca26"
             ],
             [
              1,
              "#f0f921"
             ]
            ],
            "type": "surface"
           }
          ],
          "table": [
           {
            "cells": {
             "fill": {
              "color": "#EBF0F8"
             },
             "line": {
              "color": "white"
             }
            },
            "header": {
             "fill": {
              "color": "#C8D4E3"
             },
             "line": {
              "color": "white"
             }
            },
            "type": "table"
           }
          ]
         },
         "layout": {
          "annotationdefaults": {
           "arrowcolor": "#2a3f5f",
           "arrowhead": 0,
           "arrowwidth": 1
          },
          "autotypenumbers": "strict",
          "coloraxis": {
           "colorbar": {
            "outlinewidth": 0,
            "ticks": ""
           }
          },
          "colorscale": {
           "diverging": [
            [
             0,
             "#8e0152"
            ],
            [
             0.1,
             "#c51b7d"
            ],
            [
             0.2,
             "#de77ae"
            ],
            [
             0.3,
             "#f1b6da"
            ],
            [
             0.4,
             "#fde0ef"
            ],
            [
             0.5,
             "#f7f7f7"
            ],
            [
             0.6,
             "#e6f5d0"
            ],
            [
             0.7,
             "#b8e186"
            ],
            [
             0.8,
             "#7fbc41"
            ],
            [
             0.9,
             "#4d9221"
            ],
            [
             1,
             "#276419"
            ]
           ],
           "sequential": [
            [
             0,
             "#0d0887"
            ],
            [
             0.1111111111111111,
             "#46039f"
            ],
            [
             0.2222222222222222,
             "#7201a8"
            ],
            [
             0.3333333333333333,
             "#9c179e"
            ],
            [
             0.4444444444444444,
             "#bd3786"
            ],
            [
             0.5555555555555556,
             "#d8576b"
            ],
            [
             0.6666666666666666,
             "#ed7953"
            ],
            [
             0.7777777777777778,
             "#fb9f3a"
            ],
            [
             0.8888888888888888,
             "#fdca26"
            ],
            [
             1,
             "#f0f921"
            ]
           ],
           "sequentialminus": [
            [
             0,
             "#0d0887"
            ],
            [
             0.1111111111111111,
             "#46039f"
            ],
            [
             0.2222222222222222,
             "#7201a8"
            ],
            [
             0.3333333333333333,
             "#9c179e"
            ],
            [
             0.4444444444444444,
             "#bd3786"
            ],
            [
             0.5555555555555556,
             "#d8576b"
            ],
            [
             0.6666666666666666,
             "#ed7953"
            ],
            [
             0.7777777777777778,
             "#fb9f3a"
            ],
            [
             0.8888888888888888,
             "#fdca26"
            ],
            [
             1,
             "#f0f921"
            ]
           ]
          },
          "colorway": [
           "#636efa",
           "#EF553B",
           "#00cc96",
           "#ab63fa",
           "#FFA15A",
           "#19d3f3",
           "#FF6692",
           "#B6E880",
           "#FF97FF",
           "#FECB52"
          ],
          "font": {
           "color": "#2a3f5f"
          },
          "geo": {
           "bgcolor": "white",
           "lakecolor": "white",
           "landcolor": "#E5ECF6",
           "showlakes": true,
           "showland": true,
           "subunitcolor": "white"
          },
          "hoverlabel": {
           "align": "left"
          },
          "hovermode": "closest",
          "mapbox": {
           "style": "light"
          },
          "paper_bgcolor": "white",
          "plot_bgcolor": "#E5ECF6",
          "polar": {
           "angularaxis": {
            "gridcolor": "white",
            "linecolor": "white",
            "ticks": ""
           },
           "bgcolor": "#E5ECF6",
           "radialaxis": {
            "gridcolor": "white",
            "linecolor": "white",
            "ticks": ""
           }
          },
          "scene": {
           "xaxis": {
            "backgroundcolor": "#E5ECF6",
            "gridcolor": "white",
            "gridwidth": 2,
            "linecolor": "white",
            "showbackground": true,
            "ticks": "",
            "zerolinecolor": "white"
           },
           "yaxis": {
            "backgroundcolor": "#E5ECF6",
            "gridcolor": "white",
            "gridwidth": 2,
            "linecolor": "white",
            "showbackground": true,
            "ticks": "",
            "zerolinecolor": "white"
           },
           "zaxis": {
            "backgroundcolor": "#E5ECF6",
            "gridcolor": "white",
            "gridwidth": 2,
            "linecolor": "white",
            "showbackground": true,
            "ticks": "",
            "zerolinecolor": "white"
           }
          },
          "shapedefaults": {
           "line": {
            "color": "#2a3f5f"
           }
          },
          "ternary": {
           "aaxis": {
            "gridcolor": "white",
            "linecolor": "white",
            "ticks": ""
           },
           "baxis": {
            "gridcolor": "white",
            "linecolor": "white",
            "ticks": ""
           },
           "bgcolor": "#E5ECF6",
           "caxis": {
            "gridcolor": "white",
            "linecolor": "white",
            "ticks": ""
           }
          },
          "title": {
           "x": 0.05
          },
          "xaxis": {
           "automargin": true,
           "gridcolor": "white",
           "linecolor": "white",
           "ticks": "",
           "title": {
            "standoff": 15
           },
           "zerolinecolor": "white",
           "zerolinewidth": 2
          },
          "yaxis": {
           "automargin": true,
           "gridcolor": "white",
           "linecolor": "white",
           "ticks": "",
           "title": {
            "standoff": 15
           },
           "zerolinecolor": "white",
           "zerolinewidth": 2
          }
         }
        },
        "title": {
         "font": {
          "size": 24
         },
         "text": "sales analysis by category"
        }
       }
      },
      "image/png": "[encoded data removed]",
      "text/html": [
       "<div>                            <div id=\"a9b6d10b-d1cd-4c8f-9447-bc48ae88f018\" class=\"plotly-graph-div\" style=\"height:525px; width:100%;\"></div>            <script type=\"text/javascript\">                require([\"plotly\"], function(Plotly) {                    window.PLOTLYENV=window.PLOTLYENV || {};                                    if (document.getElementById(\"a9b6d10b-d1cd-4c8f-9447-bc48ae88f018\")) {                    Plotly.newPlot(                        \"a9b6d10b-d1cd-4c8f-9447-bc48ae88f018\",                        [{\"domain\":{\"x\":[0.0,1.0],\"y\":[0.0,1.0]},\"hole\":0.5,\"hovertemplate\":\"Category=%{label}\\u003cbr\\u003eSales=%{value}\\u003cextra\\u003e\\u003c\\u002fextra\\u003e\",\"labels\":[\"Furniture\",\"Office Supplies\",\"Technology\"],\"legendgroup\":\"\",\"name\":\"\",\"showlegend\":true,\"values\":[741999.7953,719047.032,836154.033],\"type\":\"pie\",\"textinfo\":\"percent+label\",\"textposition\":\"inside\"}],                        {\"template\":{\"data\":{\"histogram2dcontour\":[{\"type\":\"histogram2dcontour\",\"colorbar\":{\"outlinewidth\":0,\"ticks\":\"\"},\"colorscale\":[[0.0,\"#0d0887\"],[0.1111111111111111,\"#46039f\"],[0.2222222222222222,\"#7201a8\"],[0.3333333333333333,\"#9c179e\"],[0.4444444444444444,\"#bd3786\"],[0.5555555555555556,\"#d8576b\"],[0.6666666666666666,\"#ed7953\"],[0.7777777777777778,\"#fb9f3a\"],[0.8888888888888888,\"#fdca26\"],[1.0,\"#f0f921\"]]}],\"choropleth\":[{\"type\":\"choropleth\",\"colorbar\":{\"outlinewidth\":0,\"ticks\":\"\"}}],\"histogram2d\":[{\"type\":\"histogram2d\",\"colorbar\":{\"outlinewidth\":0,\"ticks\":\"\"},\"colorscale\":[[0.0,\"#0d0887\"],[0.1111111111111111,\"#46039f\"],[0.2222222222222222,\"#7201a8\"],[0.3333333333333333,\"#9c179e\"],[0.4444444444444444,\"#bd3786\"],[0.5555555555555556,\"#d8576b\"],[0.6666666666666666,\"#ed7953\"],[0.7777777777777778,\"#fb9f3a\"],[0.8888888888888888,\"#fdca26\"],[1.0,\"#f0f921\"]]}],\"heatmap\":[{\"type\":\"heatmap\",\"colorbar\":{\"outlinewidth\":0,\"ticks\":\"\"},\"colorscale\":[[0.0,\"#0d0887\"],[0.1111111111111111,\"#46039f\"],[0.2222222222222222,\"#7201a8\"],[0.3333333333333333,\"#9c179e\"],[0.4444444444444444,\"#bd3786\"],[0.5555555555555556,\"#d8576b\"],[0.6666666666666666,\"#ed7953\"],[0.7777777777777778,\"#fb9f3a\"],[0.8888888888888888,\"#fdca26\"],[1.0,\"#f0f921\"]]}],\"heatmapgl\":[{\"type\":\"heatmapgl\",\"colorbar\":{\"outlinewidth\":0,\"ticks\":\"\"},\"colorscale\":[[0.0,\"#0d0887\"],[0.1111111111111111,\"#46039f\"],[0.2222222222222222,\"#7201a8\"],[0.3333333333333333,\"#9c179e\"],[0.4444444444444444,\"#bd3786\"],[0.5555555555555556,\"#d8576b\"],[0.6666666666666666,\"#ed7953\"],[0.7777777777777778,\"#fb9f3a\"],[0.8888888888888888,\"#fdca26\"],[1.0,\"#f0f921\"]]}],\"contourcarpet\":[{\"type\":\"contourcarpet\",\"colorbar\":{\"outlinewidth\":0,\"ticks\":\"\"}}],\"contour\":[{\"type\":\"contour\",\"colorbar\":{\"outlinewidth\":0,\"ticks\":\"\"},\"colorscale\":[[0.0,\"#0d0887\"],[0.1111111111111111,\"#46039f\"],[0.2222222222222222,\"#7201a8\"],[0.3333333333333333,\"#9c179e\"],[0.4444444444444444,\"#bd3786\"],[0.5555555555555556,\"#d8576b\"],[0.6666666666666666,\"#ed7953\"],[0.7777777777777778,\"#fb9f3a\"],[0.8888888888888888,\"#fdca26\"],[1.0,\"#f0f921\"]]}],\"surface\":[{\"type\":\"surface\",\"colorbar\":{\"outlinewidth\":0,\"ticks\":\"\"},\"colorscale\":[[0.0,\"#0d0887\"],[0.1111111111111111,\"#46039f\"],[0.2222222222222222,\"#7201a8\"],[0.3333333333333333,\"#9c179e\"],[0.4444444444444444,\"#bd3786\"],[0.5555555555555556,\"#d8576b\"],[0.6666666666666666,\"#ed7953\"],[0.7777777777777778,\"#fb9f3a\"],[0.8888888888888888,\"#fdca26\"],[1.0,\"#f0f921\"]]}],\"mesh3d\":[{\"type\":\"mesh3d\",\"colorbar\":{\"outlinewidth\":0,\"ticks\":\"\"}}],\"scatter\":[{\"fillpattern\":{\"fillmode\":\"overlay\",\"size\":10,\"solidity\":0.2},\"type\":\"scatter\"}],\"parcoords\":[{\"type\":\"parcoords\",\"line\":{\"colorbar\":{\"outlinewidth\":0,\"ticks\":\"\"}}}],\"scatterpolargl\":[{\"type\":\"scatterpolargl\",\"marker\":{\"colorbar\":{\"outlinewidth\":0,\"ticks\":\"\"}}}],\"bar\":[{\"error_x\":{\"color\":\"#2a3f5f\"},\"error_y\":{\"color\":\"#2a3f5f\"},\"marker\":{\"line\":{\"color\":\"#E5ECF6\",\"width\":0.5},\"pattern\":{\"fillmode\":\"overlay\",\"size\":10,\"solidity\":0.2}},\"type\":\"bar\"}],\"scattergeo\":[{\"type\":\"scattergeo\",\"marker\":{\"colorbar\":{\"outlinewidth\":0,\"ticks\":\"\"}}}],\"scatterpolar\":[{\"type\":\"scatterpolar\",\"marker\":{\"colorbar\":{\"outlinewidth\":0,\"ticks\":\"\"}}}],\"histogram\":[{\"marker\":{\"pattern\":{\"fillmode\":\"overlay\",\"size\":10,\"solidity\":0.2}},\"type\":\"histogram\"}],\"scattergl\":[{\"type\":\"scattergl\",\"marker\":{\"colorbar\":{\"outlinewidth\":0,\"ticks\":\"\"}}}],\"scatter3d\":[{\"type\":\"scatter3d\",\"line\":{\"colorbar\":{\"outlinewidth\":0,\"ticks\":\"\"}},\"marker\":{\"colorbar\":{\"outlinewidth\":0,\"ticks\":\"\"}}}],\"scattermapbox\":[{\"type\":\"scattermapbox\",\"marker\":{\"colorbar\":{\"outlinewidth\":0,\"ticks\":\"\"}}}],\"scatterternary\":[{\"type\":\"scatterternary\",\"marker\":{\"colorbar\":{\"outlinewidth\":0,\"ticks\":\"\"}}}],\"scattercarpet\":[{\"type\":\"scattercarpet\",\"marker\":{\"colorbar\":{\"outlinewidth\":0,\"ticks\":\"\"}}}],\"carpet\":[{\"aaxis\":{\"endlinecolor\":\"#2a3f5f\",\"gridcolor\":\"white\",\"linecolor\":\"white\",\"minorgridcolor\":\"white\",\"startlinecolor\":\"#2a3f5f\"},\"baxis\":{\"endlinecolor\":\"#2a3f5f\",\"gridcolor\":\"white\",\"linecolor\":\"white\",\"minorgridcolor\":\"white\",\"startlinecolor\":\"#2a3f5f\"},\"type\":\"carpet\"}],\"table\":[{\"cells\":{\"fill\":{\"color\":\"#EBF0F8\"},\"line\":{\"color\":\"white\"}},\"header\":{\"fill\":{\"color\":\"#C8D4E3\"},\"line\":{\"color\":\"white\"}},\"type\":\"table\"}],\"barpolar\":[{\"marker\":{\"line\":{\"color\":\"#E5ECF6\",\"width\":0.5},\"pattern\":{\"fillmode\":\"overlay\",\"size\":10,\"solidity\":0.2}},\"type\":\"barpolar\"}],\"pie\":[{\"automargin\":true,\"type\":\"pie\"}]},\"layout\":{\"autotypenumbers\":\"strict\",\"colorway\":[\"#636efa\",\"#EF553B\",\"#00cc96\",\"#ab63fa\",\"#FFA15A\",\"#19d3f3\",\"#FF6692\",\"#B6E880\",\"#FF97FF\",\"#FECB52\"],\"font\":{\"color\":\"#2a3f5f\"},\"hovermode\":\"closest\",\"hoverlabel\":{\"align\":\"left\"},\"paper_bgcolor\":\"white\",\"plot_bgcolor\":\"#E5ECF6\",\"polar\":{\"bgcolor\":\"#E5ECF6\",\"angularaxis\":{\"gridcolor\":\"white\",\"linecolor\":\"white\",\"ticks\":\"\"},\"radialaxis\":{\"gridcolor\":\"white\",\"linecolor\":\"white\",\"ticks\":\"\"}},\"ternary\":{\"bgcolor\":\"#E5ECF6\",\"aaxis\":{\"gridcolor\":\"white\",\"linecolor\":\"white\",\"ticks\":\"\"},\"baxis\":{\"gridcolor\":\"white\",\"linecolor\":\"white\",\"ticks\":\"\"},\"caxis\":{\"gridcolor\":\"white\",\"linecolor\":\"white\",\"ticks\":\"\"}},\"coloraxis\":{\"colorbar\":{\"outlinewidth\":0,\"ticks\":\"\"}},\"colorscale\":{\"sequential\":[[0.0,\"#0d0887\"],[0.1111111111111111,\"#46039f\"],[0.2222222222222222,\"#7201a8\"],[0.3333333333333333,\"#9c179e\"],[0.4444444444444444,\"#bd3786\"],[0.5555555555555556,\"#d8576b\"],[0.6666666666666666,\"#ed7953\"],[0.7777777777777778,\"#fb9f3a\"],[0.8888888888888888,\"#fdca26\"],[1.0,\"#f0f921\"]],\"sequentialminus\":[[0.0,\"#0d0887\"],[0.1111111111111111,\"#46039f\"],[0.2222222222222222,\"#7201a8\"],[0.3333333333333333,\"#9c179e\"],[0.4444444444444444,\"#bd3786\"],[0.5555555555555556,\"#d8576b\"],[0.6666666666666666,\"#ed7953\"],[0.7777777777777778,\"#fb9f3a\"],[0.8888888888888888,\"#fdca26\"],[1.0,\"#f0f921\"]],\"diverging\":[[0,\"#8e0152\"],[0.1,\"#c51b7d\"],[0.2,\"#de77ae\"],[0.3,\"#f1b6da\"],[0.4,\"#fde0ef\"],[0.5,\"#f7f7f7\"],[0.6,\"#e6f5d0\"],[0.7,\"#b8e186\"],[0.8,\"#7fbc41\"],[0.9,\"#4d9221\"],[1,\"#276419\"]]},\"xaxis\":{\"gridcolor\":\"white\",\"linecolor\":\"white\",\"ticks\":\"\",\"title\":{\"standoff\":15},\"zerolinecolor\":\"white\",\"automargin\":true,\"zerolinewidth\":2},\"yaxis\":{\"gridcolor\":\"white\",\"linecolor\":\"white\",\"ticks\":\"\",\"title\":{\"standoff\":15},\"zerolinecolor\":\"white\",\"automargin\":true,\"zerolinewidth\":2},\"scene\":{\"xaxis\":{\"backgroundcolor\":\"#E5ECF6\",\"gridcolor\":\"white\",\"linecolor\":\"white\",\"showbackground\":true,\"ticks\":\"\",\"zerolinecolor\":\"white\",\"gridwidth\":2},\"yaxis\":{\"backgroundcolor\":\"#E5ECF6\",\"gridcolor\":\"white\",\"linecolor\":\"white\",\"showbackground\":true,\"ticks\":\"\",\"zerolinecolor\":\"white\",\"gridwidth\":2},\"zaxis\":{\"backgroundcolor\":\"#E5ECF6\",\"gridcolor\":\"white\",\"linecolor\":\"white\",\"showbackground\":true,\"ticks\":\"\",\"zerolinecolor\":\"white\",\"gridwidth\":2}},\"shapedefaults\":{\"line\":{\"color\":\"#2a3f5f\"}},\"annotationdefaults\":{\"arrowcolor\":\"#2a3f5f\",\"arrowhead\":0,\"arrowwidth\":1},\"geo\":{\"bgcolor\":\"white\",\"landcolor\":\"#E5ECF6\",\"subunitcolor\":\"white\",\"showland\":true,\"showlakes\":true,\"lakecolor\":\"white\"},\"title\":{\"x\":0.05},\"mapbox\":{\"style\":\"light\"}}},\"legend\":{\"tracegroupgap\":0},\"margin\":{\"t\":60},\"piecolorway\":[\"rgb(102, 197, 204)\",\"rgb(246, 207, 113)\",\"rgb(248, 156, 116)\",\"rgb(220, 176, 242)\",\"rgb(135, 197, 95)\",\"rgb(158, 185, 243)\",\"rgb(254, 136, 177)\",\"rgb(201, 219, 116)\",\"rgb(139, 224, 164)\",\"rgb(180, 151, 231)\",\"rgb(179, 179, 179)\"],\"title\":{\"font\":{\"size\":24},\"text\":\"sales analysis by category\"}},                        {\"responsive\": true}                    ).then(function(){\n",
       "                            \n",
       "var gd = document.getElementById('a9b6d10b-d1cd-4c8f-9447-bc48ae88f018');\n",
       "var x = new MutationObserver(function (mutations, observer) {{\n",
       "        var display = window.getComputedStyle(gd).display;\n",
       "        if (!display || display === 'none') {{\n",
       "            console.log([gd, 'removed!']);\n",
       "            Plotly.purge(gd);\n",
       "            observer.disconnect();\n",
       "        }}\n",
       "}});\n",
       "\n",
       "// Listen for the removal of the full notebook cells\n",
       "var notebookContainer = gd.closest('#notebook-container');\n",
       "if (notebookContainer) {{\n",
       "    x.observe(notebookContainer, {childList: true});\n",
       "}}\n",
       "\n",
       "// Listen for the clearing of the current output cell\n",
       "var outputEl = gd.closest('.output');\n",
       "if (outputEl) {{\n",
       "    x.observe(outputEl, {childList: true});\n",
       "}}\n",
       "\n",
       "                        })                };                });            </script>        </div>"
      ]
     },
     "metadata": {},
     "output_type": "display_data"
    }
   ],
   "source": [
    "sales_by_category=data.groupby('Category')['Sales'].sum().reset_index()\n",
    "fig=px.pie(sales_by_category, values='Sales', names='Category', hole=0.5, color_discrete_sequence=px.colors.qualitative.Pastel)\n",
    "fig.update_traces(textposition=\"inside\", textinfo=\"percent+label\")\n",
    "fig.update_layout(title_text=\"sales analysis by category\", title_font=dict(size=24))\n",
    "fig.show()"
   ]
  },
  {
   "cell_type": "code",
   "execution_count": 44,
   "id": "a5f5f215-88e6-4156-a2f5-2ccce6f7cdc7",
   "metadata": {},
   "outputs": [
    {
     "data": {
      "text/html": [
       "<div>\n",
       "<style scoped>\n",
       "    .dataframe tbody tr th:only-of-type {\n",
       "        vertical-align: middle;\n",
       "    }\n",
       "\n",
       "    .dataframe tbody tr th {\n",
       "        vertical-align: top;\n",
       "    }\n",
       "\n",
       "    .dataframe thead th {\n",
       "        text-align: right;\n",
       "    }\n",
       "</style>\n",
       "<table border=\"1\" class=\"dataframe\">\n",
       "  <thead>\n",
       "    <tr style=\"text-align: right;\">\n",
       "      <th></th>\n",
       "      <th>Row ID</th>\n",
       "      <th>Order ID</th>\n",
       "      <th>Order Date</th>\n",
       "      <th>Ship Date</th>\n",
       "      <th>Ship Mode</th>\n",
       "      <th>Customer ID</th>\n",
       "      <th>Customer Name</th>\n",
       "      <th>Segment</th>\n",
       "      <th>Country</th>\n",
       "      <th>City</th>\n",
       "      <th>...</th>\n",
       "      <th>Category</th>\n",
       "      <th>Sub-Category</th>\n",
       "      <th>Product Name</th>\n",
       "      <th>Sales</th>\n",
       "      <th>Quantity</th>\n",
       "      <th>Discount</th>\n",
       "      <th>Profit</th>\n",
       "      <th>Order Month</th>\n",
       "      <th>Order Year</th>\n",
       "      <th>Order Day</th>\n",
       "    </tr>\n",
       "  </thead>\n",
       "  <tbody>\n",
       "    <tr>\n",
       "      <th>0</th>\n",
       "      <td>1</td>\n",
       "      <td>CA-2016-152156</td>\n",
       "      <td>2016-08-11</td>\n",
       "      <td>2016-11-11</td>\n",
       "      <td>Second Class</td>\n",
       "      <td>CG-12520</td>\n",
       "      <td>Claire Gute</td>\n",
       "      <td>Consumer</td>\n",
       "      <td>United States</td>\n",
       "      <td>Henderson</td>\n",
       "      <td>...</td>\n",
       "      <td>Furniture</td>\n",
       "      <td>Bookcases</td>\n",
       "      <td>Bush Somerset Collection Bookcase</td>\n",
       "      <td>261.9600</td>\n",
       "      <td>2</td>\n",
       "      <td>0.00</td>\n",
       "      <td>41.9136</td>\n",
       "      <td>8</td>\n",
       "      <td>2016</td>\n",
       "      <td>3</td>\n",
       "    </tr>\n",
       "    <tr>\n",
       "      <th>1</th>\n",
       "      <td>2</td>\n",
       "      <td>CA-2016-152156</td>\n",
       "      <td>2016-08-11</td>\n",
       "      <td>2016-11-11</td>\n",
       "      <td>Second Class</td>\n",
       "      <td>CG-12520</td>\n",
       "      <td>Claire Gute</td>\n",
       "      <td>Consumer</td>\n",
       "      <td>United States</td>\n",
       "      <td>Henderson</td>\n",
       "      <td>...</td>\n",
       "      <td>Furniture</td>\n",
       "      <td>Chairs</td>\n",
       "      <td>Hon Deluxe Fabric Upholstered Stacking Chairs,...</td>\n",
       "      <td>731.9400</td>\n",
       "      <td>3</td>\n",
       "      <td>0.00</td>\n",
       "      <td>219.5820</td>\n",
       "      <td>8</td>\n",
       "      <td>2016</td>\n",
       "      <td>3</td>\n",
       "    </tr>\n",
       "    <tr>\n",
       "      <th>2</th>\n",
       "      <td>3</td>\n",
       "      <td>CA-2016-138688</td>\n",
       "      <td>2016-12-06</td>\n",
       "      <td>2016-06-16</td>\n",
       "      <td>Second Class</td>\n",
       "      <td>DV-13045</td>\n",
       "      <td>Darrin Van Huff</td>\n",
       "      <td>Corporate</td>\n",
       "      <td>United States</td>\n",
       "      <td>Los Angeles</td>\n",
       "      <td>...</td>\n",
       "      <td>Office Supplies</td>\n",
       "      <td>Labels</td>\n",
       "      <td>Self-Adhesive Address Labels for Typewriters b...</td>\n",
       "      <td>14.6200</td>\n",
       "      <td>2</td>\n",
       "      <td>0.00</td>\n",
       "      <td>6.8714</td>\n",
       "      <td>12</td>\n",
       "      <td>2016</td>\n",
       "      <td>1</td>\n",
       "    </tr>\n",
       "    <tr>\n",
       "      <th>3</th>\n",
       "      <td>4</td>\n",
       "      <td>US-2015-108966</td>\n",
       "      <td>2015-11-10</td>\n",
       "      <td>2015-10-18</td>\n",
       "      <td>Standard Class</td>\n",
       "      <td>SO-20335</td>\n",
       "      <td>Sean O'Donnell</td>\n",
       "      <td>Consumer</td>\n",
       "      <td>United States</td>\n",
       "      <td>Fort Lauderdale</td>\n",
       "      <td>...</td>\n",
       "      <td>Furniture</td>\n",
       "      <td>Tables</td>\n",
       "      <td>Bretford CR4500 Series Slim Rectangular Table</td>\n",
       "      <td>957.5775</td>\n",
       "      <td>5</td>\n",
       "      <td>0.45</td>\n",
       "      <td>-383.0310</td>\n",
       "      <td>11</td>\n",
       "      <td>2015</td>\n",
       "      <td>1</td>\n",
       "    </tr>\n",
       "    <tr>\n",
       "      <th>4</th>\n",
       "      <td>5</td>\n",
       "      <td>US-2015-108966</td>\n",
       "      <td>2015-11-10</td>\n",
       "      <td>2015-10-18</td>\n",
       "      <td>Standard Class</td>\n",
       "      <td>SO-20335</td>\n",
       "      <td>Sean O'Donnell</td>\n",
       "      <td>Consumer</td>\n",
       "      <td>United States</td>\n",
       "      <td>Fort Lauderdale</td>\n",
       "      <td>...</td>\n",
       "      <td>Office Supplies</td>\n",
       "      <td>Storage</td>\n",
       "      <td>Eldon Fold 'N Roll Cart System</td>\n",
       "      <td>22.3680</td>\n",
       "      <td>2</td>\n",
       "      <td>0.20</td>\n",
       "      <td>2.5164</td>\n",
       "      <td>11</td>\n",
       "      <td>2015</td>\n",
       "      <td>1</td>\n",
       "    </tr>\n",
       "  </tbody>\n",
       "</table>\n",
       "<p>5 rows × 24 columns</p>\n",
       "</div>"
      ],
      "text/plain": [
       "   Row ID        Order ID Order Date  Ship Date       Ship Mode Customer ID  \\\n",
       "0       1  CA-2016-152156 2016-08-11 2016-11-11    Second Class    CG-12520   \n",
       "1       2  CA-2016-152156 2016-08-11 2016-11-11    Second Class    CG-12520   \n",
       "2       3  CA-2016-138688 2016-12-06 2016-06-16    Second Class    DV-13045   \n",
       "3       4  US-2015-108966 2015-11-10 2015-10-18  Standard Class    SO-20335   \n",
       "4       5  US-2015-108966 2015-11-10 2015-10-18  Standard Class    SO-20335   \n",
       "\n",
       "     Customer Name    Segment        Country             City  ...  \\\n",
       "0      Claire Gute   Consumer  United States        Henderson  ...   \n",
       "1      Claire Gute   Consumer  United States        Henderson  ...   \n",
       "2  Darrin Van Huff  Corporate  United States      Los Angeles  ...   \n",
       "3   Sean O'Donnell   Consumer  United States  Fort Lauderdale  ...   \n",
       "4   Sean O'Donnell   Consumer  United States  Fort Lauderdale  ...   \n",
       "\n",
       "          Category  Sub-Category  \\\n",
       "0        Furniture     Bookcases   \n",
       "1        Furniture        Chairs   \n",
       "2  Office Supplies        Labels   \n",
       "3        Furniture        Tables   \n",
       "4  Office Supplies       Storage   \n",
       "\n",
       "                                        Product Name     Sales Quantity  \\\n",
       "0                  Bush Somerset Collection Bookcase  261.9600        2   \n",
       "1  Hon Deluxe Fabric Upholstered Stacking Chairs,...  731.9400        3   \n",
       "2  Self-Adhesive Address Labels for Typewriters b...   14.6200        2   \n",
       "3      Bretford CR4500 Series Slim Rectangular Table  957.5775        5   \n",
       "4                     Eldon Fold 'N Roll Cart System   22.3680        2   \n",
       "\n",
       "  Discount    Profit  Order Month  Order Year  Order Day  \n",
       "0     0.00   41.9136            8        2016          3  \n",
       "1     0.00  219.5820            8        2016          3  \n",
       "2     0.00    6.8714           12        2016          1  \n",
       "3     0.45 -383.0310           11        2015          1  \n",
       "4     0.20    2.5164           11        2015          1  \n",
       "\n",
       "[5 rows x 24 columns]"
      ]
     },
     "execution_count": 44,
     "metadata": {},
     "output_type": "execute_result"
    }
   ],
   "source": [
    "data.head()"
   ]
  },
  {
   "cell_type": "code",
   "execution_count": 46,
   "id": "2ab8414c-3256-4c94-bb54-baa32220a7c8",
   "metadata": {},
   "outputs": [
    {
     "data": {
      "application/vnd.plotly.v1+json": {
       "config": {
        "plotlyServerURL": "https://plot.ly"
       },
       "data": [
        {
         "hovertemplate": "Order Month=%{x}<br>Profit=%{y}<extra></extra>",
         "legendgroup": "",
         "line": {
          "color": "#636efa",
          "dash": "solid"
         },
         "marker": {
          "symbol": "circle"
         },
         "mode": "lines",
         "name": "",
         "orientation": "v",
         "showlegend": false,
         "type": "scatter",
         "x": [
          1,
          2,
          3,
          4,
          5,
          6,
          7,
          8,
          9,
          10,
          11,
          12
         ],
         "xaxis": "x",
         "y": [
          25167.1017,
          23753.6477,
          29336.5893,
          12267.1962,
          24234.4105,
          21164.9016,
          10008.648799999999,
          24820.345,
          34554.8774,
          22336.9254,
          26435.0796,
          32317.2985
         ],
         "yaxis": "y"
        }
       ],
       "layout": {
        "autosize": true,
        "legend": {
         "tracegroupgap": 0
        },
        "template": {
         "data": {
          "bar": [
           {
            "error_x": {
             "color": "#2a3f5f"
            },
            "error_y": {
             "color": "#2a3f5f"
            },
            "marker": {
             "line": {
              "color": "#E5ECF6",
              "width": 0.5
             },
             "pattern": {
              "fillmode": "overlay",
              "size": 10,
              "solidity": 0.2
             }
            },
            "type": "bar"
           }
          ],
          "barpolar": [
           {
            "marker": {
             "line": {
              "color": "#E5ECF6",
              "width": 0.5
             },
             "pattern": {
              "fillmode": "overlay",
              "size": 10,
              "solidity": 0.2
             }
            },
            "type": "barpolar"
           }
          ],
          "carpet": [
           {
            "aaxis": {
             "endlinecolor": "#2a3f5f",
             "gridcolor": "white",
             "linecolor": "white",
             "minorgridcolor": "white",
             "startlinecolor": "#2a3f5f"
            },
            "baxis": {
             "endlinecolor": "#2a3f5f",
             "gridcolor": "white",
             "linecolor": "white",
             "minorgridcolor": "white",
             "startlinecolor": "#2a3f5f"
            },
            "type": "carpet"
           }
          ],
          "choropleth": [
           {
            "colorbar": {
             "outlinewidth": 0,
             "ticks": ""
            },
            "type": "choropleth"
           }
          ],
          "contour": [
           {
            "colorbar": {
             "outlinewidth": 0,
             "ticks": ""
            },
            "colorscale": [
             [
              0,
              "#0d0887"
             ],
             [
              0.1111111111111111,
              "#46039f"
             ],
             [
              0.2222222222222222,
              "#7201a8"
             ],
             [
              0.3333333333333333,
              "#9c179e"
             ],
             [
              0.4444444444444444,
              "#bd3786"
             ],
             [
              0.5555555555555556,
              "#d8576b"
             ],
             [
              0.6666666666666666,
              "#ed7953"
             ],
             [
              0.7777777777777778,
              "#fb9f3a"
             ],
             [
              0.8888888888888888,
              "#fdca26"
             ],
             [
              1,
              "#f0f921"
             ]
            ],
            "type": "contour"
           }
          ],
          "contourcarpet": [
           {
            "colorbar": {
             "outlinewidth": 0,
             "ticks": ""
            },
            "type": "contourcarpet"
           }
          ],
          "heatmap": [
           {
            "colorbar": {
             "outlinewidth": 0,
             "ticks": ""
            },
            "colorscale": [
             [
              0,
              "#0d0887"
             ],
             [
              0.1111111111111111,
              "#46039f"
             ],
             [
              0.2222222222222222,
              "#7201a8"
             ],
             [
              0.3333333333333333,
              "#9c179e"
             ],
             [
              0.4444444444444444,
              "#bd3786"
             ],
             [
              0.5555555555555556,
              "#d8576b"
             ],
             [
              0.6666666666666666,
              "#ed7953"
             ],
             [
              0.7777777777777778,
              "#fb9f3a"
             ],
             [
              0.8888888888888888,
              "#fdca26"
             ],
             [
              1,
              "#f0f921"
             ]
            ],
            "type": "heatmap"
           }
          ],
          "heatmapgl": [
           {
            "colorbar": {
             "outlinewidth": 0,
             "ticks": ""
            },
            "colorscale": [
             [
              0,
              "#0d0887"
             ],
             [
              0.1111111111111111,
              "#46039f"
             ],
             [
              0.2222222222222222,
              "#7201a8"
             ],
             [
              0.3333333333333333,
              "#9c179e"
             ],
             [
              0.4444444444444444,
              "#bd3786"
             ],
             [
              0.5555555555555556,
              "#d8576b"
             ],
             [
              0.6666666666666666,
              "#ed7953"
             ],
             [
              0.7777777777777778,
              "#fb9f3a"
             ],
             [
              0.8888888888888888,
              "#fdca26"
             ],
             [
              1,
              "#f0f921"
             ]
            ],
            "type": "heatmapgl"
           }
          ],
          "histogram": [
           {
            "marker": {
             "pattern": {
              "fillmode": "overlay",
              "size": 10,
              "solidity": 0.2
             }
            },
            "type": "histogram"
           }
          ],
          "histogram2d": [
           {
            "colorbar": {
             "outlinewidth": 0,
             "ticks": ""
            },
            "colorscale": [
             [
              0,
              "#0d0887"
             ],
             [
              0.1111111111111111,
              "#46039f"
             ],
             [
              0.2222222222222222,
              "#7201a8"
             ],
             [
              0.3333333333333333,
              "#9c179e"
             ],
             [
              0.4444444444444444,
              "#bd3786"
             ],
             [
              0.5555555555555556,
              "#d8576b"
             ],
             [
              0.6666666666666666,
              "#ed7953"
             ],
             [
              0.7777777777777778,
              "#fb9f3a"
             ],
             [
              0.8888888888888888,
              "#fdca26"
             ],
             [
              1,
              "#f0f921"
             ]
            ],
            "type": "histogram2d"
           }
          ],
          "histogram2dcontour": [
           {
            "colorbar": {
             "outlinewidth": 0,
             "ticks": ""
            },
            "colorscale": [
             [
              0,
              "#0d0887"
             ],
             [
              0.1111111111111111,
              "#46039f"
             ],
             [
              0.2222222222222222,
              "#7201a8"
             ],
             [
              0.3333333333333333,
              "#9c179e"
             ],
             [
              0.4444444444444444,
              "#bd3786"
             ],
             [
              0.5555555555555556,
              "#d8576b"
             ],
             [
              0.6666666666666666,
              "#ed7953"
             ],
             [
              0.7777777777777778,
              "#fb9f3a"
             ],
             [
              0.8888888888888888,
              "#fdca26"
             ],
             [
              1,
              "#f0f921"
             ]
            ],
            "type": "histogram2dcontour"
           }
          ],
          "mesh3d": [
           {
            "colorbar": {
             "outlinewidth": 0,
             "ticks": ""
            },
            "type": "mesh3d"
           }
          ],
          "parcoords": [
           {
            "line": {
             "colorbar": {
              "outlinewidth": 0,
              "ticks": ""
             }
            },
            "type": "parcoords"
           }
          ],
          "pie": [
           {
            "automargin": true,
            "type": "pie"
           }
          ],
          "scatter": [
           {
            "fillpattern": {
             "fillmode": "overlay",
             "size": 10,
             "solidity": 0.2
            },
            "type": "scatter"
           }
          ],
          "scatter3d": [
           {
            "line": {
             "colorbar": {
              "outlinewidth": 0,
              "ticks": ""
             }
            },
            "marker": {
             "colorbar": {
              "outlinewidth": 0,
              "ticks": ""
             }
            },
            "type": "scatter3d"
           }
          ],
          "scattercarpet": [
           {
            "marker": {
             "colorbar": {
              "outlinewidth": 0,
              "ticks": ""
             }
            },
            "type": "scattercarpet"
           }
          ],
          "scattergeo": [
           {
            "marker": {
             "colorbar": {
              "outlinewidth": 0,
              "ticks": ""
             }
            },
            "type": "scattergeo"
           }
          ],
          "scattergl": [
           {
            "marker": {
             "colorbar": {
              "outlinewidth": 0,
              "ticks": ""
             }
            },
            "type": "scattergl"
           }
          ],
          "scattermapbox": [
           {
            "marker": {
             "colorbar": {
              "outlinewidth": 0,
              "ticks": ""
             }
            },
            "type": "scattermapbox"
           }
          ],
          "scatterpolar": [
           {
            "marker": {
             "colorbar": {
              "outlinewidth": 0,
              "ticks": ""
             }
            },
            "type": "scatterpolar"
           }
          ],
          "scatterpolargl": [
           {
            "marker": {
             "colorbar": {
              "outlinewidth": 0,
              "ticks": ""
             }
            },
            "type": "scatterpolargl"
           }
          ],
          "scatterternary": [
           {
            "marker": {
             "colorbar": {
              "outlinewidth": 0,
              "ticks": ""
             }
            },
            "type": "scatterternary"
           }
          ],
          "surface": [
           {
            "colorbar": {
             "outlinewidth": 0,
             "ticks": ""
            },
            "colorscale": [
             [
              0,
              "#0d0887"
             ],
             [
              0.1111111111111111,
              "#46039f"
             ],
             [
              0.2222222222222222,
              "#7201a8"
             ],
             [
              0.3333333333333333,
              "#9c179e"
             ],
             [
              0.4444444444444444,
              "#bd3786"
             ],
             [
              0.5555555555555556,
              "#d8576b"
             ],
             [
              0.6666666666666666,
              "#ed7953"
             ],
             [
              0.7777777777777778,
              "#fb9f3a"
             ],
             [
              0.8888888888888888,
              "#fdca26"
             ],
             [
              1,
              "#f0f921"
             ]
            ],
            "type": "surface"
           }
          ],
          "table": [
           {
            "cells": {
             "fill": {
              "color": "#EBF0F8"
             },
             "line": {
              "color": "white"
             }
            },
            "header": {
             "fill": {
              "color": "#C8D4E3"
             },
             "line": {
              "color": "white"
             }
            },
            "type": "table"
           }
          ]
         },
         "layout": {
          "annotationdefaults": {
           "arrowcolor": "#2a3f5f",
           "arrowhead": 0,
           "arrowwidth": 1
          },
          "autotypenumbers": "strict",
          "coloraxis": {
           "colorbar": {
            "outlinewidth": 0,
            "ticks": ""
           }
          },
          "colorscale": {
           "diverging": [
            [
             0,
             "#8e0152"
            ],
            [
             0.1,
             "#c51b7d"
            ],
            [
             0.2,
             "#de77ae"
            ],
            [
             0.3,
             "#f1b6da"
            ],
            [
             0.4,
             "#fde0ef"
            ],
            [
             0.5,
             "#f7f7f7"
            ],
            [
             0.6,
             "#e6f5d0"
            ],
            [
             0.7,
             "#b8e186"
            ],
            [
             0.8,
             "#7fbc41"
            ],
            [
             0.9,
             "#4d9221"
            ],
            [
             1,
             "#276419"
            ]
           ],
           "sequential": [
            [
             0,
             "#0d0887"
            ],
            [
             0.1111111111111111,
             "#46039f"
            ],
            [
             0.2222222222222222,
             "#7201a8"
            ],
            [
             0.3333333333333333,
             "#9c179e"
            ],
            [
             0.4444444444444444,
             "#bd3786"
            ],
            [
             0.5555555555555556,
             "#d8576b"
            ],
            [
             0.6666666666666666,
             "#ed7953"
            ],
            [
             0.7777777777777778,
             "#fb9f3a"
            ],
            [
             0.8888888888888888,
             "#fdca26"
            ],
            [
             1,
             "#f0f921"
            ]
           ],
           "sequentialminus": [
            [
             0,
             "#0d0887"
            ],
            [
             0.1111111111111111,
             "#46039f"
            ],
            [
             0.2222222222222222,
             "#7201a8"
            ],
            [
             0.3333333333333333,
             "#9c179e"
            ],
            [
             0.4444444444444444,
             "#bd3786"
            ],
            [
             0.5555555555555556,
             "#d8576b"
            ],
            [
             0.6666666666666666,
             "#ed7953"
            ],
            [
             0.7777777777777778,
             "#fb9f3a"
            ],
            [
             0.8888888888888888,
             "#fdca26"
            ],
            [
             1,
             "#f0f921"
            ]
           ]
          },
          "colorway": [
           "#636efa",
           "#EF553B",
           "#00cc96",
           "#ab63fa",
           "#FFA15A",
           "#19d3f3",
           "#FF6692",
           "#B6E880",
           "#FF97FF",
           "#FECB52"
          ],
          "font": {
           "color": "#2a3f5f"
          },
          "geo": {
           "bgcolor": "white",
           "lakecolor": "white",
           "landcolor": "#E5ECF6",
           "showlakes": true,
           "showland": true,
           "subunitcolor": "white"
          },
          "hoverlabel": {
           "align": "left"
          },
          "hovermode": "closest",
          "mapbox": {
           "style": "light"
          },
          "paper_bgcolor": "white",
          "plot_bgcolor": "#E5ECF6",
          "polar": {
           "angularaxis": {
            "gridcolor": "white",
            "linecolor": "white",
            "ticks": ""
           },
           "bgcolor": "#E5ECF6",
           "radialaxis": {
            "gridcolor": "white",
            "linecolor": "white",
            "ticks": ""
           }
          },
          "scene": {
           "xaxis": {
            "backgroundcolor": "#E5ECF6",
            "gridcolor": "white",
            "gridwidth": 2,
            "linecolor": "white",
            "showbackground": true,
            "ticks": "",
            "zerolinecolor": "white"
           },
           "yaxis": {
            "backgroundcolor": "#E5ECF6",
            "gridcolor": "white",
            "gridwidth": 2,
            "linecolor": "white",
            "showbackground": true,
            "ticks": "",
            "zerolinecolor": "white"
           },
           "zaxis": {
            "backgroundcolor": "#E5ECF6",
            "gridcolor": "white",
            "gridwidth": 2,
            "linecolor": "white",
            "showbackground": true,
            "ticks": "",
            "zerolinecolor": "white"
           }
          },
          "shapedefaults": {
           "line": {
            "color": "#2a3f5f"
           }
          },
          "ternary": {
           "aaxis": {
            "gridcolor": "white",
            "linecolor": "white",
            "ticks": ""
           },
           "baxis": {
            "gridcolor": "white",
            "linecolor": "white",
            "ticks": ""
           },
           "bgcolor": "#E5ECF6",
           "caxis": {
            "gridcolor": "white",
            "linecolor": "white",
            "ticks": ""
           }
          },
          "title": {
           "x": 0.05
          },
          "xaxis": {
           "automargin": true,
           "gridcolor": "white",
           "linecolor": "white",
           "ticks": "",
           "title": {
            "standoff": 15
           },
           "zerolinecolor": "white",
           "zerolinewidth": 2
          },
          "yaxis": {
           "automargin": true,
           "gridcolor": "white",
           "linecolor": "white",
           "ticks": "",
           "title": {
            "standoff": 15
           },
           "zerolinecolor": "white",
           "zerolinewidth": 2
          }
         }
        },
        "title": {
         "text": "monthly profit analysis"
        },
        "xaxis": {
         "anchor": "y",
         "autorange": true,
         "domain": [
          0,
          1
         ],
         "range": [
          1,
          12
         ],
         "title": {
          "text": "Order Month"
         },
         "type": "linear"
        },
        "yaxis": {
         "anchor": "x",
         "autorange": true,
         "domain": [
          0,
          1
         ],
         "range": [
          8644.969433333332,
          35918.55676666666
         ],
         "title": {
          "text": "Profit"
         },
         "type": "linear"
        }
       }
      },
      "image/png": "[encoded data removed]",
      "text/html": [
       "<div>                            <div id=\"a034ba30-e2bc-461c-bcb2-2d4fa2886426\" class=\"plotly-graph-div\" style=\"height:525px; width:100%;\"></div>            <script type=\"text/javascript\">                require([\"plotly\"], function(Plotly) {                    window.PLOTLYENV=window.PLOTLYENV || {};                                    if (document.getElementById(\"a034ba30-e2bc-461c-bcb2-2d4fa2886426\")) {                    Plotly.newPlot(                        \"a034ba30-e2bc-461c-bcb2-2d4fa2886426\",                        [{\"hovertemplate\":\"Order Month=%{x}\\u003cbr\\u003eProfit=%{y}\\u003cextra\\u003e\\u003c\\u002fextra\\u003e\",\"legendgroup\":\"\",\"line\":{\"color\":\"#636efa\",\"dash\":\"solid\"},\"marker\":{\"symbol\":\"circle\"},\"mode\":\"lines\",\"name\":\"\",\"orientation\":\"v\",\"showlegend\":false,\"x\":[1,2,3,4,5,6,7,8,9,10,11,12],\"xaxis\":\"x\",\"y\":[25167.1017,23753.6477,29336.5893,12267.1962,24234.4105,21164.9016,10008.648799999999,24820.345,34554.8774,22336.9254,26435.0796,32317.2985],\"yaxis\":\"y\",\"type\":\"scatter\"}],                        {\"template\":{\"data\":{\"histogram2dcontour\":[{\"type\":\"histogram2dcontour\",\"colorbar\":{\"outlinewidth\":0,\"ticks\":\"\"},\"colorscale\":[[0.0,\"#0d0887\"],[0.1111111111111111,\"#46039f\"],[0.2222222222222222,\"#7201a8\"],[0.3333333333333333,\"#9c179e\"],[0.4444444444444444,\"#bd3786\"],[0.5555555555555556,\"#d8576b\"],[0.6666666666666666,\"#ed7953\"],[0.7777777777777778,\"#fb9f3a\"],[0.8888888888888888,\"#fdca26\"],[1.0,\"#f0f921\"]]}],\"choropleth\":[{\"type\":\"choropleth\",\"colorbar\":{\"outlinewidth\":0,\"ticks\":\"\"}}],\"histogram2d\":[{\"type\":\"histogram2d\",\"colorbar\":{\"outlinewidth\":0,\"ticks\":\"\"},\"colorscale\":[[0.0,\"#0d0887\"],[0.1111111111111111,\"#46039f\"],[0.2222222222222222,\"#7201a8\"],[0.3333333333333333,\"#9c179e\"],[0.4444444444444444,\"#bd3786\"],[0.5555555555555556,\"#d8576b\"],[0.6666666666666666,\"#ed7953\"],[0.7777777777777778,\"#fb9f3a\"],[0.8888888888888888,\"#fdca26\"],[1.0,\"#f0f921\"]]}],\"heatmap\":[{\"type\":\"heatmap\",\"colorbar\":{\"outlinewidth\":0,\"ticks\":\"\"},\"colorscale\":[[0.0,\"#0d0887\"],[0.1111111111111111,\"#46039f\"],[0.2222222222222222,\"#7201a8\"],[0.3333333333333333,\"#9c179e\"],[0.4444444444444444,\"#bd3786\"],[0.5555555555555556,\"#d8576b\"],[0.6666666666666666,\"#ed7953\"],[0.7777777777777778,\"#fb9f3a\"],[0.8888888888888888,\"#fdca26\"],[1.0,\"#f0f921\"]]}],\"heatmapgl\":[{\"type\":\"heatmapgl\",\"colorbar\":{\"outlinewidth\":0,\"ticks\":\"\"},\"colorscale\":[[0.0,\"#0d0887\"],[0.1111111111111111,\"#46039f\"],[0.2222222222222222,\"#7201a8\"],[0.3333333333333333,\"#9c179e\"],[0.4444444444444444,\"#bd3786\"],[0.5555555555555556,\"#d8576b\"],[0.6666666666666666,\"#ed7953\"],[0.7777777777777778,\"#fb9f3a\"],[0.8888888888888888,\"#fdca26\"],[1.0,\"#f0f921\"]]}],\"contourcarpet\":[{\"type\":\"contourcarpet\",\"colorbar\":{\"outlinewidth\":0,\"ticks\":\"\"}}],\"contour\":[{\"type\":\"contour\",\"colorbar\":{\"outlinewidth\":0,\"ticks\":\"\"},\"colorscale\":[[0.0,\"#0d0887\"],[0.1111111111111111,\"#46039f\"],[0.2222222222222222,\"#7201a8\"],[0.3333333333333333,\"#9c179e\"],[0.4444444444444444,\"#bd3786\"],[0.5555555555555556,\"#d8576b\"],[0.6666666666666666,\"#ed7953\"],[0.7777777777777778,\"#fb9f3a\"],[0.8888888888888888,\"#fdca26\"],[1.0,\"#f0f921\"]]}],\"surface\":[{\"type\":\"surface\",\"colorbar\":{\"outlinewidth\":0,\"ticks\":\"\"},\"colorscale\":[[0.0,\"#0d0887\"],[0.1111111111111111,\"#46039f\"],[0.2222222222222222,\"#7201a8\"],[0.3333333333333333,\"#9c179e\"],[0.4444444444444444,\"#bd3786\"],[0.5555555555555556,\"#d8576b\"],[0.6666666666666666,\"#ed7953\"],[0.7777777777777778,\"#fb9f3a\"],[0.8888888888888888,\"#fdca26\"],[1.0,\"#f0f921\"]]}],\"mesh3d\":[{\"type\":\"mesh3d\",\"colorbar\":{\"outlinewidth\":0,\"ticks\":\"\"}}],\"scatter\":[{\"fillpattern\":{\"fillmode\":\"overlay\",\"size\":10,\"solidity\":0.2},\"type\":\"scatter\"}],\"parcoords\":[{\"type\":\"parcoords\",\"line\":{\"colorbar\":{\"outlinewidth\":0,\"ticks\":\"\"}}}],\"scatterpolargl\":[{\"type\":\"scatterpolargl\",\"marker\":{\"colorbar\":{\"outlinewidth\":0,\"ticks\":\"\"}}}],\"bar\":[{\"error_x\":{\"color\":\"#2a3f5f\"},\"error_y\":{\"color\":\"#2a3f5f\"},\"marker\":{\"line\":{\"color\":\"#E5ECF6\",\"width\":0.5},\"pattern\":{\"fillmode\":\"overlay\",\"size\":10,\"solidity\":0.2}},\"type\":\"bar\"}],\"scattergeo\":[{\"type\":\"scattergeo\",\"marker\":{\"colorbar\":{\"outlinewidth\":0,\"ticks\":\"\"}}}],\"scatterpolar\":[{\"type\":\"scatterpolar\",\"marker\":{\"colorbar\":{\"outlinewidth\":0,\"ticks\":\"\"}}}],\"histogram\":[{\"marker\":{\"pattern\":{\"fillmode\":\"overlay\",\"size\":10,\"solidity\":0.2}},\"type\":\"histogram\"}],\"scattergl\":[{\"type\":\"scattergl\",\"marker\":{\"colorbar\":{\"outlinewidth\":0,\"ticks\":\"\"}}}],\"scatter3d\":[{\"type\":\"scatter3d\",\"line\":{\"colorbar\":{\"outlinewidth\":0,\"ticks\":\"\"}},\"marker\":{\"colorbar\":{\"outlinewidth\":0,\"ticks\":\"\"}}}],\"scattermapbox\":[{\"type\":\"scattermapbox\",\"marker\":{\"colorbar\":{\"outlinewidth\":0,\"ticks\":\"\"}}}],\"scatterternary\":[{\"type\":\"scatterternary\",\"marker\":{\"colorbar\":{\"outlinewidth\":0,\"ticks\":\"\"}}}],\"scattercarpet\":[{\"type\":\"scattercarpet\",\"marker\":{\"colorbar\":{\"outlinewidth\":0,\"ticks\":\"\"}}}],\"carpet\":[{\"aaxis\":{\"endlinecolor\":\"#2a3f5f\",\"gridcolor\":\"white\",\"linecolor\":\"white\",\"minorgridcolor\":\"white\",\"startlinecolor\":\"#2a3f5f\"},\"baxis\":{\"endlinecolor\":\"#2a3f5f\",\"gridcolor\":\"white\",\"linecolor\":\"white\",\"minorgridcolor\":\"white\",\"startlinecolor\":\"#2a3f5f\"},\"type\":\"carpet\"}],\"table\":[{\"cells\":{\"fill\":{\"color\":\"#EBF0F8\"},\"line\":{\"color\":\"white\"}},\"header\":{\"fill\":{\"color\":\"#C8D4E3\"},\"line\":{\"color\":\"white\"}},\"type\":\"table\"}],\"barpolar\":[{\"marker\":{\"line\":{\"color\":\"#E5ECF6\",\"width\":0.5},\"pattern\":{\"fillmode\":\"overlay\",\"size\":10,\"solidity\":0.2}},\"type\":\"barpolar\"}],\"pie\":[{\"automargin\":true,\"type\":\"pie\"}]},\"layout\":{\"autotypenumbers\":\"strict\",\"colorway\":[\"#636efa\",\"#EF553B\",\"#00cc96\",\"#ab63fa\",\"#FFA15A\",\"#19d3f3\",\"#FF6692\",\"#B6E880\",\"#FF97FF\",\"#FECB52\"],\"font\":{\"color\":\"#2a3f5f\"},\"hovermode\":\"closest\",\"hoverlabel\":{\"align\":\"left\"},\"paper_bgcolor\":\"white\",\"plot_bgcolor\":\"#E5ECF6\",\"polar\":{\"bgcolor\":\"#E5ECF6\",\"angularaxis\":{\"gridcolor\":\"white\",\"linecolor\":\"white\",\"ticks\":\"\"},\"radialaxis\":{\"gridcolor\":\"white\",\"linecolor\":\"white\",\"ticks\":\"\"}},\"ternary\":{\"bgcolor\":\"#E5ECF6\",\"aaxis\":{\"gridcolor\":\"white\",\"linecolor\":\"white\",\"ticks\":\"\"},\"baxis\":{\"gridcolor\":\"white\",\"linecolor\":\"white\",\"ticks\":\"\"},\"caxis\":{\"gridcolor\":\"white\",\"linecolor\":\"white\",\"ticks\":\"\"}},\"coloraxis\":{\"colorbar\":{\"outlinewidth\":0,\"ticks\":\"\"}},\"colorscale\":{\"sequential\":[[0.0,\"#0d0887\"],[0.1111111111111111,\"#46039f\"],[0.2222222222222222,\"#7201a8\"],[0.3333333333333333,\"#9c179e\"],[0.4444444444444444,\"#bd3786\"],[0.5555555555555556,\"#d8576b\"],[0.6666666666666666,\"#ed7953\"],[0.7777777777777778,\"#fb9f3a\"],[0.8888888888888888,\"#fdca26\"],[1.0,\"#f0f921\"]],\"sequentialminus\":[[0.0,\"#0d0887\"],[0.1111111111111111,\"#46039f\"],[0.2222222222222222,\"#7201a8\"],[0.3333333333333333,\"#9c179e\"],[0.4444444444444444,\"#bd3786\"],[0.5555555555555556,\"#d8576b\"],[0.6666666666666666,\"#ed7953\"],[0.7777777777777778,\"#fb9f3a\"],[0.8888888888888888,\"#fdca26\"],[1.0,\"#f0f921\"]],\"diverging\":[[0,\"#8e0152\"],[0.1,\"#c51b7d\"],[0.2,\"#de77ae\"],[0.3,\"#f1b6da\"],[0.4,\"#fde0ef\"],[0.5,\"#f7f7f7\"],[0.6,\"#e6f5d0\"],[0.7,\"#b8e186\"],[0.8,\"#7fbc41\"],[0.9,\"#4d9221\"],[1,\"#276419\"]]},\"xaxis\":{\"gridcolor\":\"white\",\"linecolor\":\"white\",\"ticks\":\"\",\"title\":{\"standoff\":15},\"zerolinecolor\":\"white\",\"automargin\":true,\"zerolinewidth\":2},\"yaxis\":{\"gridcolor\":\"white\",\"linecolor\":\"white\",\"ticks\":\"\",\"title\":{\"standoff\":15},\"zerolinecolor\":\"white\",\"automargin\":true,\"zerolinewidth\":2},\"scene\":{\"xaxis\":{\"backgroundcolor\":\"#E5ECF6\",\"gridcolor\":\"white\",\"linecolor\":\"white\",\"showbackground\":true,\"ticks\":\"\",\"zerolinecolor\":\"white\",\"gridwidth\":2},\"yaxis\":{\"backgroundcolor\":\"#E5ECF6\",\"gridcolor\":\"white\",\"linecolor\":\"white\",\"showbackground\":true,\"ticks\":\"\",\"zerolinecolor\":\"white\",\"gridwidth\":2},\"zaxis\":{\"backgroundcolor\":\"#E5ECF6\",\"gridcolor\":\"white\",\"linecolor\":\"white\",\"showbackground\":true,\"ticks\":\"\",\"zerolinecolor\":\"white\",\"gridwidth\":2}},\"shapedefaults\":{\"line\":{\"color\":\"#2a3f5f\"}},\"annotationdefaults\":{\"arrowcolor\":\"#2a3f5f\",\"arrowhead\":0,\"arrowwidth\":1},\"geo\":{\"bgcolor\":\"white\",\"landcolor\":\"#E5ECF6\",\"subunitcolor\":\"white\",\"showland\":true,\"showlakes\":true,\"lakecolor\":\"white\"},\"title\":{\"x\":0.05},\"mapbox\":{\"style\":\"light\"}}},\"xaxis\":{\"anchor\":\"y\",\"domain\":[0.0,1.0],\"title\":{\"text\":\"Order Month\"}},\"yaxis\":{\"anchor\":\"x\",\"domain\":[0.0,1.0],\"title\":{\"text\":\"Profit\"}},\"legend\":{\"tracegroupgap\":0},\"title\":{\"text\":\"monthly profit analysis\"}},                        {\"responsive\": true}                    ).then(function(){\n",
       "                            \n",
       "var gd = document.getElementById('a034ba30-e2bc-461c-bcb2-2d4fa2886426');\n",
       "var x = new MutationObserver(function (mutations, observer) {{\n",
       "        var display = window.getComputedStyle(gd).display;\n",
       "        if (!display || display === 'none') {{\n",
       "            console.log([gd, 'removed!']);\n",
       "            Plotly.purge(gd);\n",
       "            observer.disconnect();\n",
       "        }}\n",
       "}});\n",
       "\n",
       "// Listen for the removal of the full notebook cells\n",
       "var notebookContainer = gd.closest('#notebook-container');\n",
       "if (notebookContainer) {{\n",
       "    x.observe(notebookContainer, {childList: true});\n",
       "}}\n",
       "\n",
       "// Listen for the clearing of the current output cell\n",
       "var outputEl = gd.closest('.output');\n",
       "if (outputEl) {{\n",
       "    x.observe(outputEl, {childList: true});\n",
       "}}\n",
       "\n",
       "                        })                };                });            </script>        </div>"
      ]
     },
     "metadata": {},
     "output_type": "display_data"
    }
   ],
   "source": [
    "Profit_by_month=data.groupby('Order Month')['Profit'].sum().reset_index()\n",
    "fig=px.line(Profit_by_month, x='Order Month', y='Profit', title=\"monthly profit analysis\")\n",
    "fig.show()"
   ]
  },
  {
   "cell_type": "code",
   "execution_count": 50,
   "id": "fa641816-8fbb-402a-a4ed-698f0ebe9a9d",
   "metadata": {},
   "outputs": [
    {
     "data": {
      "application/vnd.plotly.v1+json": {
       "config": {
        "plotlyServerURL": "https://plot.ly"
       },
       "data": [
        {
         "domain": {
          "x": [
           0,
           1
          ],
          "y": [
           0,
           1
          ]
         },
         "hole": 0.5,
         "hovertemplate": "Category=%{label}<br>Profit=%{value}<extra></extra>",
         "labels": [
          "Furniture",
          "Office Supplies",
          "Technology"
         ],
         "legendgroup": "",
         "name": "",
         "showlegend": true,
         "textinfo": "percent+label",
         "textposition": "inside",
         "type": "pie",
         "values": [
          18451.2728,
          122490.8008,
          145454.9481
         ]
        }
       ],
       "layout": {
        "autosize": true,
        "legend": {
         "tracegroupgap": 0
        },
        "margin": {
         "t": 60
        },
        "piecolorway": [
         "rgb(102, 197, 204)",
         "rgb(246, 207, 113)",
         "rgb(248, 156, 116)",
         "rgb(220, 176, 242)",
         "rgb(135, 197, 95)",
         "rgb(158, 185, 243)",
         "rgb(254, 136, 177)",
         "rgb(201, 219, 116)",
         "rgb(139, 224, 164)",
         "rgb(180, 151, 231)",
         "rgb(179, 179, 179)"
        ],
        "template": {
         "data": {
          "bar": [
           {
            "error_x": {
             "color": "#2a3f5f"
            },
            "error_y": {
             "color": "#2a3f5f"
            },
            "marker": {
             "line": {
              "color": "#E5ECF6",
              "width": 0.5
             },
             "pattern": {
              "fillmode": "overlay",
              "size": 10,
              "solidity": 0.2
             }
            },
            "type": "bar"
           }
          ],
          "barpolar": [
           {
            "marker": {
             "line": {
              "color": "#E5ECF6",
              "width": 0.5
             },
             "pattern": {
              "fillmode": "overlay",
              "size": 10,
              "solidity": 0.2
             }
            },
            "type": "barpolar"
           }
          ],
          "carpet": [
           {
            "aaxis": {
             "endlinecolor": "#2a3f5f",
             "gridcolor": "white",
             "linecolor": "white",
             "minorgridcolor": "white",
             "startlinecolor": "#2a3f5f"
            },
            "baxis": {
             "endlinecolor": "#2a3f5f",
             "gridcolor": "white",
             "linecolor": "white",
             "minorgridcolor": "white",
             "startlinecolor": "#2a3f5f"
            },
            "type": "carpet"
           }
          ],
          "choropleth": [
           {
            "colorbar": {
             "outlinewidth": 0,
             "ticks": ""
            },
            "type": "choropleth"
           }
          ],
          "contour": [
           {
            "colorbar": {
             "outlinewidth": 0,
             "ticks": ""
            },
            "colorscale": [
             [
              0,
              "#0d0887"
             ],
             [
              0.1111111111111111,
              "#46039f"
             ],
             [
              0.2222222222222222,
              "#7201a8"
             ],
             [
              0.3333333333333333,
              "#9c179e"
             ],
             [
              0.4444444444444444,
              "#bd3786"
             ],
             [
              0.5555555555555556,
              "#d8576b"
             ],
             [
              0.6666666666666666,
              "#ed7953"
             ],
             [
              0.7777777777777778,
              "#fb9f3a"
             ],
             [
              0.8888888888888888,
              "#fdca26"
             ],
             [
              1,
              "#f0f921"
             ]
            ],
            "type": "contour"
           }
          ],
          "contourcarpet": [
           {
            "colorbar": {
             "outlinewidth": 0,
             "ticks": ""
            },
            "type": "contourcarpet"
           }
          ],
          "heatmap": [
           {
            "colorbar": {
             "outlinewidth": 0,
             "ticks": ""
            },
            "colorscale": [
             [
              0,
              "#0d0887"
             ],
             [
              0.1111111111111111,
              "#46039f"
             ],
             [
              0.2222222222222222,
              "#7201a8"
             ],
             [
              0.3333333333333333,
              "#9c179e"
             ],
             [
              0.4444444444444444,
              "#bd3786"
             ],
             [
              0.5555555555555556,
              "#d8576b"
             ],
             [
              0.6666666666666666,
              "#ed7953"
             ],
             [
              0.7777777777777778,
              "#fb9f3a"
             ],
             [
              0.8888888888888888,
              "#fdca26"
             ],
             [
              1,
              "#f0f921"
             ]
            ],
            "type": "heatmap"
           }
          ],
          "heatmapgl": [
           {
            "colorbar": {
             "outlinewidth": 0,
             "ticks": ""
            },
            "colorscale": [
             [
              0,
              "#0d0887"
             ],
             [
              0.1111111111111111,
              "#46039f"
             ],
             [
              0.2222222222222222,
              "#7201a8"
             ],
             [
              0.3333333333333333,
              "#9c179e"
             ],
             [
              0.4444444444444444,
              "#bd3786"
             ],
             [
              0.5555555555555556,
              "#d8576b"
             ],
             [
              0.6666666666666666,
              "#ed7953"
             ],
             [
              0.7777777777777778,
              "#fb9f3a"
             ],
             [
              0.8888888888888888,
              "#fdca26"
             ],
             [
              1,
              "#f0f921"
             ]
            ],
            "type": "heatmapgl"
           }
          ],
          "histogram": [
           {
            "marker": {
             "pattern": {
              "fillmode": "overlay",
              "size": 10,
              "solidity": 0.2
             }
            },
            "type": "histogram"
           }
          ],
          "histogram2d": [
           {
            "colorbar": {
             "outlinewidth": 0,
             "ticks": ""
            },
            "colorscale": [
             [
              0,
              "#0d0887"
             ],
             [
              0.1111111111111111,
              "#46039f"
             ],
             [
              0.2222222222222222,
              "#7201a8"
             ],
             [
              0.3333333333333333,
              "#9c179e"
             ],
             [
              0.4444444444444444,
              "#bd3786"
             ],
             [
              0.5555555555555556,
              "#d8576b"
             ],
             [
              0.6666666666666666,
              "#ed7953"
             ],
             [
              0.7777777777777778,
              "#fb9f3a"
             ],
             [
              0.8888888888888888,
              "#fdca26"
             ],
             [
              1,
              "#f0f921"
             ]
            ],
            "type": "histogram2d"
           }
          ],
          "histogram2dcontour": [
           {
            "colorbar": {
             "outlinewidth": 0,
             "ticks": ""
            },
            "colorscale": [
             [
              0,
              "#0d0887"
             ],
             [
              0.1111111111111111,
              "#46039f"
             ],
             [
              0.2222222222222222,
              "#7201a8"
             ],
             [
              0.3333333333333333,
              "#9c179e"
             ],
             [
              0.4444444444444444,
              "#bd3786"
             ],
             [
              0.5555555555555556,
              "#d8576b"
             ],
             [
              0.6666666666666666,
              "#ed7953"
             ],
             [
              0.7777777777777778,
              "#fb9f3a"
             ],
             [
              0.8888888888888888,
              "#fdca26"
             ],
             [
              1,
              "#f0f921"
             ]
            ],
            "type": "histogram2dcontour"
           }
          ],
          "mesh3d": [
           {
            "colorbar": {
             "outlinewidth": 0,
             "ticks": ""
            },
            "type": "mesh3d"
           }
          ],
          "parcoords": [
           {
            "line": {
             "colorbar": {
              "outlinewidth": 0,
              "ticks": ""
             }
            },
            "type": "parcoords"
           }
          ],
          "pie": [
           {
            "automargin": true,
            "type": "pie"
           }
          ],
          "scatter": [
           {
            "fillpattern": {
             "fillmode": "overlay",
             "size": 10,
             "solidity": 0.2
            },
            "type": "scatter"
           }
          ],
          "scatter3d": [
           {
            "line": {
             "colorbar": {
              "outlinewidth": 0,
              "ticks": ""
             }
            },
            "marker": {
             "colorbar": {
              "outlinewidth": 0,
              "ticks": ""
             }
            },
            "type": "scatter3d"
           }
          ],
          "scattercarpet": [
           {
            "marker": {
             "colorbar": {
              "outlinewidth": 0,
              "ticks": ""
             }
            },
            "type": "scattercarpet"
           }
          ],
          "scattergeo": [
           {
            "marker": {
             "colorbar": {
              "outlinewidth": 0,
              "ticks": ""
             }
            },
            "type": "scattergeo"
           }
          ],
          "scattergl": [
           {
            "marker": {
             "colorbar": {
              "outlinewidth": 0,
              "ticks": ""
             }
            },
            "type": "scattergl"
           }
          ],
          "scattermapbox": [
           {
            "marker": {
             "colorbar": {
              "outlinewidth": 0,
              "ticks": ""
             }
            },
            "type": "scattermapbox"
           }
          ],
          "scatterpolar": [
           {
            "marker": {
             "colorbar": {
              "outlinewidth": 0,
              "ticks": ""
             }
            },
            "type": "scatterpolar"
           }
          ],
          "scatterpolargl": [
           {
            "marker": {
             "colorbar": {
              "outlinewidth": 0,
              "ticks": ""
             }
            },
            "type": "scatterpolargl"
           }
          ],
          "scatterternary": [
           {
            "marker": {
             "colorbar": {
              "outlinewidth": 0,
              "ticks": ""
             }
            },
            "type": "scatterternary"
           }
          ],
          "surface": [
           {
            "colorbar": {
             "outlinewidth": 0,
             "ticks": ""
            },
            "colorscale": [
             [
              0,
              "#0d0887"
             ],
             [
              0.1111111111111111,
              "#46039f"
             ],
             [
              0.2222222222222222,
              "#7201a8"
             ],
             [
              0.3333333333333333,
              "#9c179e"
             ],
             [
              0.4444444444444444,
              "#bd3786"
             ],
             [
              0.5555555555555556,
              "#d8576b"
             ],
             [
              0.6666666666666666,
              "#ed7953"
             ],
             [
              0.7777777777777778,
              "#fb9f3a"
             ],
             [
              0.8888888888888888,
              "#fdca26"
             ],
             [
              1,
              "#f0f921"
             ]
            ],
            "type": "surface"
           }
          ],
          "table": [
           {
            "cells": {
             "fill": {
              "color": "#EBF0F8"
             },
             "line": {
              "color": "white"
             }
            },
            "header": {
             "fill": {
              "color": "#C8D4E3"
             },
             "line": {
              "color": "white"
             }
            },
            "type": "table"
           }
          ]
         },
         "layout": {
          "annotationdefaults": {
           "arrowcolor": "#2a3f5f",
           "arrowhead": 0,
           "arrowwidth": 1
          },
          "autotypenumbers": "strict",
          "coloraxis": {
           "colorbar": {
            "outlinewidth": 0,
            "ticks": ""
           }
          },
          "colorscale": {
           "diverging": [
            [
             0,
             "#8e0152"
            ],
            [
             0.1,
             "#c51b7d"
            ],
            [
             0.2,
             "#de77ae"
            ],
            [
             0.3,
             "#f1b6da"
            ],
            [
             0.4,
             "#fde0ef"
            ],
            [
             0.5,
             "#f7f7f7"
            ],
            [
             0.6,
             "#e6f5d0"
            ],
            [
             0.7,
             "#b8e186"
            ],
            [
             0.8,
             "#7fbc41"
            ],
            [
             0.9,
             "#4d9221"
            ],
            [
             1,
             "#276419"
            ]
           ],
           "sequential": [
            [
             0,
             "#0d0887"
            ],
            [
             0.1111111111111111,
             "#46039f"
            ],
            [
             0.2222222222222222,
             "#7201a8"
            ],
            [
             0.3333333333333333,
             "#9c179e"
            ],
            [
             0.4444444444444444,
             "#bd3786"
            ],
            [
             0.5555555555555556,
             "#d8576b"
            ],
            [
             0.6666666666666666,
             "#ed7953"
            ],
            [
             0.7777777777777778,
             "#fb9f3a"
            ],
            [
             0.8888888888888888,
             "#fdca26"
            ],
            [
             1,
             "#f0f921"
            ]
           ],
           "sequentialminus": [
            [
             0,
             "#0d0887"
            ],
            [
             0.1111111111111111,
             "#46039f"
            ],
            [
             0.2222222222222222,
             "#7201a8"
            ],
            [
             0.3333333333333333,
             "#9c179e"
            ],
            [
             0.4444444444444444,
             "#bd3786"
            ],
            [
             0.5555555555555556,
             "#d8576b"
            ],
            [
             0.6666666666666666,
             "#ed7953"
            ],
            [
             0.7777777777777778,
             "#fb9f3a"
            ],
            [
             0.8888888888888888,
             "#fdca26"
            ],
            [
             1,
             "#f0f921"
            ]
           ]
          },
          "colorway": [
           "#636efa",
           "#EF553B",
           "#00cc96",
           "#ab63fa",
           "#FFA15A",
           "#19d3f3",
           "#FF6692",
           "#B6E880",
           "#FF97FF",
           "#FECB52"
          ],
          "font": {
           "color": "#2a3f5f"
          },
          "geo": {
           "bgcolor": "white",
           "lakecolor": "white",
           "landcolor": "#E5ECF6",
           "showlakes": true,
           "showland": true,
           "subunitcolor": "white"
          },
          "hoverlabel": {
           "align": "left"
          },
          "hovermode": "closest",
          "mapbox": {
           "style": "light"
          },
          "paper_bgcolor": "white",
          "plot_bgcolor": "#E5ECF6",
          "polar": {
           "angularaxis": {
            "gridcolor": "white",
            "linecolor": "white",
            "ticks": ""
           },
           "bgcolor": "#E5ECF6",
           "radialaxis": {
            "gridcolor": "white",
            "linecolor": "white",
            "ticks": ""
           }
          },
          "scene": {
           "xaxis": {
            "backgroundcolor": "#E5ECF6",
            "gridcolor": "white",
            "gridwidth": 2,
            "linecolor": "white",
            "showbackground": true,
            "ticks": "",
            "zerolinecolor": "white"
           },
           "yaxis": {
            "backgroundcolor": "#E5ECF6",
            "gridcolor": "white",
            "gridwidth": 2,
            "linecolor": "white",
            "showbackground": true,
            "ticks": "",
            "zerolinecolor": "white"
           },
           "zaxis": {
            "backgroundcolor": "#E5ECF6",
            "gridcolor": "white",
            "gridwidth": 2,
            "linecolor": "white",
            "showbackground": true,
            "ticks": "",
            "zerolinecolor": "white"
           }
          },
          "shapedefaults": {
           "line": {
            "color": "#2a3f5f"
           }
          },
          "ternary": {
           "aaxis": {
            "gridcolor": "white",
            "linecolor": "white",
            "ticks": ""
           },
           "baxis": {
            "gridcolor": "white",
            "linecolor": "white",
            "ticks": ""
           },
           "bgcolor": "#E5ECF6",
           "caxis": {
            "gridcolor": "white",
            "linecolor": "white",
            "ticks": ""
           }
          },
          "title": {
           "x": 0.05
          },
          "xaxis": {
           "automargin": true,
           "gridcolor": "white",
           "linecolor": "white",
           "ticks": "",
           "title": {
            "standoff": 15
           },
           "zerolinecolor": "white",
           "zerolinewidth": 2
          },
          "yaxis": {
           "automargin": true,
           "gridcolor": "white",
           "linecolor": "white",
           "ticks": "",
           "title": {
            "standoff": 15
           },
           "zerolinecolor": "white",
           "zerolinewidth": 2
          }
         }
        },
        "title": {
         "font": {
          "size": 46
         },
         "text": "Profit analysis by category"
        }
       }
      },
      "image/png": "[encoded data removed]",
      "text/html": [
       "<div>                            <div id=\"25cc65c6-28e2-4e6f-ad1b-44cba9f66445\" class=\"plotly-graph-div\" style=\"height:525px; width:100%;\"></div>            <script type=\"text/javascript\">                require([\"plotly\"], function(Plotly) {                    window.PLOTLYENV=window.PLOTLYENV || {};                                    if (document.getElementById(\"25cc65c6-28e2-4e6f-ad1b-44cba9f66445\")) {                    Plotly.newPlot(                        \"25cc65c6-28e2-4e6f-ad1b-44cba9f66445\",                        [{\"domain\":{\"x\":[0.0,1.0],\"y\":[0.0,1.0]},\"hole\":0.5,\"hovertemplate\":\"Category=%{label}\\u003cbr\\u003eProfit=%{value}\\u003cextra\\u003e\\u003c\\u002fextra\\u003e\",\"labels\":[\"Furniture\",\"Office Supplies\",\"Technology\"],\"legendgroup\":\"\",\"name\":\"\",\"showlegend\":true,\"values\":[18451.2728,122490.8008,145454.9481],\"type\":\"pie\",\"textinfo\":\"percent+label\",\"textposition\":\"inside\"}],                        {\"template\":{\"data\":{\"histogram2dcontour\":[{\"type\":\"histogram2dcontour\",\"colorbar\":{\"outlinewidth\":0,\"ticks\":\"\"},\"colorscale\":[[0.0,\"#0d0887\"],[0.1111111111111111,\"#46039f\"],[0.2222222222222222,\"#7201a8\"],[0.3333333333333333,\"#9c179e\"],[0.4444444444444444,\"#bd3786\"],[0.5555555555555556,\"#d8576b\"],[0.6666666666666666,\"#ed7953\"],[0.7777777777777778,\"#fb9f3a\"],[0.8888888888888888,\"#fdca26\"],[1.0,\"#f0f921\"]]}],\"choropleth\":[{\"type\":\"choropleth\",\"colorbar\":{\"outlinewidth\":0,\"ticks\":\"\"}}],\"histogram2d\":[{\"type\":\"histogram2d\",\"colorbar\":{\"outlinewidth\":0,\"ticks\":\"\"},\"colorscale\":[[0.0,\"#0d0887\"],[0.1111111111111111,\"#46039f\"],[0.2222222222222222,\"#7201a8\"],[0.3333333333333333,\"#9c179e\"],[0.4444444444444444,\"#bd3786\"],[0.5555555555555556,\"#d8576b\"],[0.6666666666666666,\"#ed7953\"],[0.7777777777777778,\"#fb9f3a\"],[0.8888888888888888,\"#fdca26\"],[1.0,\"#f0f921\"]]}],\"heatmap\":[{\"type\":\"heatmap\",\"colorbar\":{\"outlinewidth\":0,\"ticks\":\"\"},\"colorscale\":[[0.0,\"#0d0887\"],[0.1111111111111111,\"#46039f\"],[0.2222222222222222,\"#7201a8\"],[0.3333333333333333,\"#9c179e\"],[0.4444444444444444,\"#bd3786\"],[0.5555555555555556,\"#d8576b\"],[0.6666666666666666,\"#ed7953\"],[0.7777777777777778,\"#fb9f3a\"],[0.8888888888888888,\"#fdca26\"],[1.0,\"#f0f921\"]]}],\"heatmapgl\":[{\"type\":\"heatmapgl\",\"colorbar\":{\"outlinewidth\":0,\"ticks\":\"\"},\"colorscale\":[[0.0,\"#0d0887\"],[0.1111111111111111,\"#46039f\"],[0.2222222222222222,\"#7201a8\"],[0.3333333333333333,\"#9c179e\"],[0.4444444444444444,\"#bd3786\"],[0.5555555555555556,\"#d8576b\"],[0.6666666666666666,\"#ed7953\"],[0.7777777777777778,\"#fb9f3a\"],[0.8888888888888888,\"#fdca26\"],[1.0,\"#f0f921\"]]}],\"contourcarpet\":[{\"type\":\"contourcarpet\",\"colorbar\":{\"outlinewidth\":0,\"ticks\":\"\"}}],\"contour\":[{\"type\":\"contour\",\"colorbar\":{\"outlinewidth\":0,\"ticks\":\"\"},\"colorscale\":[[0.0,\"#0d0887\"],[0.1111111111111111,\"#46039f\"],[0.2222222222222222,\"#7201a8\"],[0.3333333333333333,\"#9c179e\"],[0.4444444444444444,\"#bd3786\"],[0.5555555555555556,\"#d8576b\"],[0.6666666666666666,\"#ed7953\"],[0.7777777777777778,\"#fb9f3a\"],[0.8888888888888888,\"#fdca26\"],[1.0,\"#f0f921\"]]}],\"surface\":[{\"type\":\"surface\",\"colorbar\":{\"outlinewidth\":0,\"ticks\":\"\"},\"colorscale\":[[0.0,\"#0d0887\"],[0.1111111111111111,\"#46039f\"],[0.2222222222222222,\"#7201a8\"],[0.3333333333333333,\"#9c179e\"],[0.4444444444444444,\"#bd3786\"],[0.5555555555555556,\"#d8576b\"],[0.6666666666666666,\"#ed7953\"],[0.7777777777777778,\"#fb9f3a\"],[0.8888888888888888,\"#fdca26\"],[1.0,\"#f0f921\"]]}],\"mesh3d\":[{\"type\":\"mesh3d\",\"colorbar\":{\"outlinewidth\":0,\"ticks\":\"\"}}],\"scatter\":[{\"fillpattern\":{\"fillmode\":\"overlay\",\"size\":10,\"solidity\":0.2},\"type\":\"scatter\"}],\"parcoords\":[{\"type\":\"parcoords\",\"line\":{\"colorbar\":{\"outlinewidth\":0,\"ticks\":\"\"}}}],\"scatterpolargl\":[{\"type\":\"scatterpolargl\",\"marker\":{\"colorbar\":{\"outlinewidth\":0,\"ticks\":\"\"}}}],\"bar\":[{\"error_x\":{\"color\":\"#2a3f5f\"},\"error_y\":{\"color\":\"#2a3f5f\"},\"marker\":{\"line\":{\"color\":\"#E5ECF6\",\"width\":0.5},\"pattern\":{\"fillmode\":\"overlay\",\"size\":10,\"solidity\":0.2}},\"type\":\"bar\"}],\"scattergeo\":[{\"type\":\"scattergeo\",\"marker\":{\"colorbar\":{\"outlinewidth\":0,\"ticks\":\"\"}}}],\"scatterpolar\":[{\"type\":\"scatterpolar\",\"marker\":{\"colorbar\":{\"outlinewidth\":0,\"ticks\":\"\"}}}],\"histogram\":[{\"marker\":{\"pattern\":{\"fillmode\":\"overlay\",\"size\":10,\"solidity\":0.2}},\"type\":\"histogram\"}],\"scattergl\":[{\"type\":\"scattergl\",\"marker\":{\"colorbar\":{\"outlinewidth\":0,\"ticks\":\"\"}}}],\"scatter3d\":[{\"type\":\"scatter3d\",\"line\":{\"colorbar\":{\"outlinewidth\":0,\"ticks\":\"\"}},\"marker\":{\"colorbar\":{\"outlinewidth\":0,\"ticks\":\"\"}}}],\"scattermapbox\":[{\"type\":\"scattermapbox\",\"marker\":{\"colorbar\":{\"outlinewidth\":0,\"ticks\":\"\"}}}],\"scatterternary\":[{\"type\":\"scatterternary\",\"marker\":{\"colorbar\":{\"outlinewidth\":0,\"ticks\":\"\"}}}],\"scattercarpet\":[{\"type\":\"scattercarpet\",\"marker\":{\"colorbar\":{\"outlinewidth\":0,\"ticks\":\"\"}}}],\"carpet\":[{\"aaxis\":{\"endlinecolor\":\"#2a3f5f\",\"gridcolor\":\"white\",\"linecolor\":\"white\",\"minorgridcolor\":\"white\",\"startlinecolor\":\"#2a3f5f\"},\"baxis\":{\"endlinecolor\":\"#2a3f5f\",\"gridcolor\":\"white\",\"linecolor\":\"white\",\"minorgridcolor\":\"white\",\"startlinecolor\":\"#2a3f5f\"},\"type\":\"carpet\"}],\"table\":[{\"cells\":{\"fill\":{\"color\":\"#EBF0F8\"},\"line\":{\"color\":\"white\"}},\"header\":{\"fill\":{\"color\":\"#C8D4E3\"},\"line\":{\"color\":\"white\"}},\"type\":\"table\"}],\"barpolar\":[{\"marker\":{\"line\":{\"color\":\"#E5ECF6\",\"width\":0.5},\"pattern\":{\"fillmode\":\"overlay\",\"size\":10,\"solidity\":0.2}},\"type\":\"barpolar\"}],\"pie\":[{\"automargin\":true,\"type\":\"pie\"}]},\"layout\":{\"autotypenumbers\":\"strict\",\"colorway\":[\"#636efa\",\"#EF553B\",\"#00cc96\",\"#ab63fa\",\"#FFA15A\",\"#19d3f3\",\"#FF6692\",\"#B6E880\",\"#FF97FF\",\"#FECB52\"],\"font\":{\"color\":\"#2a3f5f\"},\"hovermode\":\"closest\",\"hoverlabel\":{\"align\":\"left\"},\"paper_bgcolor\":\"white\",\"plot_bgcolor\":\"#E5ECF6\",\"polar\":{\"bgcolor\":\"#E5ECF6\",\"angularaxis\":{\"gridcolor\":\"white\",\"linecolor\":\"white\",\"ticks\":\"\"},\"radialaxis\":{\"gridcolor\":\"white\",\"linecolor\":\"white\",\"ticks\":\"\"}},\"ternary\":{\"bgcolor\":\"#E5ECF6\",\"aaxis\":{\"gridcolor\":\"white\",\"linecolor\":\"white\",\"ticks\":\"\"},\"baxis\":{\"gridcolor\":\"white\",\"linecolor\":\"white\",\"ticks\":\"\"},\"caxis\":{\"gridcolor\":\"white\",\"linecolor\":\"white\",\"ticks\":\"\"}},\"coloraxis\":{\"colorbar\":{\"outlinewidth\":0,\"ticks\":\"\"}},\"colorscale\":{\"sequential\":[[0.0,\"#0d0887\"],[0.1111111111111111,\"#46039f\"],[0.2222222222222222,\"#7201a8\"],[0.3333333333333333,\"#9c179e\"],[0.4444444444444444,\"#bd3786\"],[0.5555555555555556,\"#d8576b\"],[0.6666666666666666,\"#ed7953\"],[0.7777777777777778,\"#fb9f3a\"],[0.8888888888888888,\"#fdca26\"],[1.0,\"#f0f921\"]],\"sequentialminus\":[[0.0,\"#0d0887\"],[0.1111111111111111,\"#46039f\"],[0.2222222222222222,\"#7201a8\"],[0.3333333333333333,\"#9c179e\"],[0.4444444444444444,\"#bd3786\"],[0.5555555555555556,\"#d8576b\"],[0.6666666666666666,\"#ed7953\"],[0.7777777777777778,\"#fb9f3a\"],[0.8888888888888888,\"#fdca26\"],[1.0,\"#f0f921\"]],\"diverging\":[[0,\"#8e0152\"],[0.1,\"#c51b7d\"],[0.2,\"#de77ae\"],[0.3,\"#f1b6da\"],[0.4,\"#fde0ef\"],[0.5,\"#f7f7f7\"],[0.6,\"#e6f5d0\"],[0.7,\"#b8e186\"],[0.8,\"#7fbc41\"],[0.9,\"#4d9221\"],[1,\"#276419\"]]},\"xaxis\":{\"gridcolor\":\"white\",\"linecolor\":\"white\",\"ticks\":\"\",\"title\":{\"standoff\":15},\"zerolinecolor\":\"white\",\"automargin\":true,\"zerolinewidth\":2},\"yaxis\":{\"gridcolor\":\"white\",\"linecolor\":\"white\",\"ticks\":\"\",\"title\":{\"standoff\":15},\"zerolinecolor\":\"white\",\"automargin\":true,\"zerolinewidth\":2},\"scene\":{\"xaxis\":{\"backgroundcolor\":\"#E5ECF6\",\"gridcolor\":\"white\",\"linecolor\":\"white\",\"showbackground\":true,\"ticks\":\"\",\"zerolinecolor\":\"white\",\"gridwidth\":2},\"yaxis\":{\"backgroundcolor\":\"#E5ECF6\",\"gridcolor\":\"white\",\"linecolor\":\"white\",\"showbackground\":true,\"ticks\":\"\",\"zerolinecolor\":\"white\",\"gridwidth\":2},\"zaxis\":{\"backgroundcolor\":\"#E5ECF6\",\"gridcolor\":\"white\",\"linecolor\":\"white\",\"showbackground\":true,\"ticks\":\"\",\"zerolinecolor\":\"white\",\"gridwidth\":2}},\"shapedefaults\":{\"line\":{\"color\":\"#2a3f5f\"}},\"annotationdefaults\":{\"arrowcolor\":\"#2a3f5f\",\"arrowhead\":0,\"arrowwidth\":1},\"geo\":{\"bgcolor\":\"white\",\"landcolor\":\"#E5ECF6\",\"subunitcolor\":\"white\",\"showland\":true,\"showlakes\":true,\"lakecolor\":\"white\"},\"title\":{\"x\":0.05},\"mapbox\":{\"style\":\"light\"}}},\"legend\":{\"tracegroupgap\":0},\"margin\":{\"t\":60},\"piecolorway\":[\"rgb(102, 197, 204)\",\"rgb(246, 207, 113)\",\"rgb(248, 156, 116)\",\"rgb(220, 176, 242)\",\"rgb(135, 197, 95)\",\"rgb(158, 185, 243)\",\"rgb(254, 136, 177)\",\"rgb(201, 219, 116)\",\"rgb(139, 224, 164)\",\"rgb(180, 151, 231)\",\"rgb(179, 179, 179)\"],\"title\":{\"font\":{\"size\":46},\"text\":\"Profit analysis by category\"}},                        {\"responsive\": true}                    ).then(function(){\n",
       "                            \n",
       "var gd = document.getElementById('25cc65c6-28e2-4e6f-ad1b-44cba9f66445');\n",
       "var x = new MutationObserver(function (mutations, observer) {{\n",
       "        var display = window.getComputedStyle(gd).display;\n",
       "        if (!display || display === 'none') {{\n",
       "            console.log([gd, 'removed!']);\n",
       "            Plotly.purge(gd);\n",
       "            observer.disconnect();\n",
       "        }}\n",
       "}});\n",
       "\n",
       "// Listen for the removal of the full notebook cells\n",
       "var notebookContainer = gd.closest('#notebook-container');\n",
       "if (notebookContainer) {{\n",
       "    x.observe(notebookContainer, {childList: true});\n",
       "}}\n",
       "\n",
       "// Listen for the clearing of the current output cell\n",
       "var outputEl = gd.closest('.output');\n",
       "if (outputEl) {{\n",
       "    x.observe(outputEl, {childList: true});\n",
       "}}\n",
       "\n",
       "                        })                };                });            </script>        </div>"
      ]
     },
     "metadata": {},
     "output_type": "display_data"
    }
   ],
   "source": [
    "Profit_by_category=data.groupby('Category')['Profit'].sum().reset_index()\n",
    "fig=px.pie(Profit_by_category, values='Profit', names='Category', hole=0.5, color_discrete_sequence=px.colors.qualitative.Pastel)\n",
    "fig.update_traces(textposition=\"inside\", textinfo=\"percent+label\")\n",
    "fig.update_layout(title_text=\"Profit analysis by category\", title_font=dict(size=46))\n",
    "fig.show()"
   ]
  },
  {
   "cell_type": "code",
   "execution_count": 51,
   "id": "6d23c446-c2d1-4212-a752-e2d5d929a2ab",
   "metadata": {},
   "outputs": [
    {
     "data": {
      "text/html": [
       "<div>\n",
       "<style scoped>\n",
       "    .dataframe tbody tr th:only-of-type {\n",
       "        vertical-align: middle;\n",
       "    }\n",
       "\n",
       "    .dataframe tbody tr th {\n",
       "        vertical-align: top;\n",
       "    }\n",
       "\n",
       "    .dataframe thead th {\n",
       "        text-align: right;\n",
       "    }\n",
       "</style>\n",
       "<table border=\"1\" class=\"dataframe\">\n",
       "  <thead>\n",
       "    <tr style=\"text-align: right;\">\n",
       "      <th></th>\n",
       "      <th>Row ID</th>\n",
       "      <th>Order ID</th>\n",
       "      <th>Order Date</th>\n",
       "      <th>Ship Date</th>\n",
       "      <th>Ship Mode</th>\n",
       "      <th>Customer ID</th>\n",
       "      <th>Customer Name</th>\n",
       "      <th>Segment</th>\n",
       "      <th>Country</th>\n",
       "      <th>City</th>\n",
       "      <th>...</th>\n",
       "      <th>Category</th>\n",
       "      <th>Sub-Category</th>\n",
       "      <th>Product Name</th>\n",
       "      <th>Sales</th>\n",
       "      <th>Quantity</th>\n",
       "      <th>Discount</th>\n",
       "      <th>Profit</th>\n",
       "      <th>Order Month</th>\n",
       "      <th>Order Year</th>\n",
       "      <th>Order Day</th>\n",
       "    </tr>\n",
       "  </thead>\n",
       "  <tbody>\n",
       "    <tr>\n",
       "      <th>0</th>\n",
       "      <td>1</td>\n",
       "      <td>CA-2016-152156</td>\n",
       "      <td>2016-08-11</td>\n",
       "      <td>2016-11-11</td>\n",
       "      <td>Second Class</td>\n",
       "      <td>CG-12520</td>\n",
       "      <td>Claire Gute</td>\n",
       "      <td>Consumer</td>\n",
       "      <td>United States</td>\n",
       "      <td>Henderson</td>\n",
       "      <td>...</td>\n",
       "      <td>Furniture</td>\n",
       "      <td>Bookcases</td>\n",
       "      <td>Bush Somerset Collection Bookcase</td>\n",
       "      <td>261.9600</td>\n",
       "      <td>2</td>\n",
       "      <td>0.00</td>\n",
       "      <td>41.9136</td>\n",
       "      <td>8</td>\n",
       "      <td>2016</td>\n",
       "      <td>3</td>\n",
       "    </tr>\n",
       "    <tr>\n",
       "      <th>1</th>\n",
       "      <td>2</td>\n",
       "      <td>CA-2016-152156</td>\n",
       "      <td>2016-08-11</td>\n",
       "      <td>2016-11-11</td>\n",
       "      <td>Second Class</td>\n",
       "      <td>CG-12520</td>\n",
       "      <td>Claire Gute</td>\n",
       "      <td>Consumer</td>\n",
       "      <td>United States</td>\n",
       "      <td>Henderson</td>\n",
       "      <td>...</td>\n",
       "      <td>Furniture</td>\n",
       "      <td>Chairs</td>\n",
       "      <td>Hon Deluxe Fabric Upholstered Stacking Chairs,...</td>\n",
       "      <td>731.9400</td>\n",
       "      <td>3</td>\n",
       "      <td>0.00</td>\n",
       "      <td>219.5820</td>\n",
       "      <td>8</td>\n",
       "      <td>2016</td>\n",
       "      <td>3</td>\n",
       "    </tr>\n",
       "    <tr>\n",
       "      <th>2</th>\n",
       "      <td>3</td>\n",
       "      <td>CA-2016-138688</td>\n",
       "      <td>2016-12-06</td>\n",
       "      <td>2016-06-16</td>\n",
       "      <td>Second Class</td>\n",
       "      <td>DV-13045</td>\n",
       "      <td>Darrin Van Huff</td>\n",
       "      <td>Corporate</td>\n",
       "      <td>United States</td>\n",
       "      <td>Los Angeles</td>\n",
       "      <td>...</td>\n",
       "      <td>Office Supplies</td>\n",
       "      <td>Labels</td>\n",
       "      <td>Self-Adhesive Address Labels for Typewriters b...</td>\n",
       "      <td>14.6200</td>\n",
       "      <td>2</td>\n",
       "      <td>0.00</td>\n",
       "      <td>6.8714</td>\n",
       "      <td>12</td>\n",
       "      <td>2016</td>\n",
       "      <td>1</td>\n",
       "    </tr>\n",
       "    <tr>\n",
       "      <th>3</th>\n",
       "      <td>4</td>\n",
       "      <td>US-2015-108966</td>\n",
       "      <td>2015-11-10</td>\n",
       "      <td>2015-10-18</td>\n",
       "      <td>Standard Class</td>\n",
       "      <td>SO-20335</td>\n",
       "      <td>Sean O'Donnell</td>\n",
       "      <td>Consumer</td>\n",
       "      <td>United States</td>\n",
       "      <td>Fort Lauderdale</td>\n",
       "      <td>...</td>\n",
       "      <td>Furniture</td>\n",
       "      <td>Tables</td>\n",
       "      <td>Bretford CR4500 Series Slim Rectangular Table</td>\n",
       "      <td>957.5775</td>\n",
       "      <td>5</td>\n",
       "      <td>0.45</td>\n",
       "      <td>-383.0310</td>\n",
       "      <td>11</td>\n",
       "      <td>2015</td>\n",
       "      <td>1</td>\n",
       "    </tr>\n",
       "    <tr>\n",
       "      <th>4</th>\n",
       "      <td>5</td>\n",
       "      <td>US-2015-108966</td>\n",
       "      <td>2015-11-10</td>\n",
       "      <td>2015-10-18</td>\n",
       "      <td>Standard Class</td>\n",
       "      <td>SO-20335</td>\n",
       "      <td>Sean O'Donnell</td>\n",
       "      <td>Consumer</td>\n",
       "      <td>United States</td>\n",
       "      <td>Fort Lauderdale</td>\n",
       "      <td>...</td>\n",
       "      <td>Office Supplies</td>\n",
       "      <td>Storage</td>\n",
       "      <td>Eldon Fold 'N Roll Cart System</td>\n",
       "      <td>22.3680</td>\n",
       "      <td>2</td>\n",
       "      <td>0.20</td>\n",
       "      <td>2.5164</td>\n",
       "      <td>11</td>\n",
       "      <td>2015</td>\n",
       "      <td>1</td>\n",
       "    </tr>\n",
       "  </tbody>\n",
       "</table>\n",
       "<p>5 rows × 24 columns</p>\n",
       "</div>"
      ],
      "text/plain": [
       "   Row ID        Order ID Order Date  Ship Date       Ship Mode Customer ID  \\\n",
       "0       1  CA-2016-152156 2016-08-11 2016-11-11    Second Class    CG-12520   \n",
       "1       2  CA-2016-152156 2016-08-11 2016-11-11    Second Class    CG-12520   \n",
       "2       3  CA-2016-138688 2016-12-06 2016-06-16    Second Class    DV-13045   \n",
       "3       4  US-2015-108966 2015-11-10 2015-10-18  Standard Class    SO-20335   \n",
       "4       5  US-2015-108966 2015-11-10 2015-10-18  Standard Class    SO-20335   \n",
       "\n",
       "     Customer Name    Segment        Country             City  ...  \\\n",
       "0      Claire Gute   Consumer  United States        Henderson  ...   \n",
       "1      Claire Gute   Consumer  United States        Henderson  ...   \n",
       "2  Darrin Van Huff  Corporate  United States      Los Angeles  ...   \n",
       "3   Sean O'Donnell   Consumer  United States  Fort Lauderdale  ...   \n",
       "4   Sean O'Donnell   Consumer  United States  Fort Lauderdale  ...   \n",
       "\n",
       "          Category  Sub-Category  \\\n",
       "0        Furniture     Bookcases   \n",
       "1        Furniture        Chairs   \n",
       "2  Office Supplies        Labels   \n",
       "3        Furniture        Tables   \n",
       "4  Office Supplies       Storage   \n",
       "\n",
       "                                        Product Name     Sales Quantity  \\\n",
       "0                  Bush Somerset Collection Bookcase  261.9600        2   \n",
       "1  Hon Deluxe Fabric Upholstered Stacking Chairs,...  731.9400        3   \n",
       "2  Self-Adhesive Address Labels for Typewriters b...   14.6200        2   \n",
       "3      Bretford CR4500 Series Slim Rectangular Table  957.5775        5   \n",
       "4                     Eldon Fold 'N Roll Cart System   22.3680        2   \n",
       "\n",
       "  Discount    Profit  Order Month  Order Year  Order Day  \n",
       "0     0.00   41.9136            8        2016          3  \n",
       "1     0.00  219.5820            8        2016          3  \n",
       "2     0.00    6.8714           12        2016          1  \n",
       "3     0.45 -383.0310           11        2015          1  \n",
       "4     0.20    2.5164           11        2015          1  \n",
       "\n",
       "[5 rows x 24 columns]"
      ]
     },
     "execution_count": 51,
     "metadata": {},
     "output_type": "execute_result"
    }
   ],
   "source": [
    "data.head()"
   ]
  },
  {
   "cell_type": "code",
   "execution_count": 52,
   "id": "de89b8e3-604d-46d4-b069-fea867543fb0",
   "metadata": {},
   "outputs": [
    {
     "data": {
      "text/plain": [
       "Index(['Row ID', 'Order ID', 'Order Date', 'Ship Date', 'Ship Mode',\n",
       "       'Customer ID', 'Customer Name', 'Segment', 'Country', 'City', 'State',\n",
       "       'Postal Code', 'Region', 'Product ID', 'Category', 'Sub-Category',\n",
       "       'Product Name', 'Sales', 'Quantity', 'Discount', 'Profit',\n",
       "       'Order Month', 'Order Year', 'Order Day'],\n",
       "      dtype='object')"
      ]
     },
     "execution_count": 52,
     "metadata": {},
     "output_type": "execute_result"
    }
   ],
   "source": [
    "data.columns"
   ]
  },
  {
   "cell_type": "code",
   "execution_count": 93,
   "id": "e48295de-1543-47c8-ad59-7cf1a77f7212",
   "metadata": {},
   "outputs": [
    {
     "ename": "NameError",
     "evalue": "name 'colors' is not defined",
     "output_type": "error",
     "traceback": [
      "\u001b[1;31m---------------------------------------------------------------------------\u001b[0m",
      "\u001b[1;31mNameError\u001b[0m                                 Traceback (most recent call last)",
      "Cell \u001b[1;32mIn[93], line 2\u001b[0m\n\u001b[0;32m      1\u001b[0m sales_profit_by_Segment\u001b[38;5;241m=\u001b[39mdata\u001b[38;5;241m.\u001b[39mgroupby(\u001b[38;5;124m'\u001b[39m\u001b[38;5;124mSegment\u001b[39m\u001b[38;5;124m'\u001b[39m)\u001b[38;5;241m.\u001b[39magg({\u001b[38;5;124m'\u001b[39m\u001b[38;5;124mSales\u001b[39m\u001b[38;5;124m'\u001b[39m:\u001b[38;5;124m'\u001b[39m\u001b[38;5;124msum\u001b[39m\u001b[38;5;124m'\u001b[39m,\u001b[38;5;124m'\u001b[39m\u001b[38;5;124mProfit\u001b[39m\u001b[38;5;124m'\u001b[39m:\u001b[38;5;124m'\u001b[39m\u001b[38;5;124msum\u001b[39m\u001b[38;5;124m'\u001b[39m})\u001b[38;5;241m.\u001b[39mreset_index()\n\u001b[1;32m----> 2\u001b[0m color_palette \u001b[38;5;241m=\u001b[39m colors\u001b[38;5;241m.\u001b[39mqualitative\u001b[38;5;241m.\u001b[39mPastel\n\u001b[0;32m      3\u001b[0m fig\u001b[38;5;241m=\u001b[39mgo\u001b[38;5;241m.\u001b[39mFigure()\n\u001b[0;32m      4\u001b[0m fig\u001b[38;5;241m.\u001b[39madd_trace(go\u001b[38;5;241m.\u001b[39mbar(x\u001b[38;5;241m=\u001b[39msales_profit_by_Segment[\u001b[38;5;124m'\u001b[39m\u001b[38;5;124mSegment\u001b[39m\u001b[38;5;124m'\u001b[39m], y\u001b[38;5;241m=\u001b[39msales_profit_by_Segment[\u001b[38;5;124m'\u001b[39m\u001b[38;5;124mSales\u001b[39m\u001b[38;5;124m'\u001b[39m], name\u001b[38;5;241m=\u001b[39m\u001b[38;5;124m'\u001b[39m\u001b[38;5;124mSales\u001b[39m\u001b[38;5;124m'\u001b[39m, marker_color\u001b[38;5;241m=\u001b[39mcolor_palette[\u001b[38;5;241m6\u001b[39m]))\n",
      "\u001b[1;31mNameError\u001b[0m: name 'colors' is not defined"
     ]
    }
   ],
   "source": [
    "sales_profit_by_Segment=data.groupby('Segment').agg({'Sales':'sum','Profit':'sum'}).reset_index()\n",
    "color_palette = colors.qualitative.Pastel\n",
    "fig=go.Figure()\n",
    "fig.add_trace(go.bar(x=sales_profit_by_Segment['Segment'], y=sales_profit_by_Segment['Sales'], name='Sales', marker_color=color_palette[6]))\n",
    "fig.add_trace(go.bar(x=sales_profit_by_Segment['Segment'], y=sales_profit_by_Segment['Profit'], name='Profit', marker_color=color_palette[0]))\n",
    "fig.update_layout(title_text=\"Sale n Profit analysis by customer segment\", xaxis_title=\"customer segment\", yaxis_title= \"Amount\" )\n",
    "fig.show()"
   ]
  },
  {
   "cell_type": "code",
   "execution_count": 87,
   "id": "5ae47461-2f99-4c45-b9c1-c36d37534da2",
   "metadata": {},
   "outputs": [
    {
     "data": {
      "text/html": [
       "<div>\n",
       "<style scoped>\n",
       "    .dataframe tbody tr th:only-of-type {\n",
       "        vertical-align: middle;\n",
       "    }\n",
       "\n",
       "    .dataframe tbody tr th {\n",
       "        vertical-align: top;\n",
       "    }\n",
       "\n",
       "    .dataframe thead th {\n",
       "        text-align: right;\n",
       "    }\n",
       "</style>\n",
       "<table border=\"1\" class=\"dataframe\">\n",
       "  <thead>\n",
       "    <tr style=\"text-align: right;\">\n",
       "      <th></th>\n",
       "      <th>Segment</th>\n",
       "      <th>Sales</th>\n",
       "      <th>Profit</th>\n",
       "    </tr>\n",
       "  </thead>\n",
       "  <tbody>\n",
       "    <tr>\n",
       "      <th>0</th>\n",
       "      <td>Consumer</td>\n",
       "      <td>1.161401e+06</td>\n",
       "      <td>134119.2092</td>\n",
       "    </tr>\n",
       "    <tr>\n",
       "      <th>1</th>\n",
       "      <td>Corporate</td>\n",
       "      <td>7.061464e+05</td>\n",
       "      <td>91979.1340</td>\n",
       "    </tr>\n",
       "    <tr>\n",
       "      <th>2</th>\n",
       "      <td>Home Office</td>\n",
       "      <td>4.296531e+05</td>\n",
       "      <td>60298.6785</td>\n",
       "    </tr>\n",
       "  </tbody>\n",
       "</table>\n",
       "</div>"
      ],
      "text/plain": [
       "       Segment         Sales       Profit\n",
       "0     Consumer  1.161401e+06  134119.2092\n",
       "1    Corporate  7.061464e+05   91979.1340\n",
       "2  Home Office  4.296531e+05   60298.6785"
      ]
     },
     "execution_count": 87,
     "metadata": {},
     "output_type": "execute_result"
    }
   ],
   "source": [
    "sales_profit_by_Segment=data.groupby('Segment').agg({'Sales':'sum','Profit':'sum'}).reset_index()\n",
    "sales_profit_by_Segment"
   ]
  },
  {
   "cell_type": "code",
   "execution_count": 89,
   "id": "0704949e-4fa6-4a60-9462-027cf2bfad87",
   "metadata": {},
   "outputs": [
    {
     "ename": "NameError",
     "evalue": "name 'Colors' is not defined",
     "output_type": "error",
     "traceback": [
      "\u001b[1;31m---------------------------------------------------------------------------\u001b[0m",
      "\u001b[1;31mNameError\u001b[0m                                 Traceback (most recent call last)",
      "Cell \u001b[1;32mIn[89], line 1\u001b[0m\n\u001b[1;32m----> 1\u001b[0m color_palette\u001b[38;5;241m=\u001b[39m Colors\u001b[38;5;241m.\u001b[39mqualitative\u001b[38;5;241m.\u001b[39mPastel\n\u001b[0;32m      2\u001b[0m fig\u001b[38;5;241m=\u001b[39mgo\u001b[38;5;241m.\u001b[39mFigure()\n\u001b[0;32m      3\u001b[0m fig\u001b[38;5;241m.\u001b[39madd_trace(go\u001b[38;5;241m.\u001b[39mbar(x\u001b[38;5;241m=\u001b[39msales_profit_by_Segment[\u001b[38;5;124m'\u001b[39m\u001b[38;5;124mSegment\u001b[39m\u001b[38;5;124m'\u001b[39m], y\u001b[38;5;241m=\u001b[39msales_profit_by_Segment[\u001b[38;5;124m'\u001b[39m\u001b[38;5;124mSales\u001b[39m\u001b[38;5;124m'\u001b[39m], name\u001b[38;5;241m=\u001b[39m\u001b[38;5;124m'\u001b[39m\u001b[38;5;124mSales\u001b[39m\u001b[38;5;124m'\u001b[39m, marker_color\u001b[38;5;241m=\u001b[39mcolor_palette([\u001b[38;5;241m0\u001b[39m])))\n",
      "\u001b[1;31mNameError\u001b[0m: name 'Colors' is not defined"
     ]
    }
   ],
   "source": [
    "color_palette= Colors.qualitative.Pastel\n",
    "fig=go.Figure()\n",
    "fig.add_trace(go.bar(x=sales_profit_by_Segment['Segment'], y=sales_profit_by_Segment['Sales'], name='Sales', marker_color=color_palette([0])))\n",
    "fig.add_trace(go.bar(x=sales_profit_by_Segment['Segment'], y=sales_profit_by_Segment['Profit'], name='Profit', marker_color=color_palette([0])))\n",
    "fig.update_layout(title_text=\"Sale n Profit analysis by customer segment\", yaxis_title=\"customer segment\", yaxis_title= \"Amount\" )\n",
    "fig.show()\n"
   ]
  },
  {
   "cell_type": "code",
   "execution_count": 92,
   "id": "f4b1c416-3bd4-4889-9beb-700547c34175",
   "metadata": {},
   "outputs": [
    {
     "data": {
      "application/vnd.plotly.v1+json": {
       "config": {
        "plotlyServerURL": "https://plot.ly"
       },
       "data": [
        {
         "hovertemplate": "continent=Asia<br>country=Afghanistan<br>year=%{x}<br>lifeExp=%{y}<extra></extra>",
         "legendgroup": "Asia",
         "line": {
          "color": "#3366CC",
          "dash": "solid",
          "shape": "spline"
         },
         "marker": {
          "symbol": "circle"
         },
         "mode": "lines",
         "name": "Asia",
         "orientation": "v",
         "showlegend": true,
         "type": "scatter",
         "x": [
          1952,
          1957,
          1962,
          1967,
          1972,
          1977,
          1982,
          1987,
          1992,
          1997,
          2002,
          2007
         ],
         "xaxis": "x",
         "y": [
          28.801,
          30.332,
          31.997,
          34.02,
          36.088,
          38.438,
          39.854,
          40.822,
          41.674,
          41.76300000000001,
          42.129,
          43.828
         ],
         "yaxis": "y"
        },
        {
         "hovertemplate": "continent=Asia<br>country=Bahrain<br>year=%{x}<br>lifeExp=%{y}<extra></extra>",
         "legendgroup": "Asia",
         "line": {
          "color": "#3366CC",
          "dash": "solid",
          "shape": "spline"
         },
         "marker": {
          "symbol": "circle"
         },
         "mode": "lines",
         "name": "Asia",
         "orientation": "v",
         "showlegend": false,
         "type": "scatter",
         "x": [
          1952,
          1957,
          1962,
          1967,
          1972,
          1977,
          1982,
          1987,
          1992,
          1997,
          2002,
          2007
         ],
         "xaxis": "x",
         "y": [
          50.93899999999999,
          53.832,
          56.923,
          59.923,
          63.3,
          65.593,
          69.05199999999999,
          70.75,
          72.601,
          73.925,
          74.795,
          75.635
         ],
         "yaxis": "y"
        },
        {
         "hovertemplate": "continent=Asia<br>country=Bangladesh<br>year=%{x}<br>lifeExp=%{y}<extra></extra>",
         "legendgroup": "Asia",
         "line": {
          "color": "#3366CC",
          "dash": "solid",
          "shape": "spline"
         },
         "marker": {
          "symbol": "circle"
         },
         "mode": "lines",
         "name": "Asia",
         "orientation": "v",
         "showlegend": false,
         "type": "scatter",
         "x": [
          1952,
          1957,
          1962,
          1967,
          1972,
          1977,
          1982,
          1987,
          1992,
          1997,
          2002,
          2007
         ],
         "xaxis": "x",
         "y": [
          37.484,
          39.348,
          41.216,
          43.453,
          45.252,
          46.923,
          50.00899999999999,
          52.819,
          56.018,
          59.412,
          62.01300000000001,
          64.062
         ],
         "yaxis": "y"
        },
        {
         "hovertemplate": "continent=Asia<br>country=Cambodia<br>year=%{x}<br>lifeExp=%{y}<extra></extra>",
         "legendgroup": "Asia",
         "line": {
          "color": "#3366CC",
          "dash": "solid",
          "shape": "spline"
         },
         "marker": {
          "symbol": "circle"
         },
         "mode": "lines",
         "name": "Asia",
         "orientation": "v",
         "showlegend": false,
         "type": "scatter",
         "x": [
          1952,
          1957,
          1962,
          1967,
          1972,
          1977,
          1982,
          1987,
          1992,
          1997,
          2002,
          2007
         ],
         "xaxis": "x",
         "y": [
          39.417,
          41.36600000000001,
          43.415,
          45.415,
          40.317,
          31.22,
          50.957,
          53.914,
          55.803,
          56.534,
          56.752,
          59.723
         ],
         "yaxis": "y"
        },
        {
         "hovertemplate": "continent=Asia<br>country=China<br>year=%{x}<br>lifeExp=%{y}<extra></extra>",
         "legendgroup": "Asia",
         "line": {
          "color": "#3366CC",
          "dash": "solid",
          "shape": "spline"
         },
         "marker": {
          "symbol": "circle"
         },
         "mode": "lines",
         "name": "Asia",
         "orientation": "v",
         "showlegend": false,
         "type": "scatter",
         "x": [
          1952,
          1957,
          1962,
          1967,
          1972,
          1977,
          1982,
          1987,
          1992,
          1997,
          2002,
          2007
         ],
         "xaxis": "x",
         "y": [
          44,
          50.54896,
          44.50136,
          58.38112,
          63.11888,
          63.96736,
          65.525,
          67.274,
          68.69,
          70.426,
          72.028,
          72.961
         ],
         "yaxis": "y"
        },
        {
         "hovertemplate": "continent=Asia<br>country=Hong Kong, China<br>year=%{x}<br>lifeExp=%{y}<extra></extra>",
         "legendgroup": "Asia",
         "line": {
          "color": "#3366CC",
          "dash": "solid",
          "shape": "spline"
         },
         "marker": {
          "symbol": "circle"
         },
         "mode": "lines",
         "name": "Asia",
         "orientation": "v",
         "showlegend": false,
         "type": "scatter",
         "x": [
          1952,
          1957,
          1962,
          1967,
          1972,
          1977,
          1982,
          1987,
          1992,
          1997,
          2002,
          2007
         ],
         "xaxis": "x",
         "y": [
          60.96,
          64.75,
          67.65,
          70,
          72,
          73.6,
          75.45,
          76.2,
          77.601,
          80,
          81.495,
          82.208
         ],
         "yaxis": "y"
        },
        {
         "hovertemplate": "continent=Asia<br>country=India<br>year=%{x}<br>lifeExp=%{y}<extra></extra>",
         "legendgroup": "Asia",
         "line": {
          "color": "#3366CC",
          "dash": "solid",
          "shape": "spline"
         },
         "marker": {
          "symbol": "circle"
         },
         "mode": "lines",
         "name": "Asia",
         "orientation": "v",
         "showlegend": false,
         "type": "scatter",
         "x": [
          1952,
          1957,
          1962,
          1967,
          1972,
          1977,
          1982,
          1987,
          1992,
          1997,
          2002,
          2007
         ],
         "xaxis": "x",
         "y": [
          37.37300000000001,
          40.249,
          43.605,
          47.19300000000001,
          50.651,
          54.208,
          56.596,
          58.553,
          60.223,
          61.765,
          62.879,
          64.69800000000001
         ],
         "yaxis": "y"
        },
        {
         "hovertemplate": "continent=Asia<br>country=Indonesia<br>year=%{x}<br>lifeExp=%{y}<extra></extra>",
         "legendgroup": "Asia",
         "line": {
          "color": "#3366CC",
          "dash": "solid",
          "shape": "spline"
         },
         "marker": {
          "symbol": "circle"
         },
         "mode": "lines",
         "name": "Asia",
         "orientation": "v",
         "showlegend": false,
         "type": "scatter",
         "x": [
          1952,
          1957,
          1962,
          1967,
          1972,
          1977,
          1982,
          1987,
          1992,
          1997,
          2002,
          2007
         ],
         "xaxis": "x",
         "y": [
          37.468,
          39.918,
          42.518,
          45.964,
          49.203,
          52.702,
          56.159,
          60.137,
          62.681,
          66.041,
          68.58800000000001,
          70.65
         ],
         "yaxis": "y"
        },
        {
         "hovertemplate": "continent=Asia<br>country=Iran<br>year=%{x}<br>lifeExp=%{y}<extra></extra>",
         "legendgroup": "Asia",
         "line": {
          "color": "#3366CC",
          "dash": "solid",
          "shape": "spline"
         },
         "marker": {
          "symbol": "circle"
         },
         "mode": "lines",
         "name": "Asia",
         "orientation": "v",
         "showlegend": false,
         "type": "scatter",
         "x": [
          1952,
          1957,
          1962,
          1967,
          1972,
          1977,
          1982,
          1987,
          1992,
          1997,
          2002,
          2007
         ],
         "xaxis": "x",
         "y": [
          44.869,
          47.181,
          49.325,
          52.469,
          55.234,
          57.702,
          59.62,
          63.04,
          65.742,
          68.042,
          69.45100000000001,
          70.964
         ],
         "yaxis": "y"
        },
        {
         "hovertemplate": "continent=Asia<br>country=Iraq<br>year=%{x}<br>lifeExp=%{y}<extra></extra>",
         "legendgroup": "Asia",
         "line": {
          "color": "#3366CC",
          "dash": "solid",
          "shape": "spline"
         },
         "marker": {
          "symbol": "circle"
         },
         "mode": "lines",
         "name": "Asia",
         "orientation": "v",
         "showlegend": false,
         "type": "scatter",
         "x": [
          1952,
          1957,
          1962,
          1967,
          1972,
          1977,
          1982,
          1987,
          1992,
          1997,
          2002,
          2007
         ],
         "xaxis": "x",
         "y": [
          45.32,
          48.437,
          51.457,
          54.459,
          56.95,
          60.413,
          62.038,
          65.044,
          59.46100000000001,
          58.81100000000001,
          57.04600000000001,
          59.545
         ],
         "yaxis": "y"
        },
        {
         "hovertemplate": "continent=Asia<br>country=Israel<br>year=%{x}<br>lifeExp=%{y}<extra></extra>",
         "legendgroup": "Asia",
         "line": {
          "color": "#3366CC",
          "dash": "solid",
          "shape": "spline"
         },
         "marker": {
          "symbol": "circle"
         },
         "mode": "lines",
         "name": "Asia",
         "orientation": "v",
         "showlegend": false,
         "type": "scatter",
         "x": [
          1952,
          1957,
          1962,
          1967,
          1972,
          1977,
          1982,
          1987,
          1992,
          1997,
          2002,
          2007
         ],
         "xaxis": "x",
         "y": [
          65.39,
          67.84,
          69.39,
          70.75,
          71.63,
          73.06,
          74.45,
          75.6,
          76.93,
          78.26899999999998,
          79.696,
          80.745
         ],
         "yaxis": "y"
        },
        {
         "hovertemplate": "continent=Asia<br>country=Japan<br>year=%{x}<br>lifeExp=%{y}<extra></extra>",
         "legendgroup": "Asia",
         "line": {
          "color": "#3366CC",
          "dash": "solid",
          "shape": "spline"
         },
         "marker": {
          "symbol": "circle"
         },
         "mode": "lines",
         "name": "Asia",
         "orientation": "v",
         "showlegend": false,
         "type": "scatter",
         "x": [
          1952,
          1957,
          1962,
          1967,
          1972,
          1977,
          1982,
          1987,
          1992,
          1997,
          2002,
          2007
         ],
         "xaxis": "x",
         "y": [
          63.03,
          65.5,
          68.73,
          71.43,
          73.42,
          75.38,
          77.11,
          78.67,
          79.36,
          80.69,
          82,
          82.603
         ],
         "yaxis": "y"
        },
        {
         "hovertemplate": "continent=Asia<br>country=Jordan<br>year=%{x}<br>lifeExp=%{y}<extra></extra>",
         "legendgroup": "Asia",
         "line": {
          "color": "#3366CC",
          "dash": "solid",
          "shape": "spline"
         },
         "marker": {
          "symbol": "circle"
         },
         "mode": "lines",
         "name": "Asia",
         "orientation": "v",
         "showlegend": false,
         "type": "scatter",
         "x": [
          1952,
          1957,
          1962,
          1967,
          1972,
          1977,
          1982,
          1987,
          1992,
          1997,
          2002,
          2007
         ],
         "xaxis": "x",
         "y": [
          43.158,
          45.669,
          48.12600000000001,
          51.629,
          56.528,
          61.13399999999999,
          63.739,
          65.869,
          68.015,
          69.77199999999999,
          71.263,
          72.535
         ],
         "yaxis": "y"
        },
        {
         "hovertemplate": "continent=Asia<br>country=Korea, Dem. Rep.<br>year=%{x}<br>lifeExp=%{y}<extra></extra>",
         "legendgroup": "Asia",
         "line": {
          "color": "#3366CC",
          "dash": "solid",
          "shape": "spline"
         },
         "marker": {
          "symbol": "circle"
         },
         "mode": "lines",
         "name": "Asia",
         "orientation": "v",
         "showlegend": false,
         "type": "scatter",
         "x": [
          1952,
          1957,
          1962,
          1967,
          1972,
          1977,
          1982,
          1987,
          1992,
          1997,
          2002,
          2007
         ],
         "xaxis": "x",
         "y": [
          50.056,
          54.081,
          56.65600000000001,
          59.942,
          63.983,
          67.15899999999999,
          69.1,
          70.64699999999998,
          69.97800000000001,
          67.727,
          66.66199999999999,
          67.297
         ],
         "yaxis": "y"
        },
        {
         "hovertemplate": "continent=Asia<br>country=Korea, Rep.<br>year=%{x}<br>lifeExp=%{y}<extra></extra>",
         "legendgroup": "Asia",
         "line": {
          "color": "#3366CC",
          "dash": "solid",
          "shape": "spline"
         },
         "marker": {
          "symbol": "circle"
         },
         "mode": "lines",
         "name": "Asia",
         "orientation": "v",
         "showlegend": false,
         "type": "scatter",
         "x": [
          1952,
          1957,
          1962,
          1967,
          1972,
          1977,
          1982,
          1987,
          1992,
          1997,
          2002,
          2007
         ],
         "xaxis": "x",
         "y": [
          47.453,
          52.681,
          55.292,
          57.716,
          62.612,
          64.766,
          67.123,
          69.81,
          72.244,
          74.64699999999998,
          77.045,
          78.623
         ],
         "yaxis": "y"
        },
        {
         "hovertemplate": "continent=Asia<br>country=Kuwait<br>year=%{x}<br>lifeExp=%{y}<extra></extra>",
         "legendgroup": "Asia",
         "line": {
          "color": "#3366CC",
          "dash": "solid",
          "shape": "spline"
         },
         "marker": {
          "symbol": "circle"
         },
         "mode": "lines",
         "name": "Asia",
         "orientation": "v",
         "showlegend": false,
         "type": "scatter",
         "x": [
          1952,
          1957,
          1962,
          1967,
          1972,
          1977,
          1982,
          1987,
          1992,
          1997,
          2002,
          2007
         ],
         "xaxis": "x",
         "y": [
          55.565,
          58.033,
          60.47,
          64.624,
          67.712,
          69.343,
          71.309,
          74.17399999999998,
          75.19,
          76.156,
          76.904,
          77.58800000000002
         ],
         "yaxis": "y"
        },
        {
         "hovertemplate": "continent=Asia<br>country=Lebanon<br>year=%{x}<br>lifeExp=%{y}<extra></extra>",
         "legendgroup": "Asia",
         "line": {
          "color": "#3366CC",
          "dash": "solid",
          "shape": "spline"
         },
         "marker": {
          "symbol": "circle"
         },
         "mode": "lines",
         "name": "Asia",
         "orientation": "v",
         "showlegend": false,
         "type": "scatter",
         "x": [
          1952,
          1957,
          1962,
          1967,
          1972,
          1977,
          1982,
          1987,
          1992,
          1997,
          2002,
          2007
         ],
         "xaxis": "x",
         "y": [
          55.928,
          59.489,
          62.094,
          63.87,
          65.421,
          66.09899999999999,
          66.983,
          67.926,
          69.292,
          70.265,
          71.028,
          71.993
         ],
         "yaxis": "y"
        },
        {
         "hovertemplate": "continent=Asia<br>country=Malaysia<br>year=%{x}<br>lifeExp=%{y}<extra></extra>",
         "legendgroup": "Asia",
         "line": {
          "color": "#3366CC",
          "dash": "solid",
          "shape": "spline"
         },
         "marker": {
          "symbol": "circle"
         },
         "mode": "lines",
         "name": "Asia",
         "orientation": "v",
         "showlegend": false,
         "type": "scatter",
         "x": [
          1952,
          1957,
          1962,
          1967,
          1972,
          1977,
          1982,
          1987,
          1992,
          1997,
          2002,
          2007
         ],
         "xaxis": "x",
         "y": [
          48.463,
          52.102,
          55.737,
          59.371,
          63.01,
          65.256,
          68,
          69.5,
          70.693,
          71.938,
          73.044,
          74.241
         ],
         "yaxis": "y"
        },
        {
         "hovertemplate": "continent=Asia<br>country=Mongolia<br>year=%{x}<br>lifeExp=%{y}<extra></extra>",
         "legendgroup": "Asia",
         "line": {
          "color": "#3366CC",
          "dash": "solid",
          "shape": "spline"
         },
         "marker": {
          "symbol": "circle"
         },
         "mode": "lines",
         "name": "Asia",
         "orientation": "v",
         "showlegend": false,
         "type": "scatter",
         "x": [
          1952,
          1957,
          1962,
          1967,
          1972,
          1977,
          1982,
          1987,
          1992,
          1997,
          2002,
          2007
         ],
         "xaxis": "x",
         "y": [
          42.244,
          45.24800000000001,
          48.25100000000001,
          51.253,
          53.754,
          55.49100000000001,
          57.489,
          60.222,
          61.271,
          63.625,
          65.033,
          66.803
         ],
         "yaxis": "y"
        },
        {
         "hovertemplate": "continent=Asia<br>country=Myanmar<br>year=%{x}<br>lifeExp=%{y}<extra></extra>",
         "legendgroup": "Asia",
         "line": {
          "color": "#3366CC",
          "dash": "solid",
          "shape": "spline"
         },
         "marker": {
          "symbol": "circle"
         },
         "mode": "lines",
         "name": "Asia",
         "orientation": "v",
         "showlegend": false,
         "type": "scatter",
         "x": [
          1952,
          1957,
          1962,
          1967,
          1972,
          1977,
          1982,
          1987,
          1992,
          1997,
          2002,
          2007
         ],
         "xaxis": "x",
         "y": [
          36.319,
          41.905,
          45.108,
          49.379,
          53.07,
          56.059,
          58.056,
          58.339,
          59.32,
          60.328,
          59.908,
          62.069
         ],
         "yaxis": "y"
        },
        {
         "hovertemplate": "continent=Asia<br>country=Nepal<br>year=%{x}<br>lifeExp=%{y}<extra></extra>",
         "legendgroup": "Asia",
         "line": {
          "color": "#3366CC",
          "dash": "solid",
          "shape": "spline"
         },
         "marker": {
          "symbol": "circle"
         },
         "mode": "lines",
         "name": "Asia",
         "orientation": "v",
         "showlegend": false,
         "type": "scatter",
         "x": [
          1952,
          1957,
          1962,
          1967,
          1972,
          1977,
          1982,
          1987,
          1992,
          1997,
          2002,
          2007
         ],
         "xaxis": "x",
         "y": [
          36.157,
          37.686,
          39.393,
          41.472,
          43.971,
          46.74800000000001,
          49.594,
          52.537,
          55.727,
          59.426,
          61.34,
          63.785
         ],
         "yaxis": "y"
        },
        {
         "hovertemplate": "continent=Asia<br>country=Oman<br>year=%{x}<br>lifeExp=%{y}<extra></extra>",
         "legendgroup": "Asia",
         "line": {
          "color": "#3366CC",
          "dash": "solid",
          "shape": "spline"
         },
         "marker": {
          "symbol": "circle"
         },
         "mode": "lines",
         "name": "Asia",
         "orientation": "v",
         "showlegend": false,
         "type": "scatter",
         "x": [
          1952,
          1957,
          1962,
          1967,
          1972,
          1977,
          1982,
          1987,
          1992,
          1997,
          2002,
          2007
         ],
         "xaxis": "x",
         "y": [
          37.578,
          40.08,
          43.165,
          46.988,
          52.143,
          57.367,
          62.728,
          67.734,
          71.197,
          72.499,
          74.193,
          75.64
         ],
         "yaxis": "y"
        },
        {
         "hovertemplate": "continent=Asia<br>country=Pakistan<br>year=%{x}<br>lifeExp=%{y}<extra></extra>",
         "legendgroup": "Asia",
         "line": {
          "color": "#3366CC",
          "dash": "solid",
          "shape": "spline"
         },
         "marker": {
          "symbol": "circle"
         },
         "mode": "lines",
         "name": "Asia",
         "orientation": "v",
         "showlegend": false,
         "type": "scatter",
         "x": [
          1952,
          1957,
          1962,
          1967,
          1972,
          1977,
          1982,
          1987,
          1992,
          1997,
          2002,
          2007
         ],
         "xaxis": "x",
         "y": [
          43.43600000000001,
          45.557,
          47.67,
          49.8,
          51.929,
          54.043,
          56.158,
          58.245,
          60.838,
          61.81800000000001,
          63.61,
          65.483
         ],
         "yaxis": "y"
        },
        {
         "hovertemplate": "continent=Asia<br>country=Philippines<br>year=%{x}<br>lifeExp=%{y}<extra></extra>",
         "legendgroup": "Asia",
         "line": {
          "color": "#3366CC",
          "dash": "solid",
          "shape": "spline"
         },
         "marker": {
          "symbol": "circle"
         },
         "mode": "lines",
         "name": "Asia",
         "orientation": "v",
         "showlegend": false,
         "type": "scatter",
         "x": [
          1952,
          1957,
          1962,
          1967,
          1972,
          1977,
          1982,
          1987,
          1992,
          1997,
          2002,
          2007
         ],
         "xaxis": "x",
         "y": [
          47.752,
          51.334,
          54.757,
          56.393,
          58.065,
          60.06,
          62.082,
          64.15100000000001,
          66.458,
          68.564,
          70.303,
          71.688
         ],
         "yaxis": "y"
        },
        {
         "hovertemplate": "continent=Asia<br>country=Saudi Arabia<br>year=%{x}<br>lifeExp=%{y}<extra></extra>",
         "legendgroup": "Asia",
         "line": {
          "color": "#3366CC",
          "dash": "solid",
          "shape": "spline"
         },
         "marker": {
          "symbol": "circle"
         },
         "mode": "lines",
         "name": "Asia",
         "orientation": "v",
         "showlegend": false,
         "type": "scatter",
         "x": [
          1952,
          1957,
          1962,
          1967,
          1972,
          1977,
          1982,
          1987,
          1992,
          1997,
          2002,
          2007
         ],
         "xaxis": "x",
         "y": [
          39.875,
          42.868,
          45.914,
          49.901,
          53.886,
          58.69,
          63.012,
          66.295,
          68.768,
          70.533,
          71.626,
          72.777
         ],
         "yaxis": "y"
        },
        {
         "hovertemplate": "continent=Asia<br>country=Singapore<br>year=%{x}<br>lifeExp=%{y}<extra></extra>",
         "legendgroup": "Asia",
         "line": {
          "color": "#3366CC",
          "dash": "solid",
          "shape": "spline"
         },
         "marker": {
          "symbol": "circle"
         },
         "mode": "lines",
         "name": "Asia",
         "orientation": "v",
         "showlegend": false,
         "type": "scatter",
         "x": [
          1952,
          1957,
          1962,
          1967,
          1972,
          1977,
          1982,
          1987,
          1992,
          1997,
          2002,
          2007
         ],
         "xaxis": "x",
         "y": [
          60.396,
          63.179,
          65.798,
          67.946,
          69.521,
          70.795,
          71.76,
          73.56,
          75.788,
          77.158,
          78.77,
          79.972
         ],
         "yaxis": "y"
        },
        {
         "hovertemplate": "continent=Asia<br>country=Sri Lanka<br>year=%{x}<br>lifeExp=%{y}<extra></extra>",
         "legendgroup": "Asia",
         "line": {
          "color": "#3366CC",
          "dash": "solid",
          "shape": "spline"
         },
         "marker": {
          "symbol": "circle"
         },
         "mode": "lines",
         "name": "Asia",
         "orientation": "v",
         "showlegend": false,
         "type": "scatter",
         "x": [
          1952,
          1957,
          1962,
          1967,
          1972,
          1977,
          1982,
          1987,
          1992,
          1997,
          2002,
          2007
         ],
         "xaxis": "x",
         "y": [
          57.593,
          61.456,
          62.192,
          64.266,
          65.042,
          65.949,
          68.757,
          69.01100000000001,
          70.37899999999998,
          70.457,
          70.815,
          72.396
         ],
         "yaxis": "y"
        },
        {
         "hovertemplate": "continent=Asia<br>country=Syria<br>year=%{x}<br>lifeExp=%{y}<extra></extra>",
         "legendgroup": "Asia",
         "line": {
          "color": "#3366CC",
          "dash": "solid",
          "shape": "spline"
         },
         "marker": {
          "symbol": "circle"
         },
         "mode": "lines",
         "name": "Asia",
         "orientation": "v",
         "showlegend": false,
         "type": "scatter",
         "x": [
          1952,
          1957,
          1962,
          1967,
          1972,
          1977,
          1982,
          1987,
          1992,
          1997,
          2002,
          2007
         ],
         "xaxis": "x",
         "y": [
          45.883,
          48.284,
          50.305,
          53.655,
          57.29600000000001,
          61.195,
          64.59,
          66.97399999999999,
          69.249,
          71.527,
          73.053,
          74.143
         ],
         "yaxis": "y"
        },
        {
         "hovertemplate": "continent=Asia<br>country=Taiwan<br>year=%{x}<br>lifeExp=%{y}<extra></extra>",
         "legendgroup": "Asia",
         "line": {
          "color": "#3366CC",
          "dash": "solid",
          "shape": "spline"
         },
         "marker": {
          "symbol": "circle"
         },
         "mode": "lines",
         "name": "Asia",
         "orientation": "v",
         "showlegend": false,
         "type": "scatter",
         "x": [
          1952,
          1957,
          1962,
          1967,
          1972,
          1977,
          1982,
          1987,
          1992,
          1997,
          2002,
          2007
         ],
         "xaxis": "x",
         "y": [
          58.5,
          62.4,
          65.2,
          67.5,
          69.39,
          70.59,
          72.16,
          73.4,
          74.26,
          75.25,
          76.99,
          78.4
         ],
         "yaxis": "y"
        },
        {
         "hovertemplate": "continent=Asia<br>country=Thailand<br>year=%{x}<br>lifeExp=%{y}<extra></extra>",
         "legendgroup": "Asia",
         "line": {
          "color": "#3366CC",
          "dash": "solid",
          "shape": "spline"
         },
         "marker": {
          "symbol": "circle"
         },
         "mode": "lines",
         "name": "Asia",
         "orientation": "v",
         "showlegend": false,
         "type": "scatter",
         "x": [
          1952,
          1957,
          1962,
          1967,
          1972,
          1977,
          1982,
          1987,
          1992,
          1997,
          2002,
          2007
         ],
         "xaxis": "x",
         "y": [
          50.848,
          53.63,
          56.06100000000001,
          58.285,
          60.405,
          62.494,
          64.597,
          66.084,
          67.298,
          67.521,
          68.564,
          70.616
         ],
         "yaxis": "y"
        },
        {
         "hovertemplate": "continent=Asia<br>country=Vietnam<br>year=%{x}<br>lifeExp=%{y}<extra></extra>",
         "legendgroup": "Asia",
         "line": {
          "color": "#3366CC",
          "dash": "solid",
          "shape": "spline"
         },
         "marker": {
          "symbol": "circle"
         },
         "mode": "lines",
         "name": "Asia",
         "orientation": "v",
         "showlegend": false,
         "type": "scatter",
         "x": [
          1952,
          1957,
          1962,
          1967,
          1972,
          1977,
          1982,
          1987,
          1992,
          1997,
          2002,
          2007
         ],
         "xaxis": "x",
         "y": [
          40.412,
          42.887,
          45.363,
          47.838,
          50.254,
          55.764,
          58.816,
          62.82,
          67.66199999999999,
          70.672,
          73.017,
          74.249
         ],
         "yaxis": "y"
        },
        {
         "hovertemplate": "continent=Asia<br>country=West Bank and Gaza<br>year=%{x}<br>lifeExp=%{y}<extra></extra>",
         "legendgroup": "Asia",
         "line": {
          "color": "#3366CC",
          "dash": "solid",
          "shape": "spline"
         },
         "marker": {
          "symbol": "circle"
         },
         "mode": "lines",
         "name": "Asia",
         "orientation": "v",
         "showlegend": false,
         "type": "scatter",
         "x": [
          1952,
          1957,
          1962,
          1967,
          1972,
          1977,
          1982,
          1987,
          1992,
          1997,
          2002,
          2007
         ],
         "xaxis": "x",
         "y": [
          43.16,
          45.67100000000001,
          48.127,
          51.631,
          56.532,
          60.765,
          64.406,
          67.046,
          69.718,
          71.096,
          72.37,
          73.422
         ],
         "yaxis": "y"
        },
        {
         "hovertemplate": "continent=Asia<br>country=Yemen, Rep.<br>year=%{x}<br>lifeExp=%{y}<extra></extra>",
         "legendgroup": "Asia",
         "line": {
          "color": "#3366CC",
          "dash": "solid",
          "shape": "spline"
         },
         "marker": {
          "symbol": "circle"
         },
         "mode": "lines",
         "name": "Asia",
         "orientation": "v",
         "showlegend": false,
         "type": "scatter",
         "x": [
          1952,
          1957,
          1962,
          1967,
          1972,
          1977,
          1982,
          1987,
          1992,
          1997,
          2002,
          2007
         ],
         "xaxis": "x",
         "y": [
          32.548,
          33.97,
          35.18,
          36.984,
          39.848,
          44.175,
          49.113,
          52.922,
          55.599,
          58.02,
          60.308,
          62.698
         ],
         "yaxis": "y"
        },
        {
         "hovertemplate": "continent=Europe<br>country=Albania<br>year=%{x}<br>lifeExp=%{y}<extra></extra>",
         "legendgroup": "Europe",
         "line": {
          "color": "#DC3912",
          "dash": "solid",
          "shape": "spline"
         },
         "marker": {
          "symbol": "circle"
         },
         "mode": "lines",
         "name": "Europe",
         "orientation": "v",
         "showlegend": true,
         "type": "scatter",
         "x": [
          1952,
          1957,
          1962,
          1967,
          1972,
          1977,
          1982,
          1987,
          1992,
          1997,
          2002,
          2007
         ],
         "xaxis": "x",
         "y": [
          55.23,
          59.28,
          64.82,
          66.22,
          67.69,
          68.93,
          70.42,
          72,
          71.581,
          72.95,
          75.65100000000002,
          76.423
         ],
         "yaxis": "y"
        },
        {
         "hovertemplate": "continent=Europe<br>country=Austria<br>year=%{x}<br>lifeExp=%{y}<extra></extra>",
         "legendgroup": "Europe",
         "line": {
          "color": "#DC3912",
          "dash": "solid",
          "shape": "spline"
         },
         "marker": {
          "symbol": "circle"
         },
         "mode": "lines",
         "name": "Europe",
         "orientation": "v",
         "showlegend": false,
         "type": "scatter",
         "x": [
          1952,
          1957,
          1962,
          1967,
          1972,
          1977,
          1982,
          1987,
          1992,
          1997,
          2002,
          2007
         ],
         "xaxis": "x",
         "y": [
          66.8,
          67.48,
          69.54,
          70.14,
          70.63,
          72.17,
          73.18,
          74.94,
          76.04,
          77.51,
          78.98,
          79.829
         ],
         "yaxis": "y"
        },
        {
         "hovertemplate": "continent=Europe<br>country=Belgium<br>year=%{x}<br>lifeExp=%{y}<extra></extra>",
         "legendgroup": "Europe",
         "line": {
          "color": "#DC3912",
          "dash": "solid",
          "shape": "spline"
         },
         "marker": {
          "symbol": "circle"
         },
         "mode": "lines",
         "name": "Europe",
         "orientation": "v",
         "showlegend": false,
         "type": "scatter",
         "x": [
          1952,
          1957,
          1962,
          1967,
          1972,
          1977,
          1982,
          1987,
          1992,
          1997,
          2002,
          2007
         ],
         "xaxis": "x",
         "y": [
          68,
          69.24,
          70.25,
          70.94,
          71.44,
          72.8,
          73.93,
          75.35,
          76.46,
          77.53,
          78.32,
          79.441
         ],
         "yaxis": "y"
        },
        {
         "hovertemplate": "continent=Europe<br>country=Bosnia and Herzegovina<br>year=%{x}<br>lifeExp=%{y}<extra></extra>",
         "legendgroup": "Europe",
         "line": {
          "color": "#DC3912",
          "dash": "solid",
          "shape": "spline"
         },
         "marker": {
          "symbol": "circle"
         },
         "mode": "lines",
         "name": "Europe",
         "orientation": "v",
         "showlegend": false,
         "type": "scatter",
         "x": [
          1952,
          1957,
          1962,
          1967,
          1972,
          1977,
          1982,
          1987,
          1992,
          1997,
          2002,
          2007
         ],
         "xaxis": "x",
         "y": [
          53.82,
          58.45,
          61.93,
          64.79,
          67.45,
          69.86,
          70.69,
          71.14,
          72.178,
          73.244,
          74.09,
          74.852
         ],
         "yaxis": "y"
        },
        {
         "hovertemplate": "continent=Europe<br>country=Bulgaria<br>year=%{x}<br>lifeExp=%{y}<extra></extra>",
         "legendgroup": "Europe",
         "line": {
          "color": "#DC3912",
          "dash": "solid",
          "shape": "spline"
         },
         "marker": {
          "symbol": "circle"
         },
         "mode": "lines",
         "name": "Europe",
         "orientation": "v",
         "showlegend": false,
         "type": "scatter",
         "x": [
          1952,
          1957,
          1962,
          1967,
          1972,
          1977,
          1982,
          1987,
          1992,
          1997,
          2002,
          2007
         ],
         "xaxis": "x",
         "y": [
          59.6,
          66.61,
          69.51,
          70.42,
          70.9,
          70.81,
          71.08,
          71.34,
          71.19,
          70.32,
          72.14,
          73.005
         ],
         "yaxis": "y"
        },
        {
         "hovertemplate": "continent=Europe<br>country=Croatia<br>year=%{x}<br>lifeExp=%{y}<extra></extra>",
         "legendgroup": "Europe",
         "line": {
          "color": "#DC3912",
          "dash": "solid",
          "shape": "spline"
         },
         "marker": {
          "symbol": "circle"
         },
         "mode": "lines",
         "name": "Europe",
         "orientation": "v",
         "showlegend": false,
         "type": "scatter",
         "x": [
          1952,
          1957,
          1962,
          1967,
          1972,
          1977,
          1982,
          1987,
          1992,
          1997,
          2002,
          2007
         ],
         "xaxis": "x",
         "y": [
          61.21,
          64.77,
          67.13,
          68.5,
          69.61,
          70.64,
          70.46,
          71.52,
          72.527,
          73.68,
          74.876,
          75.748
         ],
         "yaxis": "y"
        },
        {
         "hovertemplate": "continent=Europe<br>country=Czech Republic<br>year=%{x}<br>lifeExp=%{y}<extra></extra>",
         "legendgroup": "Europe",
         "line": {
          "color": "#DC3912",
          "dash": "solid",
          "shape": "spline"
         },
         "marker": {
          "symbol": "circle"
         },
         "mode": "lines",
         "name": "Europe",
         "orientation": "v",
         "showlegend": false,
         "type": "scatter",
         "x": [
          1952,
          1957,
          1962,
          1967,
          1972,
          1977,
          1982,
          1987,
          1992,
          1997,
          2002,
          2007
         ],
         "xaxis": "x",
         "y": [
          66.87,
          69.03,
          69.9,
          70.38,
          70.29,
          70.71,
          70.96,
          71.58,
          72.4,
          74.01,
          75.51,
          76.486
         ],
         "yaxis": "y"
        },
        {
         "hovertemplate": "continent=Europe<br>country=Denmark<br>year=%{x}<br>lifeExp=%{y}<extra></extra>",
         "legendgroup": "Europe",
         "line": {
          "color": "#DC3912",
          "dash": "solid",
          "shape": "spline"
         },
         "marker": {
          "symbol": "circle"
         },
         "mode": "lines",
         "name": "Europe",
         "orientation": "v",
         "showlegend": false,
         "type": "scatter",
         "x": [
          1952,
          1957,
          1962,
          1967,
          1972,
          1977,
          1982,
          1987,
          1992,
          1997,
          2002,
          2007
         ],
         "xaxis": "x",
         "y": [
          70.78,
          71.81,
          72.35,
          72.96,
          73.47,
          74.69,
          74.63,
          74.8,
          75.33,
          76.11,
          77.18,
          78.332
         ],
         "yaxis": "y"
        },
        {
         "hovertemplate": "continent=Europe<br>country=Finland<br>year=%{x}<br>lifeExp=%{y}<extra></extra>",
         "legendgroup": "Europe",
         "line": {
          "color": "#DC3912",
          "dash": "solid",
          "shape": "spline"
         },
         "marker": {
          "symbol": "circle"
         },
         "mode": "lines",
         "name": "Europe",
         "orientation": "v",
         "showlegend": false,
         "type": "scatter",
         "x": [
          1952,
          1957,
          1962,
          1967,
          1972,
          1977,
          1982,
          1987,
          1992,
          1997,
          2002,
          2007
         ],
         "xaxis": "x",
         "y": [
          66.55,
          67.49,
          68.75,
          69.83,
          70.87,
          72.52,
          74.55,
          74.83,
          75.7,
          77.13,
          78.37,
          79.313
         ],
         "yaxis": "y"
        },
        {
         "hovertemplate": "continent=Europe<br>country=France<br>year=%{x}<br>lifeExp=%{y}<extra></extra>",
         "legendgroup": "Europe",
         "line": {
          "color": "#DC3912",
          "dash": "solid",
          "shape": "spline"
         },
         "marker": {
          "symbol": "circle"
         },
         "mode": "lines",
         "name": "Europe",
         "orientation": "v",
         "showlegend": false,
         "type": "scatter",
         "x": [
          1952,
          1957,
          1962,
          1967,
          1972,
          1977,
          1982,
          1987,
          1992,
          1997,
          2002,
          2007
         ],
         "xaxis": "x",
         "y": [
          67.41,
          68.93,
          70.51,
          71.55,
          72.38,
          73.83,
          74.89,
          76.34,
          77.46,
          78.64,
          79.59,
          80.657
         ],
         "yaxis": "y"
        },
        {
         "hovertemplate": "continent=Europe<br>country=Germany<br>year=%{x}<br>lifeExp=%{y}<extra></extra>",
         "legendgroup": "Europe",
         "line": {
          "color": "#DC3912",
          "dash": "solid",
          "shape": "spline"
         },
         "marker": {
          "symbol": "circle"
         },
         "mode": "lines",
         "name": "Europe",
         "orientation": "v",
         "showlegend": false,
         "type": "scatter",
         "x": [
          1952,
          1957,
          1962,
          1967,
          1972,
          1977,
          1982,
          1987,
          1992,
          1997,
          2002,
          2007
         ],
         "xaxis": "x",
         "y": [
          67.5,
          69.1,
          70.3,
          70.8,
          71,
          72.5,
          73.8,
          74.847,
          76.07,
          77.34,
          78.67,
          79.406
         ],
         "yaxis": "y"
        },
        {
         "hovertemplate": "continent=Europe<br>country=Greece<br>year=%{x}<br>lifeExp=%{y}<extra></extra>",
         "legendgroup": "Europe",
         "line": {
          "color": "#DC3912",
          "dash": "solid",
          "shape": "spline"
         },
         "marker": {
          "symbol": "circle"
         },
         "mode": "lines",
         "name": "Europe",
         "orientation": "v",
         "showlegend": false,
         "type": "scatter",
         "x": [
          1952,
          1957,
          1962,
          1967,
          1972,
          1977,
          1982,
          1987,
          1992,
          1997,
          2002,
          2007
         ],
         "xaxis": "x",
         "y": [
          65.86,
          67.86,
          69.51,
          71,
          72.34,
          73.68,
          75.24,
          76.67,
          77.03,
          77.869,
          78.256,
          79.483
         ],
         "yaxis": "y"
        },
        {
         "hovertemplate": "continent=Europe<br>country=Hungary<br>year=%{x}<br>lifeExp=%{y}<extra></extra>",
         "legendgroup": "Europe",
         "line": {
          "color": "#DC3912",
          "dash": "solid",
          "shape": "spline"
         },
         "marker": {
          "symbol": "circle"
         },
         "mode": "lines",
         "name": "Europe",
         "orientation": "v",
         "showlegend": false,
         "type": "scatter",
         "x": [
          1952,
          1957,
          1962,
          1967,
          1972,
          1977,
          1982,
          1987,
          1992,
          1997,
          2002,
          2007
         ],
         "xaxis": "x",
         "y": [
          64.03,
          66.41,
          67.96,
          69.5,
          69.76,
          69.95,
          69.39,
          69.58,
          69.17,
          71.04,
          72.59,
          73.33800000000002
         ],
         "yaxis": "y"
        },
        {
         "hovertemplate": "continent=Europe<br>country=Iceland<br>year=%{x}<br>lifeExp=%{y}<extra></extra>",
         "legendgroup": "Europe",
         "line": {
          "color": "#DC3912",
          "dash": "solid",
          "shape": "spline"
         },
         "marker": {
          "symbol": "circle"
         },
         "mode": "lines",
         "name": "Europe",
         "orientation": "v",
         "showlegend": false,
         "type": "scatter",
         "x": [
          1952,
          1957,
          1962,
          1967,
          1972,
          1977,
          1982,
          1987,
          1992,
          1997,
          2002,
          2007
         ],
         "xaxis": "x",
         "y": [
          72.49,
          73.47,
          73.68,
          73.73,
          74.46,
          76.11,
          76.99,
          77.23,
          78.77,
          78.95,
          80.5,
          81.757
         ],
         "yaxis": "y"
        },
        {
         "hovertemplate": "continent=Europe<br>country=Ireland<br>year=%{x}<br>lifeExp=%{y}<extra></extra>",
         "legendgroup": "Europe",
         "line": {
          "color": "#DC3912",
          "dash": "solid",
          "shape": "spline"
         },
         "marker": {
          "symbol": "circle"
         },
         "mode": "lines",
         "name": "Europe",
         "orientation": "v",
         "showlegend": false,
         "type": "scatter",
         "x": [
          1952,
          1957,
          1962,
          1967,
          1972,
          1977,
          1982,
          1987,
          1992,
          1997,
          2002,
          2007
         ],
         "xaxis": "x",
         "y": [
          66.91,
          68.9,
          70.29,
          71.08,
          71.28,
          72.03,
          73.1,
          74.36,
          75.467,
          76.122,
          77.783,
          78.885
         ],
         "yaxis": "y"
        },
        {
         "hovertemplate": "continent=Europe<br>country=Italy<br>year=%{x}<br>lifeExp=%{y}<extra></extra>",
         "legendgroup": "Europe",
         "line": {
          "color": "#DC3912",
          "dash": "solid",
          "shape": "spline"
         },
         "marker": {
          "symbol": "circle"
         },
         "mode": "lines",
         "name": "Europe",
         "orientation": "v",
         "showlegend": false,
         "type": "scatter",
         "x": [
          1952,
          1957,
          1962,
          1967,
          1972,
          1977,
          1982,
          1987,
          1992,
          1997,
          2002,
          2007
         ],
         "xaxis": "x",
         "y": [
          65.94,
          67.81,
          69.24,
          71.06,
          72.19,
          73.48,
          74.98,
          76.42,
          77.44,
          78.82,
          80.24,
          80.546
         ],
         "yaxis": "y"
        },
        {
         "hovertemplate": "continent=Europe<br>country=Montenegro<br>year=%{x}<br>lifeExp=%{y}<extra></extra>",
         "legendgroup": "Europe",
         "line": {
          "color": "#DC3912",
          "dash": "solid",
          "shape": "spline"
         },
         "marker": {
          "symbol": "circle"
         },
         "mode": "lines",
         "name": "Europe",
         "orientation": "v",
         "showlegend": false,
         "type": "scatter",
         "x": [
          1952,
          1957,
          1962,
          1967,
          1972,
          1977,
          1982,
          1987,
          1992,
          1997,
          2002,
          2007
         ],
         "xaxis": "x",
         "y": [
          59.164,
          61.448,
          63.728,
          67.178,
          70.63600000000002,
          73.066,
          74.101,
          74.865,
          75.435,
          75.445,
          73.98100000000002,
          74.543
         ],
         "yaxis": "y"
        },
        {
         "hovertemplate": "continent=Europe<br>country=Netherlands<br>year=%{x}<br>lifeExp=%{y}<extra></extra>",
         "legendgroup": "Europe",
         "line": {
          "color": "#DC3912",
          "dash": "solid",
          "shape": "spline"
         },
         "marker": {
          "symbol": "circle"
         },
         "mode": "lines",
         "name": "Europe",
         "orientation": "v",
         "showlegend": false,
         "type": "scatter",
         "x": [
          1952,
          1957,
          1962,
          1967,
          1972,
          1977,
          1982,
          1987,
          1992,
          1997,
          2002,
          2007
         ],
         "xaxis": "x",
         "y": [
          72.13,
          72.99,
          73.23,
          73.82,
          73.75,
          75.24,
          76.05,
          76.83,
          77.42,
          78.03,
          78.53,
          79.762
         ],
         "yaxis": "y"
        },
        {
         "hovertemplate": "continent=Europe<br>country=Norway<br>year=%{x}<br>lifeExp=%{y}<extra></extra>",
         "legendgroup": "Europe",
         "line": {
          "color": "#DC3912",
          "dash": "solid",
          "shape": "spline"
         },
         "marker": {
          "symbol": "circle"
         },
         "mode": "lines",
         "name": "Europe",
         "orientation": "v",
         "showlegend": false,
         "type": "scatter",
         "x": [
          1952,
          1957,
          1962,
          1967,
          1972,
          1977,
          1982,
          1987,
          1992,
          1997,
          2002,
          2007
         ],
         "xaxis": "x",
         "y": [
          72.67,
          73.44,
          73.47,
          74.08,
          74.34,
          75.37,
          75.97,
          75.89,
          77.32,
          78.32,
          79.05,
          80.196
         ],
         "yaxis": "y"
        },
        {
         "hovertemplate": "continent=Europe<br>country=Poland<br>year=%{x}<br>lifeExp=%{y}<extra></extra>",
         "legendgroup": "Europe",
         "line": {
          "color": "#DC3912",
          "dash": "solid",
          "shape": "spline"
         },
         "marker": {
          "symbol": "circle"
         },
         "mode": "lines",
         "name": "Europe",
         "orientation": "v",
         "showlegend": false,
         "type": "scatter",
         "x": [
          1952,
          1957,
          1962,
          1967,
          1972,
          1977,
          1982,
          1987,
          1992,
          1997,
          2002,
          2007
         ],
         "xaxis": "x",
         "y": [
          61.31,
          65.77,
          67.64,
          69.61,
          70.85,
          70.67,
          71.32,
          70.98,
          70.99,
          72.75,
          74.67,
          75.563
         ],
         "yaxis": "y"
        },
        {
         "hovertemplate": "continent=Europe<br>country=Portugal<br>year=%{x}<br>lifeExp=%{y}<extra></extra>",
         "legendgroup": "Europe",
         "line": {
          "color": "#DC3912",
          "dash": "solid",
          "shape": "spline"
         },
         "marker": {
          "symbol": "circle"
         },
         "mode": "lines",
         "name": "Europe",
         "orientation": "v",
         "showlegend": false,
         "type": "scatter",
         "x": [
          1952,
          1957,
          1962,
          1967,
          1972,
          1977,
          1982,
          1987,
          1992,
          1997,
          2002,
          2007
         ],
         "xaxis": "x",
         "y": [
          59.82,
          61.51,
          64.39,
          66.6,
          69.26,
          70.41,
          72.77,
          74.06,
          74.86,
          75.97,
          77.29,
          78.098
         ],
         "yaxis": "y"
        },
        {
         "hovertemplate": "continent=Europe<br>country=Romania<br>year=%{x}<br>lifeExp=%{y}<extra></extra>",
         "legendgroup": "Europe",
         "line": {
          "color": "#DC3912",
          "dash": "solid",
          "shape": "spline"
         },
         "marker": {
          "symbol": "circle"
         },
         "mode": "lines",
         "name": "Europe",
         "orientation": "v",
         "showlegend": false,
         "type": "scatter",
         "x": [
          1952,
          1957,
          1962,
          1967,
          1972,
          1977,
          1982,
          1987,
          1992,
          1997,
          2002,
          2007
         ],
         "xaxis": "x",
         "y": [
          61.05,
          64.1,
          66.8,
          66.8,
          69.21,
          69.46,
          69.66,
          69.53,
          69.36,
          69.72,
          71.322,
          72.476
         ],
         "yaxis": "y"
        },
        {
         "hovertemplate": "continent=Europe<br>country=Serbia<br>year=%{x}<br>lifeExp=%{y}<extra></extra>",
         "legendgroup": "Europe",
         "line": {
          "color": "#DC3912",
          "dash": "solid",
          "shape": "spline"
         },
         "marker": {
          "symbol": "circle"
         },
         "mode": "lines",
         "name": "Europe",
         "orientation": "v",
         "showlegend": false,
         "type": "scatter",
         "x": [
          1952,
          1957,
          1962,
          1967,
          1972,
          1977,
          1982,
          1987,
          1992,
          1997,
          2002,
          2007
         ],
         "xaxis": "x",
         "y": [
          57.996,
          61.685,
          64.531,
          66.914,
          68.7,
          70.3,
          70.16199999999999,
          71.218,
          71.65899999999998,
          72.232,
          73.21300000000002,
          74.002
         ],
         "yaxis": "y"
        },
        {
         "hovertemplate": "continent=Europe<br>country=Slovak Republic<br>year=%{x}<br>lifeExp=%{y}<extra></extra>",
         "legendgroup": "Europe",
         "line": {
          "color": "#DC3912",
          "dash": "solid",
          "shape": "spline"
         },
         "marker": {
          "symbol": "circle"
         },
         "mode": "lines",
         "name": "Europe",
         "orientation": "v",
         "showlegend": false,
         "type": "scatter",
         "x": [
          1952,
          1957,
          1962,
          1967,
          1972,
          1977,
          1982,
          1987,
          1992,
          1997,
          2002,
          2007
         ],
         "xaxis": "x",
         "y": [
          64.36,
          67.45,
          70.33,
          70.98,
          70.35,
          70.45,
          70.8,
          71.08,
          71.38,
          72.71,
          73.8,
          74.663
         ],
         "yaxis": "y"
        },
        {
         "hovertemplate": "continent=Europe<br>country=Slovenia<br>year=%{x}<br>lifeExp=%{y}<extra></extra>",
         "legendgroup": "Europe",
         "line": {
          "color": "#DC3912",
          "dash": "solid",
          "shape": "spline"
         },
         "marker": {
          "symbol": "circle"
         },
         "mode": "lines",
         "name": "Europe",
         "orientation": "v",
         "showlegend": false,
         "type": "scatter",
         "x": [
          1952,
          1957,
          1962,
          1967,
          1972,
          1977,
          1982,
          1987,
          1992,
          1997,
          2002,
          2007
         ],
         "xaxis": "x",
         "y": [
          65.57,
          67.85,
          69.15,
          69.18,
          69.82,
          70.97,
          71.063,
          72.25,
          73.64,
          75.13,
          76.66,
          77.926
         ],
         "yaxis": "y"
        },
        {
         "hovertemplate": "continent=Europe<br>country=Spain<br>year=%{x}<br>lifeExp=%{y}<extra></extra>",
         "legendgroup": "Europe",
         "line": {
          "color": "#DC3912",
          "dash": "solid",
          "shape": "spline"
         },
         "marker": {
          "symbol": "circle"
         },
         "mode": "lines",
         "name": "Europe",
         "orientation": "v",
         "showlegend": false,
         "type": "scatter",
         "x": [
          1952,
          1957,
          1962,
          1967,
          1972,
          1977,
          1982,
          1987,
          1992,
          1997,
          2002,
          2007
         ],
         "xaxis": "x",
         "y": [
          64.94,
          66.66,
          69.69,
          71.44,
          73.06,
          74.39,
          76.3,
          76.9,
          77.57,
          78.77,
          79.78,
          80.941
         ],
         "yaxis": "y"
        },
        {
         "hovertemplate": "continent=Europe<br>country=Sweden<br>year=%{x}<br>lifeExp=%{y}<extra></extra>",
         "legendgroup": "Europe",
         "line": {
          "color": "#DC3912",
          "dash": "solid",
          "shape": "spline"
         },
         "marker": {
          "symbol": "circle"
         },
         "mode": "lines",
         "name": "Europe",
         "orientation": "v",
         "showlegend": false,
         "type": "scatter",
         "x": [
          1952,
          1957,
          1962,
          1967,
          1972,
          1977,
          1982,
          1987,
          1992,
          1997,
          2002,
          2007
         ],
         "xaxis": "x",
         "y": [
          71.86,
          72.49,
          73.37,
          74.16,
          74.72,
          75.44,
          76.42,
          77.19,
          78.16,
          79.39,
          80.04,
          80.884
         ],
         "yaxis": "y"
        },
        {
         "hovertemplate": "continent=Europe<br>country=Switzerland<br>year=%{x}<br>lifeExp=%{y}<extra></extra>",
         "legendgroup": "Europe",
         "line": {
          "color": "#DC3912",
          "dash": "solid",
          "shape": "spline"
         },
         "marker": {
          "symbol": "circle"
         },
         "mode": "lines",
         "name": "Europe",
         "orientation": "v",
         "showlegend": false,
         "type": "scatter",
         "x": [
          1952,
          1957,
          1962,
          1967,
          1972,
          1977,
          1982,
          1987,
          1992,
          1997,
          2002,
          2007
         ],
         "xaxis": "x",
         "y": [
          69.62,
          70.56,
          71.32,
          72.77,
          73.78,
          75.39,
          76.21,
          77.41,
          78.03,
          79.37,
          80.62,
          81.70100000000002
         ],
         "yaxis": "y"
        },
        {
         "hovertemplate": "continent=Europe<br>country=Turkey<br>year=%{x}<br>lifeExp=%{y}<extra></extra>",
         "legendgroup": "Europe",
         "line": {
          "color": "#DC3912",
          "dash": "solid",
          "shape": "spline"
         },
         "marker": {
          "symbol": "circle"
         },
         "mode": "lines",
         "name": "Europe",
         "orientation": "v",
         "showlegend": false,
         "type": "scatter",
         "x": [
          1952,
          1957,
          1962,
          1967,
          1972,
          1977,
          1982,
          1987,
          1992,
          1997,
          2002,
          2007
         ],
         "xaxis": "x",
         "y": [
          43.585,
          48.07899999999999,
          52.098,
          54.33600000000001,
          57.005,
          59.507,
          61.036,
          63.108,
          66.146,
          68.835,
          70.845,
          71.777
         ],
         "yaxis": "y"
        },
        {
         "hovertemplate": "continent=Europe<br>country=United Kingdom<br>year=%{x}<br>lifeExp=%{y}<extra></extra>",
         "legendgroup": "Europe",
         "line": {
          "color": "#DC3912",
          "dash": "solid",
          "shape": "spline"
         },
         "marker": {
          "symbol": "circle"
         },
         "mode": "lines",
         "name": "Europe",
         "orientation": "v",
         "showlegend": false,
         "type": "scatter",
         "x": [
          1952,
          1957,
          1962,
          1967,
          1972,
          1977,
          1982,
          1987,
          1992,
          1997,
          2002,
          2007
         ],
         "xaxis": "x",
         "y": [
          69.18,
          70.42,
          70.76,
          71.36,
          72.01,
          72.76,
          74.04,
          75.007,
          76.42,
          77.218,
          78.471,
          79.425
         ],
         "yaxis": "y"
        },
        {
         "hovertemplate": "continent=Africa<br>country=Algeria<br>year=%{x}<br>lifeExp=%{y}<extra></extra>",
         "legendgroup": "Africa",
         "line": {
          "color": "#FF9900",
          "dash": "solid",
          "shape": "spline"
         },
         "marker": {
          "symbol": "circle"
         },
         "mode": "lines",
         "name": "Africa",
         "orientation": "v",
         "showlegend": true,
         "type": "scatter",
         "x": [
          1952,
          1957,
          1962,
          1967,
          1972,
          1977,
          1982,
          1987,
          1992,
          1997,
          2002,
          2007
         ],
         "xaxis": "x",
         "y": [
          43.077,
          45.685,
          48.303,
          51.407,
          54.518,
          58.014,
          61.368,
          65.79899999999999,
          67.744,
          69.152,
          70.994,
          72.301
         ],
         "yaxis": "y"
        },
        {
         "hovertemplate": "continent=Africa<br>country=Angola<br>year=%{x}<br>lifeExp=%{y}<extra></extra>",
         "legendgroup": "Africa",
         "line": {
          "color": "#FF9900",
          "dash": "solid",
          "shape": "spline"
         },
         "marker": {
          "symbol": "circle"
         },
         "mode": "lines",
         "name": "Africa",
         "orientation": "v",
         "showlegend": false,
         "type": "scatter",
         "x": [
          1952,
          1957,
          1962,
          1967,
          1972,
          1977,
          1982,
          1987,
          1992,
          1997,
          2002,
          2007
         ],
         "xaxis": "x",
         "y": [
          30.015,
          31.999,
          34,
          35.985,
          37.928,
          39.483,
          39.942,
          39.906,
          40.647,
          40.963,
          41.003,
          42.731
         ],
         "yaxis": "y"
        },
        {
         "hovertemplate": "continent=Africa<br>country=Benin<br>year=%{x}<br>lifeExp=%{y}<extra></extra>",
         "legendgroup": "Africa",
         "line": {
          "color": "#FF9900",
          "dash": "solid",
          "shape": "spline"
         },
         "marker": {
          "symbol": "circle"
         },
         "mode": "lines",
         "name": "Africa",
         "orientation": "v",
         "showlegend": false,
         "type": "scatter",
         "x": [
          1952,
          1957,
          1962,
          1967,
          1972,
          1977,
          1982,
          1987,
          1992,
          1997,
          2002,
          2007
         ],
         "xaxis": "x",
         "y": [
          38.223,
          40.358,
          42.618,
          44.885,
          47.014,
          49.19,
          50.904,
          52.337,
          53.919,
          54.777,
          54.40600000000001,
          56.728
         ],
         "yaxis": "y"
        },
        {
         "hovertemplate": "continent=Africa<br>country=Botswana<br>year=%{x}<br>lifeExp=%{y}<extra></extra>",
         "legendgroup": "Africa",
         "line": {
          "color": "#FF9900",
          "dash": "solid",
          "shape": "spline"
         },
         "marker": {
          "symbol": "circle"
         },
         "mode": "lines",
         "name": "Africa",
         "orientation": "v",
         "showlegend": false,
         "type": "scatter",
         "x": [
          1952,
          1957,
          1962,
          1967,
          1972,
          1977,
          1982,
          1987,
          1992,
          1997,
          2002,
          2007
         ],
         "xaxis": "x",
         "y": [
          47.622,
          49.618,
          51.52,
          53.298,
          56.024,
          59.319,
          61.484,
          63.622,
          62.745,
          52.556,
          46.63399999999999,
          50.728
         ],
         "yaxis": "y"
        },
        {
         "hovertemplate": "continent=Africa<br>country=Burkina Faso<br>year=%{x}<br>lifeExp=%{y}<extra></extra>",
         "legendgroup": "Africa",
         "line": {
          "color": "#FF9900",
          "dash": "solid",
          "shape": "spline"
         },
         "marker": {
          "symbol": "circle"
         },
         "mode": "lines",
         "name": "Africa",
         "orientation": "v",
         "showlegend": false,
         "type": "scatter",
         "x": [
          1952,
          1957,
          1962,
          1967,
          1972,
          1977,
          1982,
          1987,
          1992,
          1997,
          2002,
          2007
         ],
         "xaxis": "x",
         "y": [
          31.975,
          34.906,
          37.814,
          40.697,
          43.591,
          46.137,
          48.122,
          49.557,
          50.26,
          50.324,
          50.65,
          52.295
         ],
         "yaxis": "y"
        },
        {
         "hovertemplate": "continent=Africa<br>country=Burundi<br>year=%{x}<br>lifeExp=%{y}<extra></extra>",
         "legendgroup": "Africa",
         "line": {
          "color": "#FF9900",
          "dash": "solid",
          "shape": "spline"
         },
         "marker": {
          "symbol": "circle"
         },
         "mode": "lines",
         "name": "Africa",
         "orientation": "v",
         "showlegend": false,
         "type": "scatter",
         "x": [
          1952,
          1957,
          1962,
          1967,
          1972,
          1977,
          1982,
          1987,
          1992,
          1997,
          2002,
          2007
         ],
         "xaxis": "x",
         "y": [
          39.031,
          40.533,
          42.045,
          43.548,
          44.057,
          45.91,
          47.471,
          48.21100000000001,
          44.736,
          45.326,
          47.36,
          49.58
         ],
         "yaxis": "y"
        },
        {
         "hovertemplate": "continent=Africa<br>country=Cameroon<br>year=%{x}<br>lifeExp=%{y}<extra></extra>",
         "legendgroup": "Africa",
         "line": {
          "color": "#FF9900",
          "dash": "solid",
          "shape": "spline"
         },
         "marker": {
          "symbol": "circle"
         },
         "mode": "lines",
         "name": "Africa",
         "orientation": "v",
         "showlegend": false,
         "type": "scatter",
         "x": [
          1952,
          1957,
          1962,
          1967,
          1972,
          1977,
          1982,
          1987,
          1992,
          1997,
          2002,
          2007
         ],
         "xaxis": "x",
         "y": [
          38.523,
          40.428,
          42.643,
          44.799,
          47.049,
          49.355,
          52.96100000000001,
          54.985,
          54.31399999999999,
          52.199,
          49.856,
          50.43
         ],
         "yaxis": "y"
        },
        {
         "hovertemplate": "continent=Africa<br>country=Central African Republic<br>year=%{x}<br>lifeExp=%{y}<extra></extra>",
         "legendgroup": "Africa",
         "line": {
          "color": "#FF9900",
          "dash": "solid",
          "shape": "spline"
         },
         "marker": {
          "symbol": "circle"
         },
         "mode": "lines",
         "name": "Africa",
         "orientation": "v",
         "showlegend": false,
         "type": "scatter",
         "x": [
          1952,
          1957,
          1962,
          1967,
          1972,
          1977,
          1982,
          1987,
          1992,
          1997,
          2002,
          2007
         ],
         "xaxis": "x",
         "y": [
          35.463,
          37.464,
          39.475,
          41.478,
          43.457,
          46.775,
          48.295,
          50.485,
          49.396,
          46.066,
          43.308,
          44.74100000000001
         ],
         "yaxis": "y"
        },
        {
         "hovertemplate": "continent=Africa<br>country=Chad<br>year=%{x}<br>lifeExp=%{y}<extra></extra>",
         "legendgroup": "Africa",
         "line": {
          "color": "#FF9900",
          "dash": "solid",
          "shape": "spline"
         },
         "marker": {
          "symbol": "circle"
         },
         "mode": "lines",
         "name": "Africa",
         "orientation": "v",
         "showlegend": false,
         "type": "scatter",
         "x": [
          1952,
          1957,
          1962,
          1967,
          1972,
          1977,
          1982,
          1987,
          1992,
          1997,
          2002,
          2007
         ],
         "xaxis": "x",
         "y": [
          38.092,
          39.881,
          41.716,
          43.601000000000006,
          45.569,
          47.383,
          49.517,
          51.051,
          51.724,
          51.573,
          50.525,
          50.651
         ],
         "yaxis": "y"
        },
        {
         "hovertemplate": "continent=Africa<br>country=Comoros<br>year=%{x}<br>lifeExp=%{y}<extra></extra>",
         "legendgroup": "Africa",
         "line": {
          "color": "#FF9900",
          "dash": "solid",
          "shape": "spline"
         },
         "marker": {
          "symbol": "circle"
         },
         "mode": "lines",
         "name": "Africa",
         "orientation": "v",
         "showlegend": false,
         "type": "scatter",
         "x": [
          1952,
          1957,
          1962,
          1967,
          1972,
          1977,
          1982,
          1987,
          1992,
          1997,
          2002,
          2007
         ],
         "xaxis": "x",
         "y": [
          40.715,
          42.46,
          44.467,
          46.472,
          48.944,
          50.93899999999999,
          52.933,
          54.926,
          57.93899999999999,
          60.66,
          62.974,
          65.152
         ],
         "yaxis": "y"
        },
        {
         "hovertemplate": "continent=Africa<br>country=Congo, Dem. Rep.<br>year=%{x}<br>lifeExp=%{y}<extra></extra>",
         "legendgroup": "Africa",
         "line": {
          "color": "#FF9900",
          "dash": "solid",
          "shape": "spline"
         },
         "marker": {
          "symbol": "circle"
         },
         "mode": "lines",
         "name": "Africa",
         "orientation": "v",
         "showlegend": false,
         "type": "scatter",
         "x": [
          1952,
          1957,
          1962,
          1967,
          1972,
          1977,
          1982,
          1987,
          1992,
          1997,
          2002,
          2007
         ],
         "xaxis": "x",
         "y": [
          39.143,
          40.652,
          42.122,
          44.056,
          45.989,
          47.804,
          47.784,
          47.412,
          45.548,
          42.587,
          44.966,
          46.462
         ],
         "yaxis": "y"
        },
        {
         "hovertemplate": "continent=Africa<br>country=Congo, Rep.<br>year=%{x}<br>lifeExp=%{y}<extra></extra>",
         "legendgroup": "Africa",
         "line": {
          "color": "#FF9900",
          "dash": "solid",
          "shape": "spline"
         },
         "marker": {
          "symbol": "circle"
         },
         "mode": "lines",
         "name": "Africa",
         "orientation": "v",
         "showlegend": false,
         "type": "scatter",
         "x": [
          1952,
          1957,
          1962,
          1967,
          1972,
          1977,
          1982,
          1987,
          1992,
          1997,
          2002,
          2007
         ],
         "xaxis": "x",
         "y": [
          42.111,
          45.053,
          48.435,
          52.04,
          54.907,
          55.625,
          56.695,
          57.47,
          56.433,
          52.962,
          52.97,
          55.322
         ],
         "yaxis": "y"
        },
        {
         "hovertemplate": "continent=Africa<br>country=Cote d'Ivoire<br>year=%{x}<br>lifeExp=%{y}<extra></extra>",
         "legendgroup": "Africa",
         "line": {
          "color": "#FF9900",
          "dash": "solid",
          "shape": "spline"
         },
         "marker": {
          "symbol": "circle"
         },
         "mode": "lines",
         "name": "Africa",
         "orientation": "v",
         "showlegend": false,
         "type": "scatter",
         "x": [
          1952,
          1957,
          1962,
          1967,
          1972,
          1977,
          1982,
          1987,
          1992,
          1997,
          2002,
          2007
         ],
         "xaxis": "x",
         "y": [
          40.477,
          42.469,
          44.93,
          47.35,
          49.801,
          52.374,
          53.983,
          54.655,
          52.044,
          47.99100000000001,
          46.832,
          48.328
         ],
         "yaxis": "y"
        },
        {
         "hovertemplate": "continent=Africa<br>country=Djibouti<br>year=%{x}<br>lifeExp=%{y}<extra></extra>",
         "legendgroup": "Africa",
         "line": {
          "color": "#FF9900",
          "dash": "solid",
          "shape": "spline"
         },
         "marker": {
          "symbol": "circle"
         },
         "mode": "lines",
         "name": "Africa",
         "orientation": "v",
         "showlegend": false,
         "type": "scatter",
         "x": [
          1952,
          1957,
          1962,
          1967,
          1972,
          1977,
          1982,
          1987,
          1992,
          1997,
          2002,
          2007
         ],
         "xaxis": "x",
         "y": [
          34.812,
          37.328,
          39.69300000000001,
          42.074,
          44.36600000000001,
          46.519,
          48.812,
          50.04,
          51.604,
          53.157,
          53.37300000000001,
          54.791
         ],
         "yaxis": "y"
        },
        {
         "hovertemplate": "continent=Africa<br>country=Egypt<br>year=%{x}<br>lifeExp=%{y}<extra></extra>",
         "legendgroup": "Africa",
         "line": {
          "color": "#FF9900",
          "dash": "solid",
          "shape": "spline"
         },
         "marker": {
          "symbol": "circle"
         },
         "mode": "lines",
         "name": "Africa",
         "orientation": "v",
         "showlegend": false,
         "type": "scatter",
         "x": [
          1952,
          1957,
          1962,
          1967,
          1972,
          1977,
          1982,
          1987,
          1992,
          1997,
          2002,
          2007
         ],
         "xaxis": "x",
         "y": [
          41.893,
          44.444,
          46.992,
          49.293,
          51.137,
          53.319,
          56.006,
          59.797,
          63.674,
          67.217,
          69.806,
          71.33800000000002
         ],
         "yaxis": "y"
        },
        {
         "hovertemplate": "continent=Africa<br>country=Equatorial Guinea<br>year=%{x}<br>lifeExp=%{y}<extra></extra>",
         "legendgroup": "Africa",
         "line": {
          "color": "#FF9900",
          "dash": "solid",
          "shape": "spline"
         },
         "marker": {
          "symbol": "circle"
         },
         "mode": "lines",
         "name": "Africa",
         "orientation": "v",
         "showlegend": false,
         "type": "scatter",
         "x": [
          1952,
          1957,
          1962,
          1967,
          1972,
          1977,
          1982,
          1987,
          1992,
          1997,
          2002,
          2007
         ],
         "xaxis": "x",
         "y": [
          34.482,
          35.98300000000001,
          37.485,
          38.987,
          40.516,
          42.024,
          43.662,
          45.664,
          47.545,
          48.245,
          49.348,
          51.57899999999999
         ],
         "yaxis": "y"
        },
        {
         "hovertemplate": "continent=Africa<br>country=Eritrea<br>year=%{x}<br>lifeExp=%{y}<extra></extra>",
         "legendgroup": "Africa",
         "line": {
          "color": "#FF9900",
          "dash": "solid",
          "shape": "spline"
         },
         "marker": {
          "symbol": "circle"
         },
         "mode": "lines",
         "name": "Africa",
         "orientation": "v",
         "showlegend": false,
         "type": "scatter",
         "x": [
          1952,
          1957,
          1962,
          1967,
          1972,
          1977,
          1982,
          1987,
          1992,
          1997,
          2002,
          2007
         ],
         "xaxis": "x",
         "y": [
          35.92800000000001,
          38.047,
          40.158,
          42.18899999999999,
          44.142,
          44.535,
          43.89,
          46.453,
          49.99100000000001,
          53.378,
          55.24,
          58.04
         ],
         "yaxis": "y"
        },
        {
         "hovertemplate": "continent=Africa<br>country=Ethiopia<br>year=%{x}<br>lifeExp=%{y}<extra></extra>",
         "legendgroup": "Africa",
         "line": {
          "color": "#FF9900",
          "dash": "solid",
          "shape": "spline"
         },
         "marker": {
          "symbol": "circle"
         },
         "mode": "lines",
         "name": "Africa",
         "orientation": "v",
         "showlegend": false,
         "type": "scatter",
         "x": [
          1952,
          1957,
          1962,
          1967,
          1972,
          1977,
          1982,
          1987,
          1992,
          1997,
          2002,
          2007
         ],
         "xaxis": "x",
         "y": [
          34.078,
          36.667,
          40.059,
          42.115,
          43.515,
          44.51,
          44.916,
          46.684,
          48.091,
          49.402,
          50.725,
          52.947
         ],
         "yaxis": "y"
        },
        {
         "hovertemplate": "continent=Africa<br>country=Gabon<br>year=%{x}<br>lifeExp=%{y}<extra></extra>",
         "legendgroup": "Africa",
         "line": {
          "color": "#FF9900",
          "dash": "solid",
          "shape": "spline"
         },
         "marker": {
          "symbol": "circle"
         },
         "mode": "lines",
         "name": "Africa",
         "orientation": "v",
         "showlegend": false,
         "type": "scatter",
         "x": [
          1952,
          1957,
          1962,
          1967,
          1972,
          1977,
          1982,
          1987,
          1992,
          1997,
          2002,
          2007
         ],
         "xaxis": "x",
         "y": [
          37.003,
          38.999,
          40.489,
          44.598,
          48.69,
          52.79,
          56.56399999999999,
          60.19,
          61.36600000000001,
          60.46100000000001,
          56.761,
          56.735
         ],
         "yaxis": "y"
        },
        {
         "hovertemplate": "continent=Africa<br>country=Gambia<br>year=%{x}<br>lifeExp=%{y}<extra></extra>",
         "legendgroup": "Africa",
         "line": {
          "color": "#FF9900",
          "dash": "solid",
          "shape": "spline"
         },
         "marker": {
          "symbol": "circle"
         },
         "mode": "lines",
         "name": "Africa",
         "orientation": "v",
         "showlegend": false,
         "type": "scatter",
         "x": [
          1952,
          1957,
          1962,
          1967,
          1972,
          1977,
          1982,
          1987,
          1992,
          1997,
          2002,
          2007
         ],
         "xaxis": "x",
         "y": [
          30,
          32.065,
          33.896,
          35.857,
          38.308,
          41.842,
          45.58,
          49.265,
          52.644,
          55.861,
          58.041,
          59.448
         ],
         "yaxis": "y"
        },
        {
         "hovertemplate": "continent=Africa<br>country=Ghana<br>year=%{x}<br>lifeExp=%{y}<extra></extra>",
         "legendgroup": "Africa",
         "line": {
          "color": "#FF9900",
          "dash": "solid",
          "shape": "spline"
         },
         "marker": {
          "symbol": "circle"
         },
         "mode": "lines",
         "name": "Africa",
         "orientation": "v",
         "showlegend": false,
         "type": "scatter",
         "x": [
          1952,
          1957,
          1962,
          1967,
          1972,
          1977,
          1982,
          1987,
          1992,
          1997,
          2002,
          2007
         ],
         "xaxis": "x",
         "y": [
          43.149,
          44.779,
          46.452,
          48.072,
          49.875,
          51.756,
          53.744,
          55.729,
          57.50100000000001,
          58.556,
          58.453,
          60.022
         ],
         "yaxis": "y"
        },
        {
         "hovertemplate": "continent=Africa<br>country=Guinea<br>year=%{x}<br>lifeExp=%{y}<extra></extra>",
         "legendgroup": "Africa",
         "line": {
          "color": "#FF9900",
          "dash": "solid",
          "shape": "spline"
         },
         "marker": {
          "symbol": "circle"
         },
         "mode": "lines",
         "name": "Africa",
         "orientation": "v",
         "showlegend": false,
         "type": "scatter",
         "x": [
          1952,
          1957,
          1962,
          1967,
          1972,
          1977,
          1982,
          1987,
          1992,
          1997,
          2002,
          2007
         ],
         "xaxis": "x",
         "y": [
          33.609,
          34.558,
          35.753,
          37.197,
          38.842,
          40.762,
          42.89100000000001,
          45.552,
          48.576,
          51.455,
          53.676,
          56.007
         ],
         "yaxis": "y"
        },
        {
         "hovertemplate": "continent=Africa<br>country=Guinea-Bissau<br>year=%{x}<br>lifeExp=%{y}<extra></extra>",
         "legendgroup": "Africa",
         "line": {
          "color": "#FF9900",
          "dash": "solid",
          "shape": "spline"
         },
         "marker": {
          "symbol": "circle"
         },
         "mode": "lines",
         "name": "Africa",
         "orientation": "v",
         "showlegend": false,
         "type": "scatter",
         "x": [
          1952,
          1957,
          1962,
          1967,
          1972,
          1977,
          1982,
          1987,
          1992,
          1997,
          2002,
          2007
         ],
         "xaxis": "x",
         "y": [
          32.5,
          33.489000000000004,
          34.488,
          35.492,
          36.486,
          37.465,
          39.327,
          41.245,
          43.26600000000001,
          44.87300000000001,
          45.504,
          46.38800000000001
         ],
         "yaxis": "y"
        },
        {
         "hovertemplate": "continent=Africa<br>country=Kenya<br>year=%{x}<br>lifeExp=%{y}<extra></extra>",
         "legendgroup": "Africa",
         "line": {
          "color": "#FF9900",
          "dash": "solid",
          "shape": "spline"
         },
         "marker": {
          "symbol": "circle"
         },
         "mode": "lines",
         "name": "Africa",
         "orientation": "v",
         "showlegend": false,
         "type": "scatter",
         "x": [
          1952,
          1957,
          1962,
          1967,
          1972,
          1977,
          1982,
          1987,
          1992,
          1997,
          2002,
          2007
         ],
         "xaxis": "x",
         "y": [
          42.27,
          44.68600000000001,
          47.949,
          50.654,
          53.559,
          56.155,
          58.76600000000001,
          59.339,
          59.285,
          54.407,
          50.992,
          54.11
         ],
         "yaxis": "y"
        },
        {
         "hovertemplate": "continent=Africa<br>country=Lesotho<br>year=%{x}<br>lifeExp=%{y}<extra></extra>",
         "legendgroup": "Africa",
         "line": {
          "color": "#FF9900",
          "dash": "solid",
          "shape": "spline"
         },
         "marker": {
          "symbol": "circle"
         },
         "mode": "lines",
         "name": "Africa",
         "orientation": "v",
         "showlegend": false,
         "type": "scatter",
         "x": [
          1952,
          1957,
          1962,
          1967,
          1972,
          1977,
          1982,
          1987,
          1992,
          1997,
          2002,
          2007
         ],
         "xaxis": "x",
         "y": [
          42.13800000000001,
          45.047,
          47.747,
          48.492,
          49.767,
          52.208,
          55.078,
          57.18,
          59.685,
          55.558,
          44.593,
          42.592
         ],
         "yaxis": "y"
        },
        {
         "hovertemplate": "continent=Africa<br>country=Liberia<br>year=%{x}<br>lifeExp=%{y}<extra></extra>",
         "legendgroup": "Africa",
         "line": {
          "color": "#FF9900",
          "dash": "solid",
          "shape": "spline"
         },
         "marker": {
          "symbol": "circle"
         },
         "mode": "lines",
         "name": "Africa",
         "orientation": "v",
         "showlegend": false,
         "type": "scatter",
         "x": [
          1952,
          1957,
          1962,
          1967,
          1972,
          1977,
          1982,
          1987,
          1992,
          1997,
          2002,
          2007
         ],
         "xaxis": "x",
         "y": [
          38.48,
          39.486,
          40.502,
          41.536,
          42.614,
          43.764,
          44.852,
          46.027,
          40.802,
          42.221,
          43.753,
          45.678
         ],
         "yaxis": "y"
        },
        {
         "hovertemplate": "continent=Africa<br>country=Libya<br>year=%{x}<br>lifeExp=%{y}<extra></extra>",
         "legendgroup": "Africa",
         "line": {
          "color": "#FF9900",
          "dash": "solid",
          "shape": "spline"
         },
         "marker": {
          "symbol": "circle"
         },
         "mode": "lines",
         "name": "Africa",
         "orientation": "v",
         "showlegend": false,
         "type": "scatter",
         "x": [
          1952,
          1957,
          1962,
          1967,
          1972,
          1977,
          1982,
          1987,
          1992,
          1997,
          2002,
          2007
         ],
         "xaxis": "x",
         "y": [
          42.723,
          45.289,
          47.808,
          50.227,
          52.773,
          57.442,
          62.155,
          66.234,
          68.755,
          71.555,
          72.737,
          73.952
         ],
         "yaxis": "y"
        },
        {
         "hovertemplate": "continent=Africa<br>country=Madagascar<br>year=%{x}<br>lifeExp=%{y}<extra></extra>",
         "legendgroup": "Africa",
         "line": {
          "color": "#FF9900",
          "dash": "solid",
          "shape": "spline"
         },
         "marker": {
          "symbol": "circle"
         },
         "mode": "lines",
         "name": "Africa",
         "orientation": "v",
         "showlegend": false,
         "type": "scatter",
         "x": [
          1952,
          1957,
          1962,
          1967,
          1972,
          1977,
          1982,
          1987,
          1992,
          1997,
          2002,
          2007
         ],
         "xaxis": "x",
         "y": [
          36.681,
          38.865,
          40.848,
          42.881,
          44.851000000000006,
          46.881,
          48.969,
          49.35,
          52.214,
          54.978,
          57.286,
          59.44300000000001
         ],
         "yaxis": "y"
        },
        {
         "hovertemplate": "continent=Africa<br>country=Malawi<br>year=%{x}<br>lifeExp=%{y}<extra></extra>",
         "legendgroup": "Africa",
         "line": {
          "color": "#FF9900",
          "dash": "solid",
          "shape": "spline"
         },
         "marker": {
          "symbol": "circle"
         },
         "mode": "lines",
         "name": "Africa",
         "orientation": "v",
         "showlegend": false,
         "type": "scatter",
         "x": [
          1952,
          1957,
          1962,
          1967,
          1972,
          1977,
          1982,
          1987,
          1992,
          1997,
          2002,
          2007
         ],
         "xaxis": "x",
         "y": [
          36.256,
          37.207,
          38.41,
          39.487,
          41.76600000000001,
          43.767,
          45.642,
          47.457,
          49.42,
          47.495,
          45.00899999999999,
          48.303
         ],
         "yaxis": "y"
        },
        {
         "hovertemplate": "continent=Africa<br>country=Mali<br>year=%{x}<br>lifeExp=%{y}<extra></extra>",
         "legendgroup": "Africa",
         "line": {
          "color": "#FF9900",
          "dash": "solid",
          "shape": "spline"
         },
         "marker": {
          "symbol": "circle"
         },
         "mode": "lines",
         "name": "Africa",
         "orientation": "v",
         "showlegend": false,
         "type": "scatter",
         "x": [
          1952,
          1957,
          1962,
          1967,
          1972,
          1977,
          1982,
          1987,
          1992,
          1997,
          2002,
          2007
         ],
         "xaxis": "x",
         "y": [
          33.685,
          35.30699999999999,
          36.936,
          38.487,
          39.977,
          41.714,
          43.916,
          46.364,
          48.38800000000001,
          49.903,
          51.81800000000001,
          54.467
         ],
         "yaxis": "y"
        },
        {
         "hovertemplate": "continent=Africa<br>country=Mauritania<br>year=%{x}<br>lifeExp=%{y}<extra></extra>",
         "legendgroup": "Africa",
         "line": {
          "color": "#FF9900",
          "dash": "solid",
          "shape": "spline"
         },
         "marker": {
          "symbol": "circle"
         },
         "mode": "lines",
         "name": "Africa",
         "orientation": "v",
         "showlegend": false,
         "type": "scatter",
         "x": [
          1952,
          1957,
          1962,
          1967,
          1972,
          1977,
          1982,
          1987,
          1992,
          1997,
          2002,
          2007
         ],
         "xaxis": "x",
         "y": [
          40.543,
          42.338,
          44.24800000000001,
          46.289,
          48.437,
          50.852,
          53.599,
          56.145,
          58.333,
          60.43,
          62.247,
          64.164
         ],
         "yaxis": "y"
        },
        {
         "hovertemplate": "continent=Africa<br>country=Mauritius<br>year=%{x}<br>lifeExp=%{y}<extra></extra>",
         "legendgroup": "Africa",
         "line": {
          "color": "#FF9900",
          "dash": "solid",
          "shape": "spline"
         },
         "marker": {
          "symbol": "circle"
         },
         "mode": "lines",
         "name": "Africa",
         "orientation": "v",
         "showlegend": false,
         "type": "scatter",
         "x": [
          1952,
          1957,
          1962,
          1967,
          1972,
          1977,
          1982,
          1987,
          1992,
          1997,
          2002,
          2007
         ],
         "xaxis": "x",
         "y": [
          50.986,
          58.089,
          60.246,
          61.557,
          62.944,
          64.93,
          66.711,
          68.74,
          69.745,
          70.736,
          71.954,
          72.801
         ],
         "yaxis": "y"
        },
        {
         "hovertemplate": "continent=Africa<br>country=Morocco<br>year=%{x}<br>lifeExp=%{y}<extra></extra>",
         "legendgroup": "Africa",
         "line": {
          "color": "#FF9900",
          "dash": "solid",
          "shape": "spline"
         },
         "marker": {
          "symbol": "circle"
         },
         "mode": "lines",
         "name": "Africa",
         "orientation": "v",
         "showlegend": false,
         "type": "scatter",
         "x": [
          1952,
          1957,
          1962,
          1967,
          1972,
          1977,
          1982,
          1987,
          1992,
          1997,
          2002,
          2007
         ],
         "xaxis": "x",
         "y": [
          42.87300000000001,
          45.423,
          47.924,
          50.335,
          52.862,
          55.73,
          59.65,
          62.677,
          65.393,
          67.66,
          69.615,
          71.164
         ],
         "yaxis": "y"
        },
        {
         "hovertemplate": "continent=Africa<br>country=Mozambique<br>year=%{x}<br>lifeExp=%{y}<extra></extra>",
         "legendgroup": "Africa",
         "line": {
          "color": "#FF9900",
          "dash": "solid",
          "shape": "spline"
         },
         "marker": {
          "symbol": "circle"
         },
         "mode": "lines",
         "name": "Africa",
         "orientation": "v",
         "showlegend": false,
         "type": "scatter",
         "x": [
          1952,
          1957,
          1962,
          1967,
          1972,
          1977,
          1982,
          1987,
          1992,
          1997,
          2002,
          2007
         ],
         "xaxis": "x",
         "y": [
          31.286,
          33.779,
          36.161,
          38.113,
          40.328,
          42.495,
          42.795,
          42.861,
          44.284,
          46.344,
          44.026,
          42.082
         ],
         "yaxis": "y"
        },
        {
         "hovertemplate": "continent=Africa<br>country=Namibia<br>year=%{x}<br>lifeExp=%{y}<extra></extra>",
         "legendgroup": "Africa",
         "line": {
          "color": "#FF9900",
          "dash": "solid",
          "shape": "spline"
         },
         "marker": {
          "symbol": "circle"
         },
         "mode": "lines",
         "name": "Africa",
         "orientation": "v",
         "showlegend": false,
         "type": "scatter",
         "x": [
          1952,
          1957,
          1962,
          1967,
          1972,
          1977,
          1982,
          1987,
          1992,
          1997,
          2002,
          2007
         ],
         "xaxis": "x",
         "y": [
          41.725,
          45.226000000000006,
          48.386,
          51.159,
          53.867,
          56.437,
          58.968,
          60.835,
          61.999,
          58.909,
          51.479,
          52.90600000000001
         ],
         "yaxis": "y"
        },
        {
         "hovertemplate": "continent=Africa<br>country=Niger<br>year=%{x}<br>lifeExp=%{y}<extra></extra>",
         "legendgroup": "Africa",
         "line": {
          "color": "#FF9900",
          "dash": "solid",
          "shape": "spline"
         },
         "marker": {
          "symbol": "circle"
         },
         "mode": "lines",
         "name": "Africa",
         "orientation": "v",
         "showlegend": false,
         "type": "scatter",
         "x": [
          1952,
          1957,
          1962,
          1967,
          1972,
          1977,
          1982,
          1987,
          1992,
          1997,
          2002,
          2007
         ],
         "xaxis": "x",
         "y": [
          37.444,
          38.598,
          39.487,
          40.118,
          40.546,
          41.291,
          42.598,
          44.555,
          47.39100000000001,
          51.313,
          54.496,
          56.867
         ],
         "yaxis": "y"
        },
        {
         "hovertemplate": "continent=Africa<br>country=Nigeria<br>year=%{x}<br>lifeExp=%{y}<extra></extra>",
         "legendgroup": "Africa",
         "line": {
          "color": "#FF9900",
          "dash": "solid",
          "shape": "spline"
         },
         "marker": {
          "symbol": "circle"
         },
         "mode": "lines",
         "name": "Africa",
         "orientation": "v",
         "showlegend": false,
         "type": "scatter",
         "x": [
          1952,
          1957,
          1962,
          1967,
          1972,
          1977,
          1982,
          1987,
          1992,
          1997,
          2002,
          2007
         ],
         "xaxis": "x",
         "y": [
          36.324,
          37.802,
          39.36,
          41.04,
          42.82100000000001,
          44.514,
          45.826,
          46.886,
          47.472,
          47.464,
          46.608,
          46.859
         ],
         "yaxis": "y"
        },
        {
         "hovertemplate": "continent=Africa<br>country=Reunion<br>year=%{x}<br>lifeExp=%{y}<extra></extra>",
         "legendgroup": "Africa",
         "line": {
          "color": "#FF9900",
          "dash": "solid",
          "shape": "spline"
         },
         "marker": {
          "symbol": "circle"
         },
         "mode": "lines",
         "name": "Africa",
         "orientation": "v",
         "showlegend": false,
         "type": "scatter",
         "x": [
          1952,
          1957,
          1962,
          1967,
          1972,
          1977,
          1982,
          1987,
          1992,
          1997,
          2002,
          2007
         ],
         "xaxis": "x",
         "y": [
          52.724,
          55.09,
          57.666,
          60.542,
          64.274,
          67.064,
          69.885,
          71.913,
          73.615,
          74.77199999999998,
          75.744,
          76.442
         ],
         "yaxis": "y"
        },
        {
         "hovertemplate": "continent=Africa<br>country=Rwanda<br>year=%{x}<br>lifeExp=%{y}<extra></extra>",
         "legendgroup": "Africa",
         "line": {
          "color": "#FF9900",
          "dash": "solid",
          "shape": "spline"
         },
         "marker": {
          "symbol": "circle"
         },
         "mode": "lines",
         "name": "Africa",
         "orientation": "v",
         "showlegend": false,
         "type": "scatter",
         "x": [
          1952,
          1957,
          1962,
          1967,
          1972,
          1977,
          1982,
          1987,
          1992,
          1997,
          2002,
          2007
         ],
         "xaxis": "x",
         "y": [
          40,
          41.5,
          43,
          44.1,
          44.6,
          45,
          46.218,
          44.02,
          23.599,
          36.087,
          43.413,
          46.242
         ],
         "yaxis": "y"
        },
        {
         "hovertemplate": "continent=Africa<br>country=Sao Tome and Principe<br>year=%{x}<br>lifeExp=%{y}<extra></extra>",
         "legendgroup": "Africa",
         "line": {
          "color": "#FF9900",
          "dash": "solid",
          "shape": "spline"
         },
         "marker": {
          "symbol": "circle"
         },
         "mode": "lines",
         "name": "Africa",
         "orientation": "v",
         "showlegend": false,
         "type": "scatter",
         "x": [
          1952,
          1957,
          1962,
          1967,
          1972,
          1977,
          1982,
          1987,
          1992,
          1997,
          2002,
          2007
         ],
         "xaxis": "x",
         "y": [
          46.471,
          48.945,
          51.893,
          54.425,
          56.48,
          58.55,
          60.351000000000006,
          61.728,
          62.742,
          63.306,
          64.337,
          65.528
         ],
         "yaxis": "y"
        },
        {
         "hovertemplate": "continent=Africa<br>country=Senegal<br>year=%{x}<br>lifeExp=%{y}<extra></extra>",
         "legendgroup": "Africa",
         "line": {
          "color": "#FF9900",
          "dash": "solid",
          "shape": "spline"
         },
         "marker": {
          "symbol": "circle"
         },
         "mode": "lines",
         "name": "Africa",
         "orientation": "v",
         "showlegend": false,
         "type": "scatter",
         "x": [
          1952,
          1957,
          1962,
          1967,
          1972,
          1977,
          1982,
          1987,
          1992,
          1997,
          2002,
          2007
         ],
         "xaxis": "x",
         "y": [
          37.278,
          39.329,
          41.45399999999999,
          43.563,
          45.815,
          48.879,
          52.379,
          55.769,
          58.19600000000001,
          60.187,
          61.6,
          63.062
         ],
         "yaxis": "y"
        },
        {
         "hovertemplate": "continent=Africa<br>country=Sierra Leone<br>year=%{x}<br>lifeExp=%{y}<extra></extra>",
         "legendgroup": "Africa",
         "line": {
          "color": "#FF9900",
          "dash": "solid",
          "shape": "spline"
         },
         "marker": {
          "symbol": "circle"
         },
         "mode": "lines",
         "name": "Africa",
         "orientation": "v",
         "showlegend": false,
         "type": "scatter",
         "x": [
          1952,
          1957,
          1962,
          1967,
          1972,
          1977,
          1982,
          1987,
          1992,
          1997,
          2002,
          2007
         ],
         "xaxis": "x",
         "y": [
          30.331,
          31.57,
          32.767,
          34.113,
          35.4,
          36.788,
          38.445,
          40.006,
          38.333,
          39.897,
          41.012,
          42.56800000000001
         ],
         "yaxis": "y"
        },
        {
         "hovertemplate": "continent=Africa<br>country=Somalia<br>year=%{x}<br>lifeExp=%{y}<extra></extra>",
         "legendgroup": "Africa",
         "line": {
          "color": "#FF9900",
          "dash": "solid",
          "shape": "spline"
         },
         "marker": {
          "symbol": "circle"
         },
         "mode": "lines",
         "name": "Africa",
         "orientation": "v",
         "showlegend": false,
         "type": "scatter",
         "x": [
          1952,
          1957,
          1962,
          1967,
          1972,
          1977,
          1982,
          1987,
          1992,
          1997,
          2002,
          2007
         ],
         "xaxis": "x",
         "y": [
          32.978,
          34.977,
          36.981,
          38.977,
          40.973,
          41.974,
          42.955,
          44.50100000000001,
          39.658,
          43.795,
          45.93600000000001,
          48.159
         ],
         "yaxis": "y"
        },
        {
         "hovertemplate": "continent=Africa<br>country=South Africa<br>year=%{x}<br>lifeExp=%{y}<extra></extra>",
         "legendgroup": "Africa",
         "line": {
          "color": "#FF9900",
          "dash": "solid",
          "shape": "spline"
         },
         "marker": {
          "symbol": "circle"
         },
         "mode": "lines",
         "name": "Africa",
         "orientation": "v",
         "showlegend": false,
         "type": "scatter",
         "x": [
          1952,
          1957,
          1962,
          1967,
          1972,
          1977,
          1982,
          1987,
          1992,
          1997,
          2002,
          2007
         ],
         "xaxis": "x",
         "y": [
          45.00899999999999,
          47.985,
          49.951,
          51.927,
          53.69600000000001,
          55.527,
          58.161,
          60.834,
          61.88800000000001,
          60.236,
          53.365,
          49.339
         ],
         "yaxis": "y"
        },
        {
         "hovertemplate": "continent=Africa<br>country=Sudan<br>year=%{x}<br>lifeExp=%{y}<extra></extra>",
         "legendgroup": "Africa",
         "line": {
          "color": "#FF9900",
          "dash": "solid",
          "shape": "spline"
         },
         "marker": {
          "symbol": "circle"
         },
         "mode": "lines",
         "name": "Africa",
         "orientation": "v",
         "showlegend": false,
         "type": "scatter",
         "x": [
          1952,
          1957,
          1962,
          1967,
          1972,
          1977,
          1982,
          1987,
          1992,
          1997,
          2002,
          2007
         ],
         "xaxis": "x",
         "y": [
          38.635,
          39.624,
          40.87,
          42.858,
          45.083,
          47.8,
          50.338,
          51.744,
          53.556,
          55.37300000000001,
          56.369,
          58.556
         ],
         "yaxis": "y"
        },
        {
         "hovertemplate": "continent=Africa<br>country=Swaziland<br>year=%{x}<br>lifeExp=%{y}<extra></extra>",
         "legendgroup": "Africa",
         "line": {
          "color": "#FF9900",
          "dash": "solid",
          "shape": "spline"
         },
         "marker": {
          "symbol": "circle"
         },
         "mode": "lines",
         "name": "Africa",
         "orientation": "v",
         "showlegend": false,
         "type": "scatter",
         "x": [
          1952,
          1957,
          1962,
          1967,
          1972,
          1977,
          1982,
          1987,
          1992,
          1997,
          2002,
          2007
         ],
         "xaxis": "x",
         "y": [
          41.407,
          43.424,
          44.992,
          46.633,
          49.552,
          52.537,
          55.56100000000001,
          57.678,
          58.474,
          54.289,
          43.869,
          39.613
         ],
         "yaxis": "y"
        },
        {
         "hovertemplate": "continent=Africa<br>country=Tanzania<br>year=%{x}<br>lifeExp=%{y}<extra></extra>",
         "legendgroup": "Africa",
         "line": {
          "color": "#FF9900",
          "dash": "solid",
          "shape": "spline"
         },
         "marker": {
          "symbol": "circle"
         },
         "mode": "lines",
         "name": "Africa",
         "orientation": "v",
         "showlegend": false,
         "type": "scatter",
         "x": [
          1952,
          1957,
          1962,
          1967,
          1972,
          1977,
          1982,
          1987,
          1992,
          1997,
          2002,
          2007
         ],
         "xaxis": "x",
         "y": [
          41.215,
          42.974,
          44.246,
          45.757,
          47.62,
          49.919,
          50.608,
          51.535,
          50.44,
          48.466,
          49.651,
          52.517
         ],
         "yaxis": "y"
        },
        {
         "hovertemplate": "continent=Africa<br>country=Togo<br>year=%{x}<br>lifeExp=%{y}<extra></extra>",
         "legendgroup": "Africa",
         "line": {
          "color": "#FF9900",
          "dash": "solid",
          "shape": "spline"
         },
         "marker": {
          "symbol": "circle"
         },
         "mode": "lines",
         "name": "Africa",
         "orientation": "v",
         "showlegend": false,
         "type": "scatter",
         "x": [
          1952,
          1957,
          1962,
          1967,
          1972,
          1977,
          1982,
          1987,
          1992,
          1997,
          2002,
          2007
         ],
         "xaxis": "x",
         "y": [
          38.596,
          41.208,
          43.922,
          46.769,
          49.75899999999999,
          52.887,
          55.471,
          56.941,
          58.06100000000001,
          58.39,
          57.56100000000001,
          58.42
         ],
         "yaxis": "y"
        },
        {
         "hovertemplate": "continent=Africa<br>country=Tunisia<br>year=%{x}<br>lifeExp=%{y}<extra></extra>",
         "legendgroup": "Africa",
         "line": {
          "color": "#FF9900",
          "dash": "solid",
          "shape": "spline"
         },
         "marker": {
          "symbol": "circle"
         },
         "mode": "lines",
         "name": "Africa",
         "orientation": "v",
         "showlegend": false,
         "type": "scatter",
         "x": [
          1952,
          1957,
          1962,
          1967,
          1972,
          1977,
          1982,
          1987,
          1992,
          1997,
          2002,
          2007
         ],
         "xaxis": "x",
         "y": [
          44.6,
          47.1,
          49.57899999999999,
          52.053,
          55.602,
          59.837,
          64.048,
          66.89399999999999,
          70.001,
          71.973,
          73.042,
          73.923
         ],
         "yaxis": "y"
        },
        {
         "hovertemplate": "continent=Africa<br>country=Uganda<br>year=%{x}<br>lifeExp=%{y}<extra></extra>",
         "legendgroup": "Africa",
         "line": {
          "color": "#FF9900",
          "dash": "solid",
          "shape": "spline"
         },
         "marker": {
          "symbol": "circle"
         },
         "mode": "lines",
         "name": "Africa",
         "orientation": "v",
         "showlegend": false,
         "type": "scatter",
         "x": [
          1952,
          1957,
          1962,
          1967,
          1972,
          1977,
          1982,
          1987,
          1992,
          1997,
          2002,
          2007
         ],
         "xaxis": "x",
         "y": [
          39.978,
          42.57100000000001,
          45.344,
          48.051,
          51.01600000000001,
          50.35,
          49.849,
          51.50899999999999,
          48.825,
          44.578,
          47.813,
          51.542
         ],
         "yaxis": "y"
        },
        {
         "hovertemplate": "continent=Africa<br>country=Zambia<br>year=%{x}<br>lifeExp=%{y}<extra></extra>",
         "legendgroup": "Africa",
         "line": {
          "color": "#FF9900",
          "dash": "solid",
          "shape": "spline"
         },
         "marker": {
          "symbol": "circle"
         },
         "mode": "lines",
         "name": "Africa",
         "orientation": "v",
         "showlegend": false,
         "type": "scatter",
         "x": [
          1952,
          1957,
          1962,
          1967,
          1972,
          1977,
          1982,
          1987,
          1992,
          1997,
          2002,
          2007
         ],
         "xaxis": "x",
         "y": [
          42.038,
          44.077,
          46.023,
          47.768,
          50.107,
          51.386,
          51.82100000000001,
          50.82100000000001,
          46.1,
          40.238,
          39.19300000000001,
          42.38399999999999
         ],
         "yaxis": "y"
        },
        {
         "hovertemplate": "continent=Africa<br>country=Zimbabwe<br>year=%{x}<br>lifeExp=%{y}<extra></extra>",
         "legendgroup": "Africa",
         "line": {
          "color": "#FF9900",
          "dash": "solid",
          "shape": "spline"
         },
         "marker": {
          "symbol": "circle"
         },
         "mode": "lines",
         "name": "Africa",
         "orientation": "v",
         "showlegend": false,
         "type": "scatter",
         "x": [
          1952,
          1957,
          1962,
          1967,
          1972,
          1977,
          1982,
          1987,
          1992,
          1997,
          2002,
          2007
         ],
         "xaxis": "x",
         "y": [
          48.451,
          50.469,
          52.358,
          53.995,
          55.635,
          57.674,
          60.363,
          62.351000000000006,
          60.377,
          46.809,
          39.989,
          43.487
         ],
         "yaxis": "y"
        },
        {
         "hovertemplate": "continent=Americas<br>country=Argentina<br>year=%{x}<br>lifeExp=%{y}<extra></extra>",
         "legendgroup": "Americas",
         "line": {
          "color": "#109618",
          "dash": "solid",
          "shape": "spline"
         },
         "marker": {
          "symbol": "circle"
         },
         "mode": "lines",
         "name": "Americas",
         "orientation": "v",
         "showlegend": true,
         "type": "scatter",
         "x": [
          1952,
          1957,
          1962,
          1967,
          1972,
          1977,
          1982,
          1987,
          1992,
          1997,
          2002,
          2007
         ],
         "xaxis": "x",
         "y": [
          62.485,
          64.399,
          65.142,
          65.634,
          67.065,
          68.48100000000001,
          69.942,
          70.774,
          71.868,
          73.275,
          74.34,
          75.32
         ],
         "yaxis": "y"
        },
        {
         "hovertemplate": "continent=Americas<br>country=Bolivia<br>year=%{x}<br>lifeExp=%{y}<extra></extra>",
         "legendgroup": "Americas",
         "line": {
          "color": "#109618",
          "dash": "solid",
          "shape": "spline"
         },
         "marker": {
          "symbol": "circle"
         },
         "mode": "lines",
         "name": "Americas",
         "orientation": "v",
         "showlegend": false,
         "type": "scatter",
         "x": [
          1952,
          1957,
          1962,
          1967,
          1972,
          1977,
          1982,
          1987,
          1992,
          1997,
          2002,
          2007
         ],
         "xaxis": "x",
         "y": [
          40.414,
          41.89,
          43.428,
          45.032,
          46.714,
          50.023,
          53.859,
          57.25100000000001,
          59.957,
          62.05,
          63.883,
          65.554
         ],
         "yaxis": "y"
        },
        {
         "hovertemplate": "continent=Americas<br>country=Brazil<br>year=%{x}<br>lifeExp=%{y}<extra></extra>",
         "legendgroup": "Americas",
         "line": {
          "color": "#109618",
          "dash": "solid",
          "shape": "spline"
         },
         "marker": {
          "symbol": "circle"
         },
         "mode": "lines",
         "name": "Americas",
         "orientation": "v",
         "showlegend": false,
         "type": "scatter",
         "x": [
          1952,
          1957,
          1962,
          1967,
          1972,
          1977,
          1982,
          1987,
          1992,
          1997,
          2002,
          2007
         ],
         "xaxis": "x",
         "y": [
          50.917,
          53.285,
          55.665,
          57.632,
          59.504,
          61.489,
          63.33600000000001,
          65.205,
          67.057,
          69.388,
          71.006,
          72.39
         ],
         "yaxis": "y"
        },
        {
         "hovertemplate": "continent=Americas<br>country=Canada<br>year=%{x}<br>lifeExp=%{y}<extra></extra>",
         "legendgroup": "Americas",
         "line": {
          "color": "#109618",
          "dash": "solid",
          "shape": "spline"
         },
         "marker": {
          "symbol": "circle"
         },
         "mode": "lines",
         "name": "Americas",
         "orientation": "v",
         "showlegend": false,
         "type": "scatter",
         "x": [
          1952,
          1957,
          1962,
          1967,
          1972,
          1977,
          1982,
          1987,
          1992,
          1997,
          2002,
          2007
         ],
         "xaxis": "x",
         "y": [
          68.75,
          69.96,
          71.3,
          72.13,
          72.88,
          74.21,
          75.76,
          76.86,
          77.95,
          78.61,
          79.77,
          80.653
         ],
         "yaxis": "y"
        },
        {
         "hovertemplate": "continent=Americas<br>country=Chile<br>year=%{x}<br>lifeExp=%{y}<extra></extra>",
         "legendgroup": "Americas",
         "line": {
          "color": "#109618",
          "dash": "solid",
          "shape": "spline"
         },
         "marker": {
          "symbol": "circle"
         },
         "mode": "lines",
         "name": "Americas",
         "orientation": "v",
         "showlegend": false,
         "type": "scatter",
         "x": [
          1952,
          1957,
          1962,
          1967,
          1972,
          1977,
          1982,
          1987,
          1992,
          1997,
          2002,
          2007
         ],
         "xaxis": "x",
         "y": [
          54.745,
          56.074,
          57.924,
          60.523,
          63.441,
          67.05199999999999,
          70.565,
          72.492,
          74.126,
          75.816,
          77.86,
          78.553
         ],
         "yaxis": "y"
        },
        {
         "hovertemplate": "continent=Americas<br>country=Colombia<br>year=%{x}<br>lifeExp=%{y}<extra></extra>",
         "legendgroup": "Americas",
         "line": {
          "color": "#109618",
          "dash": "solid",
          "shape": "spline"
         },
         "marker": {
          "symbol": "circle"
         },
         "mode": "lines",
         "name": "Americas",
         "orientation": "v",
         "showlegend": false,
         "type": "scatter",
         "x": [
          1952,
          1957,
          1962,
          1967,
          1972,
          1977,
          1982,
          1987,
          1992,
          1997,
          2002,
          2007
         ],
         "xaxis": "x",
         "y": [
          50.643,
          55.118,
          57.863,
          59.963,
          61.62300000000001,
          63.837,
          66.653,
          67.768,
          68.421,
          70.313,
          71.682,
          72.889
         ],
         "yaxis": "y"
        },
        {
         "hovertemplate": "continent=Americas<br>country=Costa Rica<br>year=%{x}<br>lifeExp=%{y}<extra></extra>",
         "legendgroup": "Americas",
         "line": {
          "color": "#109618",
          "dash": "solid",
          "shape": "spline"
         },
         "marker": {
          "symbol": "circle"
         },
         "mode": "lines",
         "name": "Americas",
         "orientation": "v",
         "showlegend": false,
         "type": "scatter",
         "x": [
          1952,
          1957,
          1962,
          1967,
          1972,
          1977,
          1982,
          1987,
          1992,
          1997,
          2002,
          2007
         ],
         "xaxis": "x",
         "y": [
          57.206,
          60.026,
          62.842,
          65.42399999999999,
          67.84899999999999,
          70.75,
          73.45,
          74.752,
          75.71300000000002,
          77.26,
          78.123,
          78.782
         ],
         "yaxis": "y"
        },
        {
         "hovertemplate": "continent=Americas<br>country=Cuba<br>year=%{x}<br>lifeExp=%{y}<extra></extra>",
         "legendgroup": "Americas",
         "line": {
          "color": "#109618",
          "dash": "solid",
          "shape": "spline"
         },
         "marker": {
          "symbol": "circle"
         },
         "mode": "lines",
         "name": "Americas",
         "orientation": "v",
         "showlegend": false,
         "type": "scatter",
         "x": [
          1952,
          1957,
          1962,
          1967,
          1972,
          1977,
          1982,
          1987,
          1992,
          1997,
          2002,
          2007
         ],
         "xaxis": "x",
         "y": [
          59.42100000000001,
          62.325,
          65.24600000000001,
          68.29,
          70.723,
          72.649,
          73.717,
          74.17399999999998,
          74.414,
          76.15100000000002,
          77.158,
          78.273
         ],
         "yaxis": "y"
        },
        {
         "hovertemplate": "continent=Americas<br>country=Dominican Republic<br>year=%{x}<br>lifeExp=%{y}<extra></extra>",
         "legendgroup": "Americas",
         "line": {
          "color": "#109618",
          "dash": "solid",
          "shape": "spline"
         },
         "marker": {
          "symbol": "circle"
         },
         "mode": "lines",
         "name": "Americas",
         "orientation": "v",
         "showlegend": false,
         "type": "scatter",
         "x": [
          1952,
          1957,
          1962,
          1967,
          1972,
          1977,
          1982,
          1987,
          1992,
          1997,
          2002,
          2007
         ],
         "xaxis": "x",
         "y": [
          45.928,
          49.828,
          53.459,
          56.75100000000001,
          59.631,
          61.788,
          63.727,
          66.046,
          68.457,
          69.957,
          70.847,
          72.235
         ],
         "yaxis": "y"
        },
        {
         "hovertemplate": "continent=Americas<br>country=Ecuador<br>year=%{x}<br>lifeExp=%{y}<extra></extra>",
         "legendgroup": "Americas",
         "line": {
          "color": "#109618",
          "dash": "solid",
          "shape": "spline"
         },
         "marker": {
          "symbol": "circle"
         },
         "mode": "lines",
         "name": "Americas",
         "orientation": "v",
         "showlegend": false,
         "type": "scatter",
         "x": [
          1952,
          1957,
          1962,
          1967,
          1972,
          1977,
          1982,
          1987,
          1992,
          1997,
          2002,
          2007
         ],
         "xaxis": "x",
         "y": [
          48.357,
          51.356,
          54.64,
          56.678,
          58.79600000000001,
          61.31,
          64.342,
          67.23100000000001,
          69.613,
          72.312,
          74.173,
          74.994
         ],
         "yaxis": "y"
        },
        {
         "hovertemplate": "continent=Americas<br>country=El Salvador<br>year=%{x}<br>lifeExp=%{y}<extra></extra>",
         "legendgroup": "Americas",
         "line": {
          "color": "#109618",
          "dash": "solid",
          "shape": "spline"
         },
         "marker": {
          "symbol": "circle"
         },
         "mode": "lines",
         "name": "Americas",
         "orientation": "v",
         "showlegend": false,
         "type": "scatter",
         "x": [
          1952,
          1957,
          1962,
          1967,
          1972,
          1977,
          1982,
          1987,
          1992,
          1997,
          2002,
          2007
         ],
         "xaxis": "x",
         "y": [
          45.262,
          48.57,
          52.307,
          55.855,
          58.207,
          56.69600000000001,
          56.604,
          63.154,
          66.798,
          69.535,
          70.734,
          71.878
         ],
         "yaxis": "y"
        },
        {
         "hovertemplate": "continent=Americas<br>country=Guatemala<br>year=%{x}<br>lifeExp=%{y}<extra></extra>",
         "legendgroup": "Americas",
         "line": {
          "color": "#109618",
          "dash": "solid",
          "shape": "spline"
         },
         "marker": {
          "symbol": "circle"
         },
         "mode": "lines",
         "name": "Americas",
         "orientation": "v",
         "showlegend": false,
         "type": "scatter",
         "x": [
          1952,
          1957,
          1962,
          1967,
          1972,
          1977,
          1982,
          1987,
          1992,
          1997,
          2002,
          2007
         ],
         "xaxis": "x",
         "y": [
          42.023,
          44.142,
          46.95399999999999,
          50.01600000000001,
          53.738,
          56.029,
          58.137,
          60.782,
          63.37300000000001,
          66.322,
          68.97800000000001,
          70.259
         ],
         "yaxis": "y"
        },
        {
         "hovertemplate": "continent=Americas<br>country=Haiti<br>year=%{x}<br>lifeExp=%{y}<extra></extra>",
         "legendgroup": "Americas",
         "line": {
          "color": "#109618",
          "dash": "solid",
          "shape": "spline"
         },
         "marker": {
          "symbol": "circle"
         },
         "mode": "lines",
         "name": "Americas",
         "orientation": "v",
         "showlegend": false,
         "type": "scatter",
         "x": [
          1952,
          1957,
          1962,
          1967,
          1972,
          1977,
          1982,
          1987,
          1992,
          1997,
          2002,
          2007
         ],
         "xaxis": "x",
         "y": [
          37.579,
          40.696,
          43.59,
          46.243,
          48.042,
          49.923,
          51.46100000000001,
          53.636,
          55.089,
          56.67100000000001,
          58.137,
          60.916
         ],
         "yaxis": "y"
        },
        {
         "hovertemplate": "continent=Americas<br>country=Honduras<br>year=%{x}<br>lifeExp=%{y}<extra></extra>",
         "legendgroup": "Americas",
         "line": {
          "color": "#109618",
          "dash": "solid",
          "shape": "spline"
         },
         "marker": {
          "symbol": "circle"
         },
         "mode": "lines",
         "name": "Americas",
         "orientation": "v",
         "showlegend": false,
         "type": "scatter",
         "x": [
          1952,
          1957,
          1962,
          1967,
          1972,
          1977,
          1982,
          1987,
          1992,
          1997,
          2002,
          2007
         ],
         "xaxis": "x",
         "y": [
          41.912,
          44.665,
          48.041,
          50.924,
          53.88399999999999,
          57.402,
          60.909,
          64.492,
          66.399,
          67.65899999999999,
          68.565,
          70.19800000000001
         ],
         "yaxis": "y"
        },
        {
         "hovertemplate": "continent=Americas<br>country=Jamaica<br>year=%{x}<br>lifeExp=%{y}<extra></extra>",
         "legendgroup": "Americas",
         "line": {
          "color": "#109618",
          "dash": "solid",
          "shape": "spline"
         },
         "marker": {
          "symbol": "circle"
         },
         "mode": "lines",
         "name": "Americas",
         "orientation": "v",
         "showlegend": false,
         "type": "scatter",
         "x": [
          1952,
          1957,
          1962,
          1967,
          1972,
          1977,
          1982,
          1987,
          1992,
          1997,
          2002,
          2007
         ],
         "xaxis": "x",
         "y": [
          58.53,
          62.61,
          65.61,
          67.51,
          69,
          70.11,
          71.21,
          71.77,
          71.766,
          72.262,
          72.047,
          72.567
         ],
         "yaxis": "y"
        },
        {
         "hovertemplate": "continent=Americas<br>country=Mexico<br>year=%{x}<br>lifeExp=%{y}<extra></extra>",
         "legendgroup": "Americas",
         "line": {
          "color": "#109618",
          "dash": "solid",
          "shape": "spline"
         },
         "marker": {
          "symbol": "circle"
         },
         "mode": "lines",
         "name": "Americas",
         "orientation": "v",
         "showlegend": false,
         "type": "scatter",
         "x": [
          1952,
          1957,
          1962,
          1967,
          1972,
          1977,
          1982,
          1987,
          1992,
          1997,
          2002,
          2007
         ],
         "xaxis": "x",
         "y": [
          50.789,
          55.19,
          58.299,
          60.11,
          62.361,
          65.032,
          67.405,
          69.498,
          71.455,
          73.67,
          74.902,
          76.195
         ],
         "yaxis": "y"
        },
        {
         "hovertemplate": "continent=Americas<br>country=Nicaragua<br>year=%{x}<br>lifeExp=%{y}<extra></extra>",
         "legendgroup": "Americas",
         "line": {
          "color": "#109618",
          "dash": "solid",
          "shape": "spline"
         },
         "marker": {
          "symbol": "circle"
         },
         "mode": "lines",
         "name": "Americas",
         "orientation": "v",
         "showlegend": false,
         "type": "scatter",
         "x": [
          1952,
          1957,
          1962,
          1967,
          1972,
          1977,
          1982,
          1987,
          1992,
          1997,
          2002,
          2007
         ],
         "xaxis": "x",
         "y": [
          42.31399999999999,
          45.432,
          48.632,
          51.88399999999999,
          55.151,
          57.47,
          59.298,
          62.008,
          65.843,
          68.426,
          70.836,
          72.899
         ],
         "yaxis": "y"
        },
        {
         "hovertemplate": "continent=Americas<br>country=Panama<br>year=%{x}<br>lifeExp=%{y}<extra></extra>",
         "legendgroup": "Americas",
         "line": {
          "color": "#109618",
          "dash": "solid",
          "shape": "spline"
         },
         "marker": {
          "symbol": "circle"
         },
         "mode": "lines",
         "name": "Americas",
         "orientation": "v",
         "showlegend": false,
         "type": "scatter",
         "x": [
          1952,
          1957,
          1962,
          1967,
          1972,
          1977,
          1982,
          1987,
          1992,
          1997,
          2002,
          2007
         ],
         "xaxis": "x",
         "y": [
          55.191,
          59.201,
          61.817,
          64.071,
          66.21600000000001,
          68.681,
          70.472,
          71.523,
          72.462,
          73.738,
          74.712,
          75.53699999999998
         ],
         "yaxis": "y"
        },
        {
         "hovertemplate": "continent=Americas<br>country=Paraguay<br>year=%{x}<br>lifeExp=%{y}<extra></extra>",
         "legendgroup": "Americas",
         "line": {
          "color": "#109618",
          "dash": "solid",
          "shape": "spline"
         },
         "marker": {
          "symbol": "circle"
         },
         "mode": "lines",
         "name": "Americas",
         "orientation": "v",
         "showlegend": false,
         "type": "scatter",
         "x": [
          1952,
          1957,
          1962,
          1967,
          1972,
          1977,
          1982,
          1987,
          1992,
          1997,
          2002,
          2007
         ],
         "xaxis": "x",
         "y": [
          62.649,
          63.19600000000001,
          64.361,
          64.95100000000001,
          65.815,
          66.35300000000001,
          66.874,
          67.378,
          68.225,
          69.4,
          70.755,
          71.752
         ],
         "yaxis": "y"
        },
        {
         "hovertemplate": "continent=Americas<br>country=Peru<br>year=%{x}<br>lifeExp=%{y}<extra></extra>",
         "legendgroup": "Americas",
         "line": {
          "color": "#109618",
          "dash": "solid",
          "shape": "spline"
         },
         "marker": {
          "symbol": "circle"
         },
         "mode": "lines",
         "name": "Americas",
         "orientation": "v",
         "showlegend": false,
         "type": "scatter",
         "x": [
          1952,
          1957,
          1962,
          1967,
          1972,
          1977,
          1982,
          1987,
          1992,
          1997,
          2002,
          2007
         ],
         "xaxis": "x",
         "y": [
          43.902,
          46.26300000000001,
          49.096,
          51.445,
          55.448,
          58.447,
          61.40600000000001,
          64.134,
          66.458,
          68.38600000000001,
          69.906,
          71.421
         ],
         "yaxis": "y"
        },
        {
         "hovertemplate": "continent=Americas<br>country=Puerto Rico<br>year=%{x}<br>lifeExp=%{y}<extra></extra>",
         "legendgroup": "Americas",
         "line": {
          "color": "#109618",
          "dash": "solid",
          "shape": "spline"
         },
         "marker": {
          "symbol": "circle"
         },
         "mode": "lines",
         "name": "Americas",
         "orientation": "v",
         "showlegend": false,
         "type": "scatter",
         "x": [
          1952,
          1957,
          1962,
          1967,
          1972,
          1977,
          1982,
          1987,
          1992,
          1997,
          2002,
          2007
         ],
         "xaxis": "x",
         "y": [
          64.28,
          68.54,
          69.62,
          71.1,
          72.16,
          73.44,
          73.75,
          74.63,
          73.911,
          74.917,
          77.778,
          78.74600000000002
         ],
         "yaxis": "y"
        },
        {
         "hovertemplate": "continent=Americas<br>country=Trinidad and Tobago<br>year=%{x}<br>lifeExp=%{y}<extra></extra>",
         "legendgroup": "Americas",
         "line": {
          "color": "#109618",
          "dash": "solid",
          "shape": "spline"
         },
         "marker": {
          "symbol": "circle"
         },
         "mode": "lines",
         "name": "Americas",
         "orientation": "v",
         "showlegend": false,
         "type": "scatter",
         "x": [
          1952,
          1957,
          1962,
          1967,
          1972,
          1977,
          1982,
          1987,
          1992,
          1997,
          2002,
          2007
         ],
         "xaxis": "x",
         "y": [
          59.1,
          61.8,
          64.9,
          65.4,
          65.9,
          68.3,
          68.832,
          69.582,
          69.862,
          69.465,
          68.976,
          69.819
         ],
         "yaxis": "y"
        },
        {
         "hovertemplate": "continent=Americas<br>country=United States<br>year=%{x}<br>lifeExp=%{y}<extra></extra>",
         "legendgroup": "Americas",
         "line": {
          "color": "#109618",
          "dash": "solid",
          "shape": "spline"
         },
         "marker": {
          "symbol": "circle"
         },
         "mode": "lines",
         "name": "Americas",
         "orientation": "v",
         "showlegend": false,
         "type": "scatter",
         "x": [
          1952,
          1957,
          1962,
          1967,
          1972,
          1977,
          1982,
          1987,
          1992,
          1997,
          2002,
          2007
         ],
         "xaxis": "x",
         "y": [
          68.44,
          69.49,
          70.21,
          70.76,
          71.34,
          73.38,
          74.65,
          75.02,
          76.09,
          76.81,
          77.31,
          78.242
         ],
         "yaxis": "y"
        },
        {
         "hovertemplate": "continent=Americas<br>country=Uruguay<br>year=%{x}<br>lifeExp=%{y}<extra></extra>",
         "legendgroup": "Americas",
         "line": {
          "color": "#109618",
          "dash": "solid",
          "shape": "spline"
         },
         "marker": {
          "symbol": "circle"
         },
         "mode": "lines",
         "name": "Americas",
         "orientation": "v",
         "showlegend": false,
         "type": "scatter",
         "x": [
          1952,
          1957,
          1962,
          1967,
          1972,
          1977,
          1982,
          1987,
          1992,
          1997,
          2002,
          2007
         ],
         "xaxis": "x",
         "y": [
          66.071,
          67.044,
          68.253,
          68.468,
          68.673,
          69.48100000000001,
          70.805,
          71.918,
          72.752,
          74.223,
          75.307,
          76.384
         ],
         "yaxis": "y"
        },
        {
         "hovertemplate": "continent=Americas<br>country=Venezuela<br>year=%{x}<br>lifeExp=%{y}<extra></extra>",
         "legendgroup": "Americas",
         "line": {
          "color": "#109618",
          "dash": "solid",
          "shape": "spline"
         },
         "marker": {
          "symbol": "circle"
         },
         "mode": "lines",
         "name": "Americas",
         "orientation": "v",
         "showlegend": false,
         "type": "scatter",
         "x": [
          1952,
          1957,
          1962,
          1967,
          1972,
          1977,
          1982,
          1987,
          1992,
          1997,
          2002,
          2007
         ],
         "xaxis": "x",
         "y": [
          55.088,
          57.907,
          60.77,
          63.479,
          65.712,
          67.456,
          68.557,
          70.19,
          71.15,
          72.146,
          72.766,
          73.747
         ],
         "yaxis": "y"
        },
        {
         "hovertemplate": "continent=Oceania<br>country=Australia<br>year=%{x}<br>lifeExp=%{y}<extra></extra>",
         "legendgroup": "Oceania",
         "line": {
          "color": "#990099",
          "dash": "solid",
          "shape": "spline"
         },
         "marker": {
          "symbol": "circle"
         },
         "mode": "lines",
         "name": "Oceania",
         "orientation": "v",
         "showlegend": true,
         "type": "scatter",
         "x": [
          1952,
          1957,
          1962,
          1967,
          1972,
          1977,
          1982,
          1987,
          1992,
          1997,
          2002,
          2007
         ],
         "xaxis": "x",
         "y": [
          69.12,
          70.33,
          70.93,
          71.1,
          71.93,
          73.49,
          74.74,
          76.32,
          77.56,
          78.83,
          80.37,
          81.235
         ],
         "yaxis": "y"
        },
        {
         "hovertemplate": "continent=Oceania<br>country=New Zealand<br>year=%{x}<br>lifeExp=%{y}<extra></extra>",
         "legendgroup": "Oceania",
         "line": {
          "color": "#990099",
          "dash": "solid",
          "shape": "spline"
         },
         "marker": {
          "symbol": "circle"
         },
         "mode": "lines",
         "name": "Oceania",
         "orientation": "v",
         "showlegend": false,
         "type": "scatter",
         "x": [
          1952,
          1957,
          1962,
          1967,
          1972,
          1977,
          1982,
          1987,
          1992,
          1997,
          2002,
          2007
         ],
         "xaxis": "x",
         "y": [
          69.39,
          70.26,
          71.24,
          71.52,
          71.89,
          72.22,
          73.84,
          74.32,
          76.33,
          77.55,
          79.11,
          80.204
         ],
         "yaxis": "y"
        }
       ],
       "layout": {
        "autosize": true,
        "legend": {
         "title": {
          "text": "continent"
         },
         "tracegroupgap": 0
        },
        "template": {
         "data": {
          "bar": [
           {
            "error_x": {
             "color": "#2a3f5f"
            },
            "error_y": {
             "color": "#2a3f5f"
            },
            "marker": {
             "line": {
              "color": "#E5ECF6",
              "width": 0.5
             },
             "pattern": {
              "fillmode": "overlay",
              "size": 10,
              "solidity": 0.2
             }
            },
            "type": "bar"
           }
          ],
          "barpolar": [
           {
            "marker": {
             "line": {
              "color": "#E5ECF6",
              "width": 0.5
             },
             "pattern": {
              "fillmode": "overlay",
              "size": 10,
              "solidity": 0.2
             }
            },
            "type": "barpolar"
           }
          ],
          "carpet": [
           {
            "aaxis": {
             "endlinecolor": "#2a3f5f",
             "gridcolor": "white",
             "linecolor": "white",
             "minorgridcolor": "white",
             "startlinecolor": "#2a3f5f"
            },
            "baxis": {
             "endlinecolor": "#2a3f5f",
             "gridcolor": "white",
             "linecolor": "white",
             "minorgridcolor": "white",
             "startlinecolor": "#2a3f5f"
            },
            "type": "carpet"
           }
          ],
          "choropleth": [
           {
            "colorbar": {
             "outlinewidth": 0,
             "ticks": ""
            },
            "type": "choropleth"
           }
          ],
          "contour": [
           {
            "colorbar": {
             "outlinewidth": 0,
             "ticks": ""
            },
            "colorscale": [
             [
              0,
              "#0d0887"
             ],
             [
              0.1111111111111111,
              "#46039f"
             ],
             [
              0.2222222222222222,
              "#7201a8"
             ],
             [
              0.3333333333333333,
              "#9c179e"
             ],
             [
              0.4444444444444444,
              "#bd3786"
             ],
             [
              0.5555555555555556,
              "#d8576b"
             ],
             [
              0.6666666666666666,
              "#ed7953"
             ],
             [
              0.7777777777777778,
              "#fb9f3a"
             ],
             [
              0.8888888888888888,
              "#fdca26"
             ],
             [
              1,
              "#f0f921"
             ]
            ],
            "type": "contour"
           }
          ],
          "contourcarpet": [
           {
            "colorbar": {
             "outlinewidth": 0,
             "ticks": ""
            },
            "type": "contourcarpet"
           }
          ],
          "heatmap": [
           {
            "colorbar": {
             "outlinewidth": 0,
             "ticks": ""
            },
            "colorscale": [
             [
              0,
              "#0d0887"
             ],
             [
              0.1111111111111111,
              "#46039f"
             ],
             [
              0.2222222222222222,
              "#7201a8"
             ],
             [
              0.3333333333333333,
              "#9c179e"
             ],
             [
              0.4444444444444444,
              "#bd3786"
             ],
             [
              0.5555555555555556,
              "#d8576b"
             ],
             [
              0.6666666666666666,
              "#ed7953"
             ],
             [
              0.7777777777777778,
              "#fb9f3a"
             ],
             [
              0.8888888888888888,
              "#fdca26"
             ],
             [
              1,
              "#f0f921"
             ]
            ],
            "type": "heatmap"
           }
          ],
          "heatmapgl": [
           {
            "colorbar": {
             "outlinewidth": 0,
             "ticks": ""
            },
            "colorscale": [
             [
              0,
              "#0d0887"
             ],
             [
              0.1111111111111111,
              "#46039f"
             ],
             [
              0.2222222222222222,
              "#7201a8"
             ],
             [
              0.3333333333333333,
              "#9c179e"
             ],
             [
              0.4444444444444444,
              "#bd3786"
             ],
             [
              0.5555555555555556,
              "#d8576b"
             ],
             [
              0.6666666666666666,
              "#ed7953"
             ],
             [
              0.7777777777777778,
              "#fb9f3a"
             ],
             [
              0.8888888888888888,
              "#fdca26"
             ],
             [
              1,
              "#f0f921"
             ]
            ],
            "type": "heatmapgl"
           }
          ],
          "histogram": [
           {
            "marker": {
             "pattern": {
              "fillmode": "overlay",
              "size": 10,
              "solidity": 0.2
             }
            },
            "type": "histogram"
           }
          ],
          "histogram2d": [
           {
            "colorbar": {
             "outlinewidth": 0,
             "ticks": ""
            },
            "colorscale": [
             [
              0,
              "#0d0887"
             ],
             [
              0.1111111111111111,
              "#46039f"
             ],
             [
              0.2222222222222222,
              "#7201a8"
             ],
             [
              0.3333333333333333,
              "#9c179e"
             ],
             [
              0.4444444444444444,
              "#bd3786"
             ],
             [
              0.5555555555555556,
              "#d8576b"
             ],
             [
              0.6666666666666666,
              "#ed7953"
             ],
             [
              0.7777777777777778,
              "#fb9f3a"
             ],
             [
              0.8888888888888888,
              "#fdca26"
             ],
             [
              1,
              "#f0f921"
             ]
            ],
            "type": "histogram2d"
           }
          ],
          "histogram2dcontour": [
           {
            "colorbar": {
             "outlinewidth": 0,
             "ticks": ""
            },
            "colorscale": [
             [
              0,
              "#0d0887"
             ],
             [
              0.1111111111111111,
              "#46039f"
             ],
             [
              0.2222222222222222,
              "#7201a8"
             ],
             [
              0.3333333333333333,
              "#9c179e"
             ],
             [
              0.4444444444444444,
              "#bd3786"
             ],
             [
              0.5555555555555556,
              "#d8576b"
             ],
             [
              0.6666666666666666,
              "#ed7953"
             ],
             [
              0.7777777777777778,
              "#fb9f3a"
             ],
             [
              0.8888888888888888,
              "#fdca26"
             ],
             [
              1,
              "#f0f921"
             ]
            ],
            "type": "histogram2dcontour"
           }
          ],
          "mesh3d": [
           {
            "colorbar": {
             "outlinewidth": 0,
             "ticks": ""
            },
            "type": "mesh3d"
           }
          ],
          "parcoords": [
           {
            "line": {
             "colorbar": {
              "outlinewidth": 0,
              "ticks": ""
             }
            },
            "type": "parcoords"
           }
          ],
          "pie": [
           {
            "automargin": true,
            "type": "pie"
           }
          ],
          "scatter": [
           {
            "fillpattern": {
             "fillmode": "overlay",
             "size": 10,
             "solidity": 0.2
            },
            "type": "scatter"
           }
          ],
          "scatter3d": [
           {
            "line": {
             "colorbar": {
              "outlinewidth": 0,
              "ticks": ""
             }
            },
            "marker": {
             "colorbar": {
              "outlinewidth": 0,
              "ticks": ""
             }
            },
            "type": "scatter3d"
           }
          ],
          "scattercarpet": [
           {
            "marker": {
             "colorbar": {
              "outlinewidth": 0,
              "ticks": ""
             }
            },
            "type": "scattercarpet"
           }
          ],
          "scattergeo": [
           {
            "marker": {
             "colorbar": {
              "outlinewidth": 0,
              "ticks": ""
             }
            },
            "type": "scattergeo"
           }
          ],
          "scattergl": [
           {
            "marker": {
             "colorbar": {
              "outlinewidth": 0,
              "ticks": ""
             }
            },
            "type": "scattergl"
           }
          ],
          "scattermapbox": [
           {
            "marker": {
             "colorbar": {
              "outlinewidth": 0,
              "ticks": ""
             }
            },
            "type": "scattermapbox"
           }
          ],
          "scatterpolar": [
           {
            "marker": {
             "colorbar": {
              "outlinewidth": 0,
              "ticks": ""
             }
            },
            "type": "scatterpolar"
           }
          ],
          "scatterpolargl": [
           {
            "marker": {
             "colorbar": {
              "outlinewidth": 0,
              "ticks": ""
             }
            },
            "type": "scatterpolargl"
           }
          ],
          "scatterternary": [
           {
            "marker": {
             "colorbar": {
              "outlinewidth": 0,
              "ticks": ""
             }
            },
            "type": "scatterternary"
           }
          ],
          "surface": [
           {
            "colorbar": {
             "outlinewidth": 0,
             "ticks": ""
            },
            "colorscale": [
             [
              0,
              "#0d0887"
             ],
             [
              0.1111111111111111,
              "#46039f"
             ],
             [
              0.2222222222222222,
              "#7201a8"
             ],
             [
              0.3333333333333333,
              "#9c179e"
             ],
             [
              0.4444444444444444,
              "#bd3786"
             ],
             [
              0.5555555555555556,
              "#d8576b"
             ],
             [
              0.6666666666666666,
              "#ed7953"
             ],
             [
              0.7777777777777778,
              "#fb9f3a"
             ],
             [
              0.8888888888888888,
              "#fdca26"
             ],
             [
              1,
              "#f0f921"
             ]
            ],
            "type": "surface"
           }
          ],
          "table": [
           {
            "cells": {
             "fill": {
              "color": "#EBF0F8"
             },
             "line": {
              "color": "white"
             }
            },
            "header": {
             "fill": {
              "color": "#C8D4E3"
             },
             "line": {
              "color": "white"
             }
            },
            "type": "table"
           }
          ]
         },
         "layout": {
          "annotationdefaults": {
           "arrowcolor": "#2a3f5f",
           "arrowhead": 0,
           "arrowwidth": 1
          },
          "autotypenumbers": "strict",
          "coloraxis": {
           "colorbar": {
            "outlinewidth": 0,
            "ticks": ""
           }
          },
          "colorscale": {
           "diverging": [
            [
             0,
             "#8e0152"
            ],
            [
             0.1,
             "#c51b7d"
            ],
            [
             0.2,
             "#de77ae"
            ],
            [
             0.3,
             "#f1b6da"
            ],
            [
             0.4,
             "#fde0ef"
            ],
            [
             0.5,
             "#f7f7f7"
            ],
            [
             0.6,
             "#e6f5d0"
            ],
            [
             0.7,
             "#b8e186"
            ],
            [
             0.8,
             "#7fbc41"
            ],
            [
             0.9,
             "#4d9221"
            ],
            [
             1,
             "#276419"
            ]
           ],
           "sequential": [
            [
             0,
             "#0d0887"
            ],
            [
             0.1111111111111111,
             "#46039f"
            ],
            [
             0.2222222222222222,
             "#7201a8"
            ],
            [
             0.3333333333333333,
             "#9c179e"
            ],
            [
             0.4444444444444444,
             "#bd3786"
            ],
            [
             0.5555555555555556,
             "#d8576b"
            ],
            [
             0.6666666666666666,
             "#ed7953"
            ],
            [
             0.7777777777777778,
             "#fb9f3a"
            ],
            [
             0.8888888888888888,
             "#fdca26"
            ],
            [
             1,
             "#f0f921"
            ]
           ],
           "sequentialminus": [
            [
             0,
             "#0d0887"
            ],
            [
             0.1111111111111111,
             "#46039f"
            ],
            [
             0.2222222222222222,
             "#7201a8"
            ],
            [
             0.3333333333333333,
             "#9c179e"
            ],
            [
             0.4444444444444444,
             "#bd3786"
            ],
            [
             0.5555555555555556,
             "#d8576b"
            ],
            [
             0.6666666666666666,
             "#ed7953"
            ],
            [
             0.7777777777777778,
             "#fb9f3a"
            ],
            [
             0.8888888888888888,
             "#fdca26"
            ],
            [
             1,
             "#f0f921"
            ]
           ]
          },
          "colorway": [
           "#636efa",
           "#EF553B",
           "#00cc96",
           "#ab63fa",
           "#FFA15A",
           "#19d3f3",
           "#FF6692",
           "#B6E880",
           "#FF97FF",
           "#FECB52"
          ],
          "font": {
           "color": "#2a3f5f"
          },
          "geo": {
           "bgcolor": "white",
           "lakecolor": "white",
           "landcolor": "#E5ECF6",
           "showlakes": true,
           "showland": true,
           "subunitcolor": "white"
          },
          "hoverlabel": {
           "align": "left"
          },
          "hovermode": "closest",
          "mapbox": {
           "style": "light"
          },
          "paper_bgcolor": "white",
          "plot_bgcolor": "#E5ECF6",
          "polar": {
           "angularaxis": {
            "gridcolor": "white",
            "linecolor": "white",
            "ticks": ""
           },
           "bgcolor": "#E5ECF6",
           "radialaxis": {
            "gridcolor": "white",
            "linecolor": "white",
            "ticks": ""
           }
          },
          "scene": {
           "xaxis": {
            "backgroundcolor": "#E5ECF6",
            "gridcolor": "white",
            "gridwidth": 2,
            "linecolor": "white",
            "showbackground": true,
            "ticks": "",
            "zerolinecolor": "white"
           },
           "yaxis": {
            "backgroundcolor": "#E5ECF6",
            "gridcolor": "white",
            "gridwidth": 2,
            "linecolor": "white",
            "showbackground": true,
            "ticks": "",
            "zerolinecolor": "white"
           },
           "zaxis": {
            "backgroundcolor": "#E5ECF6",
            "gridcolor": "white",
            "gridwidth": 2,
            "linecolor": "white",
            "showbackground": true,
            "ticks": "",
            "zerolinecolor": "white"
           }
          },
          "shapedefaults": {
           "line": {
            "color": "#2a3f5f"
           }
          },
          "ternary": {
           "aaxis": {
            "gridcolor": "white",
            "linecolor": "white",
            "ticks": ""
           },
           "baxis": {
            "gridcolor": "white",
            "linecolor": "white",
            "ticks": ""
           },
           "bgcolor": "#E5ECF6",
           "caxis": {
            "gridcolor": "white",
            "linecolor": "white",
            "ticks": ""
           }
          },
          "title": {
           "x": 0.05
          },
          "xaxis": {
           "automargin": true,
           "gridcolor": "white",
           "linecolor": "white",
           "ticks": "",
           "title": {
            "standoff": 15
           },
           "zerolinecolor": "white",
           "zerolinewidth": 2
          },
          "yaxis": {
           "automargin": true,
           "gridcolor": "white",
           "linecolor": "white",
           "ticks": "",
           "title": {
            "standoff": 15
           },
           "zerolinecolor": "white",
           "zerolinewidth": 2
          }
         }
        },
        "title": {
         "text": "Built-in G10 color sequence"
        },
        "xaxis": {
         "anchor": "y",
         "autorange": true,
         "domain": [
          0,
          1
         ],
         "range": [
          1952,
          2007
         ],
         "title": {
          "text": "year"
         },
         "type": "linear"
        },
        "yaxis": {
         "anchor": "x",
         "autorange": true,
         "domain": [
          0,
          1
         ],
         "range": [
          20.321,
          85.881
         ],
         "title": {
          "text": "lifeExp"
         },
         "type": "linear"
        }
       }
      },
      "image/png": "[encoded data removed]",
      "text/html": [
       "<div>                            <div id=\"a6abb9a0-c389-4c32-90ba-32b0bc14640f\" class=\"plotly-graph-div\" style=\"height:525px; width:100%;\"></div>            <script type=\"text/javascript\">                require([\"plotly\"], function(Plotly) {                    window.PLOTLYENV=window.PLOTLYENV || {};                                    if (document.getElementById(\"a6abb9a0-c389-4c32-90ba-32b0bc14640f\")) {                    Plotly.newPlot(                        \"a6abb9a0-c389-4c32-90ba-32b0bc14640f\",                        [{\"hovertemplate\":\"continent=Asia\\u003cbr\\u003ecountry=Afghanistan\\u003cbr\\u003eyear=%{x}\\u003cbr\\u003elifeExp=%{y}\\u003cextra\\u003e\\u003c\\u002fextra\\u003e\",\"legendgroup\":\"Asia\",\"line\":{\"color\":\"#3366CC\",\"dash\":\"solid\",\"shape\":\"spline\"},\"marker\":{\"symbol\":\"circle\"},\"mode\":\"lines\",\"name\":\"Asia\",\"orientation\":\"v\",\"showlegend\":true,\"x\":[1952,1957,1962,1967,1972,1977,1982,1987,1992,1997,2002,2007],\"xaxis\":\"x\",\"y\":[28.801,30.332,31.997,34.02,36.088,38.438,39.854,40.822,41.674,41.76300000000001,42.129,43.828],\"yaxis\":\"y\",\"type\":\"scatter\"},{\"hovertemplate\":\"continent=Asia\\u003cbr\\u003ecountry=Bahrain\\u003cbr\\u003eyear=%{x}\\u003cbr\\u003elifeExp=%{y}\\u003cextra\\u003e\\u003c\\u002fextra\\u003e\",\"legendgroup\":\"Asia\",\"line\":{\"color\":\"#3366CC\",\"dash\":\"solid\",\"shape\":\"spline\"},\"marker\":{\"symbol\":\"circle\"},\"mode\":\"lines\",\"name\":\"Asia\",\"orientation\":\"v\",\"showlegend\":false,\"x\":[1952,1957,1962,1967,1972,1977,1982,1987,1992,1997,2002,2007],\"xaxis\":\"x\",\"y\":[50.93899999999999,53.832,56.923,59.923,63.3,65.593,69.05199999999999,70.75,72.601,73.925,74.795,75.635],\"yaxis\":\"y\",\"type\":\"scatter\"},{\"hovertemplate\":\"continent=Asia\\u003cbr\\u003ecountry=Bangladesh\\u003cbr\\u003eyear=%{x}\\u003cbr\\u003elifeExp=%{y}\\u003cextra\\u003e\\u003c\\u002fextra\\u003e\",\"legendgroup\":\"Asia\",\"line\":{\"color\":\"#3366CC\",\"dash\":\"solid\",\"shape\":\"spline\"},\"marker\":{\"symbol\":\"circle\"},\"mode\":\"lines\",\"name\":\"Asia\",\"orientation\":\"v\",\"showlegend\":false,\"x\":[1952,1957,1962,1967,1972,1977,1982,1987,1992,1997,2002,2007],\"xaxis\":\"x\",\"y\":[37.484,39.348,41.216,43.453,45.252,46.923,50.00899999999999,52.819,56.018,59.412,62.01300000000001,64.062],\"yaxis\":\"y\",\"type\":\"scatter\"},{\"hovertemplate\":\"continent=Asia\\u003cbr\\u003ecountry=Cambodia\\u003cbr\\u003eyear=%{x}\\u003cbr\\u003elifeExp=%{y}\\u003cextra\\u003e\\u003c\\u002fextra\\u003e\",\"legendgroup\":\"Asia\",\"line\":{\"color\":\"#3366CC\",\"dash\":\"solid\",\"shape\":\"spline\"},\"marker\":{\"symbol\":\"circle\"},\"mode\":\"lines\",\"name\":\"Asia\",\"orientation\":\"v\",\"showlegend\":false,\"x\":[1952,1957,1962,1967,1972,1977,1982,1987,1992,1997,2002,2007],\"xaxis\":\"x\",\"y\":[39.417,41.36600000000001,43.415,45.415,40.317,31.22,50.957,53.914,55.803,56.534,56.752,59.723],\"yaxis\":\"y\",\"type\":\"scatter\"},{\"hovertemplate\":\"continent=Asia\\u003cbr\\u003ecountry=China\\u003cbr\\u003eyear=%{x}\\u003cbr\\u003elifeExp=%{y}\\u003cextra\\u003e\\u003c\\u002fextra\\u003e\",\"legendgroup\":\"Asia\",\"line\":{\"color\":\"#3366CC\",\"dash\":\"solid\",\"shape\":\"spline\"},\"marker\":{\"symbol\":\"circle\"},\"mode\":\"lines\",\"name\":\"Asia\",\"orientation\":\"v\",\"showlegend\":false,\"x\":[1952,1957,1962,1967,1972,1977,1982,1987,1992,1997,2002,2007],\"xaxis\":\"x\",\"y\":[44.0,50.54896,44.50136,58.38112,63.11888,63.96736,65.525,67.274,68.69,70.426,72.028,72.961],\"yaxis\":\"y\",\"type\":\"scatter\"},{\"hovertemplate\":\"continent=Asia\\u003cbr\\u003ecountry=Hong Kong, China\\u003cbr\\u003eyear=%{x}\\u003cbr\\u003elifeExp=%{y}\\u003cextra\\u003e\\u003c\\u002fextra\\u003e\",\"legendgroup\":\"Asia\",\"line\":{\"color\":\"#3366CC\",\"dash\":\"solid\",\"shape\":\"spline\"},\"marker\":{\"symbol\":\"circle\"},\"mode\":\"lines\",\"name\":\"Asia\",\"orientation\":\"v\",\"showlegend\":false,\"x\":[1952,1957,1962,1967,1972,1977,1982,1987,1992,1997,2002,2007],\"xaxis\":\"x\",\"y\":[60.96,64.75,67.65,70.0,72.0,73.6,75.45,76.2,77.601,80.0,81.495,82.208],\"yaxis\":\"y\",\"type\":\"scatter\"},{\"hovertemplate\":\"continent=Asia\\u003cbr\\u003ecountry=India\\u003cbr\\u003eyear=%{x}\\u003cbr\\u003elifeExp=%{y}\\u003cextra\\u003e\\u003c\\u002fextra\\u003e\",\"legendgroup\":\"Asia\",\"line\":{\"color\":\"#3366CC\",\"dash\":\"solid\",\"shape\":\"spline\"},\"marker\":{\"symbol\":\"circle\"},\"mode\":\"lines\",\"name\":\"Asia\",\"orientation\":\"v\",\"showlegend\":false,\"x\":[1952,1957,1962,1967,1972,1977,1982,1987,1992,1997,2002,2007],\"xaxis\":\"x\",\"y\":[37.37300000000001,40.249,43.605,47.19300000000001,50.651,54.208,56.596,58.553,60.223,61.765,62.879,64.69800000000001],\"yaxis\":\"y\",\"type\":\"scatter\"},{\"hovertemplate\":\"continent=Asia\\u003cbr\\u003ecountry=Indonesia\\u003cbr\\u003eyear=%{x}\\u003cbr\\u003elifeExp=%{y}\\u003cextra\\u003e\\u003c\\u002fextra\\u003e\",\"legendgroup\":\"Asia\",\"line\":{\"color\":\"#3366CC\",\"dash\":\"solid\",\"shape\":\"spline\"},\"marker\":{\"symbol\":\"circle\"},\"mode\":\"lines\",\"name\":\"Asia\",\"orientation\":\"v\",\"showlegend\":false,\"x\":[1952,1957,1962,1967,1972,1977,1982,1987,1992,1997,2002,2007],\"xaxis\":\"x\",\"y\":[37.468,39.918,42.518,45.964,49.203,52.702,56.159,60.137,62.681,66.041,68.58800000000001,70.65],\"yaxis\":\"y\",\"type\":\"scatter\"},{\"hovertemplate\":\"continent=Asia\\u003cbr\\u003ecountry=Iran\\u003cbr\\u003eyear=%{x}\\u003cbr\\u003elifeExp=%{y}\\u003cextra\\u003e\\u003c\\u002fextra\\u003e\",\"legendgroup\":\"Asia\",\"line\":{\"color\":\"#3366CC\",\"dash\":\"solid\",\"shape\":\"spline\"},\"marker\":{\"symbol\":\"circle\"},\"mode\":\"lines\",\"name\":\"Asia\",\"orientation\":\"v\",\"showlegend\":false,\"x\":[1952,1957,1962,1967,1972,1977,1982,1987,1992,1997,2002,2007],\"xaxis\":\"x\",\"y\":[44.869,47.181,49.325,52.469,55.234,57.702,59.62,63.04,65.742,68.042,69.45100000000001,70.964],\"yaxis\":\"y\",\"type\":\"scatter\"},{\"hovertemplate\":\"continent=Asia\\u003cbr\\u003ecountry=Iraq\\u003cbr\\u003eyear=%{x}\\u003cbr\\u003elifeExp=%{y}\\u003cextra\\u003e\\u003c\\u002fextra\\u003e\",\"legendgroup\":\"Asia\",\"line\":{\"color\":\"#3366CC\",\"dash\":\"solid\",\"shape\":\"spline\"},\"marker\":{\"symbol\":\"circle\"},\"mode\":\"lines\",\"name\":\"Asia\",\"orientation\":\"v\",\"showlegend\":false,\"x\":[1952,1957,1962,1967,1972,1977,1982,1987,1992,1997,2002,2007],\"xaxis\":\"x\",\"y\":[45.32,48.437,51.457,54.459,56.95,60.413,62.038,65.044,59.46100000000001,58.81100000000001,57.04600000000001,59.545],\"yaxis\":\"y\",\"type\":\"scatter\"},{\"hovertemplate\":\"continent=Asia\\u003cbr\\u003ecountry=Israel\\u003cbr\\u003eyear=%{x}\\u003cbr\\u003elifeExp=%{y}\\u003cextra\\u003e\\u003c\\u002fextra\\u003e\",\"legendgroup\":\"Asia\",\"line\":{\"color\":\"#3366CC\",\"dash\":\"solid\",\"shape\":\"spline\"},\"marker\":{\"symbol\":\"circle\"},\"mode\":\"lines\",\"name\":\"Asia\",\"orientation\":\"v\",\"showlegend\":false,\"x\":[1952,1957,1962,1967,1972,1977,1982,1987,1992,1997,2002,2007],\"xaxis\":\"x\",\"y\":[65.39,67.84,69.39,70.75,71.63,73.06,74.45,75.6,76.93,78.26899999999998,79.696,80.745],\"yaxis\":\"y\",\"type\":\"scatter\"},{\"hovertemplate\":\"continent=Asia\\u003cbr\\u003ecountry=Japan\\u003cbr\\u003eyear=%{x}\\u003cbr\\u003elifeExp=%{y}\\u003cextra\\u003e\\u003c\\u002fextra\\u003e\",\"legendgroup\":\"Asia\",\"line\":{\"color\":\"#3366CC\",\"dash\":\"solid\",\"shape\":\"spline\"},\"marker\":{\"symbol\":\"circle\"},\"mode\":\"lines\",\"name\":\"Asia\",\"orientation\":\"v\",\"showlegend\":false,\"x\":[1952,1957,1962,1967,1972,1977,1982,1987,1992,1997,2002,2007],\"xaxis\":\"x\",\"y\":[63.03,65.5,68.73,71.43,73.42,75.38,77.11,78.67,79.36,80.69,82.0,82.603],\"yaxis\":\"y\",\"type\":\"scatter\"},{\"hovertemplate\":\"continent=Asia\\u003cbr\\u003ecountry=Jordan\\u003cbr\\u003eyear=%{x}\\u003cbr\\u003elifeExp=%{y}\\u003cextra\\u003e\\u003c\\u002fextra\\u003e\",\"legendgroup\":\"Asia\",\"line\":{\"color\":\"#3366CC\",\"dash\":\"solid\",\"shape\":\"spline\"},\"marker\":{\"symbol\":\"circle\"},\"mode\":\"lines\",\"name\":\"Asia\",\"orientation\":\"v\",\"showlegend\":false,\"x\":[1952,1957,1962,1967,1972,1977,1982,1987,1992,1997,2002,2007],\"xaxis\":\"x\",\"y\":[43.158,45.669,48.12600000000001,51.629,56.528,61.13399999999999,63.739,65.869,68.015,69.77199999999999,71.263,72.535],\"yaxis\":\"y\",\"type\":\"scatter\"},{\"hovertemplate\":\"continent=Asia\\u003cbr\\u003ecountry=Korea, Dem. Rep.\\u003cbr\\u003eyear=%{x}\\u003cbr\\u003elifeExp=%{y}\\u003cextra\\u003e\\u003c\\u002fextra\\u003e\",\"legendgroup\":\"Asia\",\"line\":{\"color\":\"#3366CC\",\"dash\":\"solid\",\"shape\":\"spline\"},\"marker\":{\"symbol\":\"circle\"},\"mode\":\"lines\",\"name\":\"Asia\",\"orientation\":\"v\",\"showlegend\":false,\"x\":[1952,1957,1962,1967,1972,1977,1982,1987,1992,1997,2002,2007],\"xaxis\":\"x\",\"y\":[50.056,54.081,56.65600000000001,59.942,63.983,67.15899999999999,69.1,70.64699999999998,69.97800000000001,67.727,66.66199999999999,67.297],\"yaxis\":\"y\",\"type\":\"scatter\"},{\"hovertemplate\":\"continent=Asia\\u003cbr\\u003ecountry=Korea, Rep.\\u003cbr\\u003eyear=%{x}\\u003cbr\\u003elifeExp=%{y}\\u003cextra\\u003e\\u003c\\u002fextra\\u003e\",\"legendgroup\":\"Asia\",\"line\":{\"color\":\"#3366CC\",\"dash\":\"solid\",\"shape\":\"spline\"},\"marker\":{\"symbol\":\"circle\"},\"mode\":\"lines\",\"name\":\"Asia\",\"orientation\":\"v\",\"showlegend\":false,\"x\":[1952,1957,1962,1967,1972,1977,1982,1987,1992,1997,2002,2007],\"xaxis\":\"x\",\"y\":[47.453,52.681,55.292,57.716,62.612,64.766,67.123,69.81,72.244,74.64699999999998,77.045,78.623],\"yaxis\":\"y\",\"type\":\"scatter\"},{\"hovertemplate\":\"continent=Asia\\u003cbr\\u003ecountry=Kuwait\\u003cbr\\u003eyear=%{x}\\u003cbr\\u003elifeExp=%{y}\\u003cextra\\u003e\\u003c\\u002fextra\\u003e\",\"legendgroup\":\"Asia\",\"line\":{\"color\":\"#3366CC\",\"dash\":\"solid\",\"shape\":\"spline\"},\"marker\":{\"symbol\":\"circle\"},\"mode\":\"lines\",\"name\":\"Asia\",\"orientation\":\"v\",\"showlegend\":false,\"x\":[1952,1957,1962,1967,1972,1977,1982,1987,1992,1997,2002,2007],\"xaxis\":\"x\",\"y\":[55.565,58.033,60.47,64.624,67.712,69.343,71.309,74.17399999999998,75.19,76.156,76.904,77.58800000000002],\"yaxis\":\"y\",\"type\":\"scatter\"},{\"hovertemplate\":\"continent=Asia\\u003cbr\\u003ecountry=Lebanon\\u003cbr\\u003eyear=%{x}\\u003cbr\\u003elifeExp=%{y}\\u003cextra\\u003e\\u003c\\u002fextra\\u003e\",\"legendgroup\":\"Asia\",\"line\":{\"color\":\"#3366CC\",\"dash\":\"solid\",\"shape\":\"spline\"},\"marker\":{\"symbol\":\"circle\"},\"mode\":\"lines\",\"name\":\"Asia\",\"orientation\":\"v\",\"showlegend\":false,\"x\":[1952,1957,1962,1967,1972,1977,1982,1987,1992,1997,2002,2007],\"xaxis\":\"x\",\"y\":[55.928,59.489,62.094,63.87,65.421,66.09899999999999,66.983,67.926,69.292,70.265,71.028,71.993],\"yaxis\":\"y\",\"type\":\"scatter\"},{\"hovertemplate\":\"continent=Asia\\u003cbr\\u003ecountry=Malaysia\\u003cbr\\u003eyear=%{x}\\u003cbr\\u003elifeExp=%{y}\\u003cextra\\u003e\\u003c\\u002fextra\\u003e\",\"legendgroup\":\"Asia\",\"line\":{\"color\":\"#3366CC\",\"dash\":\"solid\",\"shape\":\"spline\"},\"marker\":{\"symbol\":\"circle\"},\"mode\":\"lines\",\"name\":\"Asia\",\"orientation\":\"v\",\"showlegend\":false,\"x\":[1952,1957,1962,1967,1972,1977,1982,1987,1992,1997,2002,2007],\"xaxis\":\"x\",\"y\":[48.463,52.102,55.737,59.371,63.01,65.256,68.0,69.5,70.693,71.938,73.044,74.241],\"yaxis\":\"y\",\"type\":\"scatter\"},{\"hovertemplate\":\"continent=Asia\\u003cbr\\u003ecountry=Mongolia\\u003cbr\\u003eyear=%{x}\\u003cbr\\u003elifeExp=%{y}\\u003cextra\\u003e\\u003c\\u002fextra\\u003e\",\"legendgroup\":\"Asia\",\"line\":{\"color\":\"#3366CC\",\"dash\":\"solid\",\"shape\":\"spline\"},\"marker\":{\"symbol\":\"circle\"},\"mode\":\"lines\",\"name\":\"Asia\",\"orientation\":\"v\",\"showlegend\":false,\"x\":[1952,1957,1962,1967,1972,1977,1982,1987,1992,1997,2002,2007],\"xaxis\":\"x\",\"y\":[42.244,45.24800000000001,48.25100000000001,51.253,53.754,55.49100000000001,57.489,60.222,61.271,63.625,65.033,66.803],\"yaxis\":\"y\",\"type\":\"scatter\"},{\"hovertemplate\":\"continent=Asia\\u003cbr\\u003ecountry=Myanmar\\u003cbr\\u003eyear=%{x}\\u003cbr\\u003elifeExp=%{y}\\u003cextra\\u003e\\u003c\\u002fextra\\u003e\",\"legendgroup\":\"Asia\",\"line\":{\"color\":\"#3366CC\",\"dash\":\"solid\",\"shape\":\"spline\"},\"marker\":{\"symbol\":\"circle\"},\"mode\":\"lines\",\"name\":\"Asia\",\"orientation\":\"v\",\"showlegend\":false,\"x\":[1952,1957,1962,1967,1972,1977,1982,1987,1992,1997,2002,2007],\"xaxis\":\"x\",\"y\":[36.319,41.905,45.108,49.379,53.07,56.059,58.056,58.339,59.32,60.328,59.908,62.069],\"yaxis\":\"y\",\"type\":\"scatter\"},{\"hovertemplate\":\"continent=Asia\\u003cbr\\u003ecountry=Nepal\\u003cbr\\u003eyear=%{x}\\u003cbr\\u003elifeExp=%{y}\\u003cextra\\u003e\\u003c\\u002fextra\\u003e\",\"legendgroup\":\"Asia\",\"line\":{\"color\":\"#3366CC\",\"dash\":\"solid\",\"shape\":\"spline\"},\"marker\":{\"symbol\":\"circle\"},\"mode\":\"lines\",\"name\":\"Asia\",\"orientation\":\"v\",\"showlegend\":false,\"x\":[1952,1957,1962,1967,1972,1977,1982,1987,1992,1997,2002,2007],\"xaxis\":\"x\",\"y\":[36.157,37.686,39.393,41.472,43.971,46.74800000000001,49.594,52.537,55.727,59.426,61.34,63.785],\"yaxis\":\"y\",\"type\":\"scatter\"},{\"hovertemplate\":\"continent=Asia\\u003cbr\\u003ecountry=Oman\\u003cbr\\u003eyear=%{x}\\u003cbr\\u003elifeExp=%{y}\\u003cextra\\u003e\\u003c\\u002fextra\\u003e\",\"legendgroup\":\"Asia\",\"line\":{\"color\":\"#3366CC\",\"dash\":\"solid\",\"shape\":\"spline\"},\"marker\":{\"symbol\":\"circle\"},\"mode\":\"lines\",\"name\":\"Asia\",\"orientation\":\"v\",\"showlegend\":false,\"x\":[1952,1957,1962,1967,1972,1977,1982,1987,1992,1997,2002,2007],\"xaxis\":\"x\",\"y\":[37.578,40.08,43.165,46.988,52.143,57.367,62.728,67.734,71.197,72.499,74.193,75.64],\"yaxis\":\"y\",\"type\":\"scatter\"},{\"hovertemplate\":\"continent=Asia\\u003cbr\\u003ecountry=Pakistan\\u003cbr\\u003eyear=%{x}\\u003cbr\\u003elifeExp=%{y}\\u003cextra\\u003e\\u003c\\u002fextra\\u003e\",\"legendgroup\":\"Asia\",\"line\":{\"color\":\"#3366CC\",\"dash\":\"solid\",\"shape\":\"spline\"},\"marker\":{\"symbol\":\"circle\"},\"mode\":\"lines\",\"name\":\"Asia\",\"orientation\":\"v\",\"showlegend\":false,\"x\":[1952,1957,1962,1967,1972,1977,1982,1987,1992,1997,2002,2007],\"xaxis\":\"x\",\"y\":[43.43600000000001,45.557,47.67,49.8,51.929,54.043,56.158,58.245,60.838,61.81800000000001,63.61,65.483],\"yaxis\":\"y\",\"type\":\"scatter\"},{\"hovertemplate\":\"continent=Asia\\u003cbr\\u003ecountry=Philippines\\u003cbr\\u003eyear=%{x}\\u003cbr\\u003elifeExp=%{y}\\u003cextra\\u003e\\u003c\\u002fextra\\u003e\",\"legendgroup\":\"Asia\",\"line\":{\"color\":\"#3366CC\",\"dash\":\"solid\",\"shape\":\"spline\"},\"marker\":{\"symbol\":\"circle\"},\"mode\":\"lines\",\"name\":\"Asia\",\"orientation\":\"v\",\"showlegend\":false,\"x\":[1952,1957,1962,1967,1972,1977,1982,1987,1992,1997,2002,2007],\"xaxis\":\"x\",\"y\":[47.752,51.334,54.757,56.393,58.065,60.06,62.082,64.15100000000001,66.458,68.564,70.303,71.688],\"yaxis\":\"y\",\"type\":\"scatter\"},{\"hovertemplate\":\"continent=Asia\\u003cbr\\u003ecountry=Saudi Arabia\\u003cbr\\u003eyear=%{x}\\u003cbr\\u003elifeExp=%{y}\\u003cextra\\u003e\\u003c\\u002fextra\\u003e\",\"legendgroup\":\"Asia\",\"line\":{\"color\":\"#3366CC\",\"dash\":\"solid\",\"shape\":\"spline\"},\"marker\":{\"symbol\":\"circle\"},\"mode\":\"lines\",\"name\":\"Asia\",\"orientation\":\"v\",\"showlegend\":false,\"x\":[1952,1957,1962,1967,1972,1977,1982,1987,1992,1997,2002,2007],\"xaxis\":\"x\",\"y\":[39.875,42.868,45.914,49.901,53.886,58.69,63.012,66.295,68.768,70.533,71.626,72.777],\"yaxis\":\"y\",\"type\":\"scatter\"},{\"hovertemplate\":\"continent=Asia\\u003cbr\\u003ecountry=Singapore\\u003cbr\\u003eyear=%{x}\\u003cbr\\u003elifeExp=%{y}\\u003cextra\\u003e\\u003c\\u002fextra\\u003e\",\"legendgroup\":\"Asia\",\"line\":{\"color\":\"#3366CC\",\"dash\":\"solid\",\"shape\":\"spline\"},\"marker\":{\"symbol\":\"circle\"},\"mode\":\"lines\",\"name\":\"Asia\",\"orientation\":\"v\",\"showlegend\":false,\"x\":[1952,1957,1962,1967,1972,1977,1982,1987,1992,1997,2002,2007],\"xaxis\":\"x\",\"y\":[60.396,63.179,65.798,67.946,69.521,70.795,71.76,73.56,75.788,77.158,78.77,79.972],\"yaxis\":\"y\",\"type\":\"scatter\"},{\"hovertemplate\":\"continent=Asia\\u003cbr\\u003ecountry=Sri Lanka\\u003cbr\\u003eyear=%{x}\\u003cbr\\u003elifeExp=%{y}\\u003cextra\\u003e\\u003c\\u002fextra\\u003e\",\"legendgroup\":\"Asia\",\"line\":{\"color\":\"#3366CC\",\"dash\":\"solid\",\"shape\":\"spline\"},\"marker\":{\"symbol\":\"circle\"},\"mode\":\"lines\",\"name\":\"Asia\",\"orientation\":\"v\",\"showlegend\":false,\"x\":[1952,1957,1962,1967,1972,1977,1982,1987,1992,1997,2002,2007],\"xaxis\":\"x\",\"y\":[57.593,61.456,62.192,64.266,65.042,65.949,68.757,69.01100000000001,70.37899999999998,70.457,70.815,72.396],\"yaxis\":\"y\",\"type\":\"scatter\"},{\"hovertemplate\":\"continent=Asia\\u003cbr\\u003ecountry=Syria\\u003cbr\\u003eyear=%{x}\\u003cbr\\u003elifeExp=%{y}\\u003cextra\\u003e\\u003c\\u002fextra\\u003e\",\"legendgroup\":\"Asia\",\"line\":{\"color\":\"#3366CC\",\"dash\":\"solid\",\"shape\":\"spline\"},\"marker\":{\"symbol\":\"circle\"},\"mode\":\"lines\",\"name\":\"Asia\",\"orientation\":\"v\",\"showlegend\":false,\"x\":[1952,1957,1962,1967,1972,1977,1982,1987,1992,1997,2002,2007],\"xaxis\":\"x\",\"y\":[45.883,48.284,50.305,53.655,57.29600000000001,61.195,64.59,66.97399999999999,69.249,71.527,73.053,74.143],\"yaxis\":\"y\",\"type\":\"scatter\"},{\"hovertemplate\":\"continent=Asia\\u003cbr\\u003ecountry=Taiwan\\u003cbr\\u003eyear=%{x}\\u003cbr\\u003elifeExp=%{y}\\u003cextra\\u003e\\u003c\\u002fextra\\u003e\",\"legendgroup\":\"Asia\",\"line\":{\"color\":\"#3366CC\",\"dash\":\"solid\",\"shape\":\"spline\"},\"marker\":{\"symbol\":\"circle\"},\"mode\":\"lines\",\"name\":\"Asia\",\"orientation\":\"v\",\"showlegend\":false,\"x\":[1952,1957,1962,1967,1972,1977,1982,1987,1992,1997,2002,2007],\"xaxis\":\"x\",\"y\":[58.5,62.4,65.2,67.5,69.39,70.59,72.16,73.4,74.26,75.25,76.99,78.4],\"yaxis\":\"y\",\"type\":\"scatter\"},{\"hovertemplate\":\"continent=Asia\\u003cbr\\u003ecountry=Thailand\\u003cbr\\u003eyear=%{x}\\u003cbr\\u003elifeExp=%{y}\\u003cextra\\u003e\\u003c\\u002fextra\\u003e\",\"legendgroup\":\"Asia\",\"line\":{\"color\":\"#3366CC\",\"dash\":\"solid\",\"shape\":\"spline\"},\"marker\":{\"symbol\":\"circle\"},\"mode\":\"lines\",\"name\":\"Asia\",\"orientation\":\"v\",\"showlegend\":false,\"x\":[1952,1957,1962,1967,1972,1977,1982,1987,1992,1997,2002,2007],\"xaxis\":\"x\",\"y\":[50.848,53.63,56.06100000000001,58.285,60.405,62.494,64.597,66.084,67.298,67.521,68.564,70.616],\"yaxis\":\"y\",\"type\":\"scatter\"},{\"hovertemplate\":\"continent=Asia\\u003cbr\\u003ecountry=Vietnam\\u003cbr\\u003eyear=%{x}\\u003cbr\\u003elifeExp=%{y}\\u003cextra\\u003e\\u003c\\u002fextra\\u003e\",\"legendgroup\":\"Asia\",\"line\":{\"color\":\"#3366CC\",\"dash\":\"solid\",\"shape\":\"spline\"},\"marker\":{\"symbol\":\"circle\"},\"mode\":\"lines\",\"name\":\"Asia\",\"orientation\":\"v\",\"showlegend\":false,\"x\":[1952,1957,1962,1967,1972,1977,1982,1987,1992,1997,2002,2007],\"xaxis\":\"x\",\"y\":[40.412,42.887,45.363,47.838,50.254,55.764,58.816,62.82,67.66199999999999,70.672,73.017,74.249],\"yaxis\":\"y\",\"type\":\"scatter\"},{\"hovertemplate\":\"continent=Asia\\u003cbr\\u003ecountry=West Bank and Gaza\\u003cbr\\u003eyear=%{x}\\u003cbr\\u003elifeExp=%{y}\\u003cextra\\u003e\\u003c\\u002fextra\\u003e\",\"legendgroup\":\"Asia\",\"line\":{\"color\":\"#3366CC\",\"dash\":\"solid\",\"shape\":\"spline\"},\"marker\":{\"symbol\":\"circle\"},\"mode\":\"lines\",\"name\":\"Asia\",\"orientation\":\"v\",\"showlegend\":false,\"x\":[1952,1957,1962,1967,1972,1977,1982,1987,1992,1997,2002,2007],\"xaxis\":\"x\",\"y\":[43.16,45.67100000000001,48.127,51.631,56.532,60.765,64.406,67.046,69.718,71.096,72.37,73.422],\"yaxis\":\"y\",\"type\":\"scatter\"},{\"hovertemplate\":\"continent=Asia\\u003cbr\\u003ecountry=Yemen, Rep.\\u003cbr\\u003eyear=%{x}\\u003cbr\\u003elifeExp=%{y}\\u003cextra\\u003e\\u003c\\u002fextra\\u003e\",\"legendgroup\":\"Asia\",\"line\":{\"color\":\"#3366CC\",\"dash\":\"solid\",\"shape\":\"spline\"},\"marker\":{\"symbol\":\"circle\"},\"mode\":\"lines\",\"name\":\"Asia\",\"orientation\":\"v\",\"showlegend\":false,\"x\":[1952,1957,1962,1967,1972,1977,1982,1987,1992,1997,2002,2007],\"xaxis\":\"x\",\"y\":[32.548,33.97,35.18,36.984,39.848,44.175,49.113,52.922,55.599,58.02,60.308,62.698],\"yaxis\":\"y\",\"type\":\"scatter\"},{\"hovertemplate\":\"continent=Europe\\u003cbr\\u003ecountry=Albania\\u003cbr\\u003eyear=%{x}\\u003cbr\\u003elifeExp=%{y}\\u003cextra\\u003e\\u003c\\u002fextra\\u003e\",\"legendgroup\":\"Europe\",\"line\":{\"color\":\"#DC3912\",\"dash\":\"solid\",\"shape\":\"spline\"},\"marker\":{\"symbol\":\"circle\"},\"mode\":\"lines\",\"name\":\"Europe\",\"orientation\":\"v\",\"showlegend\":true,\"x\":[1952,1957,1962,1967,1972,1977,1982,1987,1992,1997,2002,2007],\"xaxis\":\"x\",\"y\":[55.23,59.28,64.82,66.22,67.69,68.93,70.42,72.0,71.581,72.95,75.65100000000002,76.423],\"yaxis\":\"y\",\"type\":\"scatter\"},{\"hovertemplate\":\"continent=Europe\\u003cbr\\u003ecountry=Austria\\u003cbr\\u003eyear=%{x}\\u003cbr\\u003elifeExp=%{y}\\u003cextra\\u003e\\u003c\\u002fextra\\u003e\",\"legendgroup\":\"Europe\",\"line\":{\"color\":\"#DC3912\",\"dash\":\"solid\",\"shape\":\"spline\"},\"marker\":{\"symbol\":\"circle\"},\"mode\":\"lines\",\"name\":\"Europe\",\"orientation\":\"v\",\"showlegend\":false,\"x\":[1952,1957,1962,1967,1972,1977,1982,1987,1992,1997,2002,2007],\"xaxis\":\"x\",\"y\":[66.8,67.48,69.54,70.14,70.63,72.17,73.18,74.94,76.04,77.51,78.98,79.829],\"yaxis\":\"y\",\"type\":\"scatter\"},{\"hovertemplate\":\"continent=Europe\\u003cbr\\u003ecountry=Belgium\\u003cbr\\u003eyear=%{x}\\u003cbr\\u003elifeExp=%{y}\\u003cextra\\u003e\\u003c\\u002fextra\\u003e\",\"legendgroup\":\"Europe\",\"line\":{\"color\":\"#DC3912\",\"dash\":\"solid\",\"shape\":\"spline\"},\"marker\":{\"symbol\":\"circle\"},\"mode\":\"lines\",\"name\":\"Europe\",\"orientation\":\"v\",\"showlegend\":false,\"x\":[1952,1957,1962,1967,1972,1977,1982,1987,1992,1997,2002,2007],\"xaxis\":\"x\",\"y\":[68.0,69.24,70.25,70.94,71.44,72.8,73.93,75.35,76.46,77.53,78.32,79.441],\"yaxis\":\"y\",\"type\":\"scatter\"},{\"hovertemplate\":\"continent=Europe\\u003cbr\\u003ecountry=Bosnia and Herzegovina\\u003cbr\\u003eyear=%{x}\\u003cbr\\u003elifeExp=%{y}\\u003cextra\\u003e\\u003c\\u002fextra\\u003e\",\"legendgroup\":\"Europe\",\"line\":{\"color\":\"#DC3912\",\"dash\":\"solid\",\"shape\":\"spline\"},\"marker\":{\"symbol\":\"circle\"},\"mode\":\"lines\",\"name\":\"Europe\",\"orientation\":\"v\",\"showlegend\":false,\"x\":[1952,1957,1962,1967,1972,1977,1982,1987,1992,1997,2002,2007],\"xaxis\":\"x\",\"y\":[53.82,58.45,61.93,64.79,67.45,69.86,70.69,71.14,72.178,73.244,74.09,74.852],\"yaxis\":\"y\",\"type\":\"scatter\"},{\"hovertemplate\":\"continent=Europe\\u003cbr\\u003ecountry=Bulgaria\\u003cbr\\u003eyear=%{x}\\u003cbr\\u003elifeExp=%{y}\\u003cextra\\u003e\\u003c\\u002fextra\\u003e\",\"legendgroup\":\"Europe\",\"line\":{\"color\":\"#DC3912\",\"dash\":\"solid\",\"shape\":\"spline\"},\"marker\":{\"symbol\":\"circle\"},\"mode\":\"lines\",\"name\":\"Europe\",\"orientation\":\"v\",\"showlegend\":false,\"x\":[1952,1957,1962,1967,1972,1977,1982,1987,1992,1997,2002,2007],\"xaxis\":\"x\",\"y\":[59.6,66.61,69.51,70.42,70.9,70.81,71.08,71.34,71.19,70.32,72.14,73.005],\"yaxis\":\"y\",\"type\":\"scatter\"},{\"hovertemplate\":\"continent=Europe\\u003cbr\\u003ecountry=Croatia\\u003cbr\\u003eyear=%{x}\\u003cbr\\u003elifeExp=%{y}\\u003cextra\\u003e\\u003c\\u002fextra\\u003e\",\"legendgroup\":\"Europe\",\"line\":{\"color\":\"#DC3912\",\"dash\":\"solid\",\"shape\":\"spline\"},\"marker\":{\"symbol\":\"circle\"},\"mode\":\"lines\",\"name\":\"Europe\",\"orientation\":\"v\",\"showlegend\":false,\"x\":[1952,1957,1962,1967,1972,1977,1982,1987,1992,1997,2002,2007],\"xaxis\":\"x\",\"y\":[61.21,64.77,67.13,68.5,69.61,70.64,70.46,71.52,72.527,73.68,74.876,75.748],\"yaxis\":\"y\",\"type\":\"scatter\"},{\"hovertemplate\":\"continent=Europe\\u003cbr\\u003ecountry=Czech Republic\\u003cbr\\u003eyear=%{x}\\u003cbr\\u003elifeExp=%{y}\\u003cextra\\u003e\\u003c\\u002fextra\\u003e\",\"legendgroup\":\"Europe\",\"line\":{\"color\":\"#DC3912\",\"dash\":\"solid\",\"shape\":\"spline\"},\"marker\":{\"symbol\":\"circle\"},\"mode\":\"lines\",\"name\":\"Europe\",\"orientation\":\"v\",\"showlegend\":false,\"x\":[1952,1957,1962,1967,1972,1977,1982,1987,1992,1997,2002,2007],\"xaxis\":\"x\",\"y\":[66.87,69.03,69.9,70.38,70.29,70.71,70.96,71.58,72.4,74.01,75.51,76.486],\"yaxis\":\"y\",\"type\":\"scatter\"},{\"hovertemplate\":\"continent=Europe\\u003cbr\\u003ecountry=Denmark\\u003cbr\\u003eyear=%{x}\\u003cbr\\u003elifeExp=%{y}\\u003cextra\\u003e\\u003c\\u002fextra\\u003e\",\"legendgroup\":\"Europe\",\"line\":{\"color\":\"#DC3912\",\"dash\":\"solid\",\"shape\":\"spline\"},\"marker\":{\"symbol\":\"circle\"},\"mode\":\"lines\",\"name\":\"Europe\",\"orientation\":\"v\",\"showlegend\":false,\"x\":[1952,1957,1962,1967,1972,1977,1982,1987,1992,1997,2002,2007],\"xaxis\":\"x\",\"y\":[70.78,71.81,72.35,72.96,73.47,74.69,74.63,74.8,75.33,76.11,77.18,78.332],\"yaxis\":\"y\",\"type\":\"scatter\"},{\"hovertemplate\":\"continent=Europe\\u003cbr\\u003ecountry=Finland\\u003cbr\\u003eyear=%{x}\\u003cbr\\u003elifeExp=%{y}\\u003cextra\\u003e\\u003c\\u002fextra\\u003e\",\"legendgroup\":\"Europe\",\"line\":{\"color\":\"#DC3912\",\"dash\":\"solid\",\"shape\":\"spline\"},\"marker\":{\"symbol\":\"circle\"},\"mode\":\"lines\",\"name\":\"Europe\",\"orientation\":\"v\",\"showlegend\":false,\"x\":[1952,1957,1962,1967,1972,1977,1982,1987,1992,1997,2002,2007],\"xaxis\":\"x\",\"y\":[66.55,67.49,68.75,69.83,70.87,72.52,74.55,74.83,75.7,77.13,78.37,79.313],\"yaxis\":\"y\",\"type\":\"scatter\"},{\"hovertemplate\":\"continent=Europe\\u003cbr\\u003ecountry=France\\u003cbr\\u003eyear=%{x}\\u003cbr\\u003elifeExp=%{y}\\u003cextra\\u003e\\u003c\\u002fextra\\u003e\",\"legendgroup\":\"Europe\",\"line\":{\"color\":\"#DC3912\",\"dash\":\"solid\",\"shape\":\"spline\"},\"marker\":{\"symbol\":\"circle\"},\"mode\":\"lines\",\"name\":\"Europe\",\"orientation\":\"v\",\"showlegend\":false,\"x\":[1952,1957,1962,1967,1972,1977,1982,1987,1992,1997,2002,2007],\"xaxis\":\"x\",\"y\":[67.41,68.93,70.51,71.55,72.38,73.83,74.89,76.34,77.46,78.64,79.59,80.657],\"yaxis\":\"y\",\"type\":\"scatter\"},{\"hovertemplate\":\"continent=Europe\\u003cbr\\u003ecountry=Germany\\u003cbr\\u003eyear=%{x}\\u003cbr\\u003elifeExp=%{y}\\u003cextra\\u003e\\u003c\\u002fextra\\u003e\",\"legendgroup\":\"Europe\",\"line\":{\"color\":\"#DC3912\",\"dash\":\"solid\",\"shape\":\"spline\"},\"marker\":{\"symbol\":\"circle\"},\"mode\":\"lines\",\"name\":\"Europe\",\"orientation\":\"v\",\"showlegend\":false,\"x\":[1952,1957,1962,1967,1972,1977,1982,1987,1992,1997,2002,2007],\"xaxis\":\"x\",\"y\":[67.5,69.1,70.3,70.8,71.0,72.5,73.8,74.847,76.07,77.34,78.67,79.406],\"yaxis\":\"y\",\"type\":\"scatter\"},{\"hovertemplate\":\"continent=Europe\\u003cbr\\u003ecountry=Greece\\u003cbr\\u003eyear=%{x}\\u003cbr\\u003elifeExp=%{y}\\u003cextra\\u003e\\u003c\\u002fextra\\u003e\",\"legendgroup\":\"Europe\",\"line\":{\"color\":\"#DC3912\",\"dash\":\"solid\",\"shape\":\"spline\"},\"marker\":{\"symbol\":\"circle\"},\"mode\":\"lines\",\"name\":\"Europe\",\"orientation\":\"v\",\"showlegend\":false,\"x\":[1952,1957,1962,1967,1972,1977,1982,1987,1992,1997,2002,2007],\"xaxis\":\"x\",\"y\":[65.86,67.86,69.51,71.0,72.34,73.68,75.24,76.67,77.03,77.869,78.256,79.483],\"yaxis\":\"y\",\"type\":\"scatter\"},{\"hovertemplate\":\"continent=Europe\\u003cbr\\u003ecountry=Hungary\\u003cbr\\u003eyear=%{x}\\u003cbr\\u003elifeExp=%{y}\\u003cextra\\u003e\\u003c\\u002fextra\\u003e\",\"legendgroup\":\"Europe\",\"line\":{\"color\":\"#DC3912\",\"dash\":\"solid\",\"shape\":\"spline\"},\"marker\":{\"symbol\":\"circle\"},\"mode\":\"lines\",\"name\":\"Europe\",\"orientation\":\"v\",\"showlegend\":false,\"x\":[1952,1957,1962,1967,1972,1977,1982,1987,1992,1997,2002,2007],\"xaxis\":\"x\",\"y\":[64.03,66.41,67.96,69.5,69.76,69.95,69.39,69.58,69.17,71.04,72.59,73.33800000000002],\"yaxis\":\"y\",\"type\":\"scatter\"},{\"hovertemplate\":\"continent=Europe\\u003cbr\\u003ecountry=Iceland\\u003cbr\\u003eyear=%{x}\\u003cbr\\u003elifeExp=%{y}\\u003cextra\\u003e\\u003c\\u002fextra\\u003e\",\"legendgroup\":\"Europe\",\"line\":{\"color\":\"#DC3912\",\"dash\":\"solid\",\"shape\":\"spline\"},\"marker\":{\"symbol\":\"circle\"},\"mode\":\"lines\",\"name\":\"Europe\",\"orientation\":\"v\",\"showlegend\":false,\"x\":[1952,1957,1962,1967,1972,1977,1982,1987,1992,1997,2002,2007],\"xaxis\":\"x\",\"y\":[72.49,73.47,73.68,73.73,74.46,76.11,76.99,77.23,78.77,78.95,80.5,81.757],\"yaxis\":\"y\",\"type\":\"scatter\"},{\"hovertemplate\":\"continent=Europe\\u003cbr\\u003ecountry=Ireland\\u003cbr\\u003eyear=%{x}\\u003cbr\\u003elifeExp=%{y}\\u003cextra\\u003e\\u003c\\u002fextra\\u003e\",\"legendgroup\":\"Europe\",\"line\":{\"color\":\"#DC3912\",\"dash\":\"solid\",\"shape\":\"spline\"},\"marker\":{\"symbol\":\"circle\"},\"mode\":\"lines\",\"name\":\"Europe\",\"orientation\":\"v\",\"showlegend\":false,\"x\":[1952,1957,1962,1967,1972,1977,1982,1987,1992,1997,2002,2007],\"xaxis\":\"x\",\"y\":[66.91,68.9,70.29,71.08,71.28,72.03,73.1,74.36,75.467,76.122,77.783,78.885],\"yaxis\":\"y\",\"type\":\"scatter\"},{\"hovertemplate\":\"continent=Europe\\u003cbr\\u003ecountry=Italy\\u003cbr\\u003eyear=%{x}\\u003cbr\\u003elifeExp=%{y}\\u003cextra\\u003e\\u003c\\u002fextra\\u003e\",\"legendgroup\":\"Europe\",\"line\":{\"color\":\"#DC3912\",\"dash\":\"solid\",\"shape\":\"spline\"},\"marker\":{\"symbol\":\"circle\"},\"mode\":\"lines\",\"name\":\"Europe\",\"orientation\":\"v\",\"showlegend\":false,\"x\":[1952,1957,1962,1967,1972,1977,1982,1987,1992,1997,2002,2007],\"xaxis\":\"x\",\"y\":[65.94,67.81,69.24,71.06,72.19,73.48,74.98,76.42,77.44,78.82,80.24,80.546],\"yaxis\":\"y\",\"type\":\"scatter\"},{\"hovertemplate\":\"continent=Europe\\u003cbr\\u003ecountry=Montenegro\\u003cbr\\u003eyear=%{x}\\u003cbr\\u003elifeExp=%{y}\\u003cextra\\u003e\\u003c\\u002fextra\\u003e\",\"legendgroup\":\"Europe\",\"line\":{\"color\":\"#DC3912\",\"dash\":\"solid\",\"shape\":\"spline\"},\"marker\":{\"symbol\":\"circle\"},\"mode\":\"lines\",\"name\":\"Europe\",\"orientation\":\"v\",\"showlegend\":false,\"x\":[1952,1957,1962,1967,1972,1977,1982,1987,1992,1997,2002,2007],\"xaxis\":\"x\",\"y\":[59.164,61.448,63.728,67.178,70.63600000000002,73.066,74.101,74.865,75.435,75.445,73.98100000000002,74.543],\"yaxis\":\"y\",\"type\":\"scatter\"},{\"hovertemplate\":\"continent=Europe\\u003cbr\\u003ecountry=Netherlands\\u003cbr\\u003eyear=%{x}\\u003cbr\\u003elifeExp=%{y}\\u003cextra\\u003e\\u003c\\u002fextra\\u003e\",\"legendgroup\":\"Europe\",\"line\":{\"color\":\"#DC3912\",\"dash\":\"solid\",\"shape\":\"spline\"},\"marker\":{\"symbol\":\"circle\"},\"mode\":\"lines\",\"name\":\"Europe\",\"orientation\":\"v\",\"showlegend\":false,\"x\":[1952,1957,1962,1967,1972,1977,1982,1987,1992,1997,2002,2007],\"xaxis\":\"x\",\"y\":[72.13,72.99,73.23,73.82,73.75,75.24,76.05,76.83,77.42,78.03,78.53,79.762],\"yaxis\":\"y\",\"type\":\"scatter\"},{\"hovertemplate\":\"continent=Europe\\u003cbr\\u003ecountry=Norway\\u003cbr\\u003eyear=%{x}\\u003cbr\\u003elifeExp=%{y}\\u003cextra\\u003e\\u003c\\u002fextra\\u003e\",\"legendgroup\":\"Europe\",\"line\":{\"color\":\"#DC3912\",\"dash\":\"solid\",\"shape\":\"spline\"},\"marker\":{\"symbol\":\"circle\"},\"mode\":\"lines\",\"name\":\"Europe\",\"orientation\":\"v\",\"showlegend\":false,\"x\":[1952,1957,1962,1967,1972,1977,1982,1987,1992,1997,2002,2007],\"xaxis\":\"x\",\"y\":[72.67,73.44,73.47,74.08,74.34,75.37,75.97,75.89,77.32,78.32,79.05,80.196],\"yaxis\":\"y\",\"type\":\"scatter\"},{\"hovertemplate\":\"continent=Europe\\u003cbr\\u003ecountry=Poland\\u003cbr\\u003eyear=%{x}\\u003cbr\\u003elifeExp=%{y}\\u003cextra\\u003e\\u003c\\u002fextra\\u003e\",\"legendgroup\":\"Europe\",\"line\":{\"color\":\"#DC3912\",\"dash\":\"solid\",\"shape\":\"spline\"},\"marker\":{\"symbol\":\"circle\"},\"mode\":\"lines\",\"name\":\"Europe\",\"orientation\":\"v\",\"showlegend\":false,\"x\":[1952,1957,1962,1967,1972,1977,1982,1987,1992,1997,2002,2007],\"xaxis\":\"x\",\"y\":[61.31,65.77,67.64,69.61,70.85,70.67,71.32,70.98,70.99,72.75,74.67,75.563],\"yaxis\":\"y\",\"type\":\"scatter\"},{\"hovertemplate\":\"continent=Europe\\u003cbr\\u003ecountry=Portugal\\u003cbr\\u003eyear=%{x}\\u003cbr\\u003elifeExp=%{y}\\u003cextra\\u003e\\u003c\\u002fextra\\u003e\",\"legendgroup\":\"Europe\",\"line\":{\"color\":\"#DC3912\",\"dash\":\"solid\",\"shape\":\"spline\"},\"marker\":{\"symbol\":\"circle\"},\"mode\":\"lines\",\"name\":\"Europe\",\"orientation\":\"v\",\"showlegend\":false,\"x\":[1952,1957,1962,1967,1972,1977,1982,1987,1992,1997,2002,2007],\"xaxis\":\"x\",\"y\":[59.82,61.51,64.39,66.6,69.26,70.41,72.77,74.06,74.86,75.97,77.29,78.098],\"yaxis\":\"y\",\"type\":\"scatter\"},{\"hovertemplate\":\"continent=Europe\\u003cbr\\u003ecountry=Romania\\u003cbr\\u003eyear=%{x}\\u003cbr\\u003elifeExp=%{y}\\u003cextra\\u003e\\u003c\\u002fextra\\u003e\",\"legendgroup\":\"Europe\",\"line\":{\"color\":\"#DC3912\",\"dash\":\"solid\",\"shape\":\"spline\"},\"marker\":{\"symbol\":\"circle\"},\"mode\":\"lines\",\"name\":\"Europe\",\"orientation\":\"v\",\"showlegend\":false,\"x\":[1952,1957,1962,1967,1972,1977,1982,1987,1992,1997,2002,2007],\"xaxis\":\"x\",\"y\":[61.05,64.1,66.8,66.8,69.21,69.46,69.66,69.53,69.36,69.72,71.322,72.476],\"yaxis\":\"y\",\"type\":\"scatter\"},{\"hovertemplate\":\"continent=Europe\\u003cbr\\u003ecountry=Serbia\\u003cbr\\u003eyear=%{x}\\u003cbr\\u003elifeExp=%{y}\\u003cextra\\u003e\\u003c\\u002fextra\\u003e\",\"legendgroup\":\"Europe\",\"line\":{\"color\":\"#DC3912\",\"dash\":\"solid\",\"shape\":\"spline\"},\"marker\":{\"symbol\":\"circle\"},\"mode\":\"lines\",\"name\":\"Europe\",\"orientation\":\"v\",\"showlegend\":false,\"x\":[1952,1957,1962,1967,1972,1977,1982,1987,1992,1997,2002,2007],\"xaxis\":\"x\",\"y\":[57.996,61.685,64.531,66.914,68.7,70.3,70.16199999999999,71.218,71.65899999999998,72.232,73.21300000000002,74.002],\"yaxis\":\"y\",\"type\":\"scatter\"},{\"hovertemplate\":\"continent=Europe\\u003cbr\\u003ecountry=Slovak Republic\\u003cbr\\u003eyear=%{x}\\u003cbr\\u003elifeExp=%{y}\\u003cextra\\u003e\\u003c\\u002fextra\\u003e\",\"legendgroup\":\"Europe\",\"line\":{\"color\":\"#DC3912\",\"dash\":\"solid\",\"shape\":\"spline\"},\"marker\":{\"symbol\":\"circle\"},\"mode\":\"lines\",\"name\":\"Europe\",\"orientation\":\"v\",\"showlegend\":false,\"x\":[1952,1957,1962,1967,1972,1977,1982,1987,1992,1997,2002,2007],\"xaxis\":\"x\",\"y\":[64.36,67.45,70.33,70.98,70.35,70.45,70.8,71.08,71.38,72.71,73.8,74.663],\"yaxis\":\"y\",\"type\":\"scatter\"},{\"hovertemplate\":\"continent=Europe\\u003cbr\\u003ecountry=Slovenia\\u003cbr\\u003eyear=%{x}\\u003cbr\\u003elifeExp=%{y}\\u003cextra\\u003e\\u003c\\u002fextra\\u003e\",\"legendgroup\":\"Europe\",\"line\":{\"color\":\"#DC3912\",\"dash\":\"solid\",\"shape\":\"spline\"},\"marker\":{\"symbol\":\"circle\"},\"mode\":\"lines\",\"name\":\"Europe\",\"orientation\":\"v\",\"showlegend\":false,\"x\":[1952,1957,1962,1967,1972,1977,1982,1987,1992,1997,2002,2007],\"xaxis\":\"x\",\"y\":[65.57,67.85,69.15,69.18,69.82,70.97,71.063,72.25,73.64,75.13,76.66,77.926],\"yaxis\":\"y\",\"type\":\"scatter\"},{\"hovertemplate\":\"continent=Europe\\u003cbr\\u003ecountry=Spain\\u003cbr\\u003eyear=%{x}\\u003cbr\\u003elifeExp=%{y}\\u003cextra\\u003e\\u003c\\u002fextra\\u003e\",\"legendgroup\":\"Europe\",\"line\":{\"color\":\"#DC3912\",\"dash\":\"solid\",\"shape\":\"spline\"},\"marker\":{\"symbol\":\"circle\"},\"mode\":\"lines\",\"name\":\"Europe\",\"orientation\":\"v\",\"showlegend\":false,\"x\":[1952,1957,1962,1967,1972,1977,1982,1987,1992,1997,2002,2007],\"xaxis\":\"x\",\"y\":[64.94,66.66,69.69,71.44,73.06,74.39,76.3,76.9,77.57,78.77,79.78,80.941],\"yaxis\":\"y\",\"type\":\"scatter\"},{\"hovertemplate\":\"continent=Europe\\u003cbr\\u003ecountry=Sweden\\u003cbr\\u003eyear=%{x}\\u003cbr\\u003elifeExp=%{y}\\u003cextra\\u003e\\u003c\\u002fextra\\u003e\",\"legendgroup\":\"Europe\",\"line\":{\"color\":\"#DC3912\",\"dash\":\"solid\",\"shape\":\"spline\"},\"marker\":{\"symbol\":\"circle\"},\"mode\":\"lines\",\"name\":\"Europe\",\"orientation\":\"v\",\"showlegend\":false,\"x\":[1952,1957,1962,1967,1972,1977,1982,1987,1992,1997,2002,2007],\"xaxis\":\"x\",\"y\":[71.86,72.49,73.37,74.16,74.72,75.44,76.42,77.19,78.16,79.39,80.04,80.884],\"yaxis\":\"y\",\"type\":\"scatter\"},{\"hovertemplate\":\"continent=Europe\\u003cbr\\u003ecountry=Switzerland\\u003cbr\\u003eyear=%{x}\\u003cbr\\u003elifeExp=%{y}\\u003cextra\\u003e\\u003c\\u002fextra\\u003e\",\"legendgroup\":\"Europe\",\"line\":{\"color\":\"#DC3912\",\"dash\":\"solid\",\"shape\":\"spline\"},\"marker\":{\"symbol\":\"circle\"},\"mode\":\"lines\",\"name\":\"Europe\",\"orientation\":\"v\",\"showlegend\":false,\"x\":[1952,1957,1962,1967,1972,1977,1982,1987,1992,1997,2002,2007],\"xaxis\":\"x\",\"y\":[69.62,70.56,71.32,72.77,73.78,75.39,76.21,77.41,78.03,79.37,80.62,81.70100000000002],\"yaxis\":\"y\",\"type\":\"scatter\"},{\"hovertemplate\":\"continent=Europe\\u003cbr\\u003ecountry=Turkey\\u003cbr\\u003eyear=%{x}\\u003cbr\\u003elifeExp=%{y}\\u003cextra\\u003e\\u003c\\u002fextra\\u003e\",\"legendgroup\":\"Europe\",\"line\":{\"color\":\"#DC3912\",\"dash\":\"solid\",\"shape\":\"spline\"},\"marker\":{\"symbol\":\"circle\"},\"mode\":\"lines\",\"name\":\"Europe\",\"orientation\":\"v\",\"showlegend\":false,\"x\":[1952,1957,1962,1967,1972,1977,1982,1987,1992,1997,2002,2007],\"xaxis\":\"x\",\"y\":[43.585,48.07899999999999,52.098,54.33600000000001,57.005,59.507,61.036,63.108,66.146,68.835,70.845,71.777],\"yaxis\":\"y\",\"type\":\"scatter\"},{\"hovertemplate\":\"continent=Europe\\u003cbr\\u003ecountry=United Kingdom\\u003cbr\\u003eyear=%{x}\\u003cbr\\u003elifeExp=%{y}\\u003cextra\\u003e\\u003c\\u002fextra\\u003e\",\"legendgroup\":\"Europe\",\"line\":{\"color\":\"#DC3912\",\"dash\":\"solid\",\"shape\":\"spline\"},\"marker\":{\"symbol\":\"circle\"},\"mode\":\"lines\",\"name\":\"Europe\",\"orientation\":\"v\",\"showlegend\":false,\"x\":[1952,1957,1962,1967,1972,1977,1982,1987,1992,1997,2002,2007],\"xaxis\":\"x\",\"y\":[69.18,70.42,70.76,71.36,72.01,72.76,74.04,75.007,76.42,77.218,78.471,79.425],\"yaxis\":\"y\",\"type\":\"scatter\"},{\"hovertemplate\":\"continent=Africa\\u003cbr\\u003ecountry=Algeria\\u003cbr\\u003eyear=%{x}\\u003cbr\\u003elifeExp=%{y}\\u003cextra\\u003e\\u003c\\u002fextra\\u003e\",\"legendgroup\":\"Africa\",\"line\":{\"color\":\"#FF9900\",\"dash\":\"solid\",\"shape\":\"spline\"},\"marker\":{\"symbol\":\"circle\"},\"mode\":\"lines\",\"name\":\"Africa\",\"orientation\":\"v\",\"showlegend\":true,\"x\":[1952,1957,1962,1967,1972,1977,1982,1987,1992,1997,2002,2007],\"xaxis\":\"x\",\"y\":[43.077,45.685,48.303,51.407,54.518,58.014,61.368,65.79899999999999,67.744,69.152,70.994,72.301],\"yaxis\":\"y\",\"type\":\"scatter\"},{\"hovertemplate\":\"continent=Africa\\u003cbr\\u003ecountry=Angola\\u003cbr\\u003eyear=%{x}\\u003cbr\\u003elifeExp=%{y}\\u003cextra\\u003e\\u003c\\u002fextra\\u003e\",\"legendgroup\":\"Africa\",\"line\":{\"color\":\"#FF9900\",\"dash\":\"solid\",\"shape\":\"spline\"},\"marker\":{\"symbol\":\"circle\"},\"mode\":\"lines\",\"name\":\"Africa\",\"orientation\":\"v\",\"showlegend\":false,\"x\":[1952,1957,1962,1967,1972,1977,1982,1987,1992,1997,2002,2007],\"xaxis\":\"x\",\"y\":[30.015,31.999,34.0,35.985,37.928,39.483,39.942,39.906,40.647,40.963,41.003,42.731],\"yaxis\":\"y\",\"type\":\"scatter\"},{\"hovertemplate\":\"continent=Africa\\u003cbr\\u003ecountry=Benin\\u003cbr\\u003eyear=%{x}\\u003cbr\\u003elifeExp=%{y}\\u003cextra\\u003e\\u003c\\u002fextra\\u003e\",\"legendgroup\":\"Africa\",\"line\":{\"color\":\"#FF9900\",\"dash\":\"solid\",\"shape\":\"spline\"},\"marker\":{\"symbol\":\"circle\"},\"mode\":\"lines\",\"name\":\"Africa\",\"orientation\":\"v\",\"showlegend\":false,\"x\":[1952,1957,1962,1967,1972,1977,1982,1987,1992,1997,2002,2007],\"xaxis\":\"x\",\"y\":[38.223,40.358,42.618,44.885,47.014,49.19,50.904,52.337,53.919,54.777,54.40600000000001,56.728],\"yaxis\":\"y\",\"type\":\"scatter\"},{\"hovertemplate\":\"continent=Africa\\u003cbr\\u003ecountry=Botswana\\u003cbr\\u003eyear=%{x}\\u003cbr\\u003elifeExp=%{y}\\u003cextra\\u003e\\u003c\\u002fextra\\u003e\",\"legendgroup\":\"Africa\",\"line\":{\"color\":\"#FF9900\",\"dash\":\"solid\",\"shape\":\"spline\"},\"marker\":{\"symbol\":\"circle\"},\"mode\":\"lines\",\"name\":\"Africa\",\"orientation\":\"v\",\"showlegend\":false,\"x\":[1952,1957,1962,1967,1972,1977,1982,1987,1992,1997,2002,2007],\"xaxis\":\"x\",\"y\":[47.622,49.618,51.52,53.298,56.024,59.319,61.484,63.622,62.745,52.556,46.63399999999999,50.728],\"yaxis\":\"y\",\"type\":\"scatter\"},{\"hovertemplate\":\"continent=Africa\\u003cbr\\u003ecountry=Burkina Faso\\u003cbr\\u003eyear=%{x}\\u003cbr\\u003elifeExp=%{y}\\u003cextra\\u003e\\u003c\\u002fextra\\u003e\",\"legendgroup\":\"Africa\",\"line\":{\"color\":\"#FF9900\",\"dash\":\"solid\",\"shape\":\"spline\"},\"marker\":{\"symbol\":\"circle\"},\"mode\":\"lines\",\"name\":\"Africa\",\"orientation\":\"v\",\"showlegend\":false,\"x\":[1952,1957,1962,1967,1972,1977,1982,1987,1992,1997,2002,2007],\"xaxis\":\"x\",\"y\":[31.975,34.906,37.814,40.697,43.591,46.137,48.122,49.557,50.26,50.324,50.65,52.295],\"yaxis\":\"y\",\"type\":\"scatter\"},{\"hovertemplate\":\"continent=Africa\\u003cbr\\u003ecountry=Burundi\\u003cbr\\u003eyear=%{x}\\u003cbr\\u003elifeExp=%{y}\\u003cextra\\u003e\\u003c\\u002fextra\\u003e\",\"legendgroup\":\"Africa\",\"line\":{\"color\":\"#FF9900\",\"dash\":\"solid\",\"shape\":\"spline\"},\"marker\":{\"symbol\":\"circle\"},\"mode\":\"lines\",\"name\":\"Africa\",\"orientation\":\"v\",\"showlegend\":false,\"x\":[1952,1957,1962,1967,1972,1977,1982,1987,1992,1997,2002,2007],\"xaxis\":\"x\",\"y\":[39.031,40.533,42.045,43.548,44.057,45.91,47.471,48.21100000000001,44.736,45.326,47.36,49.58],\"yaxis\":\"y\",\"type\":\"scatter\"},{\"hovertemplate\":\"continent=Africa\\u003cbr\\u003ecountry=Cameroon\\u003cbr\\u003eyear=%{x}\\u003cbr\\u003elifeExp=%{y}\\u003cextra\\u003e\\u003c\\u002fextra\\u003e\",\"legendgroup\":\"Africa\",\"line\":{\"color\":\"#FF9900\",\"dash\":\"solid\",\"shape\":\"spline\"},\"marker\":{\"symbol\":\"circle\"},\"mode\":\"lines\",\"name\":\"Africa\",\"orientation\":\"v\",\"showlegend\":false,\"x\":[1952,1957,1962,1967,1972,1977,1982,1987,1992,1997,2002,2007],\"xaxis\":\"x\",\"y\":[38.523,40.428,42.643,44.799,47.049,49.355,52.96100000000001,54.985,54.31399999999999,52.199,49.856,50.43],\"yaxis\":\"y\",\"type\":\"scatter\"},{\"hovertemplate\":\"continent=Africa\\u003cbr\\u003ecountry=Central African Republic\\u003cbr\\u003eyear=%{x}\\u003cbr\\u003elifeExp=%{y}\\u003cextra\\u003e\\u003c\\u002fextra\\u003e\",\"legendgroup\":\"Africa\",\"line\":{\"color\":\"#FF9900\",\"dash\":\"solid\",\"shape\":\"spline\"},\"marker\":{\"symbol\":\"circle\"},\"mode\":\"lines\",\"name\":\"Africa\",\"orientation\":\"v\",\"showlegend\":false,\"x\":[1952,1957,1962,1967,1972,1977,1982,1987,1992,1997,2002,2007],\"xaxis\":\"x\",\"y\":[35.463,37.464,39.475,41.478,43.457,46.775,48.295,50.485,49.396,46.066,43.308,44.74100000000001],\"yaxis\":\"y\",\"type\":\"scatter\"},{\"hovertemplate\":\"continent=Africa\\u003cbr\\u003ecountry=Chad\\u003cbr\\u003eyear=%{x}\\u003cbr\\u003elifeExp=%{y}\\u003cextra\\u003e\\u003c\\u002fextra\\u003e\",\"legendgroup\":\"Africa\",\"line\":{\"color\":\"#FF9900\",\"dash\":\"solid\",\"shape\":\"spline\"},\"marker\":{\"symbol\":\"circle\"},\"mode\":\"lines\",\"name\":\"Africa\",\"orientation\":\"v\",\"showlegend\":false,\"x\":[1952,1957,1962,1967,1972,1977,1982,1987,1992,1997,2002,2007],\"xaxis\":\"x\",\"y\":[38.092,39.881,41.716,43.601000000000006,45.569,47.383,49.517,51.051,51.724,51.573,50.525,50.651],\"yaxis\":\"y\",\"type\":\"scatter\"},{\"hovertemplate\":\"continent=Africa\\u003cbr\\u003ecountry=Comoros\\u003cbr\\u003eyear=%{x}\\u003cbr\\u003elifeExp=%{y}\\u003cextra\\u003e\\u003c\\u002fextra\\u003e\",\"legendgroup\":\"Africa\",\"line\":{\"color\":\"#FF9900\",\"dash\":\"solid\",\"shape\":\"spline\"},\"marker\":{\"symbol\":\"circle\"},\"mode\":\"lines\",\"name\":\"Africa\",\"orientation\":\"v\",\"showlegend\":false,\"x\":[1952,1957,1962,1967,1972,1977,1982,1987,1992,1997,2002,2007],\"xaxis\":\"x\",\"y\":[40.715,42.46,44.467,46.472,48.944,50.93899999999999,52.933,54.926,57.93899999999999,60.66,62.974,65.152],\"yaxis\":\"y\",\"type\":\"scatter\"},{\"hovertemplate\":\"continent=Africa\\u003cbr\\u003ecountry=Congo, Dem. Rep.\\u003cbr\\u003eyear=%{x}\\u003cbr\\u003elifeExp=%{y}\\u003cextra\\u003e\\u003c\\u002fextra\\u003e\",\"legendgroup\":\"Africa\",\"line\":{\"color\":\"#FF9900\",\"dash\":\"solid\",\"shape\":\"spline\"},\"marker\":{\"symbol\":\"circle\"},\"mode\":\"lines\",\"name\":\"Africa\",\"orientation\":\"v\",\"showlegend\":false,\"x\":[1952,1957,1962,1967,1972,1977,1982,1987,1992,1997,2002,2007],\"xaxis\":\"x\",\"y\":[39.143,40.652,42.122,44.056,45.989,47.804,47.784,47.412,45.548,42.587,44.966,46.462],\"yaxis\":\"y\",\"type\":\"scatter\"},{\"hovertemplate\":\"continent=Africa\\u003cbr\\u003ecountry=Congo, Rep.\\u003cbr\\u003eyear=%{x}\\u003cbr\\u003elifeExp=%{y}\\u003cextra\\u003e\\u003c\\u002fextra\\u003e\",\"legendgroup\":\"Africa\",\"line\":{\"color\":\"#FF9900\",\"dash\":\"solid\",\"shape\":\"spline\"},\"marker\":{\"symbol\":\"circle\"},\"mode\":\"lines\",\"name\":\"Africa\",\"orientation\":\"v\",\"showlegend\":false,\"x\":[1952,1957,1962,1967,1972,1977,1982,1987,1992,1997,2002,2007],\"xaxis\":\"x\",\"y\":[42.111,45.053,48.435,52.04,54.907,55.625,56.695,57.47,56.433,52.962,52.97,55.322],\"yaxis\":\"y\",\"type\":\"scatter\"},{\"hovertemplate\":\"continent=Africa\\u003cbr\\u003ecountry=Cote d'Ivoire\\u003cbr\\u003eyear=%{x}\\u003cbr\\u003elifeExp=%{y}\\u003cextra\\u003e\\u003c\\u002fextra\\u003e\",\"legendgroup\":\"Africa\",\"line\":{\"color\":\"#FF9900\",\"dash\":\"solid\",\"shape\":\"spline\"},\"marker\":{\"symbol\":\"circle\"},\"mode\":\"lines\",\"name\":\"Africa\",\"orientation\":\"v\",\"showlegend\":false,\"x\":[1952,1957,1962,1967,1972,1977,1982,1987,1992,1997,2002,2007],\"xaxis\":\"x\",\"y\":[40.477,42.469,44.93,47.35,49.801,52.374,53.983,54.655,52.044,47.99100000000001,46.832,48.328],\"yaxis\":\"y\",\"type\":\"scatter\"},{\"hovertemplate\":\"continent=Africa\\u003cbr\\u003ecountry=Djibouti\\u003cbr\\u003eyear=%{x}\\u003cbr\\u003elifeExp=%{y}\\u003cextra\\u003e\\u003c\\u002fextra\\u003e\",\"legendgroup\":\"Africa\",\"line\":{\"color\":\"#FF9900\",\"dash\":\"solid\",\"shape\":\"spline\"},\"marker\":{\"symbol\":\"circle\"},\"mode\":\"lines\",\"name\":\"Africa\",\"orientation\":\"v\",\"showlegend\":false,\"x\":[1952,1957,1962,1967,1972,1977,1982,1987,1992,1997,2002,2007],\"xaxis\":\"x\",\"y\":[34.812,37.328,39.69300000000001,42.074,44.36600000000001,46.519,48.812,50.04,51.604,53.157,53.37300000000001,54.791],\"yaxis\":\"y\",\"type\":\"scatter\"},{\"hovertemplate\":\"continent=Africa\\u003cbr\\u003ecountry=Egypt\\u003cbr\\u003eyear=%{x}\\u003cbr\\u003elifeExp=%{y}\\u003cextra\\u003e\\u003c\\u002fextra\\u003e\",\"legendgroup\":\"Africa\",\"line\":{\"color\":\"#FF9900\",\"dash\":\"solid\",\"shape\":\"spline\"},\"marker\":{\"symbol\":\"circle\"},\"mode\":\"lines\",\"name\":\"Africa\",\"orientation\":\"v\",\"showlegend\":false,\"x\":[1952,1957,1962,1967,1972,1977,1982,1987,1992,1997,2002,2007],\"xaxis\":\"x\",\"y\":[41.893,44.444,46.992,49.293,51.137,53.319,56.006,59.797,63.674,67.217,69.806,71.33800000000002],\"yaxis\":\"y\",\"type\":\"scatter\"},{\"hovertemplate\":\"continent=Africa\\u003cbr\\u003ecountry=Equatorial Guinea\\u003cbr\\u003eyear=%{x}\\u003cbr\\u003elifeExp=%{y}\\u003cextra\\u003e\\u003c\\u002fextra\\u003e\",\"legendgroup\":\"Africa\",\"line\":{\"color\":\"#FF9900\",\"dash\":\"solid\",\"shape\":\"spline\"},\"marker\":{\"symbol\":\"circle\"},\"mode\":\"lines\",\"name\":\"Africa\",\"orientation\":\"v\",\"showlegend\":false,\"x\":[1952,1957,1962,1967,1972,1977,1982,1987,1992,1997,2002,2007],\"xaxis\":\"x\",\"y\":[34.482,35.98300000000001,37.485,38.987,40.516,42.024,43.662,45.664,47.545,48.245,49.348,51.57899999999999],\"yaxis\":\"y\",\"type\":\"scatter\"},{\"hovertemplate\":\"continent=Africa\\u003cbr\\u003ecountry=Eritrea\\u003cbr\\u003eyear=%{x}\\u003cbr\\u003elifeExp=%{y}\\u003cextra\\u003e\\u003c\\u002fextra\\u003e\",\"legendgroup\":\"Africa\",\"line\":{\"color\":\"#FF9900\",\"dash\":\"solid\",\"shape\":\"spline\"},\"marker\":{\"symbol\":\"circle\"},\"mode\":\"lines\",\"name\":\"Africa\",\"orientation\":\"v\",\"showlegend\":false,\"x\":[1952,1957,1962,1967,1972,1977,1982,1987,1992,1997,2002,2007],\"xaxis\":\"x\",\"y\":[35.92800000000001,38.047,40.158,42.18899999999999,44.142,44.535,43.89,46.453,49.99100000000001,53.378,55.24,58.04],\"yaxis\":\"y\",\"type\":\"scatter\"},{\"hovertemplate\":\"continent=Africa\\u003cbr\\u003ecountry=Ethiopia\\u003cbr\\u003eyear=%{x}\\u003cbr\\u003elifeExp=%{y}\\u003cextra\\u003e\\u003c\\u002fextra\\u003e\",\"legendgroup\":\"Africa\",\"line\":{\"color\":\"#FF9900\",\"dash\":\"solid\",\"shape\":\"spline\"},\"marker\":{\"symbol\":\"circle\"},\"mode\":\"lines\",\"name\":\"Africa\",\"orientation\":\"v\",\"showlegend\":false,\"x\":[1952,1957,1962,1967,1972,1977,1982,1987,1992,1997,2002,2007],\"xaxis\":\"x\",\"y\":[34.078,36.667,40.059,42.115,43.515,44.51,44.916,46.684,48.091,49.402,50.725,52.947],\"yaxis\":\"y\",\"type\":\"scatter\"},{\"hovertemplate\":\"continent=Africa\\u003cbr\\u003ecountry=Gabon\\u003cbr\\u003eyear=%{x}\\u003cbr\\u003elifeExp=%{y}\\u003cextra\\u003e\\u003c\\u002fextra\\u003e\",\"legendgroup\":\"Africa\",\"line\":{\"color\":\"#FF9900\",\"dash\":\"solid\",\"shape\":\"spline\"},\"marker\":{\"symbol\":\"circle\"},\"mode\":\"lines\",\"name\":\"Africa\",\"orientation\":\"v\",\"showlegend\":false,\"x\":[1952,1957,1962,1967,1972,1977,1982,1987,1992,1997,2002,2007],\"xaxis\":\"x\",\"y\":[37.003,38.999,40.489,44.598,48.69,52.79,56.56399999999999,60.19,61.36600000000001,60.46100000000001,56.761,56.735],\"yaxis\":\"y\",\"type\":\"scatter\"},{\"hovertemplate\":\"continent=Africa\\u003cbr\\u003ecountry=Gambia\\u003cbr\\u003eyear=%{x}\\u003cbr\\u003elifeExp=%{y}\\u003cextra\\u003e\\u003c\\u002fextra\\u003e\",\"legendgroup\":\"Africa\",\"line\":{\"color\":\"#FF9900\",\"dash\":\"solid\",\"shape\":\"spline\"},\"marker\":{\"symbol\":\"circle\"},\"mode\":\"lines\",\"name\":\"Africa\",\"orientation\":\"v\",\"showlegend\":false,\"x\":[1952,1957,1962,1967,1972,1977,1982,1987,1992,1997,2002,2007],\"xaxis\":\"x\",\"y\":[30.0,32.065,33.896,35.857,38.308,41.842,45.58,49.265,52.644,55.861,58.041,59.448],\"yaxis\":\"y\",\"type\":\"scatter\"},{\"hovertemplate\":\"continent=Africa\\u003cbr\\u003ecountry=Ghana\\u003cbr\\u003eyear=%{x}\\u003cbr\\u003elifeExp=%{y}\\u003cextra\\u003e\\u003c\\u002fextra\\u003e\",\"legendgroup\":\"Africa\",\"line\":{\"color\":\"#FF9900\",\"dash\":\"solid\",\"shape\":\"spline\"},\"marker\":{\"symbol\":\"circle\"},\"mode\":\"lines\",\"name\":\"Africa\",\"orientation\":\"v\",\"showlegend\":false,\"x\":[1952,1957,1962,1967,1972,1977,1982,1987,1992,1997,2002,2007],\"xaxis\":\"x\",\"y\":[43.149,44.779,46.452,48.072,49.875,51.756,53.744,55.729,57.50100000000001,58.556,58.453,60.022],\"yaxis\":\"y\",\"type\":\"scatter\"},{\"hovertemplate\":\"continent=Africa\\u003cbr\\u003ecountry=Guinea\\u003cbr\\u003eyear=%{x}\\u003cbr\\u003elifeExp=%{y}\\u003cextra\\u003e\\u003c\\u002fextra\\u003e\",\"legendgroup\":\"Africa\",\"line\":{\"color\":\"#FF9900\",\"dash\":\"solid\",\"shape\":\"spline\"},\"marker\":{\"symbol\":\"circle\"},\"mode\":\"lines\",\"name\":\"Africa\",\"orientation\":\"v\",\"showlegend\":false,\"x\":[1952,1957,1962,1967,1972,1977,1982,1987,1992,1997,2002,2007],\"xaxis\":\"x\",\"y\":[33.609,34.558,35.753,37.197,38.842,40.762,42.89100000000001,45.552,48.576,51.455,53.676,56.007],\"yaxis\":\"y\",\"type\":\"scatter\"},{\"hovertemplate\":\"continent=Africa\\u003cbr\\u003ecountry=Guinea-Bissau\\u003cbr\\u003eyear=%{x}\\u003cbr\\u003elifeExp=%{y}\\u003cextra\\u003e\\u003c\\u002fextra\\u003e\",\"legendgroup\":\"Africa\",\"line\":{\"color\":\"#FF9900\",\"dash\":\"solid\",\"shape\":\"spline\"},\"marker\":{\"symbol\":\"circle\"},\"mode\":\"lines\",\"name\":\"Africa\",\"orientation\":\"v\",\"showlegend\":false,\"x\":[1952,1957,1962,1967,1972,1977,1982,1987,1992,1997,2002,2007],\"xaxis\":\"x\",\"y\":[32.5,33.489000000000004,34.488,35.492,36.486,37.465,39.327,41.245,43.26600000000001,44.87300000000001,45.504,46.38800000000001],\"yaxis\":\"y\",\"type\":\"scatter\"},{\"hovertemplate\":\"continent=Africa\\u003cbr\\u003ecountry=Kenya\\u003cbr\\u003eyear=%{x}\\u003cbr\\u003elifeExp=%{y}\\u003cextra\\u003e\\u003c\\u002fextra\\u003e\",\"legendgroup\":\"Africa\",\"line\":{\"color\":\"#FF9900\",\"dash\":\"solid\",\"shape\":\"spline\"},\"marker\":{\"symbol\":\"circle\"},\"mode\":\"lines\",\"name\":\"Africa\",\"orientation\":\"v\",\"showlegend\":false,\"x\":[1952,1957,1962,1967,1972,1977,1982,1987,1992,1997,2002,2007],\"xaxis\":\"x\",\"y\":[42.27,44.68600000000001,47.949,50.654,53.559,56.155,58.76600000000001,59.339,59.285,54.407,50.992,54.11],\"yaxis\":\"y\",\"type\":\"scatter\"},{\"hovertemplate\":\"continent=Africa\\u003cbr\\u003ecountry=Lesotho\\u003cbr\\u003eyear=%{x}\\u003cbr\\u003elifeExp=%{y}\\u003cextra\\u003e\\u003c\\u002fextra\\u003e\",\"legendgroup\":\"Africa\",\"line\":{\"color\":\"#FF9900\",\"dash\":\"solid\",\"shape\":\"spline\"},\"marker\":{\"symbol\":\"circle\"},\"mode\":\"lines\",\"name\":\"Africa\",\"orientation\":\"v\",\"showlegend\":false,\"x\":[1952,1957,1962,1967,1972,1977,1982,1987,1992,1997,2002,2007],\"xaxis\":\"x\",\"y\":[42.13800000000001,45.047,47.747,48.492,49.767,52.208,55.078,57.18,59.685,55.558,44.593,42.592],\"yaxis\":\"y\",\"type\":\"scatter\"},{\"hovertemplate\":\"continent=Africa\\u003cbr\\u003ecountry=Liberia\\u003cbr\\u003eyear=%{x}\\u003cbr\\u003elifeExp=%{y}\\u003cextra\\u003e\\u003c\\u002fextra\\u003e\",\"legendgroup\":\"Africa\",\"line\":{\"color\":\"#FF9900\",\"dash\":\"solid\",\"shape\":\"spline\"},\"marker\":{\"symbol\":\"circle\"},\"mode\":\"lines\",\"name\":\"Africa\",\"orientation\":\"v\",\"showlegend\":false,\"x\":[1952,1957,1962,1967,1972,1977,1982,1987,1992,1997,2002,2007],\"xaxis\":\"x\",\"y\":[38.48,39.486,40.502,41.536,42.614,43.764,44.852,46.027,40.802,42.221,43.753,45.678],\"yaxis\":\"y\",\"type\":\"scatter\"},{\"hovertemplate\":\"continent=Africa\\u003cbr\\u003ecountry=Libya\\u003cbr\\u003eyear=%{x}\\u003cbr\\u003elifeExp=%{y}\\u003cextra\\u003e\\u003c\\u002fextra\\u003e\",\"legendgroup\":\"Africa\",\"line\":{\"color\":\"#FF9900\",\"dash\":\"solid\",\"shape\":\"spline\"},\"marker\":{\"symbol\":\"circle\"},\"mode\":\"lines\",\"name\":\"Africa\",\"orientation\":\"v\",\"showlegend\":false,\"x\":[1952,1957,1962,1967,1972,1977,1982,1987,1992,1997,2002,2007],\"xaxis\":\"x\",\"y\":[42.723,45.289,47.808,50.227,52.773,57.442,62.155,66.234,68.755,71.555,72.737,73.952],\"yaxis\":\"y\",\"type\":\"scatter\"},{\"hovertemplate\":\"continent=Africa\\u003cbr\\u003ecountry=Madagascar\\u003cbr\\u003eyear=%{x}\\u003cbr\\u003elifeExp=%{y}\\u003cextra\\u003e\\u003c\\u002fextra\\u003e\",\"legendgroup\":\"Africa\",\"line\":{\"color\":\"#FF9900\",\"dash\":\"solid\",\"shape\":\"spline\"},\"marker\":{\"symbol\":\"circle\"},\"mode\":\"lines\",\"name\":\"Africa\",\"orientation\":\"v\",\"showlegend\":false,\"x\":[1952,1957,1962,1967,1972,1977,1982,1987,1992,1997,2002,2007],\"xaxis\":\"x\",\"y\":[36.681,38.865,40.848,42.881,44.851000000000006,46.881,48.969,49.35,52.214,54.978,57.286,59.44300000000001],\"yaxis\":\"y\",\"type\":\"scatter\"},{\"hovertemplate\":\"continent=Africa\\u003cbr\\u003ecountry=Malawi\\u003cbr\\u003eyear=%{x}\\u003cbr\\u003elifeExp=%{y}\\u003cextra\\u003e\\u003c\\u002fextra\\u003e\",\"legendgroup\":\"Africa\",\"line\":{\"color\":\"#FF9900\",\"dash\":\"solid\",\"shape\":\"spline\"},\"marker\":{\"symbol\":\"circle\"},\"mode\":\"lines\",\"name\":\"Africa\",\"orientation\":\"v\",\"showlegend\":false,\"x\":[1952,1957,1962,1967,1972,1977,1982,1987,1992,1997,2002,2007],\"xaxis\":\"x\",\"y\":[36.256,37.207,38.41,39.487,41.76600000000001,43.767,45.642,47.457,49.42,47.495,45.00899999999999,48.303],\"yaxis\":\"y\",\"type\":\"scatter\"},{\"hovertemplate\":\"continent=Africa\\u003cbr\\u003ecountry=Mali\\u003cbr\\u003eyear=%{x}\\u003cbr\\u003elifeExp=%{y}\\u003cextra\\u003e\\u003c\\u002fextra\\u003e\",\"legendgroup\":\"Africa\",\"line\":{\"color\":\"#FF9900\",\"dash\":\"solid\",\"shape\":\"spline\"},\"marker\":{\"symbol\":\"circle\"},\"mode\":\"lines\",\"name\":\"Africa\",\"orientation\":\"v\",\"showlegend\":false,\"x\":[1952,1957,1962,1967,1972,1977,1982,1987,1992,1997,2002,2007],\"xaxis\":\"x\",\"y\":[33.685,35.30699999999999,36.936,38.487,39.977,41.714,43.916,46.364,48.38800000000001,49.903,51.81800000000001,54.467],\"yaxis\":\"y\",\"type\":\"scatter\"},{\"hovertemplate\":\"continent=Africa\\u003cbr\\u003ecountry=Mauritania\\u003cbr\\u003eyear=%{x}\\u003cbr\\u003elifeExp=%{y}\\u003cextra\\u003e\\u003c\\u002fextra\\u003e\",\"legendgroup\":\"Africa\",\"line\":{\"color\":\"#FF9900\",\"dash\":\"solid\",\"shape\":\"spline\"},\"marker\":{\"symbol\":\"circle\"},\"mode\":\"lines\",\"name\":\"Africa\",\"orientation\":\"v\",\"showlegend\":false,\"x\":[1952,1957,1962,1967,1972,1977,1982,1987,1992,1997,2002,2007],\"xaxis\":\"x\",\"y\":[40.543,42.338,44.24800000000001,46.289,48.437,50.852,53.599,56.145,58.333,60.43,62.247,64.164],\"yaxis\":\"y\",\"type\":\"scatter\"},{\"hovertemplate\":\"continent=Africa\\u003cbr\\u003ecountry=Mauritius\\u003cbr\\u003eyear=%{x}\\u003cbr\\u003elifeExp=%{y}\\u003cextra\\u003e\\u003c\\u002fextra\\u003e\",\"legendgroup\":\"Africa\",\"line\":{\"color\":\"#FF9900\",\"dash\":\"solid\",\"shape\":\"spline\"},\"marker\":{\"symbol\":\"circle\"},\"mode\":\"lines\",\"name\":\"Africa\",\"orientation\":\"v\",\"showlegend\":false,\"x\":[1952,1957,1962,1967,1972,1977,1982,1987,1992,1997,2002,2007],\"xaxis\":\"x\",\"y\":[50.986,58.089,60.246,61.557,62.944,64.93,66.711,68.74,69.745,70.736,71.954,72.801],\"yaxis\":\"y\",\"type\":\"scatter\"},{\"hovertemplate\":\"continent=Africa\\u003cbr\\u003ecountry=Morocco\\u003cbr\\u003eyear=%{x}\\u003cbr\\u003elifeExp=%{y}\\u003cextra\\u003e\\u003c\\u002fextra\\u003e\",\"legendgroup\":\"Africa\",\"line\":{\"color\":\"#FF9900\",\"dash\":\"solid\",\"shape\":\"spline\"},\"marker\":{\"symbol\":\"circle\"},\"mode\":\"lines\",\"name\":\"Africa\",\"orientation\":\"v\",\"showlegend\":false,\"x\":[1952,1957,1962,1967,1972,1977,1982,1987,1992,1997,2002,2007],\"xaxis\":\"x\",\"y\":[42.87300000000001,45.423,47.924,50.335,52.862,55.73,59.65,62.677,65.393,67.66,69.615,71.164],\"yaxis\":\"y\",\"type\":\"scatter\"},{\"hovertemplate\":\"continent=Africa\\u003cbr\\u003ecountry=Mozambique\\u003cbr\\u003eyear=%{x}\\u003cbr\\u003elifeExp=%{y}\\u003cextra\\u003e\\u003c\\u002fextra\\u003e\",\"legendgroup\":\"Africa\",\"line\":{\"color\":\"#FF9900\",\"dash\":\"solid\",\"shape\":\"spline\"},\"marker\":{\"symbol\":\"circle\"},\"mode\":\"lines\",\"name\":\"Africa\",\"orientation\":\"v\",\"showlegend\":false,\"x\":[1952,1957,1962,1967,1972,1977,1982,1987,1992,1997,2002,2007],\"xaxis\":\"x\",\"y\":[31.286,33.779,36.161,38.113,40.328,42.495,42.795,42.861,44.284,46.344,44.026,42.082],\"yaxis\":\"y\",\"type\":\"scatter\"},{\"hovertemplate\":\"continent=Africa\\u003cbr\\u003ecountry=Namibia\\u003cbr\\u003eyear=%{x}\\u003cbr\\u003elifeExp=%{y}\\u003cextra\\u003e\\u003c\\u002fextra\\u003e\",\"legendgroup\":\"Africa\",\"line\":{\"color\":\"#FF9900\",\"dash\":\"solid\",\"shape\":\"spline\"},\"marker\":{\"symbol\":\"circle\"},\"mode\":\"lines\",\"name\":\"Africa\",\"orientation\":\"v\",\"showlegend\":false,\"x\":[1952,1957,1962,1967,1972,1977,1982,1987,1992,1997,2002,2007],\"xaxis\":\"x\",\"y\":[41.725,45.226000000000006,48.386,51.159,53.867,56.437,58.968,60.835,61.999,58.909,51.479,52.90600000000001],\"yaxis\":\"y\",\"type\":\"scatter\"},{\"hovertemplate\":\"continent=Africa\\u003cbr\\u003ecountry=Niger\\u003cbr\\u003eyear=%{x}\\u003cbr\\u003elifeExp=%{y}\\u003cextra\\u003e\\u003c\\u002fextra\\u003e\",\"legendgroup\":\"Africa\",\"line\":{\"color\":\"#FF9900\",\"dash\":\"solid\",\"shape\":\"spline\"},\"marker\":{\"symbol\":\"circle\"},\"mode\":\"lines\",\"name\":\"Africa\",\"orientation\":\"v\",\"showlegend\":false,\"x\":[1952,1957,1962,1967,1972,1977,1982,1987,1992,1997,2002,2007],\"xaxis\":\"x\",\"y\":[37.444,38.598,39.487,40.118,40.546,41.291,42.598,44.555,47.39100000000001,51.313,54.496,56.867],\"yaxis\":\"y\",\"type\":\"scatter\"},{\"hovertemplate\":\"continent=Africa\\u003cbr\\u003ecountry=Nigeria\\u003cbr\\u003eyear=%{x}\\u003cbr\\u003elifeExp=%{y}\\u003cextra\\u003e\\u003c\\u002fextra\\u003e\",\"legendgroup\":\"Africa\",\"line\":{\"color\":\"#FF9900\",\"dash\":\"solid\",\"shape\":\"spline\"},\"marker\":{\"symbol\":\"circle\"},\"mode\":\"lines\",\"name\":\"Africa\",\"orientation\":\"v\",\"showlegend\":false,\"x\":[1952,1957,1962,1967,1972,1977,1982,1987,1992,1997,2002,2007],\"xaxis\":\"x\",\"y\":[36.324,37.802,39.36,41.04,42.82100000000001,44.514,45.826,46.886,47.472,47.464,46.608,46.859],\"yaxis\":\"y\",\"type\":\"scatter\"},{\"hovertemplate\":\"continent=Africa\\u003cbr\\u003ecountry=Reunion\\u003cbr\\u003eyear=%{x}\\u003cbr\\u003elifeExp=%{y}\\u003cextra\\u003e\\u003c\\u002fextra\\u003e\",\"legendgroup\":\"Africa\",\"line\":{\"color\":\"#FF9900\",\"dash\":\"solid\",\"shape\":\"spline\"},\"marker\":{\"symbol\":\"circle\"},\"mode\":\"lines\",\"name\":\"Africa\",\"orientation\":\"v\",\"showlegend\":false,\"x\":[1952,1957,1962,1967,1972,1977,1982,1987,1992,1997,2002,2007],\"xaxis\":\"x\",\"y\":[52.724,55.09,57.666,60.542,64.274,67.064,69.885,71.913,73.615,74.77199999999998,75.744,76.442],\"yaxis\":\"y\",\"type\":\"scatter\"},{\"hovertemplate\":\"continent=Africa\\u003cbr\\u003ecountry=Rwanda\\u003cbr\\u003eyear=%{x}\\u003cbr\\u003elifeExp=%{y}\\u003cextra\\u003e\\u003c\\u002fextra\\u003e\",\"legendgroup\":\"Africa\",\"line\":{\"color\":\"#FF9900\",\"dash\":\"solid\",\"shape\":\"spline\"},\"marker\":{\"symbol\":\"circle\"},\"mode\":\"lines\",\"name\":\"Africa\",\"orientation\":\"v\",\"showlegend\":false,\"x\":[1952,1957,1962,1967,1972,1977,1982,1987,1992,1997,2002,2007],\"xaxis\":\"x\",\"y\":[40.0,41.5,43.0,44.1,44.6,45.0,46.218,44.02,23.599,36.087,43.413,46.242],\"yaxis\":\"y\",\"type\":\"scatter\"},{\"hovertemplate\":\"continent=Africa\\u003cbr\\u003ecountry=Sao Tome and Principe\\u003cbr\\u003eyear=%{x}\\u003cbr\\u003elifeExp=%{y}\\u003cextra\\u003e\\u003c\\u002fextra\\u003e\",\"legendgroup\":\"Africa\",\"line\":{\"color\":\"#FF9900\",\"dash\":\"solid\",\"shape\":\"spline\"},\"marker\":{\"symbol\":\"circle\"},\"mode\":\"lines\",\"name\":\"Africa\",\"orientation\":\"v\",\"showlegend\":false,\"x\":[1952,1957,1962,1967,1972,1977,1982,1987,1992,1997,2002,2007],\"xaxis\":\"x\",\"y\":[46.471,48.945,51.893,54.425,56.48,58.55,60.351000000000006,61.728,62.742,63.306,64.337,65.528],\"yaxis\":\"y\",\"type\":\"scatter\"},{\"hovertemplate\":\"continent=Africa\\u003cbr\\u003ecountry=Senegal\\u003cbr\\u003eyear=%{x}\\u003cbr\\u003elifeExp=%{y}\\u003cextra\\u003e\\u003c\\u002fextra\\u003e\",\"legendgroup\":\"Africa\",\"line\":{\"color\":\"#FF9900\",\"dash\":\"solid\",\"shape\":\"spline\"},\"marker\":{\"symbol\":\"circle\"},\"mode\":\"lines\",\"name\":\"Africa\",\"orientation\":\"v\",\"showlegend\":false,\"x\":[1952,1957,1962,1967,1972,1977,1982,1987,1992,1997,2002,2007],\"xaxis\":\"x\",\"y\":[37.278,39.329,41.45399999999999,43.563,45.815,48.879,52.379,55.769,58.19600000000001,60.187,61.6,63.062],\"yaxis\":\"y\",\"type\":\"scatter\"},{\"hovertemplate\":\"continent=Africa\\u003cbr\\u003ecountry=Sierra Leone\\u003cbr\\u003eyear=%{x}\\u003cbr\\u003elifeExp=%{y}\\u003cextra\\u003e\\u003c\\u002fextra\\u003e\",\"legendgroup\":\"Africa\",\"line\":{\"color\":\"#FF9900\",\"dash\":\"solid\",\"shape\":\"spline\"},\"marker\":{\"symbol\":\"circle\"},\"mode\":\"lines\",\"name\":\"Africa\",\"orientation\":\"v\",\"showlegend\":false,\"x\":[1952,1957,1962,1967,1972,1977,1982,1987,1992,1997,2002,2007],\"xaxis\":\"x\",\"y\":[30.331,31.57,32.767,34.113,35.4,36.788,38.445,40.006,38.333,39.897,41.012,42.56800000000001],\"yaxis\":\"y\",\"type\":\"scatter\"},{\"hovertemplate\":\"continent=Africa\\u003cbr\\u003ecountry=Somalia\\u003cbr\\u003eyear=%{x}\\u003cbr\\u003elifeExp=%{y}\\u003cextra\\u003e\\u003c\\u002fextra\\u003e\",\"legendgroup\":\"Africa\",\"line\":{\"color\":\"#FF9900\",\"dash\":\"solid\",\"shape\":\"spline\"},\"marker\":{\"symbol\":\"circle\"},\"mode\":\"lines\",\"name\":\"Africa\",\"orientation\":\"v\",\"showlegend\":false,\"x\":[1952,1957,1962,1967,1972,1977,1982,1987,1992,1997,2002,2007],\"xaxis\":\"x\",\"y\":[32.978,34.977,36.981,38.977,40.973,41.974,42.955,44.50100000000001,39.658,43.795,45.93600000000001,48.159],\"yaxis\":\"y\",\"type\":\"scatter\"},{\"hovertemplate\":\"continent=Africa\\u003cbr\\u003ecountry=South Africa\\u003cbr\\u003eyear=%{x}\\u003cbr\\u003elifeExp=%{y}\\u003cextra\\u003e\\u003c\\u002fextra\\u003e\",\"legendgroup\":\"Africa\",\"line\":{\"color\":\"#FF9900\",\"dash\":\"solid\",\"shape\":\"spline\"},\"marker\":{\"symbol\":\"circle\"},\"mode\":\"lines\",\"name\":\"Africa\",\"orientation\":\"v\",\"showlegend\":false,\"x\":[1952,1957,1962,1967,1972,1977,1982,1987,1992,1997,2002,2007],\"xaxis\":\"x\",\"y\":[45.00899999999999,47.985,49.951,51.927,53.69600000000001,55.527,58.161,60.834,61.88800000000001,60.236,53.365,49.339],\"yaxis\":\"y\",\"type\":\"scatter\"},{\"hovertemplate\":\"continent=Africa\\u003cbr\\u003ecountry=Sudan\\u003cbr\\u003eyear=%{x}\\u003cbr\\u003elifeExp=%{y}\\u003cextra\\u003e\\u003c\\u002fextra\\u003e\",\"legendgroup\":\"Africa\",\"line\":{\"color\":\"#FF9900\",\"dash\":\"solid\",\"shape\":\"spline\"},\"marker\":{\"symbol\":\"circle\"},\"mode\":\"lines\",\"name\":\"Africa\",\"orientation\":\"v\",\"showlegend\":false,\"x\":[1952,1957,1962,1967,1972,1977,1982,1987,1992,1997,2002,2007],\"xaxis\":\"x\",\"y\":[38.635,39.624,40.87,42.858,45.083,47.8,50.338,51.744,53.556,55.37300000000001,56.369,58.556],\"yaxis\":\"y\",\"type\":\"scatter\"},{\"hovertemplate\":\"continent=Africa\\u003cbr\\u003ecountry=Swaziland\\u003cbr\\u003eyear=%{x}\\u003cbr\\u003elifeExp=%{y}\\u003cextra\\u003e\\u003c\\u002fextra\\u003e\",\"legendgroup\":\"Africa\",\"line\":{\"color\":\"#FF9900\",\"dash\":\"solid\",\"shape\":\"spline\"},\"marker\":{\"symbol\":\"circle\"},\"mode\":\"lines\",\"name\":\"Africa\",\"orientation\":\"v\",\"showlegend\":false,\"x\":[1952,1957,1962,1967,1972,1977,1982,1987,1992,1997,2002,2007],\"xaxis\":\"x\",\"y\":[41.407,43.424,44.992,46.633,49.552,52.537,55.56100000000001,57.678,58.474,54.289,43.869,39.613],\"yaxis\":\"y\",\"type\":\"scatter\"},{\"hovertemplate\":\"continent=Africa\\u003cbr\\u003ecountry=Tanzania\\u003cbr\\u003eyear=%{x}\\u003cbr\\u003elifeExp=%{y}\\u003cextra\\u003e\\u003c\\u002fextra\\u003e\",\"legendgroup\":\"Africa\",\"line\":{\"color\":\"#FF9900\",\"dash\":\"solid\",\"shape\":\"spline\"},\"marker\":{\"symbol\":\"circle\"},\"mode\":\"lines\",\"name\":\"Africa\",\"orientation\":\"v\",\"showlegend\":false,\"x\":[1952,1957,1962,1967,1972,1977,1982,1987,1992,1997,2002,2007],\"xaxis\":\"x\",\"y\":[41.215,42.974,44.246,45.757,47.62,49.919,50.608,51.535,50.44,48.466,49.651,52.517],\"yaxis\":\"y\",\"type\":\"scatter\"},{\"hovertemplate\":\"continent=Africa\\u003cbr\\u003ecountry=Togo\\u003cbr\\u003eyear=%{x}\\u003cbr\\u003elifeExp=%{y}\\u003cextra\\u003e\\u003c\\u002fextra\\u003e\",\"legendgroup\":\"Africa\",\"line\":{\"color\":\"#FF9900\",\"dash\":\"solid\",\"shape\":\"spline\"},\"marker\":{\"symbol\":\"circle\"},\"mode\":\"lines\",\"name\":\"Africa\",\"orientation\":\"v\",\"showlegend\":false,\"x\":[1952,1957,1962,1967,1972,1977,1982,1987,1992,1997,2002,2007],\"xaxis\":\"x\",\"y\":[38.596,41.208,43.922,46.769,49.75899999999999,52.887,55.471,56.941,58.06100000000001,58.39,57.56100000000001,58.42],\"yaxis\":\"y\",\"type\":\"scatter\"},{\"hovertemplate\":\"continent=Africa\\u003cbr\\u003ecountry=Tunisia\\u003cbr\\u003eyear=%{x}\\u003cbr\\u003elifeExp=%{y}\\u003cextra\\u003e\\u003c\\u002fextra\\u003e\",\"legendgroup\":\"Africa\",\"line\":{\"color\":\"#FF9900\",\"dash\":\"solid\",\"shape\":\"spline\"},\"marker\":{\"symbol\":\"circle\"},\"mode\":\"lines\",\"name\":\"Africa\",\"orientation\":\"v\",\"showlegend\":false,\"x\":[1952,1957,1962,1967,1972,1977,1982,1987,1992,1997,2002,2007],\"xaxis\":\"x\",\"y\":[44.6,47.1,49.57899999999999,52.053,55.602,59.837,64.048,66.89399999999999,70.001,71.973,73.042,73.923],\"yaxis\":\"y\",\"type\":\"scatter\"},{\"hovertemplate\":\"continent=Africa\\u003cbr\\u003ecountry=Uganda\\u003cbr\\u003eyear=%{x}\\u003cbr\\u003elifeExp=%{y}\\u003cextra\\u003e\\u003c\\u002fextra\\u003e\",\"legendgroup\":\"Africa\",\"line\":{\"color\":\"#FF9900\",\"dash\":\"solid\",\"shape\":\"spline\"},\"marker\":{\"symbol\":\"circle\"},\"mode\":\"lines\",\"name\":\"Africa\",\"orientation\":\"v\",\"showlegend\":false,\"x\":[1952,1957,1962,1967,1972,1977,1982,1987,1992,1997,2002,2007],\"xaxis\":\"x\",\"y\":[39.978,42.57100000000001,45.344,48.051,51.01600000000001,50.35,49.849,51.50899999999999,48.825,44.578,47.813,51.542],\"yaxis\":\"y\",\"type\":\"scatter\"},{\"hovertemplate\":\"continent=Africa\\u003cbr\\u003ecountry=Zambia\\u003cbr\\u003eyear=%{x}\\u003cbr\\u003elifeExp=%{y}\\u003cextra\\u003e\\u003c\\u002fextra\\u003e\",\"legendgroup\":\"Africa\",\"line\":{\"color\":\"#FF9900\",\"dash\":\"solid\",\"shape\":\"spline\"},\"marker\":{\"symbol\":\"circle\"},\"mode\":\"lines\",\"name\":\"Africa\",\"orientation\":\"v\",\"showlegend\":false,\"x\":[1952,1957,1962,1967,1972,1977,1982,1987,1992,1997,2002,2007],\"xaxis\":\"x\",\"y\":[42.038,44.077,46.023,47.768,50.107,51.386,51.82100000000001,50.82100000000001,46.1,40.238,39.19300000000001,42.38399999999999],\"yaxis\":\"y\",\"type\":\"scatter\"},{\"hovertemplate\":\"continent=Africa\\u003cbr\\u003ecountry=Zimbabwe\\u003cbr\\u003eyear=%{x}\\u003cbr\\u003elifeExp=%{y}\\u003cextra\\u003e\\u003c\\u002fextra\\u003e\",\"legendgroup\":\"Africa\",\"line\":{\"color\":\"#FF9900\",\"dash\":\"solid\",\"shape\":\"spline\"},\"marker\":{\"symbol\":\"circle\"},\"mode\":\"lines\",\"name\":\"Africa\",\"orientation\":\"v\",\"showlegend\":false,\"x\":[1952,1957,1962,1967,1972,1977,1982,1987,1992,1997,2002,2007],\"xaxis\":\"x\",\"y\":[48.451,50.469,52.358,53.995,55.635,57.674,60.363,62.351000000000006,60.377,46.809,39.989,43.487],\"yaxis\":\"y\",\"type\":\"scatter\"},{\"hovertemplate\":\"continent=Americas\\u003cbr\\u003ecountry=Argentina\\u003cbr\\u003eyear=%{x}\\u003cbr\\u003elifeExp=%{y}\\u003cextra\\u003e\\u003c\\u002fextra\\u003e\",\"legendgroup\":\"Americas\",\"line\":{\"color\":\"#109618\",\"dash\":\"solid\",\"shape\":\"spline\"},\"marker\":{\"symbol\":\"circle\"},\"mode\":\"lines\",\"name\":\"Americas\",\"orientation\":\"v\",\"showlegend\":true,\"x\":[1952,1957,1962,1967,1972,1977,1982,1987,1992,1997,2002,2007],\"xaxis\":\"x\",\"y\":[62.485,64.399,65.142,65.634,67.065,68.48100000000001,69.942,70.774,71.868,73.275,74.34,75.32],\"yaxis\":\"y\",\"type\":\"scatter\"},{\"hovertemplate\":\"continent=Americas\\u003cbr\\u003ecountry=Bolivia\\u003cbr\\u003eyear=%{x}\\u003cbr\\u003elifeExp=%{y}\\u003cextra\\u003e\\u003c\\u002fextra\\u003e\",\"legendgroup\":\"Americas\",\"line\":{\"color\":\"#109618\",\"dash\":\"solid\",\"shape\":\"spline\"},\"marker\":{\"symbol\":\"circle\"},\"mode\":\"lines\",\"name\":\"Americas\",\"orientation\":\"v\",\"showlegend\":false,\"x\":[1952,1957,1962,1967,1972,1977,1982,1987,1992,1997,2002,2007],\"xaxis\":\"x\",\"y\":[40.414,41.89,43.428,45.032,46.714,50.023,53.859,57.25100000000001,59.957,62.05,63.883,65.554],\"yaxis\":\"y\",\"type\":\"scatter\"},{\"hovertemplate\":\"continent=Americas\\u003cbr\\u003ecountry=Brazil\\u003cbr\\u003eyear=%{x}\\u003cbr\\u003elifeExp=%{y}\\u003cextra\\u003e\\u003c\\u002fextra\\u003e\",\"legendgroup\":\"Americas\",\"line\":{\"color\":\"#109618\",\"dash\":\"solid\",\"shape\":\"spline\"},\"marker\":{\"symbol\":\"circle\"},\"mode\":\"lines\",\"name\":\"Americas\",\"orientation\":\"v\",\"showlegend\":false,\"x\":[1952,1957,1962,1967,1972,1977,1982,1987,1992,1997,2002,2007],\"xaxis\":\"x\",\"y\":[50.917,53.285,55.665,57.632,59.504,61.489,63.33600000000001,65.205,67.057,69.388,71.006,72.39],\"yaxis\":\"y\",\"type\":\"scatter\"},{\"hovertemplate\":\"continent=Americas\\u003cbr\\u003ecountry=Canada\\u003cbr\\u003eyear=%{x}\\u003cbr\\u003elifeExp=%{y}\\u003cextra\\u003e\\u003c\\u002fextra\\u003e\",\"legendgroup\":\"Americas\",\"line\":{\"color\":\"#109618\",\"dash\":\"solid\",\"shape\":\"spline\"},\"marker\":{\"symbol\":\"circle\"},\"mode\":\"lines\",\"name\":\"Americas\",\"orientation\":\"v\",\"showlegend\":false,\"x\":[1952,1957,1962,1967,1972,1977,1982,1987,1992,1997,2002,2007],\"xaxis\":\"x\",\"y\":[68.75,69.96,71.3,72.13,72.88,74.21,75.76,76.86,77.95,78.61,79.77,80.653],\"yaxis\":\"y\",\"type\":\"scatter\"},{\"hovertemplate\":\"continent=Americas\\u003cbr\\u003ecountry=Chile\\u003cbr\\u003eyear=%{x}\\u003cbr\\u003elifeExp=%{y}\\u003cextra\\u003e\\u003c\\u002fextra\\u003e\",\"legendgroup\":\"Americas\",\"line\":{\"color\":\"#109618\",\"dash\":\"solid\",\"shape\":\"spline\"},\"marker\":{\"symbol\":\"circle\"},\"mode\":\"lines\",\"name\":\"Americas\",\"orientation\":\"v\",\"showlegend\":false,\"x\":[1952,1957,1962,1967,1972,1977,1982,1987,1992,1997,2002,2007],\"xaxis\":\"x\",\"y\":[54.745,56.074,57.924,60.523,63.441,67.05199999999999,70.565,72.492,74.126,75.816,77.86,78.553],\"yaxis\":\"y\",\"type\":\"scatter\"},{\"hovertemplate\":\"continent=Americas\\u003cbr\\u003ecountry=Colombia\\u003cbr\\u003eyear=%{x}\\u003cbr\\u003elifeExp=%{y}\\u003cextra\\u003e\\u003c\\u002fextra\\u003e\",\"legendgroup\":\"Americas\",\"line\":{\"color\":\"#109618\",\"dash\":\"solid\",\"shape\":\"spline\"},\"marker\":{\"symbol\":\"circle\"},\"mode\":\"lines\",\"name\":\"Americas\",\"orientation\":\"v\",\"showlegend\":false,\"x\":[1952,1957,1962,1967,1972,1977,1982,1987,1992,1997,2002,2007],\"xaxis\":\"x\",\"y\":[50.643,55.118,57.863,59.963,61.62300000000001,63.837,66.653,67.768,68.421,70.313,71.682,72.889],\"yaxis\":\"y\",\"type\":\"scatter\"},{\"hovertemplate\":\"continent=Americas\\u003cbr\\u003ecountry=Costa Rica\\u003cbr\\u003eyear=%{x}\\u003cbr\\u003elifeExp=%{y}\\u003cextra\\u003e\\u003c\\u002fextra\\u003e\",\"legendgroup\":\"Americas\",\"line\":{\"color\":\"#109618\",\"dash\":\"solid\",\"shape\":\"spline\"},\"marker\":{\"symbol\":\"circle\"},\"mode\":\"lines\",\"name\":\"Americas\",\"orientation\":\"v\",\"showlegend\":false,\"x\":[1952,1957,1962,1967,1972,1977,1982,1987,1992,1997,2002,2007],\"xaxis\":\"x\",\"y\":[57.206,60.026,62.842,65.42399999999999,67.84899999999999,70.75,73.45,74.752,75.71300000000002,77.26,78.123,78.782],\"yaxis\":\"y\",\"type\":\"scatter\"},{\"hovertemplate\":\"continent=Americas\\u003cbr\\u003ecountry=Cuba\\u003cbr\\u003eyear=%{x}\\u003cbr\\u003elifeExp=%{y}\\u003cextra\\u003e\\u003c\\u002fextra\\u003e\",\"legendgroup\":\"Americas\",\"line\":{\"color\":\"#109618\",\"dash\":\"solid\",\"shape\":\"spline\"},\"marker\":{\"symbol\":\"circle\"},\"mode\":\"lines\",\"name\":\"Americas\",\"orientation\":\"v\",\"showlegend\":false,\"x\":[1952,1957,1962,1967,1972,1977,1982,1987,1992,1997,2002,2007],\"xaxis\":\"x\",\"y\":[59.42100000000001,62.325,65.24600000000001,68.29,70.723,72.649,73.717,74.17399999999998,74.414,76.15100000000002,77.158,78.273],\"yaxis\":\"y\",\"type\":\"scatter\"},{\"hovertemplate\":\"continent=Americas\\u003cbr\\u003ecountry=Dominican Republic\\u003cbr\\u003eyear=%{x}\\u003cbr\\u003elifeExp=%{y}\\u003cextra\\u003e\\u003c\\u002fextra\\u003e\",\"legendgroup\":\"Americas\",\"line\":{\"color\":\"#109618\",\"dash\":\"solid\",\"shape\":\"spline\"},\"marker\":{\"symbol\":\"circle\"},\"mode\":\"lines\",\"name\":\"Americas\",\"orientation\":\"v\",\"showlegend\":false,\"x\":[1952,1957,1962,1967,1972,1977,1982,1987,1992,1997,2002,2007],\"xaxis\":\"x\",\"y\":[45.928,49.828,53.459,56.75100000000001,59.631,61.788,63.727,66.046,68.457,69.957,70.847,72.235],\"yaxis\":\"y\",\"type\":\"scatter\"},{\"hovertemplate\":\"continent=Americas\\u003cbr\\u003ecountry=Ecuador\\u003cbr\\u003eyear=%{x}\\u003cbr\\u003elifeExp=%{y}\\u003cextra\\u003e\\u003c\\u002fextra\\u003e\",\"legendgroup\":\"Americas\",\"line\":{\"color\":\"#109618\",\"dash\":\"solid\",\"shape\":\"spline\"},\"marker\":{\"symbol\":\"circle\"},\"mode\":\"lines\",\"name\":\"Americas\",\"orientation\":\"v\",\"showlegend\":false,\"x\":[1952,1957,1962,1967,1972,1977,1982,1987,1992,1997,2002,2007],\"xaxis\":\"x\",\"y\":[48.357,51.356,54.64,56.678,58.79600000000001,61.31,64.342,67.23100000000001,69.613,72.312,74.173,74.994],\"yaxis\":\"y\",\"type\":\"scatter\"},{\"hovertemplate\":\"continent=Americas\\u003cbr\\u003ecountry=El Salvador\\u003cbr\\u003eyear=%{x}\\u003cbr\\u003elifeExp=%{y}\\u003cextra\\u003e\\u003c\\u002fextra\\u003e\",\"legendgroup\":\"Americas\",\"line\":{\"color\":\"#109618\",\"dash\":\"solid\",\"shape\":\"spline\"},\"marker\":{\"symbol\":\"circle\"},\"mode\":\"lines\",\"name\":\"Americas\",\"orientation\":\"v\",\"showlegend\":false,\"x\":[1952,1957,1962,1967,1972,1977,1982,1987,1992,1997,2002,2007],\"xaxis\":\"x\",\"y\":[45.262,48.57,52.307,55.855,58.207,56.69600000000001,56.604,63.154,66.798,69.535,70.734,71.878],\"yaxis\":\"y\",\"type\":\"scatter\"},{\"hovertemplate\":\"continent=Americas\\u003cbr\\u003ecountry=Guatemala\\u003cbr\\u003eyear=%{x}\\u003cbr\\u003elifeExp=%{y}\\u003cextra\\u003e\\u003c\\u002fextra\\u003e\",\"legendgroup\":\"Americas\",\"line\":{\"color\":\"#109618\",\"dash\":\"solid\",\"shape\":\"spline\"},\"marker\":{\"symbol\":\"circle\"},\"mode\":\"lines\",\"name\":\"Americas\",\"orientation\":\"v\",\"showlegend\":false,\"x\":[1952,1957,1962,1967,1972,1977,1982,1987,1992,1997,2002,2007],\"xaxis\":\"x\",\"y\":[42.023,44.142,46.95399999999999,50.01600000000001,53.738,56.029,58.137,60.782,63.37300000000001,66.322,68.97800000000001,70.259],\"yaxis\":\"y\",\"type\":\"scatter\"},{\"hovertemplate\":\"continent=Americas\\u003cbr\\u003ecountry=Haiti\\u003cbr\\u003eyear=%{x}\\u003cbr\\u003elifeExp=%{y}\\u003cextra\\u003e\\u003c\\u002fextra\\u003e\",\"legendgroup\":\"Americas\",\"line\":{\"color\":\"#109618\",\"dash\":\"solid\",\"shape\":\"spline\"},\"marker\":{\"symbol\":\"circle\"},\"mode\":\"lines\",\"name\":\"Americas\",\"orientation\":\"v\",\"showlegend\":false,\"x\":[1952,1957,1962,1967,1972,1977,1982,1987,1992,1997,2002,2007],\"xaxis\":\"x\",\"y\":[37.579,40.696,43.59,46.243,48.042,49.923,51.46100000000001,53.636,55.089,56.67100000000001,58.137,60.916],\"yaxis\":\"y\",\"type\":\"scatter\"},{\"hovertemplate\":\"continent=Americas\\u003cbr\\u003ecountry=Honduras\\u003cbr\\u003eyear=%{x}\\u003cbr\\u003elifeExp=%{y}\\u003cextra\\u003e\\u003c\\u002fextra\\u003e\",\"legendgroup\":\"Americas\",\"line\":{\"color\":\"#109618\",\"dash\":\"solid\",\"shape\":\"spline\"},\"marker\":{\"symbol\":\"circle\"},\"mode\":\"lines\",\"name\":\"Americas\",\"orientation\":\"v\",\"showlegend\":false,\"x\":[1952,1957,1962,1967,1972,1977,1982,1987,1992,1997,2002,2007],\"xaxis\":\"x\",\"y\":[41.912,44.665,48.041,50.924,53.88399999999999,57.402,60.909,64.492,66.399,67.65899999999999,68.565,70.19800000000001],\"yaxis\":\"y\",\"type\":\"scatter\"},{\"hovertemplate\":\"continent=Americas\\u003cbr\\u003ecountry=Jamaica\\u003cbr\\u003eyear=%{x}\\u003cbr\\u003elifeExp=%{y}\\u003cextra\\u003e\\u003c\\u002fextra\\u003e\",\"legendgroup\":\"Americas\",\"line\":{\"color\":\"#109618\",\"dash\":\"solid\",\"shape\":\"spline\"},\"marker\":{\"symbol\":\"circle\"},\"mode\":\"lines\",\"name\":\"Americas\",\"orientation\":\"v\",\"showlegend\":false,\"x\":[1952,1957,1962,1967,1972,1977,1982,1987,1992,1997,2002,2007],\"xaxis\":\"x\",\"y\":[58.53,62.61,65.61,67.51,69.0,70.11,71.21,71.77,71.766,72.262,72.047,72.567],\"yaxis\":\"y\",\"type\":\"scatter\"},{\"hovertemplate\":\"continent=Americas\\u003cbr\\u003ecountry=Mexico\\u003cbr\\u003eyear=%{x}\\u003cbr\\u003elifeExp=%{y}\\u003cextra\\u003e\\u003c\\u002fextra\\u003e\",\"legendgroup\":\"Americas\",\"line\":{\"color\":\"#109618\",\"dash\":\"solid\",\"shape\":\"spline\"},\"marker\":{\"symbol\":\"circle\"},\"mode\":\"lines\",\"name\":\"Americas\",\"orientation\":\"v\",\"showlegend\":false,\"x\":[1952,1957,1962,1967,1972,1977,1982,1987,1992,1997,2002,2007],\"xaxis\":\"x\",\"y\":[50.789,55.19,58.299,60.11,62.361,65.032,67.405,69.498,71.455,73.67,74.902,76.195],\"yaxis\":\"y\",\"type\":\"scatter\"},{\"hovertemplate\":\"continent=Americas\\u003cbr\\u003ecountry=Nicaragua\\u003cbr\\u003eyear=%{x}\\u003cbr\\u003elifeExp=%{y}\\u003cextra\\u003e\\u003c\\u002fextra\\u003e\",\"legendgroup\":\"Americas\",\"line\":{\"color\":\"#109618\",\"dash\":\"solid\",\"shape\":\"spline\"},\"marker\":{\"symbol\":\"circle\"},\"mode\":\"lines\",\"name\":\"Americas\",\"orientation\":\"v\",\"showlegend\":false,\"x\":[1952,1957,1962,1967,1972,1977,1982,1987,1992,1997,2002,2007],\"xaxis\":\"x\",\"y\":[42.31399999999999,45.432,48.632,51.88399999999999,55.151,57.47,59.298,62.008,65.843,68.426,70.836,72.899],\"yaxis\":\"y\",\"type\":\"scatter\"},{\"hovertemplate\":\"continent=Americas\\u003cbr\\u003ecountry=Panama\\u003cbr\\u003eyear=%{x}\\u003cbr\\u003elifeExp=%{y}\\u003cextra\\u003e\\u003c\\u002fextra\\u003e\",\"legendgroup\":\"Americas\",\"line\":{\"color\":\"#109618\",\"dash\":\"solid\",\"shape\":\"spline\"},\"marker\":{\"symbol\":\"circle\"},\"mode\":\"lines\",\"name\":\"Americas\",\"orientation\":\"v\",\"showlegend\":false,\"x\":[1952,1957,1962,1967,1972,1977,1982,1987,1992,1997,2002,2007],\"xaxis\":\"x\",\"y\":[55.191,59.201,61.817,64.071,66.21600000000001,68.681,70.472,71.523,72.462,73.738,74.712,75.53699999999998],\"yaxis\":\"y\",\"type\":\"scatter\"},{\"hovertemplate\":\"continent=Americas\\u003cbr\\u003ecountry=Paraguay\\u003cbr\\u003eyear=%{x}\\u003cbr\\u003elifeExp=%{y}\\u003cextra\\u003e\\u003c\\u002fextra\\u003e\",\"legendgroup\":\"Americas\",\"line\":{\"color\":\"#109618\",\"dash\":\"solid\",\"shape\":\"spline\"},\"marker\":{\"symbol\":\"circle\"},\"mode\":\"lines\",\"name\":\"Americas\",\"orientation\":\"v\",\"showlegend\":false,\"x\":[1952,1957,1962,1967,1972,1977,1982,1987,1992,1997,2002,2007],\"xaxis\":\"x\",\"y\":[62.649,63.19600000000001,64.361,64.95100000000001,65.815,66.35300000000001,66.874,67.378,68.225,69.4,70.755,71.752],\"yaxis\":\"y\",\"type\":\"scatter\"},{\"hovertemplate\":\"continent=Americas\\u003cbr\\u003ecountry=Peru\\u003cbr\\u003eyear=%{x}\\u003cbr\\u003elifeExp=%{y}\\u003cextra\\u003e\\u003c\\u002fextra\\u003e\",\"legendgroup\":\"Americas\",\"line\":{\"color\":\"#109618\",\"dash\":\"solid\",\"shape\":\"spline\"},\"marker\":{\"symbol\":\"circle\"},\"mode\":\"lines\",\"name\":\"Americas\",\"orientation\":\"v\",\"showlegend\":false,\"x\":[1952,1957,1962,1967,1972,1977,1982,1987,1992,1997,2002,2007],\"xaxis\":\"x\",\"y\":[43.902,46.26300000000001,49.096,51.445,55.448,58.447,61.40600000000001,64.134,66.458,68.38600000000001,69.906,71.421],\"yaxis\":\"y\",\"type\":\"scatter\"},{\"hovertemplate\":\"continent=Americas\\u003cbr\\u003ecountry=Puerto Rico\\u003cbr\\u003eyear=%{x}\\u003cbr\\u003elifeExp=%{y}\\u003cextra\\u003e\\u003c\\u002fextra\\u003e\",\"legendgroup\":\"Americas\",\"line\":{\"color\":\"#109618\",\"dash\":\"solid\",\"shape\":\"spline\"},\"marker\":{\"symbol\":\"circle\"},\"mode\":\"lines\",\"name\":\"Americas\",\"orientation\":\"v\",\"showlegend\":false,\"x\":[1952,1957,1962,1967,1972,1977,1982,1987,1992,1997,2002,2007],\"xaxis\":\"x\",\"y\":[64.28,68.54,69.62,71.1,72.16,73.44,73.75,74.63,73.911,74.917,77.778,78.74600000000002],\"yaxis\":\"y\",\"type\":\"scatter\"},{\"hovertemplate\":\"continent=Americas\\u003cbr\\u003ecountry=Trinidad and Tobago\\u003cbr\\u003eyear=%{x}\\u003cbr\\u003elifeExp=%{y}\\u003cextra\\u003e\\u003c\\u002fextra\\u003e\",\"legendgroup\":\"Americas\",\"line\":{\"color\":\"#109618\",\"dash\":\"solid\",\"shape\":\"spline\"},\"marker\":{\"symbol\":\"circle\"},\"mode\":\"lines\",\"name\":\"Americas\",\"orientation\":\"v\",\"showlegend\":false,\"x\":[1952,1957,1962,1967,1972,1977,1982,1987,1992,1997,2002,2007],\"xaxis\":\"x\",\"y\":[59.1,61.8,64.9,65.4,65.9,68.3,68.832,69.582,69.862,69.465,68.976,69.819],\"yaxis\":\"y\",\"type\":\"scatter\"},{\"hovertemplate\":\"continent=Americas\\u003cbr\\u003ecountry=United States\\u003cbr\\u003eyear=%{x}\\u003cbr\\u003elifeExp=%{y}\\u003cextra\\u003e\\u003c\\u002fextra\\u003e\",\"legendgroup\":\"Americas\",\"line\":{\"color\":\"#109618\",\"dash\":\"solid\",\"shape\":\"spline\"},\"marker\":{\"symbol\":\"circle\"},\"mode\":\"lines\",\"name\":\"Americas\",\"orientation\":\"v\",\"showlegend\":false,\"x\":[1952,1957,1962,1967,1972,1977,1982,1987,1992,1997,2002,2007],\"xaxis\":\"x\",\"y\":[68.44,69.49,70.21,70.76,71.34,73.38,74.65,75.02,76.09,76.81,77.31,78.242],\"yaxis\":\"y\",\"type\":\"scatter\"},{\"hovertemplate\":\"continent=Americas\\u003cbr\\u003ecountry=Uruguay\\u003cbr\\u003eyear=%{x}\\u003cbr\\u003elifeExp=%{y}\\u003cextra\\u003e\\u003c\\u002fextra\\u003e\",\"legendgroup\":\"Americas\",\"line\":{\"color\":\"#109618\",\"dash\":\"solid\",\"shape\":\"spline\"},\"marker\":{\"symbol\":\"circle\"},\"mode\":\"lines\",\"name\":\"Americas\",\"orientation\":\"v\",\"showlegend\":false,\"x\":[1952,1957,1962,1967,1972,1977,1982,1987,1992,1997,2002,2007],\"xaxis\":\"x\",\"y\":[66.071,67.044,68.253,68.468,68.673,69.48100000000001,70.805,71.918,72.752,74.223,75.307,76.384],\"yaxis\":\"y\",\"type\":\"scatter\"},{\"hovertemplate\":\"continent=Americas\\u003cbr\\u003ecountry=Venezuela\\u003cbr\\u003eyear=%{x}\\u003cbr\\u003elifeExp=%{y}\\u003cextra\\u003e\\u003c\\u002fextra\\u003e\",\"legendgroup\":\"Americas\",\"line\":{\"color\":\"#109618\",\"dash\":\"solid\",\"shape\":\"spline\"},\"marker\":{\"symbol\":\"circle\"},\"mode\":\"lines\",\"name\":\"Americas\",\"orientation\":\"v\",\"showlegend\":false,\"x\":[1952,1957,1962,1967,1972,1977,1982,1987,1992,1997,2002,2007],\"xaxis\":\"x\",\"y\":[55.088,57.907,60.77,63.479,65.712,67.456,68.557,70.19,71.15,72.146,72.766,73.747],\"yaxis\":\"y\",\"type\":\"scatter\"},{\"hovertemplate\":\"continent=Oceania\\u003cbr\\u003ecountry=Australia\\u003cbr\\u003eyear=%{x}\\u003cbr\\u003elifeExp=%{y}\\u003cextra\\u003e\\u003c\\u002fextra\\u003e\",\"legendgroup\":\"Oceania\",\"line\":{\"color\":\"#990099\",\"dash\":\"solid\",\"shape\":\"spline\"},\"marker\":{\"symbol\":\"circle\"},\"mode\":\"lines\",\"name\":\"Oceania\",\"orientation\":\"v\",\"showlegend\":true,\"x\":[1952,1957,1962,1967,1972,1977,1982,1987,1992,1997,2002,2007],\"xaxis\":\"x\",\"y\":[69.12,70.33,70.93,71.1,71.93,73.49,74.74,76.32,77.56,78.83,80.37,81.235],\"yaxis\":\"y\",\"type\":\"scatter\"},{\"hovertemplate\":\"continent=Oceania\\u003cbr\\u003ecountry=New Zealand\\u003cbr\\u003eyear=%{x}\\u003cbr\\u003elifeExp=%{y}\\u003cextra\\u003e\\u003c\\u002fextra\\u003e\",\"legendgroup\":\"Oceania\",\"line\":{\"color\":\"#990099\",\"dash\":\"solid\",\"shape\":\"spline\"},\"marker\":{\"symbol\":\"circle\"},\"mode\":\"lines\",\"name\":\"Oceania\",\"orientation\":\"v\",\"showlegend\":false,\"x\":[1952,1957,1962,1967,1972,1977,1982,1987,1992,1997,2002,2007],\"xaxis\":\"x\",\"y\":[69.39,70.26,71.24,71.52,71.89,72.22,73.84,74.32,76.33,77.55,79.11,80.204],\"yaxis\":\"y\",\"type\":\"scatter\"}],                        {\"template\":{\"data\":{\"histogram2dcontour\":[{\"type\":\"histogram2dcontour\",\"colorbar\":{\"outlinewidth\":0,\"ticks\":\"\"},\"colorscale\":[[0.0,\"#0d0887\"],[0.1111111111111111,\"#46039f\"],[0.2222222222222222,\"#7201a8\"],[0.3333333333333333,\"#9c179e\"],[0.4444444444444444,\"#bd3786\"],[0.5555555555555556,\"#d8576b\"],[0.6666666666666666,\"#ed7953\"],[0.7777777777777778,\"#fb9f3a\"],[0.8888888888888888,\"#fdca26\"],[1.0,\"#f0f921\"]]}],\"choropleth\":[{\"type\":\"choropleth\",\"colorbar\":{\"outlinewidth\":0,\"ticks\":\"\"}}],\"histogram2d\":[{\"type\":\"histogram2d\",\"colorbar\":{\"outlinewidth\":0,\"ticks\":\"\"},\"colorscale\":[[0.0,\"#0d0887\"],[0.1111111111111111,\"#46039f\"],[0.2222222222222222,\"#7201a8\"],[0.3333333333333333,\"#9c179e\"],[0.4444444444444444,\"#bd3786\"],[0.5555555555555556,\"#d8576b\"],[0.6666666666666666,\"#ed7953\"],[0.7777777777777778,\"#fb9f3a\"],[0.8888888888888888,\"#fdca26\"],[1.0,\"#f0f921\"]]}],\"heatmap\":[{\"type\":\"heatmap\",\"colorbar\":{\"outlinewidth\":0,\"ticks\":\"\"},\"colorscale\":[[0.0,\"#0d0887\"],[0.1111111111111111,\"#46039f\"],[0.2222222222222222,\"#7201a8\"],[0.3333333333333333,\"#9c179e\"],[0.4444444444444444,\"#bd3786\"],[0.5555555555555556,\"#d8576b\"],[0.6666666666666666,\"#ed7953\"],[0.7777777777777778,\"#fb9f3a\"],[0.8888888888888888,\"#fdca26\"],[1.0,\"#f0f921\"]]}],\"heatmapgl\":[{\"type\":\"heatmapgl\",\"colorbar\":{\"outlinewidth\":0,\"ticks\":\"\"},\"colorscale\":[[0.0,\"#0d0887\"],[0.1111111111111111,\"#46039f\"],[0.2222222222222222,\"#7201a8\"],[0.3333333333333333,\"#9c179e\"],[0.4444444444444444,\"#bd3786\"],[0.5555555555555556,\"#d8576b\"],[0.6666666666666666,\"#ed7953\"],[0.7777777777777778,\"#fb9f3a\"],[0.8888888888888888,\"#fdca26\"],[1.0,\"#f0f921\"]]}],\"contourcarpet\":[{\"type\":\"contourcarpet\",\"colorbar\":{\"outlinewidth\":0,\"ticks\":\"\"}}],\"contour\":[{\"type\":\"contour\",\"colorbar\":{\"outlinewidth\":0,\"ticks\":\"\"},\"colorscale\":[[0.0,\"#0d0887\"],[0.1111111111111111,\"#46039f\"],[0.2222222222222222,\"#7201a8\"],[0.3333333333333333,\"#9c179e\"],[0.4444444444444444,\"#bd3786\"],[0.5555555555555556,\"#d8576b\"],[0.6666666666666666,\"#ed7953\"],[0.7777777777777778,\"#fb9f3a\"],[0.8888888888888888,\"#fdca26\"],[1.0,\"#f0f921\"]]}],\"surface\":[{\"type\":\"surface\",\"colorbar\":{\"outlinewidth\":0,\"ticks\":\"\"},\"colorscale\":[[0.0,\"#0d0887\"],[0.1111111111111111,\"#46039f\"],[0.2222222222222222,\"#7201a8\"],[0.3333333333333333,\"#9c179e\"],[0.4444444444444444,\"#bd3786\"],[0.5555555555555556,\"#d8576b\"],[0.6666666666666666,\"#ed7953\"],[0.7777777777777778,\"#fb9f3a\"],[0.8888888888888888,\"#fdca26\"],[1.0,\"#f0f921\"]]}],\"mesh3d\":[{\"type\":\"mesh3d\",\"colorbar\":{\"outlinewidth\":0,\"ticks\":\"\"}}],\"scatter\":[{\"fillpattern\":{\"fillmode\":\"overlay\",\"size\":10,\"solidity\":0.2},\"type\":\"scatter\"}],\"parcoords\":[{\"type\":\"parcoords\",\"line\":{\"colorbar\":{\"outlinewidth\":0,\"ticks\":\"\"}}}],\"scatterpolargl\":[{\"type\":\"scatterpolargl\",\"marker\":{\"colorbar\":{\"outlinewidth\":0,\"ticks\":\"\"}}}],\"bar\":[{\"error_x\":{\"color\":\"#2a3f5f\"},\"error_y\":{\"color\":\"#2a3f5f\"},\"marker\":{\"line\":{\"color\":\"#E5ECF6\",\"width\":0.5},\"pattern\":{\"fillmode\":\"overlay\",\"size\":10,\"solidity\":0.2}},\"type\":\"bar\"}],\"scattergeo\":[{\"type\":\"scattergeo\",\"marker\":{\"colorbar\":{\"outlinewidth\":0,\"ticks\":\"\"}}}],\"scatterpolar\":[{\"type\":\"scatterpolar\",\"marker\":{\"colorbar\":{\"outlinewidth\":0,\"ticks\":\"\"}}}],\"histogram\":[{\"marker\":{\"pattern\":{\"fillmode\":\"overlay\",\"size\":10,\"solidity\":0.2}},\"type\":\"histogram\"}],\"scattergl\":[{\"type\":\"scattergl\",\"marker\":{\"colorbar\":{\"outlinewidth\":0,\"ticks\":\"\"}}}],\"scatter3d\":[{\"type\":\"scatter3d\",\"line\":{\"colorbar\":{\"outlinewidth\":0,\"ticks\":\"\"}},\"marker\":{\"colorbar\":{\"outlinewidth\":0,\"ticks\":\"\"}}}],\"scattermapbox\":[{\"type\":\"scattermapbox\",\"marker\":{\"colorbar\":{\"outlinewidth\":0,\"ticks\":\"\"}}}],\"scatterternary\":[{\"type\":\"scatterternary\",\"marker\":{\"colorbar\":{\"outlinewidth\":0,\"ticks\":\"\"}}}],\"scattercarpet\":[{\"type\":\"scattercarpet\",\"marker\":{\"colorbar\":{\"outlinewidth\":0,\"ticks\":\"\"}}}],\"carpet\":[{\"aaxis\":{\"endlinecolor\":\"#2a3f5f\",\"gridcolor\":\"white\",\"linecolor\":\"white\",\"minorgridcolor\":\"white\",\"startlinecolor\":\"#2a3f5f\"},\"baxis\":{\"endlinecolor\":\"#2a3f5f\",\"gridcolor\":\"white\",\"linecolor\":\"white\",\"minorgridcolor\":\"white\",\"startlinecolor\":\"#2a3f5f\"},\"type\":\"carpet\"}],\"table\":[{\"cells\":{\"fill\":{\"color\":\"#EBF0F8\"},\"line\":{\"color\":\"white\"}},\"header\":{\"fill\":{\"color\":\"#C8D4E3\"},\"line\":{\"color\":\"white\"}},\"type\":\"table\"}],\"barpolar\":[{\"marker\":{\"line\":{\"color\":\"#E5ECF6\",\"width\":0.5},\"pattern\":{\"fillmode\":\"overlay\",\"size\":10,\"solidity\":0.2}},\"type\":\"barpolar\"}],\"pie\":[{\"automargin\":true,\"type\":\"pie\"}]},\"layout\":{\"autotypenumbers\":\"strict\",\"colorway\":[\"#636efa\",\"#EF553B\",\"#00cc96\",\"#ab63fa\",\"#FFA15A\",\"#19d3f3\",\"#FF6692\",\"#B6E880\",\"#FF97FF\",\"#FECB52\"],\"font\":{\"color\":\"#2a3f5f\"},\"hovermode\":\"closest\",\"hoverlabel\":{\"align\":\"left\"},\"paper_bgcolor\":\"white\",\"plot_bgcolor\":\"#E5ECF6\",\"polar\":{\"bgcolor\":\"#E5ECF6\",\"angularaxis\":{\"gridcolor\":\"white\",\"linecolor\":\"white\",\"ticks\":\"\"},\"radialaxis\":{\"gridcolor\":\"white\",\"linecolor\":\"white\",\"ticks\":\"\"}},\"ternary\":{\"bgcolor\":\"#E5ECF6\",\"aaxis\":{\"gridcolor\":\"white\",\"linecolor\":\"white\",\"ticks\":\"\"},\"baxis\":{\"gridcolor\":\"white\",\"linecolor\":\"white\",\"ticks\":\"\"},\"caxis\":{\"gridcolor\":\"white\",\"linecolor\":\"white\",\"ticks\":\"\"}},\"coloraxis\":{\"colorbar\":{\"outlinewidth\":0,\"ticks\":\"\"}},\"colorscale\":{\"sequential\":[[0.0,\"#0d0887\"],[0.1111111111111111,\"#46039f\"],[0.2222222222222222,\"#7201a8\"],[0.3333333333333333,\"#9c179e\"],[0.4444444444444444,\"#bd3786\"],[0.5555555555555556,\"#d8576b\"],[0.6666666666666666,\"#ed7953\"],[0.7777777777777778,\"#fb9f3a\"],[0.8888888888888888,\"#fdca26\"],[1.0,\"#f0f921\"]],\"sequentialminus\":[[0.0,\"#0d0887\"],[0.1111111111111111,\"#46039f\"],[0.2222222222222222,\"#7201a8\"],[0.3333333333333333,\"#9c179e\"],[0.4444444444444444,\"#bd3786\"],[0.5555555555555556,\"#d8576b\"],[0.6666666666666666,\"#ed7953\"],[0.7777777777777778,\"#fb9f3a\"],[0.8888888888888888,\"#fdca26\"],[1.0,\"#f0f921\"]],\"diverging\":[[0,\"#8e0152\"],[0.1,\"#c51b7d\"],[0.2,\"#de77ae\"],[0.3,\"#f1b6da\"],[0.4,\"#fde0ef\"],[0.5,\"#f7f7f7\"],[0.6,\"#e6f5d0\"],[0.7,\"#b8e186\"],[0.8,\"#7fbc41\"],[0.9,\"#4d9221\"],[1,\"#276419\"]]},\"xaxis\":{\"gridcolor\":\"white\",\"linecolor\":\"white\",\"ticks\":\"\",\"title\":{\"standoff\":15},\"zerolinecolor\":\"white\",\"automargin\":true,\"zerolinewidth\":2},\"yaxis\":{\"gridcolor\":\"white\",\"linecolor\":\"white\",\"ticks\":\"\",\"title\":{\"standoff\":15},\"zerolinecolor\":\"white\",\"automargin\":true,\"zerolinewidth\":2},\"scene\":{\"xaxis\":{\"backgroundcolor\":\"#E5ECF6\",\"gridcolor\":\"white\",\"linecolor\":\"white\",\"showbackground\":true,\"ticks\":\"\",\"zerolinecolor\":\"white\",\"gridwidth\":2},\"yaxis\":{\"backgroundcolor\":\"#E5ECF6\",\"gridcolor\":\"white\",\"linecolor\":\"white\",\"showbackground\":true,\"ticks\":\"\",\"zerolinecolor\":\"white\",\"gridwidth\":2},\"zaxis\":{\"backgroundcolor\":\"#E5ECF6\",\"gridcolor\":\"white\",\"linecolor\":\"white\",\"showbackground\":true,\"ticks\":\"\",\"zerolinecolor\":\"white\",\"gridwidth\":2}},\"shapedefaults\":{\"line\":{\"color\":\"#2a3f5f\"}},\"annotationdefaults\":{\"arrowcolor\":\"#2a3f5f\",\"arrowhead\":0,\"arrowwidth\":1},\"geo\":{\"bgcolor\":\"white\",\"landcolor\":\"#E5ECF6\",\"subunitcolor\":\"white\",\"showland\":true,\"showlakes\":true,\"lakecolor\":\"white\"},\"title\":{\"x\":0.05},\"mapbox\":{\"style\":\"light\"}}},\"xaxis\":{\"anchor\":\"y\",\"domain\":[0.0,1.0],\"title\":{\"text\":\"year\"}},\"yaxis\":{\"anchor\":\"x\",\"domain\":[0.0,1.0],\"title\":{\"text\":\"lifeExp\"}},\"legend\":{\"title\":{\"text\":\"continent\"},\"tracegroupgap\":0},\"title\":{\"text\":\"Built-in G10 color sequence\"}},                        {\"responsive\": true}                    ).then(function(){\n",
       "                            \n",
       "var gd = document.getElementById('a6abb9a0-c389-4c32-90ba-32b0bc14640f');\n",
       "var x = new MutationObserver(function (mutations, observer) {{\n",
       "        var display = window.getComputedStyle(gd).display;\n",
       "        if (!display || display === 'none') {{\n",
       "            console.log([gd, 'removed!']);\n",
       "            Plotly.purge(gd);\n",
       "            observer.disconnect();\n",
       "        }}\n",
       "}});\n",
       "\n",
       "// Listen for the removal of the full notebook cells\n",
       "var notebookContainer = gd.closest('#notebook-container');\n",
       "if (notebookContainer) {{\n",
       "    x.observe(notebookContainer, {childList: true});\n",
       "}}\n",
       "\n",
       "// Listen for the clearing of the current output cell\n",
       "var outputEl = gd.closest('.output');\n",
       "if (outputEl) {{\n",
       "    x.observe(outputEl, {childList: true});\n",
       "}}\n",
       "\n",
       "                        })                };                });            </script>        </div>"
      ]
     },
     "metadata": {},
     "output_type": "display_data"
    }
   ],
   "source": [
    "import plotly.express as px\n",
    "df = px.data.gapminder()\n",
    "fig = px.line(df, y=\"lifeExp\", x=\"year\", color=\"continent\", line_group=\"country\",\n",
    "              line_shape=\"spline\", render_mode=\"svg\",\n",
    "             color_discrete_sequence=px.colors.qualitative.G10,\n",
    "             title=\"Built-in G10 color sequence\")\n",
    "\n",
    "fig.show()"
   ]
  },
  {
   "cell_type": "code",
   "execution_count": null,
   "id": "9a87effa-50ad-4d7b-89e6-7127d9f2130f",
   "metadata": {},
   "outputs": [],
   "source": []
  },
  {
   "cell_type": "code",
   "execution_count": null,
   "id": "731f5f1a-b1ec-45b2-b07c-255ce7cc8438",
   "metadata": {},
   "outputs": [],
   "source": []
  }
 ],
 "metadata": {
  "kernelspec": {
   "display_name": "Python 3 (ipykernel)",
   "language": "python",
   "name": "python3"
  },
  "language_info": {
   "codemirror_mode": {
    "name": "ipython",
    "version": 3
   },
   "file_extension": ".py",
   "mimetype": "text/x-python",
   "name": "python",
   "nbconvert_exporter": "python",
   "pygments_lexer": "ipython3",
   "version": "3.12.7"
  }
 },
 "nbformat": 4,
 "nbformat_minor": 5
}
